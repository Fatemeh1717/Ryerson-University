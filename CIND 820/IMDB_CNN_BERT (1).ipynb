{
  "cells": [
    {
      "cell_type": "markdown",
      "metadata": {
        "id": "RVr-WldjrnL0"
      },
      "source": [
        "**Implementation of Sentiment Analysis with BERT+CNN in Tensorflow**"
      ]
    },
    {
      "cell_type": "markdown",
      "metadata": {
        "id": "jl_3f5UQsJP9"
      },
      "source": [
        " I am going to use a pretreined BERT to compute vector-space representations of a IMDB dataset which has two class\n",
        " \n",
        " 1- **Positive:1**\n",
        "\n",
        " 2- **Negative:0**\n",
        " \n",
        "This notebook has two section. At the **First part** I will: \n",
        "\n",
        "*   Load the IMDB dataset\n",
        "*   Load a **BERT models** from TensorFlow Hub \n",
        "*   Build the model by combining BERT with a classifier\n",
        "*   Train the model, fine-tuning BERT as part of that\n",
        "*   Save your model and use it to classify sentences\n",
        "\n",
        "**Second part** includes using the pretreined BERT to compute vector-space representations of the IMDB dataset to feed to **CNN** downsteam Archtectures.\n"
      ]
    },
    {
      "cell_type": "markdown",
      "source": [
        "# **First section**"
      ],
      "metadata": {
        "id": "uCKdqXQS-KwF"
      }
    },
    {
      "cell_type": "markdown",
      "source": [
        "**About BERT**"
      ],
      "metadata": {
        "id": "O4ZZCPtM54nB"
      }
    },
    {
      "cell_type": "markdown",
      "source": [
        "BERT (article link [link text](https://arxiv.org/abs/1810.04805)) and other Transformer encoder architectures have been wildly successful on a variety of tasks in NLP (natural language processing). They compute vector-space representations of natural language that are suitable for use in deep learning models.\n",
        "\n",
        "\n",
        "![image.png](data:image/png;base64,iVBORw0KGgoAAAANSUhEUgAAAo0AAAE3CAYAAADPFHvDAAAgAElEQVR4nO3dfXAU570n+q9ir7CNZMbIawRxjkaBAzYXouaQg+1AViPYdajd2AzBe8tyVaxRXTuVc4yLkat249er0cYvULfqMjrGudnYexkl54ScOmCNbG6CiYlGGxwbZymNVmwcY9kandhC+EAYkMgx1El0/3j66enu6Z6e9x6Nvp+qKdBMdz/P9PTLr5/XGlC1UgAssvlsAkDC5rNWm/cvAojnkdYIgKTF+14ATcxfWfPnAdBS5PwN2bzP/DF/xcqf3TkF5Jc/u3OK+Uup9Pzlc83MlL98runA3M0fzWMeANsA7AUwDmA2y5disa2owzpBi3UCDuvEbPLtlD9vkfIXzCN/nizy57FYL8b8lTR/gTzyF7VYx5tF/qzkk79QHvlT8sxf3GEdP/OXMX9O109fHvmL5JG/C0XMX9hhnbDFOr4883eB+csqf+N55s/qnh1xWCdksY4HIl7YZpOPjK7NZyWqKBGkfvwJiCeLOKyfZKQkrJ/6QjbvS1YX6CisAzzJbntdsA4cAJE/q6eqcIbtybyYRTKkA5vtJbPIn9X+DcH6wqPPS7XlzypozDd/YZvtSXbHX675S2SRPyv55M9qnzqtE0d++QvB+sYiWeW9FPmzKxHJJ39W6Tt9nm/+upA5f1bnYj75czr+ipm/CDLfC/LZf3bX4E7M3fzZ3RPzzV9PhnUy3RPt7qWZ7ol2xwtg/9AcVF9JiO/Yg8zfk6qIAlHCkSlwIyIiIgJSgWMCqdLZXa7miIiIiIgqmg+p4HEQmWtuaA5RIH5QligSERFRsXggmo8kwRijKigQxcf8QYmIiIjIkgfAMETRsVXvTCIiIiIi9IMBIxERERFlIMd7choWg4iIiKiY9iLzMG1UYcbBdoxERERUfkmI5nE0B8hSRqsR3YmIiIhKSc6Iw9LGOYI/FBEREblBTrnqNPMREREREc1zUejma/+cixkhIiIiosol58r2AcC1LmaEKt9GAP/K7UwQlcBnAN4pwXb/DfgwTlSoDwB84nYmCAAQA9ANMclIjEEj2fkrAN9zOxNEJXQfgENF3N5zAJ4s4vaI5qmaBDDb7HYuCECqpNEDsKSxUoUANAHodDEPDQBw+73fxg03LXExG0TFNT2VwOk3+gCg2Ad2AwC03P+fce2C64u8aaL54YM3/w6XJj+8JdWKjlyWBLAOQAJg0FipfABa4W7QWAMAq+/9KzQs/5KL2SAqrsnhQRk0FlsNALS0fwfX3bi4FNsnqnqf/vZdXPrkwxq380EGsrSRbW+IiIiIyBmDRiIiIiJyxKCRiIiIiBwxaCQiIiIiOwFwnEYiIiIicrAfwBAAH0saK9dFtzPgpiszSZx+ow8n+3pwsq8HibcGypLuZDyGKzPJsqRVqT67eB6T8VhRtsX9mZtzY3FMxocsP5ueSuDcWNzyMzed/c07uPxP1uMw/+H3U5gafavMOao8+fx2k/EYTvb14P0jkRLliih3DBorUxCiOHheOjcWx6sPr8OvXtyFyeFBTA4PIvZCBw60Nxc9AHnjab8hQDrc1YbzLt6Yz43FcaDd3TFtp069hcOPbS7Kttzen3PN2/uCONzlQ+J4NO2z00cieHtfMOttTcZjZTmWfvHsAxj/79ZjpP/u3SN44+ltJc9Dpcv1t0scj+JwVxsSv+zn+UMVhdXTlSkO3bhI883JSAi1CxfhGy8PY0GdB4AoeTz0kIK39wXhe7x4T94Tbw1g7X2pi/nX9w6iYYVStO3nnJ/jUUxPJVxLv9jc3p9zVWxPJ9oVn3b85+NMPFZVx9JctnJrAE2b/Fkvf34sjoblLdjxyry9DVCFYtBIFefqTBLeTX7DDXNBnQfrA6G0EpjpqQQSbw3g6kwSDSsUeDemSjVkCWJ9o1dbZmlLK5YpPgAiOAWgDfS8TPHhTDyG+kYvFtR58P6RCOobvQCAMyNDqK3zYOXXOrTPZs5OoGF5C7ymm8FkPIYzI6KKceXXOrRtyDRXbg1geiqRts3pqQQm1fVO9vWkrasn05ffb+XXOrJKw2q/AUDTxm242SK4SxyP4spMEqu2Ggu+T0ZCaNrkx80rFMP3NedFvz/l9s5/OAIAab8XCQ3LWzA9lcDQnk7c/d3+jMvq973+d56Mx9KOpempBKanEobfclINLFepx8vpN/qwZscunDrUa/gt9b9bfaMXTRu35R3Q2uUZgHbO1Td6tfPS6jyQx399oxdLW1px+o0+rO/oFt9XPf6tzjv5XjbHf6Y0zNvQX1esyH1/8wpF28/rO7q1/arfp+8fiWByZAhXL180XAeuzCQx8dYApqcSab/B9FQCk/EYGlYomHhrwPDbZXM9Oj8Wx/kPRyyvFbKp0NWZpOXn58bimFCbD9ldR6h6sHqaKk59oxejh3oxeqjXUFKyamsAX3s2FTQmjkdx6OF1OP/BMK5MX8CvXtyF2J7UJDpn4jGcOtSL14M+TJ8Zx+TwIA53tWnBpPz3/AfDWjon+3q0/58+EsHQnk7EdgeA2Vmc3N+No89sx6GH1yFxPIrpM+M4+sx2Q5uj2O4Ajj7tx5XpC5g+M44D7c2Gz0/29eDoM9tFVdXsLEb/Ya9W7X5lJonpM+Mib8ODllXxV2aSOPTwOhHwzs5q3/tXuqqvTGnI7y33G2ZnMTk8iFfV72SV3tCeTkNezo3FcbKvBwvqPEgcj2rfF7Oz+B/7u/F6V5shL3J//mpfELHdAVyZvoAr0xcQe6HDkG8Saus8uPvZKBLHo5a/iaQ/1uTv/OrD6wCoQYrpWDoTj+G0qX2c/r3pqQRORkJatej7P9sPADj0kCJ+J93xdvSZ7Xl9t0x5BtRq3Je6tGUmhwdxoL1ZO1fNx//7P9uPo89s1x4AAeMxZ/Ve4ngUB9qbbY//bNIwX3uOPu03XHvMrPZzbE8nRg+G0/bp+bE4ps+Ma9//ykwS01MJHO5qw+g/7NXy9OrD67TvND2VwKlDveL6pjbpMe/vTNcj+V3Nv8f0VAIH2pu1dE//bD8Od7Vp14PRg2G8+vA67Zw+HPQZ9hNVH5Y0UsW5a2cYgGjf9fa+oHjSV3xY+bUO7Wn+ykwSsT2dWN/RrVUvrw+EcOB+L95vadVKUyaHB7Hjlbj2dH3oIQWjB8NYpvhwTziGH7TV4K6dYdtSgtnZWex4JY4FdR40rFBw9JntWN/RjfWBkJaP00ciWLU1gMTxKE6/0Yf2A+NaeksVH95+qctQclq7cBHuCYub4MqtAXEDG4tjmeLDqq0BnOzr0T43kzeU9p8ktO3VN3rx9ktd+Iq635zSOH0kAu/GbVo1/3p1v7x/JJJWarpqawBv7wsicTyq7dNTB8No2rgN9Y1exHYHsPa+oLY/liripnFlJplWEnX6SAR37Qxr21mm+NjI38YyxYc1O3bZVlNfmUkicTyKu5+Naseu/J0n4zGs2hrAzFTCcCxNZAhA9bwbt2m/5zm1BKrj9QtaHpYpvryCRqc8y/fMx/eP7/fijPr56SMRw+frAbwetC/hs/L+kQhWfq0j7fg/PxaHd5PfMY1M157Exm1p55Cd+iVN8H1HBOZyn05PJfCVnWGttFj+drHdAcM5vR6iPfbJSEj7HufH4mj9zn7t/JIPHfrrX8MKJavrkfw9frUviIblLdrna+4L4tBDiriGbPLj7Ze68PW9g4bf89WH16WV9FL1YNBYmRQAXgDZXeWrzII6D3yPiwAjcTyKM/GYmC/4SEQL2M6PxXF1Jon6pc2G3qb1S5txRr1pAuIiqb941TV6tSqpbBguruq/S3UBpqyeBaBVD01PTWB6SlYdN+PqTFIL2AAYAtRcL6zLFB8Ch0X+RZXXhFZtaF7OLg19m9DJeAwzZydw9fJF2/3i3eTHqUO9hpuRDOwbVigYPdSLq5cvYqnig3fjNiyzCXjlDev3H46gaaMf3k3+rG+w85FsjmFVTb2gzqMdB1dmkjg/NoLzHxan/Zv5+P7W4CyA1PGW70gG2ea5YYViCJLrG72YjMewHuLYMzddWXtfUKt+zYa+tkJ//GdKY31AlMACyHjtmYzHsj6m9fu5VlfNbHVNOP1GH9beFzSkd+PS5rSHLn3Tg8TxKOqXNhuuRw0r1qVdj/T5Nad9Jh4ztPleUOfBAz9Ra2UiITXfNYZ81ao1EPr1aM7rAZAAGDRWqjCAFszToPHcWBw3qzeOVVsD2oUwtluUwsn2egBEtYlO7cJF2gXYij7Iy0Yu7bbOj8VxZfoCTka6De8vbWk1BGRLM7R9cnJlJom3X+rSqrqWtrRaft9M++DcWBxvv9SFM/EYahcuwlLFh9nZWdvl19wX1KrC5L6Tv8n6QEirph49KALJtfcFcdcje9O2c/ezUZyMhDD+y36MHgyjts4jSik7utOWpdTD0+GuNstq6pORkAjYZ5JoWN5Ssg5Hv9oXxKlDvQDsj7dsFSPP5sAm1/ycG4tjaE8nzo/FbY//TA9zsjez1bWnlCaHB3Hug2HDew3LW2yXn55KZHU9yvQbyIdBW7OzadtvWN5S0DFCFUlrc8CgsXLNy7NuMh7D4a42fOPl4bQG1esDIZx+o8/wNH73s9GCepgWk8yTXdVyMZw6GEbil/2GKqHE8ajWEF3KVJp69Gk/GlYohmr0TFV8N69QULekCYnj0bSSFNlBaX0gJBr4H4ngZF8PFi9vSes8I5f9ys4wpqcSGD0YFh1q2Hjelr6aWt/BSI7hd9cje7USHdlhIRdOQ1iNHgzj9JGI4XibjMcw8daAZROETIqVZ/N4h041B+bveDjow1LFh7u/2295/NfWeTKmIYOsUp7nVtbcF0w7pzIpxvWoduEirWmAlDge1YLCBfU3lX0/kLsK7QjjBzCo/lsKzwN4TP2/oqZVLB6o0+KoYmoa5KJlig91S5owtKczvTG7OhRPwwoFDSsU1C5chFMHU+34rswkEbnnJtcaYi9VfDgzMmS44UzGRbvJbIc+qXOorpZV4PqLeK7tAmfOTsC7ya/dVK7MJC2ruPXW3hfE6Tf6MPHWANboqp20ThIQNynZFs7qRv6DthqtxKy+0asFDrk0F5iP1gfEcS9L+4BUaZe+CtDcycXK+Q9HtCBK9sbNRFbD6o83WaKc6/iB+eZZb+XWACbeGtDOsSszSZzs60lb7oyuNsGcxtXLF7FK1+ZOttuUvJv8GdOQ1x79dabU156mjdsMvz8g2jT++H7764XV9ej9I5GcrkfeTX6tFz6Qquk4PxZH0ya/6EGuKwU/NxbHD9pq2Fa5ihVa0hgA0AygG6WpSl0LQD/VQE0Rt52AqAbmY1KFuftZ0SP3QHuzVjUyo1a13KU2EgdEh5mhPZ2YHBnSGsnXL2kyBDVOahcuwtCeTjRt3GboSJKPVVsDOKOWlMo2UbLRfbZtF2UpxqGH16H1O/vTSuDW3hfE0We2I7anUwwldDwKzKbanGWTTtPGbXj7pS7RlmsmifFf9qN+SVPGdWSj97olTYY8rbkviKE9nWL4oRUKEsejaFjegpUWJSLrO7oxtKcTZ0aGxJAqRyJoWN6ScagSMlZTS95NohPE611tWKb4tA5StQsXaQGB+VhauTWA0YNhHFbXSRyPOlapLlV8Wg/bBrVpR77VsNnk2Yn+HGtYoWBmKoHFy1sMAeyaHbvEyAvq8S17kWvfqaUVsT2dWPvhiOXxL9N49eF1WKr40tJYUOcpyrUnF1/ZGcbrQR8OtDfDu8kvAt0PhvH1DKV8dtejNTt2ZX09Wh8Iaemu3BrA6SMR1C5chJVbA6LmoEOMKCEfQuX1LpcSUZpbrilgXS+A/wdAJ8QMJgMApoqRKZ0HAEwDOKxuu5iPLy9AzKUoz7oIip//fAUg9m/6I3T5tAJoW33vX+GGxUvKmvANixuxcmsAS1bfiWtrr9N6T3/F1Mv55hWKFpz88epnaNrkx1cf+z6urb1OW6a+0ZsWeOnfW775fgCA589u095bpuutau5Is6DOY/jcvD3vJj9uWX0nrs4kcU3tdVAeeDytQbh5ff17NyxuxFLFh2trr4Pnz27DDYsbDct5/uw2LFV8WulcywOP48tq6V5do1dbfqniS7sxyDRWbL4f1y9uxNWZJK5f3Ig7vrUbt27Yij9d/Uzbv9ctutmwr2W7xdX3fhtLVt+Z9hv88+/FqXPrhq3Y8K3dhu8n012m+Ax5l79Xuclx8gD8FMCvi7jpewCsb2n/Dq5dcH3eG2lYoVges3WNXu2zBXUeLN98v7Yvb1l9J7762Pdx/eJGLKjzwPNnt8HzZ7dpnUqWrL4T9Y1eLN98P/549TNcU3sd/iIQwjL1OJHpmY/v+kYvmjb5tXRWbg1g3QOPo1Y9VuUxtuT2O7HwX99q+X1uWNyIxrUb0/L8hQ1b8ZWdYUOe7b6//j3vJj9u3bAVS1bfqQUvE28NaKXcX9iwFdcvbkSNul82fGs3rq29Tvteq7YGcE3tdfjj1c9w/eJGfPWx72Op4jMc/95NfjRt8mtp3NjoxYeDf6+lkc21xyzTfrbb9/rlV24N4PrFjfjj1c/QsELBV3aGcZO6z/Tr61ldj1bf+23DMpmuR/p0r84ksVTxwfd4RPueyxSfdnxcU3sdlm++X7se5Wvszb/DpU/G/gXAcwVtiIpJ3kw+K6TkLoRUcCNnMNE/Xijq30kAuyCqgyMAutT3ABGwRSBKKr3q311IzYbyOkRJ47fV7e0FIB+3PerffvX/UYgAVm47BGCbul5S3Xan7v+tEKWNAxBBb0z9V6YdUPOtqJ/1IlWaKr9b3LSMPu+FkPkrZslqrp4B8F92vDKChuVfcjEbVAnk1I76oVfmqsnhQTlN4iMAvlfETf9XAN96cOA8rrtxcRE3S9LJSAjTZye0oWoAUU0LGHtFlyKNqzNJtt8rg589/u/xuxNH/hmYvcHtvJBmHMAIAH8hbRoDSJX8hSECNP3dxAOgAyKoW6d76ceOaFXX7QJwE4AJiHaLVmXn5jaIUXV7nRBV5Dch1eYxABEA9qifdarLyvpH+Sg0pPsOrbr8h9Rle9X1B9R8y6BYfregmvc2Nf30LqNEc9iVmSReD/pwuKsNa3bsmvMBI81tTZv8SPyyXwy+3deDQw+vw5l4TCsBLGUadxXYfIVoDvNCjY/ybdPoA9CEVMAVBbAfIqjSn1keiGBNNlgJIhUUyvfCSJXgBdT3A9B18bagQK0+Rap6WQaKHt3fcrsJdR0ZdMZ071uVDAbVfOmDYi9Eiah8z/zdIihe0BizyRdRWckqr5W6oY+I3HLzCgXtPxG99K/OJLHyax1aFfVcSoNorso3aJTVzh269xIQVbX6oPEiUkEVkArW9EGjubw/DmOJohVZEqlfNwER7AEigPOq+fEiFTBmMwKsAmCRRb6i6vb09N+tmEEe52GiilHMUhyiQi1Qx/ec62lQVQogFRfZNVfTL9Nm8TmQGqs50zKuyCdolFWzIzB+mQmI0j8fUgHXhQzbKKUARMmn7OjSC5HfbIbU4fgfRERElCsvUoVednGOfhk7sja14uTTplGOyeizeE3A2BlGqwfX/Q0Yo29z+0XZqSQTGdjp1/VAVH0rSLVH9EGU2kWRfaAqSw/N+fJDlJxSlRDTojkP9XFlJmmYJqtQn108V9TtFduVmWTa4MZExTKXj61CrwVXZpJZDy9EVInyCRqDAPpgXSIXgSiF1Adosp2fB6IzyRCM1brdSJUAhpHqZZ1JTN3Ofl1aYYhOK3E1b/qB54IwVqUDIgBsgnXpY4+ab/mZT12fLaGryNGn/Y4zYgBiUOLDXcUbS/DMyH/HT//Tv8t7/SszScT2dBYtP+btLajz4OjTft7cqOgm4zG8vS9V7XsyEipqEFns7ZkV41rwetCX1XWH5qQQxKgnNbAv/NIvY8eXxTKuyDVoVJB5TmQZ7Okbg9QAmIWoqr6I9NljZBXyrPqZH8ag0k5A3fYFdV1Ft+0ARNX5rG67PTD2kA4jVY1tFoYIjIfV9aPq3+Vs3MVW1yV0MhKyHA/OSsMKBV/fW8zJiApzfiye80wauW5vfSBU1MCUCBDzx+vbyJ7s6ynqjEDF3p5ZodcCOU6kPnAmmgMmoMZlubZpjCNz5JvQfS4fx2SvZsC+dDIAESSZP79H9/+YKe0EjG0HkqZlPTB2uAGMQV/I9Ld+20k1z0GLbVjlxe69fEUhgvPmIm2PTEYPhtNmUzg3FsfvPxxB3RIvGla0mHpLpn5aOZXf1ZkkzowMoW6JF8uU9OYnk/EYrl6+iIbloj3zlZmkbZB6ZSaJ82MjuHo5mTbrStpy6pRnk/Eh1Dc2aQMsT08lcP7DEdQu9BjyL6rhJwx5lO/VN3ottydvbJOmeWeJ8vX+kYhhAOpJdaq/8x+OoLbOox3z+nOhYXmLcbrLsRHDsa1/T87YYt6enjx3p6cS+P2HI1i8vMV2uZmzE6hb4jWcY0L6teBMPIbaupu0c+zcWBxnRobQsFxJu5asuS+IvntuwvpAKOuZWYhcph2ohU4jmK1sHv0KeTy0W7cY9Wtu1NHJgJdKQM6Lqr9ZxHYHxBR4ajAoB/f1bvKrVVJt+NagmK7vcFcbVn6tA5PxGOobveLmsELBjpeHAYgb2eGuNlyZvoD6Rq+Y3m9pMzA7azk48LmxOH7+zHbULlyE2joPzo/FsfY/dmF9R3fastNTCZz+mSgcPxnp1obCef9IBEN7OrG0pVXL/9f3DuLmFQquzCRx9OltWHtfEOsDIfH3M9tRt6QJ6wMhy+0BYjaJ00ciDBqpKE4dDBuml5TzNJ/+2X5MnxnHzTvDmIzHcPSZ7ahf0oTaOg/OjAyh9Tv7tWMytrsD9UubcY9a2hfbHcD5sTh2vBK33J6ZnFLv3AfD4oFpLA7vV7drA3lPTyVwuKsNs7Oz2rl79fJF3P3dfm3qQ/O1oGnjNm0O7/YD4zgZCWnXktM/2284FwFR2ri0pRWnj0Q4MgHNOeUKGokqxhm1dEDv9Bt9uPu7/fBuEi0cYrsDmIzHtL/N5I1qQZ1Hmy1FlsrFdgdQu3ARvr530PD50hbrznBHn/ZjmTo9FwDD8uaA7eYVCu7aKeYPlgHoubE4hvZ04ut7B7XlRw+G8fNntuMbLw/j5hUK1gdCePulLjSpgeD0mXEtf+btSQ0rFJw61Jvj3iVKJ0vI9efdPeEYftBWg7vU6UHlw8z6jm5tuJtJde5kOd3h3c9G8erD67QHv4m3BvCNl4exoM6Ttj075z4YNpy7h4M+vN/SilVbAzgZCaFuSZPhXDj0kILRg/bbPD8WR8frF3B1JokrM0mcfqPPMHPS60EfzsRjhofUZYoPk/EY1ue/S4lcUcqgMZvq2opr5EnVb3oqkXYDqF24SMxHXFODpS2tWgBnx7vJr90UzNVbE28N4O7v9hs+b9q4zbKtlawG05c43LxCwdKWViSOR7Mq5Zs4Hk0LMNfeF8TbL3Xh/FgcyxQf1t4nqpp//sx2TE8ltIAxE1mNR1QoWXVsfljTOxOP4epM0jA+4jLFh4blLVqp3M0rFKzv6MbbL3UBAO56ZG9W7ZL1VukG6r55hQLvJj8Sx6NYtTUA3+MRQyeVc2Nx1NbflLGdpNzegjoPoJ4vQ3s6sWZHEMuUVsvaBVmKSjTXsKSRCMDXwzEM7Q7gqDqPrXeTH3/R0W17Q8p08wPETUHv5hWK1oZLTwZlB9rzb746GY/hzMgQftCW/gwmg0YA+MrOMA60N6Np47acqpzPjcVzvjETWcn0oCIDS6vjWH++rQ+EMHowDNTU5DUA91LTsV/f6MW0em5emUlqD1vnx+KoW9KkLZON+kYv7v5uP361L6j1sra6ljhdP4gqFYNGIoigbscrcUxPJTAZj+HUQVFlG3jdenx6c1BoZi6ZsCuxkzcj2UYqH3IbViUaer/aF0TD8hZMvDWAxPGobdW7GQNGKpYrM0nbwLG2zoPaOo/tOSfJtouYncXJSCjndoHmc1H/99Gn/bg6k8T6QAhLFR8W1Hnwhvpetryb/PBuEkNWJY5HtaYi7QfGbfNAVOH6ISZICeUzTiPRnFZb5zFctKenEoh8Xbwnew7ftTOc99AdS1taMaprC3hlJomE2lDeTAZ875uGvPnx/V5RmpJNeooP5z8cMXynyXgMkXtu0t4bPRgW1ebPRrG+oxuxPZ2OY8WVcugSml/kQ9b5DGMoLlV8uDqTNJTIX5lJInLPTUgcF6O8nRuL42RfD3yPR+B7PIKTfT2WJfiZnDFtP/HWgPYAdWZkSAv6FtR5cGUmid+rowtkQ553V2aSqG/0Yu19Qay9L5gWJM5MJbRRFYjmAD/U0WpY0liZkhDjIlEJLFN8hg4e9Y1e1Dd6cfSZ7VrvztNHIrYdV5zctTOMw0EfDj28DssUn7jhzVqXJNY3erG+oxtDezrFcD+NXiSOR3F1JmlbEigDzaPPbMeaHbuwamtAKxmV+R89GIZ34zatB+jJvh6s7+gW6QVE786hPZ24+7v9advTD4nStHFbXvuASO/mFQrqljQZmksAoi3x2y91acfxmh27cPSZ7Vi1NYC6Ri9OH4mgfkkTlqodZX7+zHY0bdymnRtNG7dhaE+n1hnGvD0rsu1ywwpF2748b5a2tCLx1oAY7QDiPJq1OXetNKxQULtwkXYuXp1JYvRgGGt27DIsd24snlZNTjQXXON2BsjSTyDGr/zMxTy0Amhbfe9f4YbFS1zMRvHdsLgRJ/t6sFLXIH755vsBAInjUST/8bdYvvl+fPWx72vr6MeXA0Tgaa5mk+/dsLgRyzffj2tqrwMggshPf/MOAGg3susX/WstKF2m+LROJ7Jnt+/xiG07qgV1HjSsUHBuLI4lq+9EfaMXq+/9NgDg7G/ewR9+P4W19wXxZbXa7ow6NJC+Gu+W1XfiqloaUt/oTdseAPzy//42Vt/77aqrnp6eSojAAfgpgF8XcdP3AFjf0v4dXLvg+iJutjpMT9mAhZ8AACAASURBVCVwfiyOFeq5Bojj8J9/P4UFdR4sWX0nvrBhK65f3IjkP/4Wn/7mHSzffD/u2hnGgjoPkv/4W1xbex02fGs3rlXPrS9s2Io/Xv0M1y9uxA2LG9O2Z3ayrwdrduzCDYsb8bt3j+ALG7Zi02Pf185l7yZRFS0f3JQHHsfKrQH86epn2vlvvhYsVXt2A8C1tdfBu8mPP179DL979wiuqB171j3wuLa8bDfJcRqtjb35d7j0ydi/AHjO7byQJgRRkBVh72Wy8wyA/7LjlRE0LP+S23kputjuAGrrPPiKxVhuhfrVviCWKT5DSeGP7xfV3nNlXLbJeAyx3QE88JPqa3s1OTyIw49tBoBHAHyviJv+rwC+9eDAeVx34+IibrY6TE8lcKC9Ge0Hxl0Lln7QVoP1Hd2unofvH4ng9JGIYxvk+epnj/97/O7EkX8GZm9wOy+kmYWYvc/HNo00L8kq2lLMAbugzoPYnk68/VIXTvb14PWuNlydSWJNHj093XIyEipJQE3zl2yKkW1b3WqVT+cdokrBoJHmJX3bvmJbHwjhrkf24sr0BUwOD8K7cRvaf5JwHBexUkxPJdCgjl9HVEzrAyFMTyVK8rCWVfod3a62JZyMx7Bqa4CzLNGcxY4wNG/ZNZQv1rZLuf1Sqm/0spSRSuZrzxb/QS1bbpfwLVN8DBhpLroo/8OgsTKFIOafnjv1mURERFSN/AASAKunK5UPwC7HpYiIiIhKKwYGjURERESULQaNREREROSIbRrJzh8B4NBDnOqKqtYfS7G9H25rKPJmieabmn9xOwdkjUFjZYpBzMjihdqOwAWvA6h1KW2icvh5kbf3dwA+LfI2ieah2TNu54AMugH0QkxxTBUoADECOwfKIyIiIrcY4hG2aaxMcfXf6pr0l4iIiOYSObBoPONS5LogGDQSERGRey6AASMRERERZSCrpjnRCBERERHZGofo/OJxOyNEREREVJlkKaO7E7ZTXhQw0iciIqLykFMHMvaYgy4AGAZ/PCIiIio9r/qiOUgWEzNwJCIiIqKM9IEjh+IhIiIiIlsycJyFmNaHiIiIKF8eiHii3+2MUGkoEANtzgIIu5wXIiIimns8ADoghtWZBQfwrnohiJJHK2y8SkRERHpeALsADCJVa5mAfSxB80AQqYPB6hWzWMfrsM6sTVoxh3WsDkSn/EWZv6rOX8RiHcVhnQs2+Rt3WM9nsU6I+avq/IUd1rEac87nsM64Tf4uOKxn1fY8wvxVdf6iDutYzawScFjH6p4Nh3VmYV14JPOXVP+f80wv1+a6AlW8KDL3sLYqgk4A6MkjrTDsD2jYfBZzSKuY+YvY5EGfF6v3mD+hFPmzWscpf0mb93uQuVQ9kWX6Tp/P5fxdB2DK5rNKyB+Q//6zOtajGbYHWOcvjsz5s9oPUNfJdK21Wi+SYXtAfvuP+UspZ/6sjr+IzftSPtfMTPnLxGq9IJzv20RENE/x5kBEREREGclqOQ7RRURERES2ZPsvq3aGRERERETwINWQ366jCRERERHNc+YemRxSg4iIiIjSmIdLshqKiYiIiIjmMTkuZwKpMdnsxm0jIsra59zOABERFZWsipali7IjjN+FvBBRFWHQSERUXeIABgC8o/79DoAhZB4UmYiIiIjmKTlOo9V0e0REOWNJIxERERE5YtBIRERERI4YNBIRERGRIwaNREREROSIQSMREREROWLQSERERESOGDQSERERkSMGjURERETkiEEjERERETli0EhEREREjhg0EhEREZEjBo1ERERE5IhBIxERERE5YtBIRERERI4YNBIRERGRIwaNREREROSIQSMREREROWLQSERERESOGDQSERERkSMGjURERETkiEEjERERETli0EhEREREjhg0EhEREZEjBo1ERERE5IhBIxERERE5YtBIRERERI4YNBIRERGRIwaNREREROSoxu0MUNG0AvABUAB4slh+O4Ck6b2Quh07vQCipvd8ALozrDMCIGjx/iDzl3f+PAD6HfLXZvFeGEBLhnV6AMRM7/kB7MqwzhDE92b+Ki9/HojrQRziWC1W/rwA9mdYJwlxfpjtV9e106XmVS8AoCPDOgMQ35v5q8789QGImN5TAOzNsE4CQKfF+/3IfG/sVNfVCwLYVmX5A8R9aijDerauzWclqighWAcdI0gParKRz4NEudYpZ1qVkj+r3zCZRToei3WzWc/KXN5/xVynnGkVI39/BHARwBWH7RU7f3af1ZQgrXzWYf4KWyff/NndjzKtYxVEOV3HqnX/5ZOWFR9EoUgSohCjF+nBPFWxIETpQRDiCYeIiIjIThAiUJxVX4PIXEpMRERERPOYAlF9PQvgAjI3laI5xoPMbY+IiIiIcuWDaC85C9ZYVo1B8AclIiKi0vC5nQEqjv0QAaNVLygiIiIiIoTAgJGIiIiIMvBCNE6NI7uxF4mIiIiKIdtxn6lCyF5NbGdARERE5cRazjlEgfjBzDOIEBEREZVaFCIO4RiOc4AHYnon/lhERERUbj6IoNE81SQRERERkUECom8FAOBzLmaEiIiIiCpXBKLm0wswaCQiIiIia3H1Xx8AXOtiRqhwfw9giduZmOcmATzgch7+XwBfdDkP810SQCd01Tgu2A3gThfTJ+AygL8GMOFiHv4TgP/gYvoEXIX4HUbczkgRyKDRCwA1LmaE7PkgioMz9Zy+HcBvbvl8E275PPvKuOHsx+P4p8l/BIA/BzDmUjbqAVxafMtSLPOudCkL89vvP53EZOIDAGgDEHMrHzU1NZfrFt10Q9PKtW5lYV6bTp7HxOlTAPBNAH/rYlbev+6GhStXrPmyi1mYvz77wwzGTp0EgP8M4P9yOTvFEoaIR2IsaaxMIQAtyBw0fg4AtmwPoP3RUFkyRUY/2vsU/uH7zwPuPnx9DgC+3PofsPPZl13Mxvz10x9/D9/vecTtbAAAVn7pDnS//FO3szEvnTg2gOf+2u92NgCgpvELy/H8j1x7fpnXxk6dxGM7vgxUV/O/oPxPNX2pasNR2ImIiKhiMGgkIiIiIkcMGomIiIjIEYNGIiIiIrLjhdpkjkEjEREREdkZhBjkm0EjEREREdnSSho55E5liiE1oCYRERGR6xg0ViYOvEhEREQVhdXTREREROSIQSMREREROWLQSERERESOGDRWLk4jSERERG6bAJAA2BGmUkUBtABodjsjRERENK955X9Y0liZPND9SERERERuy6ek0Q9RCtZThPS9ADoA9EEt+rQQUD+LFSE9KoGzHyfwi2gfFtZ7cG/HLstlDrwYAmpq0L6zGwBw7NUIbvm8F2vv8FkuP3oihlO/Hkp7f+0GH9ZsaC1e5qno5PEgrfnLVsPvLD+/Y8s2fPF2JW39Ay+GsHl7AEtu9WrLbvZ3YMmtxuco+Zk8pqgyHHs1gk8nJ9LeX7vBB+9tLai7MdXy5sCLIazZ4LO8Dug/y3TMZDpGqLiczl0rM5eSht+82PTXCyq9fEoawxDjCAaKkL5X3VamXzsAQF5RvADGi5CuPv1ibm9e+vSTBA68GMIrzwdx9uP02P+dN6M4sK9HBI6qY/0RnHrX/jng1LsxHHgxhNETg9rrnZ/348lv+hD0r8PMpWRJvgsV5uXngnh4SzPe+Xk/Zi5ewOiJQTz1YBt6n+jUlpHHy/OPbLf8HQ/s68GnnyQMy/7Nk51py8nPqLIc64/g2Kv7Defu6IlBPPlNH55+sM3wmx/Y14Pnd9ofB/IaoR0HT9gfB/KYodJ5rS+MAy+G8N9e6LL8/Mlv+jB6InVdf+6v/Xi9L1zUPJjT0F8vqPRyDRr9EFWnvRAlhOXgQ2qway+KW21b7O3Na7d8vgknjkXT3n/nzSgW1i/Ka5vP/yimvXoH4ghHh/HRe/GiX4iocAdeDOEX/RE898NB9A7E8fBTYTz/oxjC0WEcezWC10y/WS5B3+iJWNr6VLm2bA8Yzl15HJz9eDztN798KWkZDFqxWp/K58SxKO55cBdGT8QsCwhOvTtkWn6g6Hkwp/Ha+7O2NVZUfLkGjQGIThoRiGDOHHDJUsEggL0AZPm1F0A3gP0AdiG9Z7BHfd/qc7lNWZUNdVv6tGV63bo09XzqZ3t127DanlzOal0ppKYh0/OYltOnMa/c2xHEL/r70t4/8WYUd/xbf1HS+OLtCtZsaMVohlJKcsdrfWFs3h5Iu4B/8XbFsgr5ji3b8PoPew2lBnbueXAXDuzrsbxR0dzwxdsVNN+uYPy3xhlS23d24503o3jnzfQHTrP2R0M4sK8HH73HWVbL7Z03o/j0kwm0PxrCLZ9vSnuIk8H8L6J9GD0Rw7FXIwCAU78e0v4PAB+9F8eBfT3ofaITr/X1GrYxeiKG0RMxbZlXnu8yliqa0pDv6a8LZz9OaOu+1tdrKMWW+ZLL9D7RiWMW9yxK0w+18C6XoNEDYBtE0BiH6IIdNC0TgAj8ggDa1HUUAMMA1qnrbFf/1geG+3Wf96gZ1G9T3oVqTP8Coq1jEMBFADep29ZXnYcADKqfXYQoJd1vsz19qSZs3utWt9emvpJqevo0zN9hXrhjix8fvRc3nMCy7eKSzxevQPfTTxJovi279jRUHqMnYrg8fRF32jwctD8awr0dxsvFvR1BrNnQit4nOh2bG7Q/GsLC+kWW1dQ0N3z0Xhyn3h1KO0bWbPDhngd3ZXUcyGMm25JJKp5jr0Zwx5ZtqLvRIwoIotbB1uzsrO3fx16NiOZFFy/glmVNOPbqfjz1YJv2+al3Y/hvL3Th+Uf8wOwszn48jqcebEt7oNBvU189fezVCB7e0oyzH49jYf0iHHt1P4L+ddo96dS7MRzY14OnHvQBs7OYnZ1F7+MBll4780ONw3IJGgMQAZH89cIQJWrmUsMaiEBRgQjoQgBG1ERD6r81SAWCgAiyAki1lbQqa05AlHBCXS6hLivTCkEEj50QpX0e9dWtvhfUpb8dItgzby9bA2qasgR0rykNBSKgzLd4LQkRQM8pS271ovm2FkMV9TtvRrHlG/k3fz317pD2eq2vF0892IZPP5koaJtUfJenxc0+12qiXS9EcPnSBceLdt2NHux6IcJq6jniWH8fnnqwzfAK+tdhzYZWbN6efu5qDwVZBIO7XoiwmrrMZi4lceLYgHbdvWOLH5cvJQ0liO2Pit9ji1rbIJddu0H8f+ZSEq+80IWHntyLh58Ko/3REJ77UQwf/WbYsJ2zH48jHI2j/dEQnvpeFM23tWifm9Mwe+X5INp3diO4O4L2R0PoHYgDmMWBfalj5dNPEnjypSjaHw0huDsiqttZc5W1XILGIFJBFiCCRw/SA6MERNAjbTOtl4QItPSPDnHT54B1NbOZH6IjSwuAVvU1jlQJp9yGPv2Y+nkhPSn0eVfU7Y3r8tCi/p1vcZi/gHVdteUbAa2KWl5o7tiSf9X0k9/0aa/X+vbihrpFeO6Hg1n33KPyWFgvnh1z7aC05FYv2h8NZVVNvfYOH6up54hbPt+ENX/ZijV/2YrZ2Vl89F4cT77Uj+d/FLPsSSsfCrKpppbHDKupy+cX/REsrF+klRIvudWLO7Zssy1ttDL+XhyXLyWx5NZmrSAg8dsRLLm12RC0Nd+uGI6RhTd6tIfSTGRtx5oNxmByy/ZAWjtI/f2j7kYPPv1kTpTRhCAKwTKVmMhl7J7eZVPBTMtklO2QOwqAJoj2huYxVXbBGJRZyecKn00ffQ9ElbB5+J8hiKCwVK1j9UewPPrMebiIwmZ1mZPdg+/Y4scrz3fh7McJnHo3hubbWgoaCuG192edFyLXLVQv8uPvxS1LAD56L44/TF+0HC7p3o4g3nkzit4nOhGODmdMp/3REE4ci+JvnuzE/Y9wqJ1KtXaDTysVaofoRdv7RCeab1NsrwfyoaD3ic60G7+ZPGb+5olO/B9P7C129snktb4wLk9fxL2ratI+++i9eFYP8bIKeSBi/L1uqF+kPXQWg/n6s/BGj2Pv6jnS+1pe8IZgH3PJZXpgPUyhHLEm0zIZZRs0BiGqmM1HhmzDqMBYWmgmq6r16yVReGCUhAhIzVcYmR95JJpLFkOw3un5HDkxWEftTvukKumrqEdPxNLasVF1+uLtimhD1B+xrTb69JMEXvmF9Sm264UIgn4l62rqpx5sww11+fXIp/LbtTuChzd78cLO7RkfDLSHgiyrqYN+xVD1SMU3eiKGTz+ZQDg6nBYctn/Zg9f6wgjudio3Am5R27U/+VLUUJKYbdCZ7fZHT8QM16DLl5J5j95B6bKpnpYdYKyOighEiVqmyKBPXV8fwO1FYaVwct0oRHWw/ogLQnSG8UIEbeb8+SGCPH0QKbcn72he3ftOI0nLNPRXLgWiY8y8bHgnq6hPHBsoWq9pqnwPPRnGL/r70npEvtYXxql3h/DQk/ZtEfXV1E5kiVQphvOg0qi70YNduyP46L14xjap+mpqJ/KYMVc9UnEd64/gls83WQZ2m7cHcOLYgG2zFH2w1qw+WP5kX6pSbuZSEk892FaU9qmywEJ/DZm5lMSx/r5quQ/JzreZ4i25jF0UH89imYyyCRrl2Ix2Z3EExqDQLIRUr+ZB9d8R5JdhGdTJHtIRiKB0GKK38iBSnVJk28oAxE4eVJfpVz9PWmwvruZNn1enxg5JdfsyWB1UX5mKkKua7EUte9rZObCvB/euqjG8nvwmx9uaq7Z8I4D2nd145fkgHtrcjKcebMNDm5vxyvOi8btdz2rp3o4g7tiyLau05LAfNHfc+W/9uGPLNsc2qfKhIBuyNzWVhmyXbldjtOUbAVy+lMQJNci/5fNNeH7ndrz8nFh+zQYfXvthL3qf6NQeHGSP5ucf2Y6HtzTjlmVNuCeHGilzGnq7dkcwemLQsP2F9YsyPrDOITH1lakGUy5jd4Ils1jGykX5n/QGCulkRw+7um/Z6SSOVAmd+Ut5IKpvZTV1zGLdpM17CowBnhcikI3q3pM9mWF6H7p1fEgFvwnTZ/rtyc49Xt17+up1nym/5jTkeoVUTYfUfGQ6k/43AKfad3ZrbYfcMnMpmdaWbfRETAy1o7ZfOvtxAp9+ktCW+UhtFG228EYPvni7krZ8JfrR3qfwD99/HgBWAvjApWwsApC8+z8+hJ3PvuxSFoxmLiVx6t0Yxt+Lo/l2Ja0dmzxezA3erT6zOrakSjlGfvrj7+H7PY8A4undtW6YNTU1l//iq1tv6H75p25lAYA4txfWeyzbLsrfU14bRk/EMh4HcrlMx0Gm46mcThwbwHN/7QeAbwL4W9cyApz2rvrSn//NayMFbyibfTt6Ima4bp96N6ZNESuvBQC0h8azHycw/ts4xt+Lp00hefbjBC5PJw2lmrKzk3zPnIb5GDJff/QPq1bXjGJfR8ZOncRjO74MAI8D2FOUjbrPBxELJbIJGqn8YhDV4pl+n4oJGucrBo0EMGgkoRqDRspdlQaNmnzmniYiIiKieYZBIxERERE5YtBIRERERI4YNBIRERGRHW1652wH9yYiIiKi+Wc/xDCCPpY0Vq6LzosQERERlQdLGitTEKkxL4mIiIhcx6CxMsUxD+etJiIiosrF6mkiIiIicsSgkYiIiIgcMWgkIiIiIkds01iZFIiOMFG3M0JERETzWg+ABMCgsVKFAbSAQSMRERG5KyT/w+rpyuVxOwNEREREEoNGIiIiInLE6um5608AcKw/gtF3Y27nZV46+/G4/O+si9n4EwD8j6H/D09+0+diNuav33866XYWNKf/5wkeBy6ZTp53OwvS7NTvPuRx4JLP/jAj//snN/NB80sYzoFIHYCz6nJ8ufeqhIjht3B/P8z3VxLAMqcfqsR+Aff3w3x//QGiPbqb/hbu7we+gH/n9EPNIZyhrsIFIQ46PioSERGRWxSIeCQAsE1jpZJTCDJoJCIiIrcE1H85tXGFiwHwu50JIiIimrfGoY7RSERERERkxQtRNR12OyNEREREVLn6wf4VRERERJSBDyJgjLidESIiIiKqXFGIoJHD7cxBwwD2u50JIiIimhf8SPWcpjkmBhHxM3AkIiIiIlseiDGSGDgSERERUUb6wHEYYpR2IiIiokJ4AexyOxNUGiGk5rZkewMiIiLKhxei9lLGFFSlFIhSR3aFJyIiomzJUkU5BuMsRL+JrMZirCldvsglfmQuZh6CKK0064eoAreSBLDd4v0QgNYMaXUhfb5KBcDeDOsMwHr0+XLlzwegO8f8eSCe1oqdv06kT9/klL8+pD9MlDN/TsdfNeYvoaZltheZm5EUK39eNa1KyF8vxFAdueQvDnEuupm/TG3F88lfUl3Hzfzth/1wKXb5CwDoqJD8dar/ljp/+d4T52L+wjAef/J+FsuQvsG12S5Ic8pNAFpsPhuxeM8DYB2AJpt1JtRlzAegB/ZPJxchTgZzUOZV01pks95Qnvmz4nXIn9UJJ9PKJX8oUf68SL+ol3P/KXnkL5/955Q/q2O2kPxleqIeyCN/dsdEs0P+7I6/XPMHlC9/mY5ZIL/9Z1d4sQ72DwXymlSs/DVXeP4ynVMXbd5vdsifFafjr89mnXzytw729ym7e47T/rPKn9M1M9P+K2b+Mp1T+e6/XO/ZMd2/MYvPiYhoHgu6nQEiIiIiqmxecEYHIiqiz7mdASIiKgk5uoLf1VwQERERUUVLQJQ0jrudESIiIiKqTD6khtOYBScDICIiIiILERiDRo7pSkREREQGHgAXYAwaL7iaIyIiIiKqOAGkShdnIQYT5rSjRFQw9p4mIqousv2iHBRdDu7NoXeIiIiIyEDO7DGr/ms33RgRUdZY0khEVH3M04NxujAiKhiDRiIiIiJyxKCRiIiIiBwxaCQiIiIiRwwaiYiIiMgRg0YiIiIicsSgkYiIiIgcMWgkIiIiIkcMGomIiIjIEYNGIiIiInLEoJGIiIiIHDFoJCIiIiJHDBqJiIiIyBGDRiIiIiJyxKCRiIiIiBwxaCQiIiIiRwwaiYiIiMgRg0YiIiIicsSgkYiIiIgcMWgkIiIiIkcMGomIiIjIEYNGIiIiInLEoJGIiIiIHDFoJCIiIiJHDBqJiIiIyBGDRiIiIiJyxKCRiIiIiBxd63YGqGRa81zvIoB4Dst7ALTkmdYIgGQOy3sBNOWZ1lCOy1fj/lMALMozLe6/ubH/JgAkcli+kHOK+29u7L9ynlPcf5W//3I9l6jKKAA6IA5UKQJgtoBXMMu0PQWmMwtx0GcjUGA6w1mmAwDRAtMKZJlOMfafJ22r1grdf9Es0wHKt/+8BaaTy/4LFphOLvtvuMC0/Op2PBD70u47Frr/LuTwnQrdf5Ec0irW/nOiFJhOLvsvXGBa4RzSGi8wLSXLdArdf+M5fKdy7r8LBaaV7f7zF5DGMLI/zg1YPT13dQAYhPjxIwBCus+yPejsZLt+tgFfMbZRaFrNOSxbrv1XaDrlTMtXomWtlOuYyGUb5TomiplWEuLaYFcaU2g6nhy2UegxUc79V65jwpNDWoUe69nmNZc82cn2ty7GdSLbh75ynb8eZJ+nQtMq5HdSAPQXsD7NIQqsnwRjumUCEEXc+TyBJJDbyVxIqVIupS9eiCqCfNJJwhhUOwmp6+STVhy5XaDKtf8UzJ39l8vFsFz7z4f8z6kksi+9B8q3/zwo3/7zo7BrUralz0B591++59Qscis9LXT/5VKqFEZ59l+h1/RcSv/Kvf/yPSbiyD7oLGT/yX1IVW4X7H/8Qp/aiIiIqHopEA9gITBmqHr7Yf8EXmhxOBERERFVAauAMZfqLiIiIiKqcub2EQkUpwMFEREREVUJH9LbLhajxygRERERVRF9L+kkWMJIREREpadADOnHoXnmCPNguLkMOUFERESUL/0QRYw/5gD9qPK5TGFEREREVAj9GK65zKhGLtGXMnI8JSIiIioX89SzjEMqXABilpdcZuIgIiIiKgb9zEC5zGBERERERPNICMbSRnzO1ewQERERUSWKmf72MmgkIiIiIjNzJ1wGjfPA/0L6FIR8Fe81CaA+61+jfO6H+/um2l9PZP1rlBfP+dK+pgDcmPWvUT7/O9zfN9X+qtRzvlSSpr+917qSDSqn1QBOATjkdkaq0GYAXwWwBMC0y3kxW63++xKAc25mpArVAPg/AbS4nREbqyECx4NuZ6QKtQH4NwCWAbjkcl7M5Dn/PQD/5GZGqlCln/OlNILU92bQWOXk7zsK9sIuhX8FETTWuJ0RCzJP+wD81s2MVKFrIG4glUjWHv0v8JwvhWsggsZK9hKA37idiSrzOYhzvhKv9aVmKG1k9TQREREROWLQSERERESOGDQSERERkSMGjZVJUV9EREREFYFBY+XxQ0wOPgwg6HJeiIiIaP7Sj9WYYNBYefQljH7XckFE85kPQD/Ew+sggP3IvfYjDCBQ5HwVSoH4PkSUnRCATvUVZdBIRER6fojA6iKAPgBDAJohAshcAkcFgLfouSuMByIgJqLsJAFE1FeS4zQSEZFeCEAv0pvHxNXPWANCNE+xpJGIiPQ86sssCFHlLMWQXvJo9V4YwDhE6aUMOL3qsl7TcvszbM9cZb5Lt5ysdg6oafXr3u8HcEH9lx0MiQrAoJGIiPTCADqQCsxkoBVTX1Ir0oNL83vd6t+dAAYgAjc/gAREwKgvtQyoL7m+X007jlSV+QiALohq8x6kZr2R1c4hpKrUPeo6NQC2q+lzlhyiArB6moiI9MIQQV0AqZLFBESbpl6YphVzMIFUZxhZatgNIKr+7VPTUNTtJtX3orp/AVHKaRX07TW9F9StE4AIGAO6PHvV9IkoDyxpJCIisyhE6d5NEKV0QxDBWX+mlWy2o6evbo5ClEwCIkCUJZmyo4ofqZLNVhhLOQFRAmnu2JLQ/V+WUuqDXPM2iCgHDBqJiEgyl8QlIYK7AEQVsw+59Yg26xLRmwAAD91JREFUl0rq/44iFfTJADEGYBtEwNcEY9CZaVuSfkw5q3aZRFQABo00F1TasB1kTYEoEbJq60Zzgwf2PaQTFu/pWXUyMb/ng2iXKA2o78mSRNk5JqB+JgPDEYttyb/t8hWHCDz1eFwSFSDfoDEGYNbiNY7Ch2PwIL0HXT5mkf14XCF1eXKP+TeQvSHlcXUBHOqjUvkgfqNhpG78FyDam+kdAfBiltuMqtuzE4doY0fFFYeoit4P0RlGPrD5IX7PIaSCtItI9WD2wLqt4Dak2jQq6jb1v1tUXW9C3W4CIkDcBWNVckRdV17TZYmoPj9mUYjqdZkvuzxSbuzu//thDMpDNsvJly+L5QZ127RLV77Y9KAMCilpHAHQZnpdRPqBkysFxZlFoAfOT8ZSTF2eKkcU4kZyE0Rj9l6I9lQsdawsslfrAMQA0DVI9VbthHGIllxEYT84tAKgpYBtU2Z+iN8zAvEwMAtx7o3A+OAWhLjuz0I8JIwg3YC63CzEQ0AfjL+brH7W3/Bjps+grtML44PkRWR+kJSdeboc8ki5M9//t6sv8zlpFSfIl74pwRBS144aiOt+J4B1um0Gdet2qe/pt8dpd0tHNhnJm3noBckLcXLKoM8HEUAqFgnKqix9gOmBeMKc1X3mVZf1WCzvhX11mE/3nv7mI6tCzPnWvyefgGSadjtLv61izX6gf+oq9MnpWnU7P85hHfO+AKy/m37/ymVaLZbL9Pvp19GXNCrq/83bSkJcGKzymCmfVsuaP8/nt3tOzeef57FuqX0XIm+3lTgd2ebNSkDNg/zNrUoa9eew1batAkPZu1fP7vgrhWsgvtdPypBWrj4Hkbe/L9L2fEg/1/Vkm0Sn/S6vAcXKU66/c7FmgSnXeZUPeQ1dXeJ07O7/YYjAXJ+fbO5hmZazqwX02bxfKsU+r+aSMFIxSd61fU5Bo9zwLMTTqkxQBhDDEBd9WdysDzLNxdchiCeSYd325PhbSXUbCYsvpC/+jkHc2C6o25JPvfIiZj4wZZ6SuuX1VeYKxJNuQv18XH0VYwwwt4NGP4w3eiC1n/XLyLZG5t9Clkro920Mqf0oAwx5XMTUdeXva8ejfh5E6jixCirlseRH6veOq//XB//yONTnO9cn1fkeNMpjJdMTqP44MgeN8mIUhziXxk3bkoNCm8mHB7l98/Wk1FWQ8yloJCMGjfb3/yiMD5DFCBojsK4xZNBYPvpmAaFijtPohQisLsJY7OyDqLYCUkFWAqLYGUgPItuQGpBVrt8CUX28DqlG0s3q/2XwEoVxjC4z+cQcV9cbh3EcMrOAbvtBiPY8sso7DFHsLgPLAIrTDrMSRJGq9okgFXjrS4L8SO1n2QNS7is500MIqRt7K8S+kyWBAYj2SeuQ+j2cLi5hNV8RNR05/psM1OUDQxSpY7EHxqqNQYjjJqnbnsy3T/08iuybNcx3MsCLZ1jGbky/AEStgjwGALHv+5G6XkSQGlxaLuMHsAipdnGyGUObmpYCcSwNgW2ciEqlCamHM1kYVIP0kij9cnoTMLZtXYT02j4vxH1iexHyS0VSSJvGVqR3glkHcXPW33Tlk0ICqQBQXyInG147FXvKdeQgs+bSrgtWK+nI0i65DTljQKb09AEpIA5iWZ0W1n0eQfHayuhvwHYBcKnJgXWB1AC7F03vxZCqctbvKxlUd5i2qR8kWLaZ0v8emTo1yEbw+kF65XtSQM2nDOIvwvhAEIaxKs38G8oHFiqM7MCkf1mVRAYg2rfpj3fZ9EAeZ3GI8yposZ58QDH/jnGkHiCJqDRuQqotoWzL3ATR9s1uOf3LfE1ohnjI70Gq0KFGXdat+yBZKKSk0Xwxl1W5ZlalNpl6RdqlpZdEqjefbCsje9/ZyVQa4kS/Xa/FezJPxRCFOIE8KCzPhYgh9XToQ6pJgA/ie8rx0+SJb/7uctBdPf0yHlgP1GtFPiBsh/HiEVHzqED8FtuQCvo8ah6tqi/kzBNWabJkKjf6h7ak7r0h3TJyGjkr5nNI/i1LCwEREMpe2B4Yf2d5Lg5abHvI4j0iKo440tuJyrnJh5C6tlot57Q9eX+QD4TzgbxX6afG1JM1Ydku04YS3c8KKWmUbcHky+6mbxXI1Vi8Mh1Y5qAkDHGA9kHsnBqUb/gN/XRUpSKr8d0iq3jN46fJKn45fppdHrPZN+ZAwurvQYiAUT+dmJRQ8xFQl5lA6iSRgYvVcaYvFTXns6DeYfOQ/E30tQQJiH0sX/kwl7Z71DQCMP7Okr7XdjbXEyIqPhngFTo0mmwuVIPqafZVNco9uLcMIM1D6kSQW3WSnK80gtQNplw3iTjEjUufnl1v3rlKBl0hiFJe2d60FaJKWB+cmfcFkD6Ar1kc6dUY5m1EIKo2vLAPTqPqdoIwPjQkkN6T1gsRhMp2rfrqdiDVoaIYwz3NFzJwlyX+ZpnOyQTSmzAEdJ9JSYiHQxk06n9n+Tuab1IRFKdTGmUvgNJcg0PI/BCqT5fzSrtL3sOLUZ0smxkpmB/nsr5q3koix2VK1i6/mB1hsiG/1F6I6sMYUmMvWU1E32uznTjEDUf2fpVtocyj/5dKEKLBfhPEdwpC3LyqSRTG30AGywqMDZPlvliE1HRjHcjcPjCkLtePVPWz/sYfgAgGE0if67YPqcAhAvHw4DWtLx9CBpEqWZRtZOQJF4K4wcjeu0GIQJftZ3Ij25IOq//qO6woMFZV6cm2z4NI/YYhiOPNfMGLqNteBOPvLDs0yeuJbMvYBpY0llsA9r1qC9GN1AgZTunKY4hj7pZeC9KbhfiQ3k7ZajlJfy23EoN4KO2G8dpSjZwC40SRlilYviWNchgTJ0NIr1oOITVoZw9EsCXbpQGpgbbX6d43pxWEOJi61GXlVFRDSD2V6tOWPbbN30G+JzvGZMq3/r2omr8JpBrrVtsBHYX4zuZ2hH0w7ssoxPe/CeK3qIHYN/LmYd63QKqX60WI31CWFpl/A7l/9S+zsEWeoG6/F+JY60LqGNGvJ4/DLoiAUbbZpOzJqqTtEL+jbOg+hFTwJvfp/wQwplvPC7Hfu9T1u2Bd4yCDAquAMqSuKxvSy6rpajsfyVkM1tcIKi7ZQU1ekycgzvftMNbUJEzL2V3LMzXHCsC6o6y57TRRRdN3ApH0YwRWinzGaaTszfdxGuerahinUU6pN4j05gWymlcOXTWIVLWvX32vH8aHMNnjVdYg7Id1aW9Q97lV2zdZQ7AfqUH+9dvxqevL9s4yXX2+JVm1rU/TavD/fvUl209nuo5X8nlVrnEa5yOO06iO01juNo3VIonU3KwdSA1uzapNIqp0Hogh0togSulrIJoX6NsGygGXLyJVGjwIEYDJGgDztJ671M+HIGoeBmEM+OIQAdkAUuP06UuWo2q6A2q65uupnLJyQs13CKL6U5L5lmRQrKjfYR2MkzrotzegrtuPynv4J6oY5W7TWC2C6qtT/TsOUTTPqk0iqnRycgJ9QCcfhJt174WQanMmR1PQT6ggZ2WSTQZkUyOZhmyzLv+VU8rqmw3tV9PwIjWcUsz0uT7fvTB2uHBq8D+EVBAo59KWQzqFYRy+hAP7Ezlg0Jgf2bGCiGiuUSAmQ9BX5TYhvepWH0DJsVczPRibSwZlZzogNeXkLtMyMpCUwaa+I00ExqBRdnaSMg37Jem3p/8+cixX/edyGLlizZFNVHUYNBIRzS8tSFUx6w2hsLFKzQGludROdho0p5mEc0Bqly+n2h27ksNMA85zvFYiGwwaK48Hop2kF6LqhFXeRFRMchgkfXtCD0QwWUjQZDVYvhyvNYnUVLJWaSbUv/XBoz6wi1u8Z/V3tmQwadUxhtdcIhvsCFN5AkjNeMMqcCIqthhSD6aSHE6rkIBpG1IBp3z4ldXJEYgB9/VBo2zvCKTmt9cHsubrXx+M01IqKGxSBfP2AjB2rCEiY5OQGEsaK4/+yZnVJERUbCGIa8swRAmeF6K3c6EDog9BBIHDSA3sLqeWi0J0YhlEqt1gM0RnQhmoyrmL5WxR5lmlZJA5DFFSKMfKzZecSeqCLr1MM1kRzUdhiPM3CSDJoJGIaP6RM/bI3tBxGHs1mycskLPy6OmXCerWlz2kzbPDyCDNKk19Gj7d+vqpYuWkAD6IoDMGY29umW+r/Nm950eqWlxOl1rsWW2I5jqtbTCDRiKi+cluZi+rgM+qQ4l+Gf12Mg1b4zSbmHm8W6sAzi5dc76d1pVT08mAV4Gons40tR3RvMagkYiI5qMwUm0t5XSYTvMhE81rDBqJiGg+ikJUb8u2453g4N5EGTFoJCKi+cqqKp6IbHDIHSIiIiJyxKCRiIiIiBwxaCQiIiIiR2zTWN3+Rf13C9hupxSa1X9nXc2FtT+p//4QwB/czAiVlfzd28BzvhTM0w5Wogh4zpdKJV7ry4pBY2VbVIRtDCD/+Vkps3EAHwEYczsjFk5CzMhBpSFnP6lEUYgZXqj4EhDnfSX2sv41eM6XUiWf86Xkh5gStA/pA/xTBQhAPM3IFxEREZEbLiAVj3jZprHymGdLKHQ+WCIiIqJcyWk2NQwaK08cwEW3M0FERETzml/3/wlUZrMMgpgLdRai/QTbIxIREVG5jSNVNR12OS9EREREVIHM/Sv8mRcnIiIiovnGA2MHGFZLExEREVGa/TCWMrJDLhEREREZmKul5+PYlERERESUgTlgTAJQXM0REREREVWUvTAGjKyWrjIK5sY8qERERFS5+pEeMAZczREVlR+pH7YfwDZ3s0NERERzkFWVtO3wOjVlyhQVVxTpgWISosFqXP2/eTpCKZ9R3VtzXF4aynF5L4CmPNK5CPvva0cBsCiPtEYg9m+2PABa8kgH4P4DuP/MqnH/lfOaxP0nVPr+K+c5Nd/3nxdiEG9A5C+Qw7o0R+hLGvN5ZVvsbB6rKdfXBWQ/o435aSfXVzTLdKAuW0ha2bbz8BaYzoUcvpOcRSjfVySHtAYLTKsa918usyUUuv+ybZiuFJjOePombYUKTCuUQ1r6WSq4/8QrmENahe6/bJtF+QpMZzCH7xQpMK1c9l8h98RK3X8+iH3geL/m3NNzUxTATQC6IJ6ScpXLRbOQaQw9OaZViFzWL7Q6P5egpxC57L9CGyznsv8KTSvb9Qs9Jqp1/2U7M0Oh6XiR/flfrmPCg8LPq2zTmkv7L9tjwou5s/9yWb/Qa0Uu16RCp/Yt1zUpl/VjEA++uZSC0hzmg3hSjamvTE8fCeR2MMUdtpfplUsRt0/NW75p5VJSES4gnVz2nweF7b9cxsfyQ5zw+aSTRG5P2oXuv2wvmtW6/wopFcll/3lR2DmVS+lzAIXtv1wa3Re6/7INmqp1/zndI4q1/xQUtv9yKb0PorD9l8sUeYXsvziyDzrLuf+IiIiIiIiIiIiIyuj/B4Iip+62VsGiAAAAAElFTkSuQmCC)\n",
        "\n",
        "\n",
        "\n",
        "Source: http://www.d2l.ai/chapter_natural-language-processing-pretraining/index.html\n",
        "\n"
      ],
      "metadata": {
        "id": "K0qIz7rb6NX1"
      }
    },
    {
      "cell_type": "markdown",
      "metadata": {
        "id": "iFNQkhnjs9fr"
      },
      "source": [
        "**Installing dependencies and importing packages**"
      ]
    },
    {
      "cell_type": "code",
      "source": [
        "!pip install 'tensorflow==2.8.0'"
      ],
      "metadata": {
        "colab": {
          "base_uri": "https://localhost:8080/"
        },
        "id": "tgmx6_632xPo",
        "outputId": "1d959d36-e308-4982-f37b-b55fccb7a371"
      },
      "execution_count": 41,
      "outputs": [
        {
          "output_type": "stream",
          "name": "stdout",
          "text": [
            "Requirement already satisfied: tensorflow==2.8.0 in /usr/local/lib/python3.7/dist-packages (2.8.0)\n",
            "Requirement already satisfied: termcolor>=1.1.0 in /usr/local/lib/python3.7/dist-packages (from tensorflow==2.8.0) (1.1.0)\n",
            "Requirement already satisfied: keras<2.9,>=2.8.0rc0 in /usr/local/lib/python3.7/dist-packages (from tensorflow==2.8.0) (2.8.0)\n",
            "Requirement already satisfied: numpy>=1.20 in /usr/local/lib/python3.7/dist-packages (from tensorflow==2.8.0) (1.21.5)\n",
            "Requirement already satisfied: absl-py>=0.4.0 in /usr/local/lib/python3.7/dist-packages (from tensorflow==2.8.0) (1.0.0)\n",
            "Requirement already satisfied: libclang>=9.0.1 in /usr/local/lib/python3.7/dist-packages (from tensorflow==2.8.0) (13.0.0)\n",
            "Requirement already satisfied: setuptools in /usr/local/lib/python3.7/dist-packages (from tensorflow==2.8.0) (57.4.0)\n",
            "Requirement already satisfied: h5py>=2.9.0 in /usr/local/lib/python3.7/dist-packages (from tensorflow==2.8.0) (3.1.0)\n",
            "Requirement already satisfied: keras-preprocessing>=1.1.1 in /usr/local/lib/python3.7/dist-packages (from tensorflow==2.8.0) (1.1.2)\n",
            "Requirement already satisfied: tf-estimator-nightly==2.8.0.dev2021122109 in /usr/local/lib/python3.7/dist-packages (from tensorflow==2.8.0) (2.8.0.dev2021122109)\n",
            "Requirement already satisfied: tensorboard<2.9,>=2.8 in /usr/local/lib/python3.7/dist-packages (from tensorflow==2.8.0) (2.8.0)\n",
            "Requirement already satisfied: opt-einsum>=2.3.2 in /usr/local/lib/python3.7/dist-packages (from tensorflow==2.8.0) (3.3.0)\n",
            "Requirement already satisfied: typing-extensions>=3.6.6 in /usr/local/lib/python3.7/dist-packages (from tensorflow==2.8.0) (3.10.0.2)\n",
            "Requirement already satisfied: grpcio<2.0,>=1.24.3 in /usr/local/lib/python3.7/dist-packages (from tensorflow==2.8.0) (1.44.0)\n",
            "Requirement already satisfied: wrapt>=1.11.0 in /usr/local/lib/python3.7/dist-packages (from tensorflow==2.8.0) (1.13.3)\n",
            "Requirement already satisfied: protobuf>=3.9.2 in /usr/local/lib/python3.7/dist-packages (from tensorflow==2.8.0) (3.17.3)\n",
            "Requirement already satisfied: gast>=0.2.1 in /usr/local/lib/python3.7/dist-packages (from tensorflow==2.8.0) (0.5.3)\n",
            "Requirement already satisfied: flatbuffers>=1.12 in /usr/local/lib/python3.7/dist-packages (from tensorflow==2.8.0) (2.0)\n",
            "Requirement already satisfied: google-pasta>=0.1.1 in /usr/local/lib/python3.7/dist-packages (from tensorflow==2.8.0) (0.2.0)\n",
            "Requirement already satisfied: astunparse>=1.6.0 in /usr/local/lib/python3.7/dist-packages (from tensorflow==2.8.0) (1.6.3)\n",
            "Requirement already satisfied: tensorflow-io-gcs-filesystem>=0.23.1 in /usr/local/lib/python3.7/dist-packages (from tensorflow==2.8.0) (0.24.0)\n",
            "Requirement already satisfied: six>=1.12.0 in /usr/local/lib/python3.7/dist-packages (from tensorflow==2.8.0) (1.15.0)\n",
            "Requirement already satisfied: wheel<1.0,>=0.23.0 in /usr/local/lib/python3.7/dist-packages (from astunparse>=1.6.0->tensorflow==2.8.0) (0.37.1)\n",
            "Requirement already satisfied: cached-property in /usr/local/lib/python3.7/dist-packages (from h5py>=2.9.0->tensorflow==2.8.0) (1.5.2)\n",
            "Requirement already satisfied: google-auth-oauthlib<0.5,>=0.4.1 in /usr/local/lib/python3.7/dist-packages (from tensorboard<2.9,>=2.8->tensorflow==2.8.0) (0.4.6)\n",
            "Requirement already satisfied: markdown>=2.6.8 in /usr/local/lib/python3.7/dist-packages (from tensorboard<2.9,>=2.8->tensorflow==2.8.0) (3.3.6)\n",
            "Requirement already satisfied: google-auth<3,>=1.6.3 in /usr/local/lib/python3.7/dist-packages (from tensorboard<2.9,>=2.8->tensorflow==2.8.0) (1.35.0)\n",
            "Requirement already satisfied: werkzeug>=0.11.15 in /usr/local/lib/python3.7/dist-packages (from tensorboard<2.9,>=2.8->tensorflow==2.8.0) (1.0.1)\n",
            "Requirement already satisfied: tensorboard-data-server<0.7.0,>=0.6.0 in /usr/local/lib/python3.7/dist-packages (from tensorboard<2.9,>=2.8->tensorflow==2.8.0) (0.6.1)\n",
            "Requirement already satisfied: requests<3,>=2.21.0 in /usr/local/lib/python3.7/dist-packages (from tensorboard<2.9,>=2.8->tensorflow==2.8.0) (2.23.0)\n",
            "Requirement already satisfied: tensorboard-plugin-wit>=1.6.0 in /usr/local/lib/python3.7/dist-packages (from tensorboard<2.9,>=2.8->tensorflow==2.8.0) (1.8.1)\n",
            "Requirement already satisfied: pyasn1-modules>=0.2.1 in /usr/local/lib/python3.7/dist-packages (from google-auth<3,>=1.6.3->tensorboard<2.9,>=2.8->tensorflow==2.8.0) (0.2.8)\n",
            "Requirement already satisfied: rsa<5,>=3.1.4 in /usr/local/lib/python3.7/dist-packages (from google-auth<3,>=1.6.3->tensorboard<2.9,>=2.8->tensorflow==2.8.0) (4.8)\n",
            "Requirement already satisfied: cachetools<5.0,>=2.0.0 in /usr/local/lib/python3.7/dist-packages (from google-auth<3,>=1.6.3->tensorboard<2.9,>=2.8->tensorflow==2.8.0) (4.2.4)\n",
            "Requirement already satisfied: requests-oauthlib>=0.7.0 in /usr/local/lib/python3.7/dist-packages (from google-auth-oauthlib<0.5,>=0.4.1->tensorboard<2.9,>=2.8->tensorflow==2.8.0) (1.3.1)\n",
            "Requirement already satisfied: importlib-metadata>=4.4 in /usr/local/lib/python3.7/dist-packages (from markdown>=2.6.8->tensorboard<2.9,>=2.8->tensorflow==2.8.0) (4.11.2)\n",
            "Requirement already satisfied: zipp>=0.5 in /usr/local/lib/python3.7/dist-packages (from importlib-metadata>=4.4->markdown>=2.6.8->tensorboard<2.9,>=2.8->tensorflow==2.8.0) (3.7.0)\n",
            "Requirement already satisfied: pyasn1<0.5.0,>=0.4.6 in /usr/local/lib/python3.7/dist-packages (from pyasn1-modules>=0.2.1->google-auth<3,>=1.6.3->tensorboard<2.9,>=2.8->tensorflow==2.8.0) (0.4.8)\n",
            "Requirement already satisfied: certifi>=2017.4.17 in /usr/local/lib/python3.7/dist-packages (from requests<3,>=2.21.0->tensorboard<2.9,>=2.8->tensorflow==2.8.0) (2021.10.8)\n",
            "Requirement already satisfied: idna<3,>=2.5 in /usr/local/lib/python3.7/dist-packages (from requests<3,>=2.21.0->tensorboard<2.9,>=2.8->tensorflow==2.8.0) (2.10)\n",
            "Requirement already satisfied: chardet<4,>=3.0.2 in /usr/local/lib/python3.7/dist-packages (from requests<3,>=2.21.0->tensorboard<2.9,>=2.8->tensorflow==2.8.0) (3.0.4)\n",
            "Requirement already satisfied: urllib3!=1.25.0,!=1.25.1,<1.26,>=1.21.1 in /usr/local/lib/python3.7/dist-packages (from requests<3,>=2.21.0->tensorboard<2.9,>=2.8->tensorflow==2.8.0) (1.24.3)\n",
            "Requirement already satisfied: oauthlib>=3.0.0 in /usr/local/lib/python3.7/dist-packages (from requests-oauthlib>=0.7.0->google-auth-oauthlib<0.5,>=0.4.1->tensorboard<2.9,>=2.8->tensorflow==2.8.0) (3.2.0)\n"
          ]
        }
      ]
    },
    {
      "cell_type": "code",
      "source": [
        "pip install 'tf-estimator-nightly==2.8.0.dev2021122109'"
      ],
      "metadata": {
        "colab": {
          "base_uri": "https://localhost:8080/"
        },
        "id": "rXCviMlb3f3n",
        "outputId": "4ab1eaaa-2e46-4697-d430-59726feb17a1"
      },
      "execution_count": 42,
      "outputs": [
        {
          "output_type": "stream",
          "name": "stdout",
          "text": [
            "Requirement already satisfied: tf-estimator-nightly==2.8.0.dev2021122109 in /usr/local/lib/python3.7/dist-packages (2.8.0.dev2021122109)\n"
          ]
        }
      ]
    },
    {
      "cell_type": "code",
      "execution_count": 43,
      "metadata": {
        "colab": {
          "base_uri": "https://localhost:8080/"
        },
        "id": "khY1_QX5D70z",
        "outputId": "bdb171b0-2316-4404-a57d-220b91818eae"
      },
      "outputs": [
        {
          "output_type": "stream",
          "name": "stdout",
          "text": [
            "Requirement already satisfied: transformers in /usr/local/lib/python3.7/dist-packages (4.17.0)\n",
            "Requirement already satisfied: sacremoses in /usr/local/lib/python3.7/dist-packages (from transformers) (0.0.47)\n",
            "Requirement already satisfied: tokenizers!=0.11.3,>=0.11.1 in /usr/local/lib/python3.7/dist-packages (from transformers) (0.11.6)\n",
            "Requirement already satisfied: filelock in /usr/local/lib/python3.7/dist-packages (from transformers) (3.6.0)\n",
            "Requirement already satisfied: requests in /usr/local/lib/python3.7/dist-packages (from transformers) (2.23.0)\n",
            "Requirement already satisfied: tqdm>=4.27 in /usr/local/lib/python3.7/dist-packages (from transformers) (4.63.0)\n",
            "Requirement already satisfied: pyyaml>=5.1 in /usr/local/lib/python3.7/dist-packages (from transformers) (6.0)\n",
            "Requirement already satisfied: numpy>=1.17 in /usr/local/lib/python3.7/dist-packages (from transformers) (1.21.5)\n",
            "Requirement already satisfied: packaging>=20.0 in /usr/local/lib/python3.7/dist-packages (from transformers) (21.3)\n",
            "Requirement already satisfied: huggingface-hub<1.0,>=0.1.0 in /usr/local/lib/python3.7/dist-packages (from transformers) (0.4.0)\n",
            "Requirement already satisfied: importlib-metadata in /usr/local/lib/python3.7/dist-packages (from transformers) (4.11.2)\n",
            "Requirement already satisfied: regex!=2019.12.17 in /usr/local/lib/python3.7/dist-packages (from transformers) (2019.12.20)\n",
            "Requirement already satisfied: typing-extensions>=3.7.4.3 in /usr/local/lib/python3.7/dist-packages (from huggingface-hub<1.0,>=0.1.0->transformers) (3.10.0.2)\n",
            "Requirement already satisfied: pyparsing!=3.0.5,>=2.0.2 in /usr/local/lib/python3.7/dist-packages (from packaging>=20.0->transformers) (3.0.7)\n",
            "Requirement already satisfied: zipp>=0.5 in /usr/local/lib/python3.7/dist-packages (from importlib-metadata->transformers) (3.7.0)\n",
            "Requirement already satisfied: urllib3!=1.25.0,!=1.25.1,<1.26,>=1.21.1 in /usr/local/lib/python3.7/dist-packages (from requests->transformers) (1.24.3)\n",
            "Requirement already satisfied: chardet<4,>=3.0.2 in /usr/local/lib/python3.7/dist-packages (from requests->transformers) (3.0.4)\n",
            "Requirement already satisfied: idna<3,>=2.5 in /usr/local/lib/python3.7/dist-packages (from requests->transformers) (2.10)\n",
            "Requirement already satisfied: certifi>=2017.4.17 in /usr/local/lib/python3.7/dist-packages (from requests->transformers) (2021.10.8)\n",
            "Requirement already satisfied: click in /usr/local/lib/python3.7/dist-packages (from sacremoses->transformers) (7.1.2)\n",
            "Requirement already satisfied: joblib in /usr/local/lib/python3.7/dist-packages (from sacremoses->transformers) (1.1.0)\n",
            "Requirement already satisfied: six in /usr/local/lib/python3.7/dist-packages (from sacremoses->transformers) (1.15.0)\n"
          ]
        }
      ],
      "source": [
        "!pip install transformers"
      ]
    },
    {
      "cell_type": "code",
      "source": [
        "# A dependency of the preprocessing for BERT inputs\n",
        "!pip install tensorflow-text"
      ],
      "metadata": {
        "colab": {
          "base_uri": "https://localhost:8080/"
        },
        "id": "TE_ZjgoFUx_h",
        "outputId": "dacbbca9-6b46-4b49-dcdc-6a2a6de4ddd3"
      },
      "execution_count": 44,
      "outputs": [
        {
          "output_type": "stream",
          "name": "stdout",
          "text": [
            "Requirement already satisfied: tensorflow-text in /usr/local/lib/python3.7/dist-packages (2.8.1)\n",
            "Requirement already satisfied: tensorflow<2.9,>=2.8.0 in /usr/local/lib/python3.7/dist-packages (from tensorflow-text) (2.8.0)\n",
            "Requirement already satisfied: tensorflow-hub>=0.8.0 in /usr/local/lib/python3.7/dist-packages (from tensorflow-text) (0.12.0)\n",
            "Requirement already satisfied: gast>=0.2.1 in /usr/local/lib/python3.7/dist-packages (from tensorflow<2.9,>=2.8.0->tensorflow-text) (0.5.3)\n",
            "Requirement already satisfied: setuptools in /usr/local/lib/python3.7/dist-packages (from tensorflow<2.9,>=2.8.0->tensorflow-text) (57.4.0)\n",
            "Requirement already satisfied: h5py>=2.9.0 in /usr/local/lib/python3.7/dist-packages (from tensorflow<2.9,>=2.8.0->tensorflow-text) (3.1.0)\n",
            "Requirement already satisfied: six>=1.12.0 in /usr/local/lib/python3.7/dist-packages (from tensorflow<2.9,>=2.8.0->tensorflow-text) (1.15.0)\n",
            "Requirement already satisfied: keras-preprocessing>=1.1.1 in /usr/local/lib/python3.7/dist-packages (from tensorflow<2.9,>=2.8.0->tensorflow-text) (1.1.2)\n",
            "Requirement already satisfied: flatbuffers>=1.12 in /usr/local/lib/python3.7/dist-packages (from tensorflow<2.9,>=2.8.0->tensorflow-text) (2.0)\n",
            "Requirement already satisfied: grpcio<2.0,>=1.24.3 in /usr/local/lib/python3.7/dist-packages (from tensorflow<2.9,>=2.8.0->tensorflow-text) (1.44.0)\n",
            "Requirement already satisfied: astunparse>=1.6.0 in /usr/local/lib/python3.7/dist-packages (from tensorflow<2.9,>=2.8.0->tensorflow-text) (1.6.3)\n",
            "Requirement already satisfied: protobuf>=3.9.2 in /usr/local/lib/python3.7/dist-packages (from tensorflow<2.9,>=2.8.0->tensorflow-text) (3.17.3)\n",
            "Requirement already satisfied: tf-estimator-nightly==2.8.0.dev2021122109 in /usr/local/lib/python3.7/dist-packages (from tensorflow<2.9,>=2.8.0->tensorflow-text) (2.8.0.dev2021122109)\n",
            "Requirement already satisfied: numpy>=1.20 in /usr/local/lib/python3.7/dist-packages (from tensorflow<2.9,>=2.8.0->tensorflow-text) (1.21.5)\n",
            "Requirement already satisfied: libclang>=9.0.1 in /usr/local/lib/python3.7/dist-packages (from tensorflow<2.9,>=2.8.0->tensorflow-text) (13.0.0)\n",
            "Requirement already satisfied: tensorflow-io-gcs-filesystem>=0.23.1 in /usr/local/lib/python3.7/dist-packages (from tensorflow<2.9,>=2.8.0->tensorflow-text) (0.24.0)\n",
            "Requirement already satisfied: termcolor>=1.1.0 in /usr/local/lib/python3.7/dist-packages (from tensorflow<2.9,>=2.8.0->tensorflow-text) (1.1.0)\n",
            "Requirement already satisfied: wrapt>=1.11.0 in /usr/local/lib/python3.7/dist-packages (from tensorflow<2.9,>=2.8.0->tensorflow-text) (1.13.3)\n",
            "Requirement already satisfied: tensorboard<2.9,>=2.8 in /usr/local/lib/python3.7/dist-packages (from tensorflow<2.9,>=2.8.0->tensorflow-text) (2.8.0)\n",
            "Requirement already satisfied: absl-py>=0.4.0 in /usr/local/lib/python3.7/dist-packages (from tensorflow<2.9,>=2.8.0->tensorflow-text) (1.0.0)\n",
            "Requirement already satisfied: opt-einsum>=2.3.2 in /usr/local/lib/python3.7/dist-packages (from tensorflow<2.9,>=2.8.0->tensorflow-text) (3.3.0)\n",
            "Requirement already satisfied: keras<2.9,>=2.8.0rc0 in /usr/local/lib/python3.7/dist-packages (from tensorflow<2.9,>=2.8.0->tensorflow-text) (2.8.0)\n",
            "Requirement already satisfied: typing-extensions>=3.6.6 in /usr/local/lib/python3.7/dist-packages (from tensorflow<2.9,>=2.8.0->tensorflow-text) (3.10.0.2)\n",
            "Requirement already satisfied: google-pasta>=0.1.1 in /usr/local/lib/python3.7/dist-packages (from tensorflow<2.9,>=2.8.0->tensorflow-text) (0.2.0)\n",
            "Requirement already satisfied: wheel<1.0,>=0.23.0 in /usr/local/lib/python3.7/dist-packages (from astunparse>=1.6.0->tensorflow<2.9,>=2.8.0->tensorflow-text) (0.37.1)\n",
            "Requirement already satisfied: cached-property in /usr/local/lib/python3.7/dist-packages (from h5py>=2.9.0->tensorflow<2.9,>=2.8.0->tensorflow-text) (1.5.2)\n",
            "Requirement already satisfied: requests<3,>=2.21.0 in /usr/local/lib/python3.7/dist-packages (from tensorboard<2.9,>=2.8->tensorflow<2.9,>=2.8.0->tensorflow-text) (2.23.0)\n",
            "Requirement already satisfied: tensorboard-data-server<0.7.0,>=0.6.0 in /usr/local/lib/python3.7/dist-packages (from tensorboard<2.9,>=2.8->tensorflow<2.9,>=2.8.0->tensorflow-text) (0.6.1)\n",
            "Requirement already satisfied: tensorboard-plugin-wit>=1.6.0 in /usr/local/lib/python3.7/dist-packages (from tensorboard<2.9,>=2.8->tensorflow<2.9,>=2.8.0->tensorflow-text) (1.8.1)\n",
            "Requirement already satisfied: werkzeug>=0.11.15 in /usr/local/lib/python3.7/dist-packages (from tensorboard<2.9,>=2.8->tensorflow<2.9,>=2.8.0->tensorflow-text) (1.0.1)\n",
            "Requirement already satisfied: google-auth<3,>=1.6.3 in /usr/local/lib/python3.7/dist-packages (from tensorboard<2.9,>=2.8->tensorflow<2.9,>=2.8.0->tensorflow-text) (1.35.0)\n",
            "Requirement already satisfied: google-auth-oauthlib<0.5,>=0.4.1 in /usr/local/lib/python3.7/dist-packages (from tensorboard<2.9,>=2.8->tensorflow<2.9,>=2.8.0->tensorflow-text) (0.4.6)\n",
            "Requirement already satisfied: markdown>=2.6.8 in /usr/local/lib/python3.7/dist-packages (from tensorboard<2.9,>=2.8->tensorflow<2.9,>=2.8.0->tensorflow-text) (3.3.6)\n",
            "Requirement already satisfied: cachetools<5.0,>=2.0.0 in /usr/local/lib/python3.7/dist-packages (from google-auth<3,>=1.6.3->tensorboard<2.9,>=2.8->tensorflow<2.9,>=2.8.0->tensorflow-text) (4.2.4)\n",
            "Requirement already satisfied: pyasn1-modules>=0.2.1 in /usr/local/lib/python3.7/dist-packages (from google-auth<3,>=1.6.3->tensorboard<2.9,>=2.8->tensorflow<2.9,>=2.8.0->tensorflow-text) (0.2.8)\n",
            "Requirement already satisfied: rsa<5,>=3.1.4 in /usr/local/lib/python3.7/dist-packages (from google-auth<3,>=1.6.3->tensorboard<2.9,>=2.8->tensorflow<2.9,>=2.8.0->tensorflow-text) (4.8)\n",
            "Requirement already satisfied: requests-oauthlib>=0.7.0 in /usr/local/lib/python3.7/dist-packages (from google-auth-oauthlib<0.5,>=0.4.1->tensorboard<2.9,>=2.8->tensorflow<2.9,>=2.8.0->tensorflow-text) (1.3.1)\n",
            "Requirement already satisfied: importlib-metadata>=4.4 in /usr/local/lib/python3.7/dist-packages (from markdown>=2.6.8->tensorboard<2.9,>=2.8->tensorflow<2.9,>=2.8.0->tensorflow-text) (4.11.2)\n",
            "Requirement already satisfied: zipp>=0.5 in /usr/local/lib/python3.7/dist-packages (from importlib-metadata>=4.4->markdown>=2.6.8->tensorboard<2.9,>=2.8->tensorflow<2.9,>=2.8.0->tensorflow-text) (3.7.0)\n",
            "Requirement already satisfied: pyasn1<0.5.0,>=0.4.6 in /usr/local/lib/python3.7/dist-packages (from pyasn1-modules>=0.2.1->google-auth<3,>=1.6.3->tensorboard<2.9,>=2.8->tensorflow<2.9,>=2.8.0->tensorflow-text) (0.4.8)\n",
            "Requirement already satisfied: certifi>=2017.4.17 in /usr/local/lib/python3.7/dist-packages (from requests<3,>=2.21.0->tensorboard<2.9,>=2.8->tensorflow<2.9,>=2.8.0->tensorflow-text) (2021.10.8)\n",
            "Requirement already satisfied: urllib3!=1.25.0,!=1.25.1,<1.26,>=1.21.1 in /usr/local/lib/python3.7/dist-packages (from requests<3,>=2.21.0->tensorboard<2.9,>=2.8->tensorflow<2.9,>=2.8.0->tensorflow-text) (1.24.3)\n",
            "Requirement already satisfied: idna<3,>=2.5 in /usr/local/lib/python3.7/dist-packages (from requests<3,>=2.21.0->tensorboard<2.9,>=2.8->tensorflow<2.9,>=2.8.0->tensorflow-text) (2.10)\n",
            "Requirement already satisfied: chardet<4,>=3.0.2 in /usr/local/lib/python3.7/dist-packages (from requests<3,>=2.21.0->tensorboard<2.9,>=2.8->tensorflow<2.9,>=2.8.0->tensorflow-text) (3.0.4)\n",
            "Requirement already satisfied: oauthlib>=3.0.0 in /usr/local/lib/python3.7/dist-packages (from requests-oauthlib>=0.7.0->google-auth-oauthlib<0.5,>=0.4.1->tensorboard<2.9,>=2.8->tensorflow<2.9,>=2.8.0->tensorflow-text) (3.2.0)\n"
          ]
        }
      ]
    },
    {
      "cell_type": "code",
      "source": [
        "!pip install tf-models-official==2.7.0"
      ],
      "metadata": {
        "colab": {
          "base_uri": "https://localhost:8080/"
        },
        "id": "4DxY50KoU7o6",
        "outputId": "45076287-81dc-4f33-bad1-73d2a8903053"
      },
      "execution_count": 45,
      "outputs": [
        {
          "output_type": "stream",
          "name": "stdout",
          "text": [
            "Requirement already satisfied: tf-models-official==2.7.0 in /usr/local/lib/python3.7/dist-packages (2.7.0)\n",
            "Requirement already satisfied: opencv-python-headless in /usr/local/lib/python3.7/dist-packages (from tf-models-official==2.7.0) (4.5.5.62)\n",
            "Requirement already satisfied: gin-config in /usr/local/lib/python3.7/dist-packages (from tf-models-official==2.7.0) (0.5.0)\n",
            "Requirement already satisfied: six in /usr/local/lib/python3.7/dist-packages (from tf-models-official==2.7.0) (1.15.0)\n",
            "Requirement already satisfied: psutil>=5.4.3 in /usr/local/lib/python3.7/dist-packages (from tf-models-official==2.7.0) (5.4.8)\n",
            "Requirement already satisfied: pandas>=0.22.0 in /usr/local/lib/python3.7/dist-packages (from tf-models-official==2.7.0) (1.3.5)\n",
            "Requirement already satisfied: pyyaml>=5.1 in /usr/local/lib/python3.7/dist-packages (from tf-models-official==2.7.0) (6.0)\n",
            "Requirement already satisfied: tensorflow>=2.7.0 in /usr/local/lib/python3.7/dist-packages (from tf-models-official==2.7.0) (2.8.0)\n",
            "Requirement already satisfied: kaggle>=1.3.9 in /usr/local/lib/python3.7/dist-packages (from tf-models-official==2.7.0) (1.5.12)\n",
            "Requirement already satisfied: py-cpuinfo>=3.3.0 in /usr/local/lib/python3.7/dist-packages (from tf-models-official==2.7.0) (8.0.0)\n",
            "Requirement already satisfied: pycocotools in /usr/local/lib/python3.7/dist-packages (from tf-models-official==2.7.0) (2.0.4)\n",
            "Requirement already satisfied: sentencepiece in /usr/local/lib/python3.7/dist-packages (from tf-models-official==2.7.0) (0.1.96)\n",
            "Requirement already satisfied: seqeval in /usr/local/lib/python3.7/dist-packages (from tf-models-official==2.7.0) (1.2.2)\n",
            "Requirement already satisfied: numpy>=1.15.4 in /usr/local/lib/python3.7/dist-packages (from tf-models-official==2.7.0) (1.21.5)\n",
            "Requirement already satisfied: tf-slim>=1.1.0 in /usr/local/lib/python3.7/dist-packages (from tf-models-official==2.7.0) (1.1.0)\n",
            "Requirement already satisfied: Pillow in /usr/local/lib/python3.7/dist-packages (from tf-models-official==2.7.0) (7.1.2)\n",
            "Requirement already satisfied: matplotlib in /usr/local/lib/python3.7/dist-packages (from tf-models-official==2.7.0) (3.2.2)\n",
            "Requirement already satisfied: tensorflow-datasets in /usr/local/lib/python3.7/dist-packages (from tf-models-official==2.7.0) (4.0.1)\n",
            "Requirement already satisfied: sacrebleu in /usr/local/lib/python3.7/dist-packages (from tf-models-official==2.7.0) (2.0.0)\n",
            "Requirement already satisfied: scipy>=0.19.1 in /usr/local/lib/python3.7/dist-packages (from tf-models-official==2.7.0) (1.4.1)\n",
            "Requirement already satisfied: tensorflow-addons in /usr/local/lib/python3.7/dist-packages (from tf-models-official==2.7.0) (0.16.1)\n",
            "Requirement already satisfied: tensorflow-hub>=0.6.0 in /usr/local/lib/python3.7/dist-packages (from tf-models-official==2.7.0) (0.12.0)\n",
            "Requirement already satisfied: tensorflow-model-optimization>=0.4.1 in /usr/local/lib/python3.7/dist-packages (from tf-models-official==2.7.0) (0.7.1)\n",
            "Requirement already satisfied: Cython in /usr/local/lib/python3.7/dist-packages (from tf-models-official==2.7.0) (0.29.28)\n",
            "Requirement already satisfied: google-api-python-client>=1.6.7 in /usr/local/lib/python3.7/dist-packages (from tf-models-official==2.7.0) (1.12.10)\n",
            "Requirement already satisfied: oauth2client in /usr/local/lib/python3.7/dist-packages (from tf-models-official==2.7.0) (4.1.3)\n",
            "Requirement already satisfied: tensorflow-text>=2.7.0 in /usr/local/lib/python3.7/dist-packages (from tf-models-official==2.7.0) (2.8.1)\n",
            "Requirement already satisfied: google-auth-httplib2>=0.0.3 in /usr/local/lib/python3.7/dist-packages (from google-api-python-client>=1.6.7->tf-models-official==2.7.0) (0.0.4)\n",
            "Requirement already satisfied: httplib2<1dev,>=0.15.0 in /usr/local/lib/python3.7/dist-packages (from google-api-python-client>=1.6.7->tf-models-official==2.7.0) (0.17.4)\n",
            "Requirement already satisfied: google-auth<3dev,>=1.16.0 in /usr/local/lib/python3.7/dist-packages (from google-api-python-client>=1.6.7->tf-models-official==2.7.0) (1.35.0)\n",
            "Requirement already satisfied: google-api-core<3dev,>=1.21.0 in /usr/local/lib/python3.7/dist-packages (from google-api-python-client>=1.6.7->tf-models-official==2.7.0) (1.26.3)\n",
            "Requirement already satisfied: uritemplate<4dev,>=3.0.0 in /usr/local/lib/python3.7/dist-packages (from google-api-python-client>=1.6.7->tf-models-official==2.7.0) (3.0.1)\n",
            "Requirement already satisfied: setuptools>=40.3.0 in /usr/local/lib/python3.7/dist-packages (from google-api-core<3dev,>=1.21.0->google-api-python-client>=1.6.7->tf-models-official==2.7.0) (57.4.0)\n",
            "Requirement already satisfied: protobuf>=3.12.0 in /usr/local/lib/python3.7/dist-packages (from google-api-core<3dev,>=1.21.0->google-api-python-client>=1.6.7->tf-models-official==2.7.0) (3.17.3)\n",
            "Requirement already satisfied: pytz in /usr/local/lib/python3.7/dist-packages (from google-api-core<3dev,>=1.21.0->google-api-python-client>=1.6.7->tf-models-official==2.7.0) (2018.9)\n",
            "Requirement already satisfied: googleapis-common-protos<2.0dev,>=1.6.0 in /usr/local/lib/python3.7/dist-packages (from google-api-core<3dev,>=1.21.0->google-api-python-client>=1.6.7->tf-models-official==2.7.0) (1.55.0)\n",
            "Requirement already satisfied: packaging>=14.3 in /usr/local/lib/python3.7/dist-packages (from google-api-core<3dev,>=1.21.0->google-api-python-client>=1.6.7->tf-models-official==2.7.0) (21.3)\n",
            "Requirement already satisfied: requests<3.0.0dev,>=2.18.0 in /usr/local/lib/python3.7/dist-packages (from google-api-core<3dev,>=1.21.0->google-api-python-client>=1.6.7->tf-models-official==2.7.0) (2.23.0)\n",
            "Requirement already satisfied: cachetools<5.0,>=2.0.0 in /usr/local/lib/python3.7/dist-packages (from google-auth<3dev,>=1.16.0->google-api-python-client>=1.6.7->tf-models-official==2.7.0) (4.2.4)\n",
            "Requirement already satisfied: pyasn1-modules>=0.2.1 in /usr/local/lib/python3.7/dist-packages (from google-auth<3dev,>=1.16.0->google-api-python-client>=1.6.7->tf-models-official==2.7.0) (0.2.8)\n",
            "Requirement already satisfied: rsa<5,>=3.1.4 in /usr/local/lib/python3.7/dist-packages (from google-auth<3dev,>=1.16.0->google-api-python-client>=1.6.7->tf-models-official==2.7.0) (4.8)\n",
            "Requirement already satisfied: certifi in /usr/local/lib/python3.7/dist-packages (from kaggle>=1.3.9->tf-models-official==2.7.0) (2021.10.8)\n",
            "Requirement already satisfied: python-dateutil in /usr/local/lib/python3.7/dist-packages (from kaggle>=1.3.9->tf-models-official==2.7.0) (2.8.2)\n",
            "Requirement already satisfied: python-slugify in /usr/local/lib/python3.7/dist-packages (from kaggle>=1.3.9->tf-models-official==2.7.0) (6.1.1)\n",
            "Requirement already satisfied: urllib3 in /usr/local/lib/python3.7/dist-packages (from kaggle>=1.3.9->tf-models-official==2.7.0) (1.24.3)\n",
            "Requirement already satisfied: tqdm in /usr/local/lib/python3.7/dist-packages (from kaggle>=1.3.9->tf-models-official==2.7.0) (4.63.0)\n",
            "Requirement already satisfied: pyparsing!=3.0.5,>=2.0.2 in /usr/local/lib/python3.7/dist-packages (from packaging>=14.3->google-api-core<3dev,>=1.21.0->google-api-python-client>=1.6.7->tf-models-official==2.7.0) (3.0.7)\n",
            "Requirement already satisfied: pyasn1<0.5.0,>=0.4.6 in /usr/local/lib/python3.7/dist-packages (from pyasn1-modules>=0.2.1->google-auth<3dev,>=1.16.0->google-api-python-client>=1.6.7->tf-models-official==2.7.0) (0.4.8)\n",
            "Requirement already satisfied: chardet<4,>=3.0.2 in /usr/local/lib/python3.7/dist-packages (from requests<3.0.0dev,>=2.18.0->google-api-core<3dev,>=1.21.0->google-api-python-client>=1.6.7->tf-models-official==2.7.0) (3.0.4)\n",
            "Requirement already satisfied: idna<3,>=2.5 in /usr/local/lib/python3.7/dist-packages (from requests<3.0.0dev,>=2.18.0->google-api-core<3dev,>=1.21.0->google-api-python-client>=1.6.7->tf-models-official==2.7.0) (2.10)\n",
            "Requirement already satisfied: h5py>=2.9.0 in /usr/local/lib/python3.7/dist-packages (from tensorflow>=2.7.0->tf-models-official==2.7.0) (3.1.0)\n",
            "Requirement already satisfied: tensorflow-io-gcs-filesystem>=0.23.1 in /usr/local/lib/python3.7/dist-packages (from tensorflow>=2.7.0->tf-models-official==2.7.0) (0.24.0)\n",
            "Requirement already satisfied: tensorboard<2.9,>=2.8 in /usr/local/lib/python3.7/dist-packages (from tensorflow>=2.7.0->tf-models-official==2.7.0) (2.8.0)\n",
            "Requirement already satisfied: termcolor>=1.1.0 in /usr/local/lib/python3.7/dist-packages (from tensorflow>=2.7.0->tf-models-official==2.7.0) (1.1.0)\n",
            "Requirement already satisfied: grpcio<2.0,>=1.24.3 in /usr/local/lib/python3.7/dist-packages (from tensorflow>=2.7.0->tf-models-official==2.7.0) (1.44.0)\n",
            "Requirement already satisfied: tf-estimator-nightly==2.8.0.dev2021122109 in /usr/local/lib/python3.7/dist-packages (from tensorflow>=2.7.0->tf-models-official==2.7.0) (2.8.0.dev2021122109)\n",
            "Requirement already satisfied: google-pasta>=0.1.1 in /usr/local/lib/python3.7/dist-packages (from tensorflow>=2.7.0->tf-models-official==2.7.0) (0.2.0)\n",
            "Requirement already satisfied: keras<2.9,>=2.8.0rc0 in /usr/local/lib/python3.7/dist-packages (from tensorflow>=2.7.0->tf-models-official==2.7.0) (2.8.0)\n",
            "Requirement already satisfied: astunparse>=1.6.0 in /usr/local/lib/python3.7/dist-packages (from tensorflow>=2.7.0->tf-models-official==2.7.0) (1.6.3)\n",
            "Requirement already satisfied: wrapt>=1.11.0 in /usr/local/lib/python3.7/dist-packages (from tensorflow>=2.7.0->tf-models-official==2.7.0) (1.13.3)\n",
            "Requirement already satisfied: flatbuffers>=1.12 in /usr/local/lib/python3.7/dist-packages (from tensorflow>=2.7.0->tf-models-official==2.7.0) (2.0)\n",
            "Requirement already satisfied: libclang>=9.0.1 in /usr/local/lib/python3.7/dist-packages (from tensorflow>=2.7.0->tf-models-official==2.7.0) (13.0.0)\n",
            "Requirement already satisfied: gast>=0.2.1 in /usr/local/lib/python3.7/dist-packages (from tensorflow>=2.7.0->tf-models-official==2.7.0) (0.5.3)\n",
            "Requirement already satisfied: typing-extensions>=3.6.6 in /usr/local/lib/python3.7/dist-packages (from tensorflow>=2.7.0->tf-models-official==2.7.0) (3.10.0.2)\n",
            "Requirement already satisfied: keras-preprocessing>=1.1.1 in /usr/local/lib/python3.7/dist-packages (from tensorflow>=2.7.0->tf-models-official==2.7.0) (1.1.2)\n",
            "Requirement already satisfied: opt-einsum>=2.3.2 in /usr/local/lib/python3.7/dist-packages (from tensorflow>=2.7.0->tf-models-official==2.7.0) (3.3.0)\n",
            "Requirement already satisfied: absl-py>=0.4.0 in /usr/local/lib/python3.7/dist-packages (from tensorflow>=2.7.0->tf-models-official==2.7.0) (1.0.0)\n",
            "Requirement already satisfied: wheel<1.0,>=0.23.0 in /usr/local/lib/python3.7/dist-packages (from astunparse>=1.6.0->tensorflow>=2.7.0->tf-models-official==2.7.0) (0.37.1)\n",
            "Requirement already satisfied: cached-property in /usr/local/lib/python3.7/dist-packages (from h5py>=2.9.0->tensorflow>=2.7.0->tf-models-official==2.7.0) (1.5.2)\n",
            "Requirement already satisfied: google-auth-oauthlib<0.5,>=0.4.1 in /usr/local/lib/python3.7/dist-packages (from tensorboard<2.9,>=2.8->tensorflow>=2.7.0->tf-models-official==2.7.0) (0.4.6)\n",
            "Requirement already satisfied: tensorboard-data-server<0.7.0,>=0.6.0 in /usr/local/lib/python3.7/dist-packages (from tensorboard<2.9,>=2.8->tensorflow>=2.7.0->tf-models-official==2.7.0) (0.6.1)\n",
            "Requirement already satisfied: tensorboard-plugin-wit>=1.6.0 in /usr/local/lib/python3.7/dist-packages (from tensorboard<2.9,>=2.8->tensorflow>=2.7.0->tf-models-official==2.7.0) (1.8.1)\n",
            "Requirement already satisfied: markdown>=2.6.8 in /usr/local/lib/python3.7/dist-packages (from tensorboard<2.9,>=2.8->tensorflow>=2.7.0->tf-models-official==2.7.0) (3.3.6)\n",
            "Requirement already satisfied: werkzeug>=0.11.15 in /usr/local/lib/python3.7/dist-packages (from tensorboard<2.9,>=2.8->tensorflow>=2.7.0->tf-models-official==2.7.0) (1.0.1)\n",
            "Requirement already satisfied: requests-oauthlib>=0.7.0 in /usr/local/lib/python3.7/dist-packages (from google-auth-oauthlib<0.5,>=0.4.1->tensorboard<2.9,>=2.8->tensorflow>=2.7.0->tf-models-official==2.7.0) (1.3.1)\n",
            "Requirement already satisfied: importlib-metadata>=4.4 in /usr/local/lib/python3.7/dist-packages (from markdown>=2.6.8->tensorboard<2.9,>=2.8->tensorflow>=2.7.0->tf-models-official==2.7.0) (4.11.2)\n",
            "Requirement already satisfied: zipp>=0.5 in /usr/local/lib/python3.7/dist-packages (from importlib-metadata>=4.4->markdown>=2.6.8->tensorboard<2.9,>=2.8->tensorflow>=2.7.0->tf-models-official==2.7.0) (3.7.0)\n",
            "Requirement already satisfied: oauthlib>=3.0.0 in /usr/local/lib/python3.7/dist-packages (from requests-oauthlib>=0.7.0->google-auth-oauthlib<0.5,>=0.4.1->tensorboard<2.9,>=2.8->tensorflow>=2.7.0->tf-models-official==2.7.0) (3.2.0)\n",
            "Requirement already satisfied: dm-tree~=0.1.1 in /usr/local/lib/python3.7/dist-packages (from tensorflow-model-optimization>=0.4.1->tf-models-official==2.7.0) (0.1.6)\n",
            "Requirement already satisfied: cycler>=0.10 in /usr/local/lib/python3.7/dist-packages (from matplotlib->tf-models-official==2.7.0) (0.11.0)\n",
            "Requirement already satisfied: kiwisolver>=1.0.1 in /usr/local/lib/python3.7/dist-packages (from matplotlib->tf-models-official==2.7.0) (1.3.2)\n",
            "Requirement already satisfied: text-unidecode>=1.3 in /usr/local/lib/python3.7/dist-packages (from python-slugify->kaggle>=1.3.9->tf-models-official==2.7.0) (1.3)\n",
            "Requirement already satisfied: tabulate>=0.8.9 in /usr/local/lib/python3.7/dist-packages (from sacrebleu->tf-models-official==2.7.0) (0.8.9)\n",
            "Requirement already satisfied: portalocker in /usr/local/lib/python3.7/dist-packages (from sacrebleu->tf-models-official==2.7.0) (2.4.0)\n",
            "Requirement already satisfied: regex in /usr/local/lib/python3.7/dist-packages (from sacrebleu->tf-models-official==2.7.0) (2019.12.20)\n",
            "Requirement already satisfied: colorama in /usr/local/lib/python3.7/dist-packages (from sacrebleu->tf-models-official==2.7.0) (0.4.4)\n",
            "Requirement already satisfied: scikit-learn>=0.21.3 in /usr/local/lib/python3.7/dist-packages (from seqeval->tf-models-official==2.7.0) (1.0.2)\n",
            "Requirement already satisfied: threadpoolctl>=2.0.0 in /usr/local/lib/python3.7/dist-packages (from scikit-learn>=0.21.3->seqeval->tf-models-official==2.7.0) (3.1.0)\n",
            "Requirement already satisfied: joblib>=0.11 in /usr/local/lib/python3.7/dist-packages (from scikit-learn>=0.21.3->seqeval->tf-models-official==2.7.0) (1.1.0)\n",
            "Requirement already satisfied: typeguard>=2.7 in /usr/local/lib/python3.7/dist-packages (from tensorflow-addons->tf-models-official==2.7.0) (2.7.1)\n",
            "Requirement already satisfied: dill in /usr/local/lib/python3.7/dist-packages (from tensorflow-datasets->tf-models-official==2.7.0) (0.3.4)\n",
            "Requirement already satisfied: importlib-resources in /usr/local/lib/python3.7/dist-packages (from tensorflow-datasets->tf-models-official==2.7.0) (5.4.0)\n",
            "Requirement already satisfied: promise in /usr/local/lib/python3.7/dist-packages (from tensorflow-datasets->tf-models-official==2.7.0) (2.3)\n",
            "Requirement already satisfied: attrs>=18.1.0 in /usr/local/lib/python3.7/dist-packages (from tensorflow-datasets->tf-models-official==2.7.0) (21.4.0)\n",
            "Requirement already satisfied: future in /usr/local/lib/python3.7/dist-packages (from tensorflow-datasets->tf-models-official==2.7.0) (0.16.0)\n",
            "Requirement already satisfied: tensorflow-metadata in /usr/local/lib/python3.7/dist-packages (from tensorflow-datasets->tf-models-official==2.7.0) (1.7.0)\n"
          ]
        }
      ]
    },
    {
      "cell_type": "code",
      "execution_count": 46,
      "metadata": {
        "id": "o4sW3ywUDcIJ"
      },
      "outputs": [],
      "source": [
        "import os\n",
        "import shutil\n",
        "import numpy as np # linear algebra\n",
        "import pandas as pd # data processing, CSV file I/O (e.g. pd.read_csv)\n",
        "\n",
        "from scipy.stats import spearmanr\n",
        "\n",
        "from sklearn.model_selection import GroupKFold\n",
        "from sklearn.model_selection import train_test_split\n",
        "from sklearn.metrics import confusion_matrix\n",
        "\n",
        "\n",
        "import matplotlib.pyplot as plt\n",
        "\n",
        "import tensorflow as tf\n",
        "import tensorflow_hub as hub\n",
        "import tensorflow_text as text\n",
        "from tensorflow import keras\n",
        "from tensorflow.keras import layers\n",
        "\n",
        "\n",
        "from official.modeling import tf_utils\n",
        "from official import nlp\n",
        "from official.nlp import bert\n",
        "\n",
        "# Load the required submodules\n",
        "\n",
        "\n",
        "import official.nlp.optimization\n",
        "import official.nlp.bert.bert_models\n",
        "import official.nlp.bert.configs\n",
        "import official.nlp.bert.run_classifier\n",
        "import official.nlp.bert.tokenization\n",
        "import official.nlp.data.classifier_data_lib\n",
        "import official.nlp.modeling.losses\n",
        "import official.nlp.modeling.models\n",
        "import official.nlp.modeling.networks\n",
        "\n",
        "\n",
        "\n",
        "\n",
        "from tqdm.notebook import tqdm\n",
        "\n",
        "import math\n",
        "from math import floor, ceil\n",
        "\n",
        "from transformers import *\n"
      ]
    },
    {
      "cell_type": "code",
      "execution_count": 47,
      "metadata": {
        "colab": {
          "base_uri": "https://localhost:8080/"
        },
        "id": "dDFig2UcEFIr",
        "outputId": "6a50c049-75fe-4177-84b4-73ccc7751712"
      },
      "outputs": [
        {
          "output_type": "stream",
          "name": "stdout",
          "text": [
            "2.8.0\n"
          ]
        }
      ],
      "source": [
        "np.set_printoptions(suppress=True)\n",
        "print(tf.__version__)\n"
      ]
    },
    {
      "cell_type": "markdown",
      "metadata": {
        "id": "jvqzM4RCtJUH"
      },
      "source": [
        "**Loading and preparing the dataset**"
      ]
    },
    {
      "cell_type": "code",
      "execution_count": 48,
      "metadata": {
        "id": "acUVbxVOsRuk"
      },
      "outputs": [],
      "source": [
        "\n",
        "df = pd.read_csv('/content/IMDBMini Dataset.csv')"
      ]
    },
    {
      "cell_type": "code",
      "execution_count": 49,
      "metadata": {
        "colab": {
          "base_uri": "https://localhost:8080/"
        },
        "id": "KuYA4DhJz_Gp",
        "outputId": "cad9a9b4-75a8-4dc1-d67a-6e41b2a66996"
      },
      "outputs": [
        {
          "output_type": "stream",
          "name": "stdout",
          "text": [
            "There are 99 rows and 2 columns\n"
          ]
        }
      ],
      "source": [
        "nRowsRead = None # specify 'None' if want to read whole file\n",
        "# labeled_data.csv may have more rows in reality, but we are only loading/previewing the first 1000 rows\n",
        "df0 = pd.read_csv('/content/IMDBMini Dataset.csv', delimiter=',', nrows = nRowsRead)\n",
        "df0.dataframeName = 'IMDB Dataset.csv'\n",
        "nRow, nCol = df0.shape\n",
        "print('There are {} rows and {} columns'.format(nRow, nCol))"
      ]
    },
    {
      "cell_type": "code",
      "execution_count": 50,
      "metadata": {
        "colab": {
          "base_uri": "https://localhost:8080/",
          "height": 206
        },
        "id": "kILH7gQXIKlI",
        "outputId": "3a37cb18-8cc2-4272-a547-5a1ed1534328"
      },
      "outputs": [
        {
          "output_type": "execute_result",
          "data": {
            "text/html": [
              "\n",
              "  <div id=\"df-71932fbd-83f4-4866-ac14-c7d80a33383a\">\n",
              "    <div class=\"colab-df-container\">\n",
              "      <div>\n",
              "<style scoped>\n",
              "    .dataframe tbody tr th:only-of-type {\n",
              "        vertical-align: middle;\n",
              "    }\n",
              "\n",
              "    .dataframe tbody tr th {\n",
              "        vertical-align: top;\n",
              "    }\n",
              "\n",
              "    .dataframe thead th {\n",
              "        text-align: right;\n",
              "    }\n",
              "</style>\n",
              "<table border=\"1\" class=\"dataframe\">\n",
              "  <thead>\n",
              "    <tr style=\"text-align: right;\">\n",
              "      <th></th>\n",
              "      <th>review</th>\n",
              "      <th>sentiment</th>\n",
              "    </tr>\n",
              "  </thead>\n",
              "  <tbody>\n",
              "    <tr>\n",
              "      <th>0</th>\n",
              "      <td>One of the other reviewers has mentioned that ...</td>\n",
              "      <td>positive</td>\n",
              "    </tr>\n",
              "    <tr>\n",
              "      <th>1</th>\n",
              "      <td>A wonderful little production. &lt;br /&gt;&lt;br /&gt;The...</td>\n",
              "      <td>positive</td>\n",
              "    </tr>\n",
              "    <tr>\n",
              "      <th>2</th>\n",
              "      <td>I thought this was a wonderful way to spend ti...</td>\n",
              "      <td>positive</td>\n",
              "    </tr>\n",
              "    <tr>\n",
              "      <th>3</th>\n",
              "      <td>Basically there's a family where a little boy ...</td>\n",
              "      <td>negative</td>\n",
              "    </tr>\n",
              "    <tr>\n",
              "      <th>4</th>\n",
              "      <td>Petter Mattei's \"Love in the Time of Money\" is...</td>\n",
              "      <td>positive</td>\n",
              "    </tr>\n",
              "  </tbody>\n",
              "</table>\n",
              "</div>\n",
              "      <button class=\"colab-df-convert\" onclick=\"convertToInteractive('df-71932fbd-83f4-4866-ac14-c7d80a33383a')\"\n",
              "              title=\"Convert this dataframe to an interactive table.\"\n",
              "              style=\"display:none;\">\n",
              "        \n",
              "  <svg xmlns=\"http://www.w3.org/2000/svg\" height=\"24px\"viewBox=\"0 0 24 24\"\n",
              "       width=\"24px\">\n",
              "    <path d=\"M0 0h24v24H0V0z\" fill=\"none\"/>\n",
              "    <path d=\"M18.56 5.44l.94 2.06.94-2.06 2.06-.94-2.06-.94-.94-2.06-.94 2.06-2.06.94zm-11 1L8.5 8.5l.94-2.06 2.06-.94-2.06-.94L8.5 2.5l-.94 2.06-2.06.94zm10 10l.94 2.06.94-2.06 2.06-.94-2.06-.94-.94-2.06-.94 2.06-2.06.94z\"/><path d=\"M17.41 7.96l-1.37-1.37c-.4-.4-.92-.59-1.43-.59-.52 0-1.04.2-1.43.59L10.3 9.45l-7.72 7.72c-.78.78-.78 2.05 0 2.83L4 21.41c.39.39.9.59 1.41.59.51 0 1.02-.2 1.41-.59l7.78-7.78 2.81-2.81c.8-.78.8-2.07 0-2.86zM5.41 20L4 18.59l7.72-7.72 1.47 1.35L5.41 20z\"/>\n",
              "  </svg>\n",
              "      </button>\n",
              "      \n",
              "  <style>\n",
              "    .colab-df-container {\n",
              "      display:flex;\n",
              "      flex-wrap:wrap;\n",
              "      gap: 12px;\n",
              "    }\n",
              "\n",
              "    .colab-df-convert {\n",
              "      background-color: #E8F0FE;\n",
              "      border: none;\n",
              "      border-radius: 50%;\n",
              "      cursor: pointer;\n",
              "      display: none;\n",
              "      fill: #1967D2;\n",
              "      height: 32px;\n",
              "      padding: 0 0 0 0;\n",
              "      width: 32px;\n",
              "    }\n",
              "\n",
              "    .colab-df-convert:hover {\n",
              "      background-color: #E2EBFA;\n",
              "      box-shadow: 0px 1px 2px rgba(60, 64, 67, 0.3), 0px 1px 3px 1px rgba(60, 64, 67, 0.15);\n",
              "      fill: #174EA6;\n",
              "    }\n",
              "\n",
              "    [theme=dark] .colab-df-convert {\n",
              "      background-color: #3B4455;\n",
              "      fill: #D2E3FC;\n",
              "    }\n",
              "\n",
              "    [theme=dark] .colab-df-convert:hover {\n",
              "      background-color: #434B5C;\n",
              "      box-shadow: 0px 1px 3px 1px rgba(0, 0, 0, 0.15);\n",
              "      filter: drop-shadow(0px 1px 2px rgba(0, 0, 0, 0.3));\n",
              "      fill: #FFFFFF;\n",
              "    }\n",
              "  </style>\n",
              "\n",
              "      <script>\n",
              "        const buttonEl =\n",
              "          document.querySelector('#df-71932fbd-83f4-4866-ac14-c7d80a33383a button.colab-df-convert');\n",
              "        buttonEl.style.display =\n",
              "          google.colab.kernel.accessAllowed ? 'block' : 'none';\n",
              "\n",
              "        async function convertToInteractive(key) {\n",
              "          const element = document.querySelector('#df-71932fbd-83f4-4866-ac14-c7d80a33383a');\n",
              "          const dataTable =\n",
              "            await google.colab.kernel.invokeFunction('convertToInteractive',\n",
              "                                                     [key], {});\n",
              "          if (!dataTable) return;\n",
              "\n",
              "          const docLinkHtml = 'Like what you see? Visit the ' +\n",
              "            '<a target=\"_blank\" href=https://colab.research.google.com/notebooks/data_table.ipynb>data table notebook</a>'\n",
              "            + ' to learn more about interactive tables.';\n",
              "          element.innerHTML = '';\n",
              "          dataTable['output_type'] = 'display_data';\n",
              "          await google.colab.output.renderOutput(dataTable, element);\n",
              "          const docLink = document.createElement('div');\n",
              "          docLink.innerHTML = docLinkHtml;\n",
              "          element.appendChild(docLink);\n",
              "        }\n",
              "      </script>\n",
              "    </div>\n",
              "  </div>\n",
              "  "
            ],
            "text/plain": [
              "                                              review sentiment\n",
              "0  One of the other reviewers has mentioned that ...  positive\n",
              "1  A wonderful little production. <br /><br />The...  positive\n",
              "2  I thought this was a wonderful way to spend ti...  positive\n",
              "3  Basically there's a family where a little boy ...  negative\n",
              "4  Petter Mattei's \"Love in the Time of Money\" is...  positive"
            ]
          },
          "metadata": {},
          "execution_count": 50
        }
      ],
      "source": [
        "df0.head(5)"
      ]
    },
    {
      "cell_type": "code",
      "execution_count": 51,
      "metadata": {
        "colab": {
          "base_uri": "https://localhost:8080/",
          "height": 423
        },
        "id": "UnraukajSLeB",
        "outputId": "7e292326-be4c-4c4a-c9ef-5e492c2d2ecc"
      },
      "outputs": [
        {
          "output_type": "execute_result",
          "data": {
            "text/html": [
              "\n",
              "  <div id=\"df-17cf74e3-a0bf-4742-90f0-3c5e2db645c9\">\n",
              "    <div class=\"colab-df-container\">\n",
              "      <div>\n",
              "<style scoped>\n",
              "    .dataframe tbody tr th:only-of-type {\n",
              "        vertical-align: middle;\n",
              "    }\n",
              "\n",
              "    .dataframe tbody tr th {\n",
              "        vertical-align: top;\n",
              "    }\n",
              "\n",
              "    .dataframe thead th {\n",
              "        text-align: right;\n",
              "    }\n",
              "</style>\n",
              "<table border=\"1\" class=\"dataframe\">\n",
              "  <thead>\n",
              "    <tr style=\"text-align: right;\">\n",
              "      <th></th>\n",
              "      <th>text</th>\n",
              "      <th>category</th>\n",
              "      <th>sentiment</th>\n",
              "    </tr>\n",
              "  </thead>\n",
              "  <tbody>\n",
              "    <tr>\n",
              "      <th>0</th>\n",
              "      <td>One of the other reviewers has mentioned that ...</td>\n",
              "      <td>1</td>\n",
              "      <td>positive</td>\n",
              "    </tr>\n",
              "    <tr>\n",
              "      <th>1</th>\n",
              "      <td>A wonderful little production. &lt;br /&gt;&lt;br /&gt;The...</td>\n",
              "      <td>1</td>\n",
              "      <td>positive</td>\n",
              "    </tr>\n",
              "    <tr>\n",
              "      <th>2</th>\n",
              "      <td>I thought this was a wonderful way to spend ti...</td>\n",
              "      <td>1</td>\n",
              "      <td>positive</td>\n",
              "    </tr>\n",
              "    <tr>\n",
              "      <th>3</th>\n",
              "      <td>Basically there's a family where a little boy ...</td>\n",
              "      <td>0</td>\n",
              "      <td>negative</td>\n",
              "    </tr>\n",
              "    <tr>\n",
              "      <th>4</th>\n",
              "      <td>Petter Mattei's \"Love in the Time of Money\" is...</td>\n",
              "      <td>1</td>\n",
              "      <td>positive</td>\n",
              "    </tr>\n",
              "    <tr>\n",
              "      <th>...</th>\n",
              "      <td>...</td>\n",
              "      <td>...</td>\n",
              "      <td>...</td>\n",
              "    </tr>\n",
              "    <tr>\n",
              "      <th>94</th>\n",
              "      <td>I watched this series out of curiosity,wanting...</td>\n",
              "      <td>0</td>\n",
              "      <td>negative</td>\n",
              "    </tr>\n",
              "    <tr>\n",
              "      <th>95</th>\n",
              "      <td>Daniel Day-Lewis is the most versatile actor a...</td>\n",
              "      <td>1</td>\n",
              "      <td>positive</td>\n",
              "    </tr>\n",
              "    <tr>\n",
              "      <th>96</th>\n",
              "      <td>My guess would be this was originally going to...</td>\n",
              "      <td>0</td>\n",
              "      <td>negative</td>\n",
              "    </tr>\n",
              "    <tr>\n",
              "      <th>97</th>\n",
              "      <td>Well, I like to watch bad horror B-Movies, cau...</td>\n",
              "      <td>0</td>\n",
              "      <td>negative</td>\n",
              "    </tr>\n",
              "    <tr>\n",
              "      <th>98</th>\n",
              "      <td>This IS the worst movie I have ever seen, as w...</td>\n",
              "      <td>0</td>\n",
              "      <td>negative</td>\n",
              "    </tr>\n",
              "  </tbody>\n",
              "</table>\n",
              "<p>99 rows × 3 columns</p>\n",
              "</div>\n",
              "      <button class=\"colab-df-convert\" onclick=\"convertToInteractive('df-17cf74e3-a0bf-4742-90f0-3c5e2db645c9')\"\n",
              "              title=\"Convert this dataframe to an interactive table.\"\n",
              "              style=\"display:none;\">\n",
              "        \n",
              "  <svg xmlns=\"http://www.w3.org/2000/svg\" height=\"24px\"viewBox=\"0 0 24 24\"\n",
              "       width=\"24px\">\n",
              "    <path d=\"M0 0h24v24H0V0z\" fill=\"none\"/>\n",
              "    <path d=\"M18.56 5.44l.94 2.06.94-2.06 2.06-.94-2.06-.94-.94-2.06-.94 2.06-2.06.94zm-11 1L8.5 8.5l.94-2.06 2.06-.94-2.06-.94L8.5 2.5l-.94 2.06-2.06.94zm10 10l.94 2.06.94-2.06 2.06-.94-2.06-.94-.94-2.06-.94 2.06-2.06.94z\"/><path d=\"M17.41 7.96l-1.37-1.37c-.4-.4-.92-.59-1.43-.59-.52 0-1.04.2-1.43.59L10.3 9.45l-7.72 7.72c-.78.78-.78 2.05 0 2.83L4 21.41c.39.39.9.59 1.41.59.51 0 1.02-.2 1.41-.59l7.78-7.78 2.81-2.81c.8-.78.8-2.07 0-2.86zM5.41 20L4 18.59l7.72-7.72 1.47 1.35L5.41 20z\"/>\n",
              "  </svg>\n",
              "      </button>\n",
              "      \n",
              "  <style>\n",
              "    .colab-df-container {\n",
              "      display:flex;\n",
              "      flex-wrap:wrap;\n",
              "      gap: 12px;\n",
              "    }\n",
              "\n",
              "    .colab-df-convert {\n",
              "      background-color: #E8F0FE;\n",
              "      border: none;\n",
              "      border-radius: 50%;\n",
              "      cursor: pointer;\n",
              "      display: none;\n",
              "      fill: #1967D2;\n",
              "      height: 32px;\n",
              "      padding: 0 0 0 0;\n",
              "      width: 32px;\n",
              "    }\n",
              "\n",
              "    .colab-df-convert:hover {\n",
              "      background-color: #E2EBFA;\n",
              "      box-shadow: 0px 1px 2px rgba(60, 64, 67, 0.3), 0px 1px 3px 1px rgba(60, 64, 67, 0.15);\n",
              "      fill: #174EA6;\n",
              "    }\n",
              "\n",
              "    [theme=dark] .colab-df-convert {\n",
              "      background-color: #3B4455;\n",
              "      fill: #D2E3FC;\n",
              "    }\n",
              "\n",
              "    [theme=dark] .colab-df-convert:hover {\n",
              "      background-color: #434B5C;\n",
              "      box-shadow: 0px 1px 3px 1px rgba(0, 0, 0, 0.15);\n",
              "      filter: drop-shadow(0px 1px 2px rgba(0, 0, 0, 0.3));\n",
              "      fill: #FFFFFF;\n",
              "    }\n",
              "  </style>\n",
              "\n",
              "      <script>\n",
              "        const buttonEl =\n",
              "          document.querySelector('#df-17cf74e3-a0bf-4742-90f0-3c5e2db645c9 button.colab-df-convert');\n",
              "        buttonEl.style.display =\n",
              "          google.colab.kernel.accessAllowed ? 'block' : 'none';\n",
              "\n",
              "        async function convertToInteractive(key) {\n",
              "          const element = document.querySelector('#df-17cf74e3-a0bf-4742-90f0-3c5e2db645c9');\n",
              "          const dataTable =\n",
              "            await google.colab.kernel.invokeFunction('convertToInteractive',\n",
              "                                                     [key], {});\n",
              "          if (!dataTable) return;\n",
              "\n",
              "          const docLinkHtml = 'Like what you see? Visit the ' +\n",
              "            '<a target=\"_blank\" href=https://colab.research.google.com/notebooks/data_table.ipynb>data table notebook</a>'\n",
              "            + ' to learn more about interactive tables.';\n",
              "          element.innerHTML = '';\n",
              "          dataTable['output_type'] = 'display_data';\n",
              "          await google.colab.output.renderOutput(dataTable, element);\n",
              "          const docLink = document.createElement('div');\n",
              "          docLink.innerHTML = docLinkHtml;\n",
              "          element.appendChild(docLink);\n",
              "        }\n",
              "      </script>\n",
              "    </div>\n",
              "  </div>\n",
              "  "
            ],
            "text/plain": [
              "                                                 text  category sentiment\n",
              "0   One of the other reviewers has mentioned that ...         1  positive\n",
              "1   A wonderful little production. <br /><br />The...         1  positive\n",
              "2   I thought this was a wonderful way to spend ti...         1  positive\n",
              "3   Basically there's a family where a little boy ...         0  negative\n",
              "4   Petter Mattei's \"Love in the Time of Money\" is...         1  positive\n",
              "..                                                ...       ...       ...\n",
              "94  I watched this series out of curiosity,wanting...         0  negative\n",
              "95  Daniel Day-Lewis is the most versatile actor a...         1  positive\n",
              "96  My guess would be this was originally going to...         0  negative\n",
              "97  Well, I like to watch bad horror B-Movies, cau...         0  negative\n",
              "98  This IS the worst movie I have ever seen, as w...         0  negative\n",
              "\n",
              "[99 rows x 3 columns]"
            ]
          },
          "metadata": {},
          "execution_count": 51
        }
      ],
      "source": [
        "#Doing some adjustments\n",
        "c=df0['sentiment']\n",
        "df0.rename(columns={'review' : 'text',\n",
        "                   'sentiment' : 'category'}, \n",
        "                    inplace=True)\n",
        "a=df0['text']\n",
        "b=df0['category'].map({'positive': 1, 'negative': 0})\n",
        "\n",
        "df= pd.concat([a,b,c], axis=1)\n",
        "df"
      ]
    },
    {
      "cell_type": "code",
      "execution_count": 52,
      "metadata": {
        "colab": {
          "base_uri": "https://localhost:8080/",
          "height": 423
        },
        "id": "zFBzyL0jtZXy",
        "outputId": "87824c7e-b6af-4e71-8d29-6d87a0312074"
      },
      "outputs": [
        {
          "output_type": "execute_result",
          "data": {
            "text/html": [
              "\n",
              "  <div id=\"df-f0c292c3-e389-41f5-a774-5a633f7f80db\">\n",
              "    <div class=\"colab-df-container\">\n",
              "      <div>\n",
              "<style scoped>\n",
              "    .dataframe tbody tr th:only-of-type {\n",
              "        vertical-align: middle;\n",
              "    }\n",
              "\n",
              "    .dataframe tbody tr th {\n",
              "        vertical-align: top;\n",
              "    }\n",
              "\n",
              "    .dataframe thead th {\n",
              "        text-align: right;\n",
              "    }\n",
              "</style>\n",
              "<table border=\"1\" class=\"dataframe\">\n",
              "  <thead>\n",
              "    <tr style=\"text-align: right;\">\n",
              "      <th></th>\n",
              "      <th>text</th>\n",
              "      <th>label</th>\n",
              "      <th>category</th>\n",
              "    </tr>\n",
              "  </thead>\n",
              "  <tbody>\n",
              "    <tr>\n",
              "      <th>0</th>\n",
              "      <td>One of the other reviewers has mentioned that ...</td>\n",
              "      <td>1</td>\n",
              "      <td>positive</td>\n",
              "    </tr>\n",
              "    <tr>\n",
              "      <th>1</th>\n",
              "      <td>A wonderful little production. &lt;br /&gt;&lt;br /&gt;The...</td>\n",
              "      <td>1</td>\n",
              "      <td>positive</td>\n",
              "    </tr>\n",
              "    <tr>\n",
              "      <th>2</th>\n",
              "      <td>I thought this was a wonderful way to spend ti...</td>\n",
              "      <td>1</td>\n",
              "      <td>positive</td>\n",
              "    </tr>\n",
              "    <tr>\n",
              "      <th>3</th>\n",
              "      <td>Basically there's a family where a little boy ...</td>\n",
              "      <td>0</td>\n",
              "      <td>negative</td>\n",
              "    </tr>\n",
              "    <tr>\n",
              "      <th>4</th>\n",
              "      <td>Petter Mattei's \"Love in the Time of Money\" is...</td>\n",
              "      <td>1</td>\n",
              "      <td>positive</td>\n",
              "    </tr>\n",
              "    <tr>\n",
              "      <th>...</th>\n",
              "      <td>...</td>\n",
              "      <td>...</td>\n",
              "      <td>...</td>\n",
              "    </tr>\n",
              "    <tr>\n",
              "      <th>94</th>\n",
              "      <td>I watched this series out of curiosity,wanting...</td>\n",
              "      <td>0</td>\n",
              "      <td>negative</td>\n",
              "    </tr>\n",
              "    <tr>\n",
              "      <th>95</th>\n",
              "      <td>Daniel Day-Lewis is the most versatile actor a...</td>\n",
              "      <td>1</td>\n",
              "      <td>positive</td>\n",
              "    </tr>\n",
              "    <tr>\n",
              "      <th>96</th>\n",
              "      <td>My guess would be this was originally going to...</td>\n",
              "      <td>0</td>\n",
              "      <td>negative</td>\n",
              "    </tr>\n",
              "    <tr>\n",
              "      <th>97</th>\n",
              "      <td>Well, I like to watch bad horror B-Movies, cau...</td>\n",
              "      <td>0</td>\n",
              "      <td>negative</td>\n",
              "    </tr>\n",
              "    <tr>\n",
              "      <th>98</th>\n",
              "      <td>This IS the worst movie I have ever seen, as w...</td>\n",
              "      <td>0</td>\n",
              "      <td>negative</td>\n",
              "    </tr>\n",
              "  </tbody>\n",
              "</table>\n",
              "<p>99 rows × 3 columns</p>\n",
              "</div>\n",
              "      <button class=\"colab-df-convert\" onclick=\"convertToInteractive('df-f0c292c3-e389-41f5-a774-5a633f7f80db')\"\n",
              "              title=\"Convert this dataframe to an interactive table.\"\n",
              "              style=\"display:none;\">\n",
              "        \n",
              "  <svg xmlns=\"http://www.w3.org/2000/svg\" height=\"24px\"viewBox=\"0 0 24 24\"\n",
              "       width=\"24px\">\n",
              "    <path d=\"M0 0h24v24H0V0z\" fill=\"none\"/>\n",
              "    <path d=\"M18.56 5.44l.94 2.06.94-2.06 2.06-.94-2.06-.94-.94-2.06-.94 2.06-2.06.94zm-11 1L8.5 8.5l.94-2.06 2.06-.94-2.06-.94L8.5 2.5l-.94 2.06-2.06.94zm10 10l.94 2.06.94-2.06 2.06-.94-2.06-.94-.94-2.06-.94 2.06-2.06.94z\"/><path d=\"M17.41 7.96l-1.37-1.37c-.4-.4-.92-.59-1.43-.59-.52 0-1.04.2-1.43.59L10.3 9.45l-7.72 7.72c-.78.78-.78 2.05 0 2.83L4 21.41c.39.39.9.59 1.41.59.51 0 1.02-.2 1.41-.59l7.78-7.78 2.81-2.81c.8-.78.8-2.07 0-2.86zM5.41 20L4 18.59l7.72-7.72 1.47 1.35L5.41 20z\"/>\n",
              "  </svg>\n",
              "      </button>\n",
              "      \n",
              "  <style>\n",
              "    .colab-df-container {\n",
              "      display:flex;\n",
              "      flex-wrap:wrap;\n",
              "      gap: 12px;\n",
              "    }\n",
              "\n",
              "    .colab-df-convert {\n",
              "      background-color: #E8F0FE;\n",
              "      border: none;\n",
              "      border-radius: 50%;\n",
              "      cursor: pointer;\n",
              "      display: none;\n",
              "      fill: #1967D2;\n",
              "      height: 32px;\n",
              "      padding: 0 0 0 0;\n",
              "      width: 32px;\n",
              "    }\n",
              "\n",
              "    .colab-df-convert:hover {\n",
              "      background-color: #E2EBFA;\n",
              "      box-shadow: 0px 1px 2px rgba(60, 64, 67, 0.3), 0px 1px 3px 1px rgba(60, 64, 67, 0.15);\n",
              "      fill: #174EA6;\n",
              "    }\n",
              "\n",
              "    [theme=dark] .colab-df-convert {\n",
              "      background-color: #3B4455;\n",
              "      fill: #D2E3FC;\n",
              "    }\n",
              "\n",
              "    [theme=dark] .colab-df-convert:hover {\n",
              "      background-color: #434B5C;\n",
              "      box-shadow: 0px 1px 3px 1px rgba(0, 0, 0, 0.15);\n",
              "      filter: drop-shadow(0px 1px 2px rgba(0, 0, 0, 0.3));\n",
              "      fill: #FFFFFF;\n",
              "    }\n",
              "  </style>\n",
              "\n",
              "      <script>\n",
              "        const buttonEl =\n",
              "          document.querySelector('#df-f0c292c3-e389-41f5-a774-5a633f7f80db button.colab-df-convert');\n",
              "        buttonEl.style.display =\n",
              "          google.colab.kernel.accessAllowed ? 'block' : 'none';\n",
              "\n",
              "        async function convertToInteractive(key) {\n",
              "          const element = document.querySelector('#df-f0c292c3-e389-41f5-a774-5a633f7f80db');\n",
              "          const dataTable =\n",
              "            await google.colab.kernel.invokeFunction('convertToInteractive',\n",
              "                                                     [key], {});\n",
              "          if (!dataTable) return;\n",
              "\n",
              "          const docLinkHtml = 'Like what you see? Visit the ' +\n",
              "            '<a target=\"_blank\" href=https://colab.research.google.com/notebooks/data_table.ipynb>data table notebook</a>'\n",
              "            + ' to learn more about interactive tables.';\n",
              "          element.innerHTML = '';\n",
              "          dataTable['output_type'] = 'display_data';\n",
              "          await google.colab.output.renderOutput(dataTable, element);\n",
              "          const docLink = document.createElement('div');\n",
              "          docLink.innerHTML = docLinkHtml;\n",
              "          element.appendChild(docLink);\n",
              "        }\n",
              "      </script>\n",
              "    </div>\n",
              "  </div>\n",
              "  "
            ],
            "text/plain": [
              "                                                 text  label  category\n",
              "0   One of the other reviewers has mentioned that ...      1  positive\n",
              "1   A wonderful little production. <br /><br />The...      1  positive\n",
              "2   I thought this was a wonderful way to spend ti...      1  positive\n",
              "3   Basically there's a family where a little boy ...      0  negative\n",
              "4   Petter Mattei's \"Love in the Time of Money\" is...      1  positive\n",
              "..                                                ...    ...       ...\n",
              "94  I watched this series out of curiosity,wanting...      0  negative\n",
              "95  Daniel Day-Lewis is the most versatile actor a...      1  positive\n",
              "96  My guess would be this was originally going to...      0  negative\n",
              "97  Well, I like to watch bad horror B-Movies, cau...      0  negative\n",
              "98  This IS the worst movie I have ever seen, as w...      0  negative\n",
              "\n",
              "[99 rows x 3 columns]"
            ]
          },
          "metadata": {},
          "execution_count": 52
        }
      ],
      "source": [
        "df.rename(columns={'sentiment' : 'category',\n",
        "                   'category':'label'}, \n",
        "                    inplace=True)\n",
        "df"
      ]
    },
    {
      "cell_type": "code",
      "execution_count": 53,
      "metadata": {
        "colab": {
          "base_uri": "https://localhost:8080/",
          "height": 143
        },
        "id": "4JPYRZ9OMIBP",
        "outputId": "cf47ab1b-b4d3-4d62-e8a1-1572dec082a5"
      },
      "outputs": [
        {
          "output_type": "execute_result",
          "data": {
            "text/html": [
              "\n",
              "  <div id=\"df-93fdd409-da60-4a64-a44a-b6666ea17c49\">\n",
              "    <div class=\"colab-df-container\">\n",
              "      <div>\n",
              "<style scoped>\n",
              "    .dataframe tbody tr th:only-of-type {\n",
              "        vertical-align: middle;\n",
              "    }\n",
              "\n",
              "    .dataframe tbody tr th {\n",
              "        vertical-align: top;\n",
              "    }\n",
              "\n",
              "    .dataframe thead th {\n",
              "        text-align: right;\n",
              "    }\n",
              "</style>\n",
              "<table border=\"1\" class=\"dataframe\">\n",
              "  <thead>\n",
              "    <tr style=\"text-align: right;\">\n",
              "      <th></th>\n",
              "      <th>text</th>\n",
              "      <th>category</th>\n",
              "    </tr>\n",
              "    <tr>\n",
              "      <th>label</th>\n",
              "      <th></th>\n",
              "      <th></th>\n",
              "    </tr>\n",
              "  </thead>\n",
              "  <tbody>\n",
              "    <tr>\n",
              "      <th>0</th>\n",
              "      <td>58</td>\n",
              "      <td>58</td>\n",
              "    </tr>\n",
              "    <tr>\n",
              "      <th>1</th>\n",
              "      <td>41</td>\n",
              "      <td>41</td>\n",
              "    </tr>\n",
              "  </tbody>\n",
              "</table>\n",
              "</div>\n",
              "      <button class=\"colab-df-convert\" onclick=\"convertToInteractive('df-93fdd409-da60-4a64-a44a-b6666ea17c49')\"\n",
              "              title=\"Convert this dataframe to an interactive table.\"\n",
              "              style=\"display:none;\">\n",
              "        \n",
              "  <svg xmlns=\"http://www.w3.org/2000/svg\" height=\"24px\"viewBox=\"0 0 24 24\"\n",
              "       width=\"24px\">\n",
              "    <path d=\"M0 0h24v24H0V0z\" fill=\"none\"/>\n",
              "    <path d=\"M18.56 5.44l.94 2.06.94-2.06 2.06-.94-2.06-.94-.94-2.06-.94 2.06-2.06.94zm-11 1L8.5 8.5l.94-2.06 2.06-.94-2.06-.94L8.5 2.5l-.94 2.06-2.06.94zm10 10l.94 2.06.94-2.06 2.06-.94-2.06-.94-.94-2.06-.94 2.06-2.06.94z\"/><path d=\"M17.41 7.96l-1.37-1.37c-.4-.4-.92-.59-1.43-.59-.52 0-1.04.2-1.43.59L10.3 9.45l-7.72 7.72c-.78.78-.78 2.05 0 2.83L4 21.41c.39.39.9.59 1.41.59.51 0 1.02-.2 1.41-.59l7.78-7.78 2.81-2.81c.8-.78.8-2.07 0-2.86zM5.41 20L4 18.59l7.72-7.72 1.47 1.35L5.41 20z\"/>\n",
              "  </svg>\n",
              "      </button>\n",
              "      \n",
              "  <style>\n",
              "    .colab-df-container {\n",
              "      display:flex;\n",
              "      flex-wrap:wrap;\n",
              "      gap: 12px;\n",
              "    }\n",
              "\n",
              "    .colab-df-convert {\n",
              "      background-color: #E8F0FE;\n",
              "      border: none;\n",
              "      border-radius: 50%;\n",
              "      cursor: pointer;\n",
              "      display: none;\n",
              "      fill: #1967D2;\n",
              "      height: 32px;\n",
              "      padding: 0 0 0 0;\n",
              "      width: 32px;\n",
              "    }\n",
              "\n",
              "    .colab-df-convert:hover {\n",
              "      background-color: #E2EBFA;\n",
              "      box-shadow: 0px 1px 2px rgba(60, 64, 67, 0.3), 0px 1px 3px 1px rgba(60, 64, 67, 0.15);\n",
              "      fill: #174EA6;\n",
              "    }\n",
              "\n",
              "    [theme=dark] .colab-df-convert {\n",
              "      background-color: #3B4455;\n",
              "      fill: #D2E3FC;\n",
              "    }\n",
              "\n",
              "    [theme=dark] .colab-df-convert:hover {\n",
              "      background-color: #434B5C;\n",
              "      box-shadow: 0px 1px 3px 1px rgba(0, 0, 0, 0.15);\n",
              "      filter: drop-shadow(0px 1px 2px rgba(0, 0, 0, 0.3));\n",
              "      fill: #FFFFFF;\n",
              "    }\n",
              "  </style>\n",
              "\n",
              "      <script>\n",
              "        const buttonEl =\n",
              "          document.querySelector('#df-93fdd409-da60-4a64-a44a-b6666ea17c49 button.colab-df-convert');\n",
              "        buttonEl.style.display =\n",
              "          google.colab.kernel.accessAllowed ? 'block' : 'none';\n",
              "\n",
              "        async function convertToInteractive(key) {\n",
              "          const element = document.querySelector('#df-93fdd409-da60-4a64-a44a-b6666ea17c49');\n",
              "          const dataTable =\n",
              "            await google.colab.kernel.invokeFunction('convertToInteractive',\n",
              "                                                     [key], {});\n",
              "          if (!dataTable) return;\n",
              "\n",
              "          const docLinkHtml = 'Like what you see? Visit the ' +\n",
              "            '<a target=\"_blank\" href=https://colab.research.google.com/notebooks/data_table.ipynb>data table notebook</a>'\n",
              "            + ' to learn more about interactive tables.';\n",
              "          element.innerHTML = '';\n",
              "          dataTable['output_type'] = 'display_data';\n",
              "          await google.colab.output.renderOutput(dataTable, element);\n",
              "          const docLink = document.createElement('div');\n",
              "          docLink.innerHTML = docLinkHtml;\n",
              "          element.appendChild(docLink);\n",
              "        }\n",
              "      </script>\n",
              "    </div>\n",
              "  </div>\n",
              "  "
            ],
            "text/plain": [
              "       text  category\n",
              "label                \n",
              "0        58        58\n",
              "1        41        41"
            ]
          },
          "metadata": {},
          "execution_count": 53
        }
      ],
      "source": [
        "# Grouping data by label\n",
        "df.groupby('label').count()"
      ]
    },
    {
      "cell_type": "markdown",
      "metadata": {
        "id": "QpsRayEItY1B"
      },
      "source": [
        "**Splitting the data between train, validation and test sets:**"
      ]
    },
    {
      "cell_type": "code",
      "execution_count": 54,
      "metadata": {
        "id": "ls8e963qNBa_"
      },
      "outputs": [],
      "source": [
        "X_train_, X_test, y_train_, y_test = train_test_split(\n",
        "    df.index.values,\n",
        "    df.label.values,\n",
        "    test_size=0.10,\n",
        "    random_state=42,\n",
        "    stratify=df.label.values,    \n",
        ")"
      ]
    },
    {
      "cell_type": "code",
      "execution_count": 55,
      "metadata": {
        "id": "xQP-KeMdNFVK"
      },
      "outputs": [],
      "source": [
        "X_train, X_val, y_train, y_val = train_test_split(\n",
        "    df.loc[X_train_].index.values,\n",
        "    df.loc[X_train_].label.values,\n",
        "    test_size=0.10,\n",
        "    random_state=42,\n",
        "    stratify=df.loc[X_train_].label.values,  \n",
        ")"
      ]
    },
    {
      "cell_type": "code",
      "execution_count": 56,
      "metadata": {
        "id": "RxnUbZOaNL7n"
      },
      "outputs": [],
      "source": [
        "df['data_type'] = ['not_set']*df.shape[0]\n",
        "df.loc[X_train, 'data_type'] = 'train'\n",
        "df.loc[X_val, 'data_type'] = 'val'\n",
        "df.loc[X_test, 'data_type'] = 'test'"
      ]
    },
    {
      "cell_type": "code",
      "execution_count": 57,
      "metadata": {
        "colab": {
          "base_uri": "https://localhost:8080/",
          "height": 269
        },
        "id": "OHpm4CnzNRyf",
        "outputId": "bc5e5db6-9dc8-46cd-f805-ce7bd3159247"
      },
      "outputs": [
        {
          "output_type": "execute_result",
          "data": {
            "text/html": [
              "\n",
              "  <div id=\"df-d1dc4c26-ab25-4fde-81e3-c75217f433d6\">\n",
              "    <div class=\"colab-df-container\">\n",
              "      <div>\n",
              "<style scoped>\n",
              "    .dataframe tbody tr th:only-of-type {\n",
              "        vertical-align: middle;\n",
              "    }\n",
              "\n",
              "    .dataframe tbody tr th {\n",
              "        vertical-align: top;\n",
              "    }\n",
              "\n",
              "    .dataframe thead th {\n",
              "        text-align: right;\n",
              "    }\n",
              "</style>\n",
              "<table border=\"1\" class=\"dataframe\">\n",
              "  <thead>\n",
              "    <tr style=\"text-align: right;\">\n",
              "      <th></th>\n",
              "      <th></th>\n",
              "      <th></th>\n",
              "      <th>text</th>\n",
              "    </tr>\n",
              "    <tr>\n",
              "      <th>category</th>\n",
              "      <th>label</th>\n",
              "      <th>data_type</th>\n",
              "      <th></th>\n",
              "    </tr>\n",
              "  </thead>\n",
              "  <tbody>\n",
              "    <tr>\n",
              "      <th rowspan=\"3\" valign=\"top\">negative</th>\n",
              "      <th rowspan=\"3\" valign=\"top\">0</th>\n",
              "      <th>test</th>\n",
              "      <td>6</td>\n",
              "    </tr>\n",
              "    <tr>\n",
              "      <th>train</th>\n",
              "      <td>47</td>\n",
              "    </tr>\n",
              "    <tr>\n",
              "      <th>val</th>\n",
              "      <td>5</td>\n",
              "    </tr>\n",
              "    <tr>\n",
              "      <th rowspan=\"3\" valign=\"top\">positive</th>\n",
              "      <th rowspan=\"3\" valign=\"top\">1</th>\n",
              "      <th>test</th>\n",
              "      <td>4</td>\n",
              "    </tr>\n",
              "    <tr>\n",
              "      <th>train</th>\n",
              "      <td>33</td>\n",
              "    </tr>\n",
              "    <tr>\n",
              "      <th>val</th>\n",
              "      <td>4</td>\n",
              "    </tr>\n",
              "  </tbody>\n",
              "</table>\n",
              "</div>\n",
              "      <button class=\"colab-df-convert\" onclick=\"convertToInteractive('df-d1dc4c26-ab25-4fde-81e3-c75217f433d6')\"\n",
              "              title=\"Convert this dataframe to an interactive table.\"\n",
              "              style=\"display:none;\">\n",
              "        \n",
              "  <svg xmlns=\"http://www.w3.org/2000/svg\" height=\"24px\"viewBox=\"0 0 24 24\"\n",
              "       width=\"24px\">\n",
              "    <path d=\"M0 0h24v24H0V0z\" fill=\"none\"/>\n",
              "    <path d=\"M18.56 5.44l.94 2.06.94-2.06 2.06-.94-2.06-.94-.94-2.06-.94 2.06-2.06.94zm-11 1L8.5 8.5l.94-2.06 2.06-.94-2.06-.94L8.5 2.5l-.94 2.06-2.06.94zm10 10l.94 2.06.94-2.06 2.06-.94-2.06-.94-.94-2.06-.94 2.06-2.06.94z\"/><path d=\"M17.41 7.96l-1.37-1.37c-.4-.4-.92-.59-1.43-.59-.52 0-1.04.2-1.43.59L10.3 9.45l-7.72 7.72c-.78.78-.78 2.05 0 2.83L4 21.41c.39.39.9.59 1.41.59.51 0 1.02-.2 1.41-.59l7.78-7.78 2.81-2.81c.8-.78.8-2.07 0-2.86zM5.41 20L4 18.59l7.72-7.72 1.47 1.35L5.41 20z\"/>\n",
              "  </svg>\n",
              "      </button>\n",
              "      \n",
              "  <style>\n",
              "    .colab-df-container {\n",
              "      display:flex;\n",
              "      flex-wrap:wrap;\n",
              "      gap: 12px;\n",
              "    }\n",
              "\n",
              "    .colab-df-convert {\n",
              "      background-color: #E8F0FE;\n",
              "      border: none;\n",
              "      border-radius: 50%;\n",
              "      cursor: pointer;\n",
              "      display: none;\n",
              "      fill: #1967D2;\n",
              "      height: 32px;\n",
              "      padding: 0 0 0 0;\n",
              "      width: 32px;\n",
              "    }\n",
              "\n",
              "    .colab-df-convert:hover {\n",
              "      background-color: #E2EBFA;\n",
              "      box-shadow: 0px 1px 2px rgba(60, 64, 67, 0.3), 0px 1px 3px 1px rgba(60, 64, 67, 0.15);\n",
              "      fill: #174EA6;\n",
              "    }\n",
              "\n",
              "    [theme=dark] .colab-df-convert {\n",
              "      background-color: #3B4455;\n",
              "      fill: #D2E3FC;\n",
              "    }\n",
              "\n",
              "    [theme=dark] .colab-df-convert:hover {\n",
              "      background-color: #434B5C;\n",
              "      box-shadow: 0px 1px 3px 1px rgba(0, 0, 0, 0.15);\n",
              "      filter: drop-shadow(0px 1px 2px rgba(0, 0, 0, 0.3));\n",
              "      fill: #FFFFFF;\n",
              "    }\n",
              "  </style>\n",
              "\n",
              "      <script>\n",
              "        const buttonEl =\n",
              "          document.querySelector('#df-d1dc4c26-ab25-4fde-81e3-c75217f433d6 button.colab-df-convert');\n",
              "        buttonEl.style.display =\n",
              "          google.colab.kernel.accessAllowed ? 'block' : 'none';\n",
              "\n",
              "        async function convertToInteractive(key) {\n",
              "          const element = document.querySelector('#df-d1dc4c26-ab25-4fde-81e3-c75217f433d6');\n",
              "          const dataTable =\n",
              "            await google.colab.kernel.invokeFunction('convertToInteractive',\n",
              "                                                     [key], {});\n",
              "          if (!dataTable) return;\n",
              "\n",
              "          const docLinkHtml = 'Like what you see? Visit the ' +\n",
              "            '<a target=\"_blank\" href=https://colab.research.google.com/notebooks/data_table.ipynb>data table notebook</a>'\n",
              "            + ' to learn more about interactive tables.';\n",
              "          element.innerHTML = '';\n",
              "          dataTable['output_type'] = 'display_data';\n",
              "          await google.colab.output.renderOutput(dataTable, element);\n",
              "          const docLink = document.createElement('div');\n",
              "          docLink.innerHTML = docLinkHtml;\n",
              "          element.appendChild(docLink);\n",
              "        }\n",
              "      </script>\n",
              "    </div>\n",
              "  </div>\n",
              "  "
            ],
            "text/plain": [
              "                          text\n",
              "category label data_type      \n",
              "negative 0     test          6\n",
              "               train        47\n",
              "               val           5\n",
              "positive 1     test          4\n",
              "               train        33\n",
              "               val           4"
            ]
          },
          "metadata": {},
          "execution_count": 57
        }
      ],
      "source": [
        "df.groupby(['category', 'label', 'data_type']).count()"
      ]
    },
    {
      "cell_type": "code",
      "execution_count": 58,
      "metadata": {
        "colab": {
          "base_uri": "https://localhost:8080/",
          "height": 423
        },
        "id": "tFXDlWIvT6YO",
        "outputId": "702329a5-d03a-4e4b-e947-5bc50dcd0323"
      },
      "outputs": [
        {
          "output_type": "execute_result",
          "data": {
            "text/html": [
              "\n",
              "  <div id=\"df-cdbf54ca-aab9-46bc-9cb6-da9346dc4dc7\">\n",
              "    <div class=\"colab-df-container\">\n",
              "      <div>\n",
              "<style scoped>\n",
              "    .dataframe tbody tr th:only-of-type {\n",
              "        vertical-align: middle;\n",
              "    }\n",
              "\n",
              "    .dataframe tbody tr th {\n",
              "        vertical-align: top;\n",
              "    }\n",
              "\n",
              "    .dataframe thead th {\n",
              "        text-align: right;\n",
              "    }\n",
              "</style>\n",
              "<table border=\"1\" class=\"dataframe\">\n",
              "  <thead>\n",
              "    <tr style=\"text-align: right;\">\n",
              "      <th></th>\n",
              "      <th>text</th>\n",
              "      <th>label</th>\n",
              "      <th>category</th>\n",
              "      <th>data_type</th>\n",
              "    </tr>\n",
              "  </thead>\n",
              "  <tbody>\n",
              "    <tr>\n",
              "      <th>0</th>\n",
              "      <td>One of the other reviewers has mentioned that ...</td>\n",
              "      <td>1</td>\n",
              "      <td>positive</td>\n",
              "      <td>train</td>\n",
              "    </tr>\n",
              "    <tr>\n",
              "      <th>1</th>\n",
              "      <td>A wonderful little production. &lt;br /&gt;&lt;br /&gt;The...</td>\n",
              "      <td>1</td>\n",
              "      <td>positive</td>\n",
              "      <td>train</td>\n",
              "    </tr>\n",
              "    <tr>\n",
              "      <th>2</th>\n",
              "      <td>I thought this was a wonderful way to spend ti...</td>\n",
              "      <td>1</td>\n",
              "      <td>positive</td>\n",
              "      <td>train</td>\n",
              "    </tr>\n",
              "    <tr>\n",
              "      <th>3</th>\n",
              "      <td>Basically there's a family where a little boy ...</td>\n",
              "      <td>0</td>\n",
              "      <td>negative</td>\n",
              "      <td>train</td>\n",
              "    </tr>\n",
              "    <tr>\n",
              "      <th>4</th>\n",
              "      <td>Petter Mattei's \"Love in the Time of Money\" is...</td>\n",
              "      <td>1</td>\n",
              "      <td>positive</td>\n",
              "      <td>train</td>\n",
              "    </tr>\n",
              "    <tr>\n",
              "      <th>...</th>\n",
              "      <td>...</td>\n",
              "      <td>...</td>\n",
              "      <td>...</td>\n",
              "      <td>...</td>\n",
              "    </tr>\n",
              "    <tr>\n",
              "      <th>94</th>\n",
              "      <td>I watched this series out of curiosity,wanting...</td>\n",
              "      <td>0</td>\n",
              "      <td>negative</td>\n",
              "      <td>train</td>\n",
              "    </tr>\n",
              "    <tr>\n",
              "      <th>95</th>\n",
              "      <td>Daniel Day-Lewis is the most versatile actor a...</td>\n",
              "      <td>1</td>\n",
              "      <td>positive</td>\n",
              "      <td>train</td>\n",
              "    </tr>\n",
              "    <tr>\n",
              "      <th>96</th>\n",
              "      <td>My guess would be this was originally going to...</td>\n",
              "      <td>0</td>\n",
              "      <td>negative</td>\n",
              "      <td>train</td>\n",
              "    </tr>\n",
              "    <tr>\n",
              "      <th>97</th>\n",
              "      <td>Well, I like to watch bad horror B-Movies, cau...</td>\n",
              "      <td>0</td>\n",
              "      <td>negative</td>\n",
              "      <td>train</td>\n",
              "    </tr>\n",
              "    <tr>\n",
              "      <th>98</th>\n",
              "      <td>This IS the worst movie I have ever seen, as w...</td>\n",
              "      <td>0</td>\n",
              "      <td>negative</td>\n",
              "      <td>train</td>\n",
              "    </tr>\n",
              "  </tbody>\n",
              "</table>\n",
              "<p>99 rows × 4 columns</p>\n",
              "</div>\n",
              "      <button class=\"colab-df-convert\" onclick=\"convertToInteractive('df-cdbf54ca-aab9-46bc-9cb6-da9346dc4dc7')\"\n",
              "              title=\"Convert this dataframe to an interactive table.\"\n",
              "              style=\"display:none;\">\n",
              "        \n",
              "  <svg xmlns=\"http://www.w3.org/2000/svg\" height=\"24px\"viewBox=\"0 0 24 24\"\n",
              "       width=\"24px\">\n",
              "    <path d=\"M0 0h24v24H0V0z\" fill=\"none\"/>\n",
              "    <path d=\"M18.56 5.44l.94 2.06.94-2.06 2.06-.94-2.06-.94-.94-2.06-.94 2.06-2.06.94zm-11 1L8.5 8.5l.94-2.06 2.06-.94-2.06-.94L8.5 2.5l-.94 2.06-2.06.94zm10 10l.94 2.06.94-2.06 2.06-.94-2.06-.94-.94-2.06-.94 2.06-2.06.94z\"/><path d=\"M17.41 7.96l-1.37-1.37c-.4-.4-.92-.59-1.43-.59-.52 0-1.04.2-1.43.59L10.3 9.45l-7.72 7.72c-.78.78-.78 2.05 0 2.83L4 21.41c.39.39.9.59 1.41.59.51 0 1.02-.2 1.41-.59l7.78-7.78 2.81-2.81c.8-.78.8-2.07 0-2.86zM5.41 20L4 18.59l7.72-7.72 1.47 1.35L5.41 20z\"/>\n",
              "  </svg>\n",
              "      </button>\n",
              "      \n",
              "  <style>\n",
              "    .colab-df-container {\n",
              "      display:flex;\n",
              "      flex-wrap:wrap;\n",
              "      gap: 12px;\n",
              "    }\n",
              "\n",
              "    .colab-df-convert {\n",
              "      background-color: #E8F0FE;\n",
              "      border: none;\n",
              "      border-radius: 50%;\n",
              "      cursor: pointer;\n",
              "      display: none;\n",
              "      fill: #1967D2;\n",
              "      height: 32px;\n",
              "      padding: 0 0 0 0;\n",
              "      width: 32px;\n",
              "    }\n",
              "\n",
              "    .colab-df-convert:hover {\n",
              "      background-color: #E2EBFA;\n",
              "      box-shadow: 0px 1px 2px rgba(60, 64, 67, 0.3), 0px 1px 3px 1px rgba(60, 64, 67, 0.15);\n",
              "      fill: #174EA6;\n",
              "    }\n",
              "\n",
              "    [theme=dark] .colab-df-convert {\n",
              "      background-color: #3B4455;\n",
              "      fill: #D2E3FC;\n",
              "    }\n",
              "\n",
              "    [theme=dark] .colab-df-convert:hover {\n",
              "      background-color: #434B5C;\n",
              "      box-shadow: 0px 1px 3px 1px rgba(0, 0, 0, 0.15);\n",
              "      filter: drop-shadow(0px 1px 2px rgba(0, 0, 0, 0.3));\n",
              "      fill: #FFFFFF;\n",
              "    }\n",
              "  </style>\n",
              "\n",
              "      <script>\n",
              "        const buttonEl =\n",
              "          document.querySelector('#df-cdbf54ca-aab9-46bc-9cb6-da9346dc4dc7 button.colab-df-convert');\n",
              "        buttonEl.style.display =\n",
              "          google.colab.kernel.accessAllowed ? 'block' : 'none';\n",
              "\n",
              "        async function convertToInteractive(key) {\n",
              "          const element = document.querySelector('#df-cdbf54ca-aab9-46bc-9cb6-da9346dc4dc7');\n",
              "          const dataTable =\n",
              "            await google.colab.kernel.invokeFunction('convertToInteractive',\n",
              "                                                     [key], {});\n",
              "          if (!dataTable) return;\n",
              "\n",
              "          const docLinkHtml = 'Like what you see? Visit the ' +\n",
              "            '<a target=\"_blank\" href=https://colab.research.google.com/notebooks/data_table.ipynb>data table notebook</a>'\n",
              "            + ' to learn more about interactive tables.';\n",
              "          element.innerHTML = '';\n",
              "          dataTable['output_type'] = 'display_data';\n",
              "          await google.colab.output.renderOutput(dataTable, element);\n",
              "          const docLink = document.createElement('div');\n",
              "          docLink.innerHTML = docLinkHtml;\n",
              "          element.appendChild(docLink);\n",
              "        }\n",
              "      </script>\n",
              "    </div>\n",
              "  </div>\n",
              "  "
            ],
            "text/plain": [
              "                                                 text  label  category  \\\n",
              "0   One of the other reviewers has mentioned that ...      1  positive   \n",
              "1   A wonderful little production. <br /><br />The...      1  positive   \n",
              "2   I thought this was a wonderful way to spend ti...      1  positive   \n",
              "3   Basically there's a family where a little boy ...      0  negative   \n",
              "4   Petter Mattei's \"Love in the Time of Money\" is...      1  positive   \n",
              "..                                                ...    ...       ...   \n",
              "94  I watched this series out of curiosity,wanting...      0  negative   \n",
              "95  Daniel Day-Lewis is the most versatile actor a...      1  positive   \n",
              "96  My guess would be this was originally going to...      0  negative   \n",
              "97  Well, I like to watch bad horror B-Movies, cau...      0  negative   \n",
              "98  This IS the worst movie I have ever seen, as w...      0  negative   \n",
              "\n",
              "   data_type  \n",
              "0      train  \n",
              "1      train  \n",
              "2      train  \n",
              "3      train  \n",
              "4      train  \n",
              "..       ...  \n",
              "94     train  \n",
              "95     train  \n",
              "96     train  \n",
              "97     train  \n",
              "98     train  \n",
              "\n",
              "[99 rows x 4 columns]"
            ]
          },
          "metadata": {},
          "execution_count": 58
        }
      ],
      "source": [
        "df"
      ]
    },
    {
      "cell_type": "code",
      "execution_count": 59,
      "metadata": {
        "colab": {
          "base_uri": "https://localhost:8080/",
          "height": 206
        },
        "id": "VQRxobX0T-iy",
        "outputId": "aabe0e53-c446-433d-99f7-1c40281953cf"
      },
      "outputs": [
        {
          "output_type": "execute_result",
          "data": {
            "text/html": [
              "\n",
              "  <div id=\"df-f1d694f9-a0b1-473d-9aae-148b6278416f\">\n",
              "    <div class=\"colab-df-container\">\n",
              "      <div>\n",
              "<style scoped>\n",
              "    .dataframe tbody tr th:only-of-type {\n",
              "        vertical-align: middle;\n",
              "    }\n",
              "\n",
              "    .dataframe tbody tr th {\n",
              "        vertical-align: top;\n",
              "    }\n",
              "\n",
              "    .dataframe thead th {\n",
              "        text-align: right;\n",
              "    }\n",
              "</style>\n",
              "<table border=\"1\" class=\"dataframe\">\n",
              "  <thead>\n",
              "    <tr style=\"text-align: right;\">\n",
              "      <th></th>\n",
              "      <th>text</th>\n",
              "      <th>label</th>\n",
              "      <th>category</th>\n",
              "      <th>data_type</th>\n",
              "    </tr>\n",
              "  </thead>\n",
              "  <tbody>\n",
              "    <tr>\n",
              "      <th>0</th>\n",
              "      <td>One of the other reviewers has mentioned that ...</td>\n",
              "      <td>1</td>\n",
              "      <td>positive</td>\n",
              "      <td>train</td>\n",
              "    </tr>\n",
              "    <tr>\n",
              "      <th>1</th>\n",
              "      <td>A wonderful little production. &lt;br /&gt;&lt;br /&gt;The...</td>\n",
              "      <td>1</td>\n",
              "      <td>positive</td>\n",
              "      <td>train</td>\n",
              "    </tr>\n",
              "    <tr>\n",
              "      <th>2</th>\n",
              "      <td>I thought this was a wonderful way to spend ti...</td>\n",
              "      <td>1</td>\n",
              "      <td>positive</td>\n",
              "      <td>train</td>\n",
              "    </tr>\n",
              "    <tr>\n",
              "      <th>3</th>\n",
              "      <td>Basically there's a family where a little boy ...</td>\n",
              "      <td>0</td>\n",
              "      <td>negative</td>\n",
              "      <td>train</td>\n",
              "    </tr>\n",
              "    <tr>\n",
              "      <th>4</th>\n",
              "      <td>Petter Mattei's \"Love in the Time of Money\" is...</td>\n",
              "      <td>1</td>\n",
              "      <td>positive</td>\n",
              "      <td>train</td>\n",
              "    </tr>\n",
              "  </tbody>\n",
              "</table>\n",
              "</div>\n",
              "      <button class=\"colab-df-convert\" onclick=\"convertToInteractive('df-f1d694f9-a0b1-473d-9aae-148b6278416f')\"\n",
              "              title=\"Convert this dataframe to an interactive table.\"\n",
              "              style=\"display:none;\">\n",
              "        \n",
              "  <svg xmlns=\"http://www.w3.org/2000/svg\" height=\"24px\"viewBox=\"0 0 24 24\"\n",
              "       width=\"24px\">\n",
              "    <path d=\"M0 0h24v24H0V0z\" fill=\"none\"/>\n",
              "    <path d=\"M18.56 5.44l.94 2.06.94-2.06 2.06-.94-2.06-.94-.94-2.06-.94 2.06-2.06.94zm-11 1L8.5 8.5l.94-2.06 2.06-.94-2.06-.94L8.5 2.5l-.94 2.06-2.06.94zm10 10l.94 2.06.94-2.06 2.06-.94-2.06-.94-.94-2.06-.94 2.06-2.06.94z\"/><path d=\"M17.41 7.96l-1.37-1.37c-.4-.4-.92-.59-1.43-.59-.52 0-1.04.2-1.43.59L10.3 9.45l-7.72 7.72c-.78.78-.78 2.05 0 2.83L4 21.41c.39.39.9.59 1.41.59.51 0 1.02-.2 1.41-.59l7.78-7.78 2.81-2.81c.8-.78.8-2.07 0-2.86zM5.41 20L4 18.59l7.72-7.72 1.47 1.35L5.41 20z\"/>\n",
              "  </svg>\n",
              "      </button>\n",
              "      \n",
              "  <style>\n",
              "    .colab-df-container {\n",
              "      display:flex;\n",
              "      flex-wrap:wrap;\n",
              "      gap: 12px;\n",
              "    }\n",
              "\n",
              "    .colab-df-convert {\n",
              "      background-color: #E8F0FE;\n",
              "      border: none;\n",
              "      border-radius: 50%;\n",
              "      cursor: pointer;\n",
              "      display: none;\n",
              "      fill: #1967D2;\n",
              "      height: 32px;\n",
              "      padding: 0 0 0 0;\n",
              "      width: 32px;\n",
              "    }\n",
              "\n",
              "    .colab-df-convert:hover {\n",
              "      background-color: #E2EBFA;\n",
              "      box-shadow: 0px 1px 2px rgba(60, 64, 67, 0.3), 0px 1px 3px 1px rgba(60, 64, 67, 0.15);\n",
              "      fill: #174EA6;\n",
              "    }\n",
              "\n",
              "    [theme=dark] .colab-df-convert {\n",
              "      background-color: #3B4455;\n",
              "      fill: #D2E3FC;\n",
              "    }\n",
              "\n",
              "    [theme=dark] .colab-df-convert:hover {\n",
              "      background-color: #434B5C;\n",
              "      box-shadow: 0px 1px 3px 1px rgba(0, 0, 0, 0.15);\n",
              "      filter: drop-shadow(0px 1px 2px rgba(0, 0, 0, 0.3));\n",
              "      fill: #FFFFFF;\n",
              "    }\n",
              "  </style>\n",
              "\n",
              "      <script>\n",
              "        const buttonEl =\n",
              "          document.querySelector('#df-f1d694f9-a0b1-473d-9aae-148b6278416f button.colab-df-convert');\n",
              "        buttonEl.style.display =\n",
              "          google.colab.kernel.accessAllowed ? 'block' : 'none';\n",
              "\n",
              "        async function convertToInteractive(key) {\n",
              "          const element = document.querySelector('#df-f1d694f9-a0b1-473d-9aae-148b6278416f');\n",
              "          const dataTable =\n",
              "            await google.colab.kernel.invokeFunction('convertToInteractive',\n",
              "                                                     [key], {});\n",
              "          if (!dataTable) return;\n",
              "\n",
              "          const docLinkHtml = 'Like what you see? Visit the ' +\n",
              "            '<a target=\"_blank\" href=https://colab.research.google.com/notebooks/data_table.ipynb>data table notebook</a>'\n",
              "            + ' to learn more about interactive tables.';\n",
              "          element.innerHTML = '';\n",
              "          dataTable['output_type'] = 'display_data';\n",
              "          await google.colab.output.renderOutput(dataTable, element);\n",
              "          const docLink = document.createElement('div');\n",
              "          docLink.innerHTML = docLinkHtml;\n",
              "          element.appendChild(docLink);\n",
              "        }\n",
              "      </script>\n",
              "    </div>\n",
              "  </div>\n",
              "  "
            ],
            "text/plain": [
              "                                                text  label  category  \\\n",
              "0  One of the other reviewers has mentioned that ...      1  positive   \n",
              "1  A wonderful little production. <br /><br />The...      1  positive   \n",
              "2  I thought this was a wonderful way to spend ti...      1  positive   \n",
              "3  Basically there's a family where a little boy ...      0  negative   \n",
              "4  Petter Mattei's \"Love in the Time of Money\" is...      1  positive   \n",
              "\n",
              "  data_type  \n",
              "0     train  \n",
              "1     train  \n",
              "2     train  \n",
              "3     train  \n",
              "4     train  "
            ]
          },
          "metadata": {},
          "execution_count": 59
        }
      ],
      "source": [
        "df_train = df.loc[df[\"data_type\"]==\"train\"]\n",
        "df_train.head(5)"
      ]
    },
    {
      "cell_type": "code",
      "execution_count": 60,
      "metadata": {
        "colab": {
          "base_uri": "https://localhost:8080/",
          "height": 206
        },
        "id": "dtOG-h63UCOK",
        "outputId": "7095fc19-cd13-4733-d61a-4d9af0978e59"
      },
      "outputs": [
        {
          "output_type": "execute_result",
          "data": {
            "text/html": [
              "\n",
              "  <div id=\"df-d46fe9ef-655a-4c85-bc45-4b2065519289\">\n",
              "    <div class=\"colab-df-container\">\n",
              "      <div>\n",
              "<style scoped>\n",
              "    .dataframe tbody tr th:only-of-type {\n",
              "        vertical-align: middle;\n",
              "    }\n",
              "\n",
              "    .dataframe tbody tr th {\n",
              "        vertical-align: top;\n",
              "    }\n",
              "\n",
              "    .dataframe thead th {\n",
              "        text-align: right;\n",
              "    }\n",
              "</style>\n",
              "<table border=\"1\" class=\"dataframe\">\n",
              "  <thead>\n",
              "    <tr style=\"text-align: right;\">\n",
              "      <th></th>\n",
              "      <th>text</th>\n",
              "      <th>label</th>\n",
              "      <th>category</th>\n",
              "      <th>data_type</th>\n",
              "    </tr>\n",
              "  </thead>\n",
              "  <tbody>\n",
              "    <tr>\n",
              "      <th>10</th>\n",
              "      <td>Phil the Alien is one of those quirky films wh...</td>\n",
              "      <td>0</td>\n",
              "      <td>negative</td>\n",
              "      <td>val</td>\n",
              "    </tr>\n",
              "    <tr>\n",
              "      <th>13</th>\n",
              "      <td>The cast played Shakespeare.&lt;br /&gt;&lt;br /&gt;Shakes...</td>\n",
              "      <td>0</td>\n",
              "      <td>negative</td>\n",
              "      <td>val</td>\n",
              "    </tr>\n",
              "    <tr>\n",
              "      <th>18</th>\n",
              "      <td>I remember this film,it was the first film i h...</td>\n",
              "      <td>1</td>\n",
              "      <td>positive</td>\n",
              "      <td>val</td>\n",
              "    </tr>\n",
              "    <tr>\n",
              "      <th>36</th>\n",
              "      <td>The plot is about the death of little children...</td>\n",
              "      <td>0</td>\n",
              "      <td>negative</td>\n",
              "      <td>val</td>\n",
              "    </tr>\n",
              "    <tr>\n",
              "      <th>45</th>\n",
              "      <td>As a disclaimer, I've seen the movie 5-6 times...</td>\n",
              "      <td>1</td>\n",
              "      <td>positive</td>\n",
              "      <td>val</td>\n",
              "    </tr>\n",
              "  </tbody>\n",
              "</table>\n",
              "</div>\n",
              "      <button class=\"colab-df-convert\" onclick=\"convertToInteractive('df-d46fe9ef-655a-4c85-bc45-4b2065519289')\"\n",
              "              title=\"Convert this dataframe to an interactive table.\"\n",
              "              style=\"display:none;\">\n",
              "        \n",
              "  <svg xmlns=\"http://www.w3.org/2000/svg\" height=\"24px\"viewBox=\"0 0 24 24\"\n",
              "       width=\"24px\">\n",
              "    <path d=\"M0 0h24v24H0V0z\" fill=\"none\"/>\n",
              "    <path d=\"M18.56 5.44l.94 2.06.94-2.06 2.06-.94-2.06-.94-.94-2.06-.94 2.06-2.06.94zm-11 1L8.5 8.5l.94-2.06 2.06-.94-2.06-.94L8.5 2.5l-.94 2.06-2.06.94zm10 10l.94 2.06.94-2.06 2.06-.94-2.06-.94-.94-2.06-.94 2.06-2.06.94z\"/><path d=\"M17.41 7.96l-1.37-1.37c-.4-.4-.92-.59-1.43-.59-.52 0-1.04.2-1.43.59L10.3 9.45l-7.72 7.72c-.78.78-.78 2.05 0 2.83L4 21.41c.39.39.9.59 1.41.59.51 0 1.02-.2 1.41-.59l7.78-7.78 2.81-2.81c.8-.78.8-2.07 0-2.86zM5.41 20L4 18.59l7.72-7.72 1.47 1.35L5.41 20z\"/>\n",
              "  </svg>\n",
              "      </button>\n",
              "      \n",
              "  <style>\n",
              "    .colab-df-container {\n",
              "      display:flex;\n",
              "      flex-wrap:wrap;\n",
              "      gap: 12px;\n",
              "    }\n",
              "\n",
              "    .colab-df-convert {\n",
              "      background-color: #E8F0FE;\n",
              "      border: none;\n",
              "      border-radius: 50%;\n",
              "      cursor: pointer;\n",
              "      display: none;\n",
              "      fill: #1967D2;\n",
              "      height: 32px;\n",
              "      padding: 0 0 0 0;\n",
              "      width: 32px;\n",
              "    }\n",
              "\n",
              "    .colab-df-convert:hover {\n",
              "      background-color: #E2EBFA;\n",
              "      box-shadow: 0px 1px 2px rgba(60, 64, 67, 0.3), 0px 1px 3px 1px rgba(60, 64, 67, 0.15);\n",
              "      fill: #174EA6;\n",
              "    }\n",
              "\n",
              "    [theme=dark] .colab-df-convert {\n",
              "      background-color: #3B4455;\n",
              "      fill: #D2E3FC;\n",
              "    }\n",
              "\n",
              "    [theme=dark] .colab-df-convert:hover {\n",
              "      background-color: #434B5C;\n",
              "      box-shadow: 0px 1px 3px 1px rgba(0, 0, 0, 0.15);\n",
              "      filter: drop-shadow(0px 1px 2px rgba(0, 0, 0, 0.3));\n",
              "      fill: #FFFFFF;\n",
              "    }\n",
              "  </style>\n",
              "\n",
              "      <script>\n",
              "        const buttonEl =\n",
              "          document.querySelector('#df-d46fe9ef-655a-4c85-bc45-4b2065519289 button.colab-df-convert');\n",
              "        buttonEl.style.display =\n",
              "          google.colab.kernel.accessAllowed ? 'block' : 'none';\n",
              "\n",
              "        async function convertToInteractive(key) {\n",
              "          const element = document.querySelector('#df-d46fe9ef-655a-4c85-bc45-4b2065519289');\n",
              "          const dataTable =\n",
              "            await google.colab.kernel.invokeFunction('convertToInteractive',\n",
              "                                                     [key], {});\n",
              "          if (!dataTable) return;\n",
              "\n",
              "          const docLinkHtml = 'Like what you see? Visit the ' +\n",
              "            '<a target=\"_blank\" href=https://colab.research.google.com/notebooks/data_table.ipynb>data table notebook</a>'\n",
              "            + ' to learn more about interactive tables.';\n",
              "          element.innerHTML = '';\n",
              "          dataTable['output_type'] = 'display_data';\n",
              "          await google.colab.output.renderOutput(dataTable, element);\n",
              "          const docLink = document.createElement('div');\n",
              "          docLink.innerHTML = docLinkHtml;\n",
              "          element.appendChild(docLink);\n",
              "        }\n",
              "      </script>\n",
              "    </div>\n",
              "  </div>\n",
              "  "
            ],
            "text/plain": [
              "                                                 text  label  category  \\\n",
              "10  Phil the Alien is one of those quirky films wh...      0  negative   \n",
              "13  The cast played Shakespeare.<br /><br />Shakes...      0  negative   \n",
              "18  I remember this film,it was the first film i h...      1  positive   \n",
              "36  The plot is about the death of little children...      0  negative   \n",
              "45  As a disclaimer, I've seen the movie 5-6 times...      1  positive   \n",
              "\n",
              "   data_type  \n",
              "10       val  \n",
              "13       val  \n",
              "18       val  \n",
              "36       val  \n",
              "45       val  "
            ]
          },
          "metadata": {},
          "execution_count": 60
        }
      ],
      "source": [
        "df_val = df.loc[df[\"data_type\"]==\"val\"]\n",
        "df_val.head(5)"
      ]
    },
    {
      "cell_type": "code",
      "execution_count": 61,
      "metadata": {
        "colab": {
          "base_uri": "https://localhost:8080/",
          "height": 206
        },
        "id": "uXSi996qUEcq",
        "outputId": "b6cb708d-69b6-454e-ce1f-258376013f5c"
      },
      "outputs": [
        {
          "output_type": "execute_result",
          "data": {
            "text/html": [
              "\n",
              "  <div id=\"df-97b0b3ac-4f44-472f-a389-07a1f948ef33\">\n",
              "    <div class=\"colab-df-container\">\n",
              "      <div>\n",
              "<style scoped>\n",
              "    .dataframe tbody tr th:only-of-type {\n",
              "        vertical-align: middle;\n",
              "    }\n",
              "\n",
              "    .dataframe tbody tr th {\n",
              "        vertical-align: top;\n",
              "    }\n",
              "\n",
              "    .dataframe thead th {\n",
              "        text-align: right;\n",
              "    }\n",
              "</style>\n",
              "<table border=\"1\" class=\"dataframe\">\n",
              "  <thead>\n",
              "    <tr style=\"text-align: right;\">\n",
              "      <th></th>\n",
              "      <th>text</th>\n",
              "      <th>label</th>\n",
              "      <th>category</th>\n",
              "      <th>data_type</th>\n",
              "    </tr>\n",
              "  </thead>\n",
              "  <tbody>\n",
              "    <tr>\n",
              "      <th>9</th>\n",
              "      <td>If you like original gut wrenching laughter yo...</td>\n",
              "      <td>1</td>\n",
              "      <td>positive</td>\n",
              "      <td>test</td>\n",
              "    </tr>\n",
              "    <tr>\n",
              "      <th>14</th>\n",
              "      <td>This a fantastic movie of three prisoners who ...</td>\n",
              "      <td>1</td>\n",
              "      <td>positive</td>\n",
              "      <td>test</td>\n",
              "    </tr>\n",
              "    <tr>\n",
              "      <th>15</th>\n",
              "      <td>Kind of drawn in by the erotic scenes, only to...</td>\n",
              "      <td>0</td>\n",
              "      <td>negative</td>\n",
              "      <td>test</td>\n",
              "    </tr>\n",
              "    <tr>\n",
              "      <th>26</th>\n",
              "      <td>\"The Cell\" is an exotic masterpiece, a dizzyin...</td>\n",
              "      <td>1</td>\n",
              "      <td>positive</td>\n",
              "      <td>test</td>\n",
              "    </tr>\n",
              "    <tr>\n",
              "      <th>28</th>\n",
              "      <td>This movie was so frustrating. Everything seem...</td>\n",
              "      <td>0</td>\n",
              "      <td>negative</td>\n",
              "      <td>test</td>\n",
              "    </tr>\n",
              "  </tbody>\n",
              "</table>\n",
              "</div>\n",
              "      <button class=\"colab-df-convert\" onclick=\"convertToInteractive('df-97b0b3ac-4f44-472f-a389-07a1f948ef33')\"\n",
              "              title=\"Convert this dataframe to an interactive table.\"\n",
              "              style=\"display:none;\">\n",
              "        \n",
              "  <svg xmlns=\"http://www.w3.org/2000/svg\" height=\"24px\"viewBox=\"0 0 24 24\"\n",
              "       width=\"24px\">\n",
              "    <path d=\"M0 0h24v24H0V0z\" fill=\"none\"/>\n",
              "    <path d=\"M18.56 5.44l.94 2.06.94-2.06 2.06-.94-2.06-.94-.94-2.06-.94 2.06-2.06.94zm-11 1L8.5 8.5l.94-2.06 2.06-.94-2.06-.94L8.5 2.5l-.94 2.06-2.06.94zm10 10l.94 2.06.94-2.06 2.06-.94-2.06-.94-.94-2.06-.94 2.06-2.06.94z\"/><path d=\"M17.41 7.96l-1.37-1.37c-.4-.4-.92-.59-1.43-.59-.52 0-1.04.2-1.43.59L10.3 9.45l-7.72 7.72c-.78.78-.78 2.05 0 2.83L4 21.41c.39.39.9.59 1.41.59.51 0 1.02-.2 1.41-.59l7.78-7.78 2.81-2.81c.8-.78.8-2.07 0-2.86zM5.41 20L4 18.59l7.72-7.72 1.47 1.35L5.41 20z\"/>\n",
              "  </svg>\n",
              "      </button>\n",
              "      \n",
              "  <style>\n",
              "    .colab-df-container {\n",
              "      display:flex;\n",
              "      flex-wrap:wrap;\n",
              "      gap: 12px;\n",
              "    }\n",
              "\n",
              "    .colab-df-convert {\n",
              "      background-color: #E8F0FE;\n",
              "      border: none;\n",
              "      border-radius: 50%;\n",
              "      cursor: pointer;\n",
              "      display: none;\n",
              "      fill: #1967D2;\n",
              "      height: 32px;\n",
              "      padding: 0 0 0 0;\n",
              "      width: 32px;\n",
              "    }\n",
              "\n",
              "    .colab-df-convert:hover {\n",
              "      background-color: #E2EBFA;\n",
              "      box-shadow: 0px 1px 2px rgba(60, 64, 67, 0.3), 0px 1px 3px 1px rgba(60, 64, 67, 0.15);\n",
              "      fill: #174EA6;\n",
              "    }\n",
              "\n",
              "    [theme=dark] .colab-df-convert {\n",
              "      background-color: #3B4455;\n",
              "      fill: #D2E3FC;\n",
              "    }\n",
              "\n",
              "    [theme=dark] .colab-df-convert:hover {\n",
              "      background-color: #434B5C;\n",
              "      box-shadow: 0px 1px 3px 1px rgba(0, 0, 0, 0.15);\n",
              "      filter: drop-shadow(0px 1px 2px rgba(0, 0, 0, 0.3));\n",
              "      fill: #FFFFFF;\n",
              "    }\n",
              "  </style>\n",
              "\n",
              "      <script>\n",
              "        const buttonEl =\n",
              "          document.querySelector('#df-97b0b3ac-4f44-472f-a389-07a1f948ef33 button.colab-df-convert');\n",
              "        buttonEl.style.display =\n",
              "          google.colab.kernel.accessAllowed ? 'block' : 'none';\n",
              "\n",
              "        async function convertToInteractive(key) {\n",
              "          const element = document.querySelector('#df-97b0b3ac-4f44-472f-a389-07a1f948ef33');\n",
              "          const dataTable =\n",
              "            await google.colab.kernel.invokeFunction('convertToInteractive',\n",
              "                                                     [key], {});\n",
              "          if (!dataTable) return;\n",
              "\n",
              "          const docLinkHtml = 'Like what you see? Visit the ' +\n",
              "            '<a target=\"_blank\" href=https://colab.research.google.com/notebooks/data_table.ipynb>data table notebook</a>'\n",
              "            + ' to learn more about interactive tables.';\n",
              "          element.innerHTML = '';\n",
              "          dataTable['output_type'] = 'display_data';\n",
              "          await google.colab.output.renderOutput(dataTable, element);\n",
              "          const docLink = document.createElement('div');\n",
              "          docLink.innerHTML = docLinkHtml;\n",
              "          element.appendChild(docLink);\n",
              "        }\n",
              "      </script>\n",
              "    </div>\n",
              "  </div>\n",
              "  "
            ],
            "text/plain": [
              "                                                 text  label  category  \\\n",
              "9   If you like original gut wrenching laughter yo...      1  positive   \n",
              "14  This a fantastic movie of three prisoners who ...      1  positive   \n",
              "15  Kind of drawn in by the erotic scenes, only to...      0  negative   \n",
              "26  \"The Cell\" is an exotic masterpiece, a dizzyin...      1  positive   \n",
              "28  This movie was so frustrating. Everything seem...      0  negative   \n",
              "\n",
              "   data_type  \n",
              "9       test  \n",
              "14      test  \n",
              "15      test  \n",
              "26      test  \n",
              "28      test  "
            ]
          },
          "metadata": {},
          "execution_count": 61
        }
      ],
      "source": [
        "df_test = df.loc[df[\"data_type\"]==\"test\"]\n",
        "df_test.head(5)"
      ]
    },
    {
      "cell_type": "code",
      "execution_count": 62,
      "metadata": {
        "colab": {
          "base_uri": "https://localhost:8080/"
        },
        "id": "Ij7671vIUJo4",
        "outputId": "4a6ea4a9-8da2-429f-bc4b-35b46d5212b3"
      },
      "outputs": [
        {
          "output_type": "execute_result",
          "data": {
            "text/plain": [
              "text         object\n",
              "label         int64\n",
              "category     object\n",
              "data_type    object\n",
              "dtype: object"
            ]
          },
          "metadata": {},
          "execution_count": 62
        }
      ],
      "source": [
        "df.dtypes"
      ]
    },
    {
      "cell_type": "markdown",
      "source": [
        " **Showing the more frequent words in each class using Wordcloud**"
      ],
      "metadata": {
        "id": "jzDXUOJS-74n"
      }
    },
    {
      "cell_type": "code",
      "execution_count": 63,
      "metadata": {
        "colab": {
          "base_uri": "https://localhost:8080/"
        },
        "id": "4PggVge2Vj2p",
        "outputId": "faa4bc68-eb77-4638-eee2-2406a94a3e25"
      },
      "outputs": [
        {
          "output_type": "stream",
          "name": "stdout",
          "text": [
            "<class 'set'>\n"
          ]
        }
      ],
      "source": [
        "from wordcloud import WordCloud, STOPWORDS\n",
        "stopwords = set(STOPWORDS)\n",
        "stopwords.add(\"RT\")\n",
        "\n",
        "print(type(STOPWORDS))"
      ]
    },
    {
      "cell_type": "code",
      "execution_count": 64,
      "metadata": {
        "colab": {
          "base_uri": "https://localhost:8080/",
          "height": 215
        },
        "id": "04v_LBl9UR_B",
        "outputId": "025dff31-8cde-47ff-b2bb-d6977e5f90ed"
      },
      "outputs": [
        {
          "output_type": "stream",
          "name": "stdout",
          "text": [
            "<wordcloud.wordcloud.WordCloud object at 0x7f109007f710>\n"
          ]
        },
        {
          "output_type": "display_data",
          "data": {
            "image/png": "[encoded data removed]",
            "text/plain": [
              "<Figure size 432x288 with 1 Axes>"
            ]
          },
          "metadata": {
            "needs_background": "light"
          }
        }
      ],
      "source": [
        "\n",
        "\n",
        "import random\n",
        "\n",
        "def random_color_func(word=None, font_size=None, position=None,  orientation=None, font_path=None, random_state=None):\n",
        "    h = 344\n",
        "    s = int(100.0 * 255.0 / 255.0)\n",
        "    l = int(100.0 * float(random_state.randint(60, 120)) / 255.0)\n",
        "    return \"hsl({}, {}%, {}%)\".format(h, s, l)\n",
        "\n",
        "wordcloud = WordCloud(\n",
        "                          background_color='white',\n",
        "                          stopwords=stopwords,\n",
        "                          max_words=200,\n",
        "                          max_font_size=60, \n",
        "                          random_state=42\n",
        "                         ).generate(str(df.loc[df[\"category\"]==\"positive\"].text))\n",
        "print(wordcloud)\n",
        "fig = plt.figure(1)\n",
        "plt.imshow(wordcloud.recolor(color_func= random_color_func, random_state=3),\n",
        "           interpolation=\"bilinear\")\n",
        "plt.axis('off')\n",
        "plt.show()"
      ]
    },
    {
      "cell_type": "code",
      "execution_count": 65,
      "metadata": {
        "colab": {
          "base_uri": "https://localhost:8080/",
          "height": 215
        },
        "id": "AKco5zHLU_E9",
        "outputId": "c4275f31-6f8e-437d-e9cb-54005362bf5d"
      },
      "outputs": [
        {
          "output_type": "stream",
          "name": "stdout",
          "text": [
            "<wordcloud.wordcloud.WordCloud object at 0x7f1094bd3a10>\n"
          ]
        },
        {
          "output_type": "display_data",
          "data": {
            "image/png": "[encoded data removed]",
            "text/plain": [
              "<Figure size 432x288 with 1 Axes>"
            ]
          },
          "metadata": {
            "needs_background": "light"
          }
        }
      ],
      "source": [
        "def random_color_func(word=None, font_size=None, position=None,  orientation=None, font_path=None, random_state=None):\n",
        "    h = 20\n",
        "    s = int(100.0 * 255.0 / 255.0)\n",
        "    l = int(100.0 * float(random_state.randint(60, 120)) / 255.0)\n",
        "    return \"hsl({}, {}%, {}%)\".format(h, s, l)\n",
        "\n",
        "wordcloud = WordCloud(\n",
        "                          background_color='white',\n",
        "                          stopwords=stopwords,\n",
        "                          max_words=200,\n",
        "                          max_font_size=60, \n",
        "                          random_state=42\n",
        "                         ).generate(str((df.loc[df[\"category\"]==\"negative\"].text)))\n",
        "print(wordcloud)\n",
        "fig = plt.figure(1)\n",
        "plt.imshow(wordcloud.recolor(color_func= random_color_func, random_state=3),\n",
        "           interpolation=\"bilinear\")\n",
        "plt.axis('off')\n",
        "plt.show()"
      ]
    },
    {
      "cell_type": "markdown",
      "metadata": {
        "id": "V-h9CdT-tky_"
      },
      "source": [
        "**Build TensorFlow input**\n",
        "\n",
        "[Reference ](https://www.tensorflow.org/guide/data)"
      ]
    },
    {
      "cell_type": "code",
      "execution_count": 66,
      "metadata": {
        "id": "HBa7dDWmWjk_"
      },
      "outputs": [],
      "source": [
        "train_ds = tf.data.Dataset.from_tensor_slices((df_train.text.values, df_train.label.values))\n",
        "val_ds = tf.data.Dataset.from_tensor_slices((df_val.text.values, df_val.label.values))\n",
        "test_ds = tf.data.Dataset.from_tensor_slices((df_test.text.values, df_test.label.values))"
      ]
    },
    {
      "cell_type": "markdown",
      "source": [
        "While **tf.data** tries to propagate shape information, the default settings of Dataset.batch result is an unknown batch size because the last batch may not be full. Note the Nones in the shape\n"
      ],
      "metadata": {
        "id": "rpJHp8GFEvbO"
      }
    },
    {
      "cell_type": "code",
      "execution_count": 67,
      "metadata": {
        "colab": {
          "base_uri": "https://localhost:8080/"
        },
        "id": "VsjYbJWOWoAd",
        "outputId": "33a7e671-7466-4e1a-cf63-b1ec2002b615"
      },
      "outputs": [
        {
          "output_type": "execute_result",
          "data": {
            "text/plain": [
              "<TensorSliceDataset element_spec=(TensorSpec(shape=(), dtype=tf.string, name=None), TensorSpec(shape=(), dtype=tf.int64, name=None))>"
            ]
          },
          "metadata": {},
          "execution_count": 67
        }
      ],
      "source": [
        "train_ds"
      ]
    },
    {
      "cell_type": "markdown",
      "source": [
        "Use the drop_remainder argument to ignore that last batch, and get full shape propagation"
      ],
      "metadata": {
        "id": "0qU4L11oF55E"
      }
    },
    {
      "cell_type": "code",
      "execution_count": 68,
      "metadata": {
        "colab": {
          "base_uri": "https://localhost:8080/"
        },
        "id": "WgYEDaq5WwWv",
        "outputId": "b5e5de28-b2f3-4f6f-fdc2-935324f41447"
      },
      "outputs": [
        {
          "output_type": "execute_result",
          "data": {
            "text/plain": [
              "<BatchDataset element_spec=(TensorSpec(shape=(None,), dtype=tf.string, name=None), TensorSpec(shape=(None,), dtype=tf.int64, name=None))>"
            ]
          },
          "metadata": {},
          "execution_count": 68
        }
      ],
      "source": [
        "train_ds = train_ds.shuffle(len(df_train)).batch(32, drop_remainder=False)\n",
        "train_ds"
      ]
    },
    {
      "cell_type": "code",
      "execution_count": 69,
      "metadata": {
        "colab": {
          "base_uri": "https://localhost:8080/"
        },
        "id": "v5YffEPXWzxr",
        "outputId": "b195408d-cf58-4421-c8b7-8d80c821939f"
      },
      "outputs": [
        {
          "output_type": "execute_result",
          "data": {
            "text/plain": [
              "<BatchDataset element_spec=(TensorSpec(shape=(None,), dtype=tf.string, name=None), TensorSpec(shape=(None,), dtype=tf.int64, name=None))>"
            ]
          },
          "metadata": {},
          "execution_count": 69
        }
      ],
      "source": [
        "val_ds = val_ds.shuffle(len(df_val)).batch(32, drop_remainder=False)\n",
        "val_ds"
      ]
    },
    {
      "cell_type": "code",
      "execution_count": 70,
      "metadata": {
        "colab": {
          "base_uri": "https://localhost:8080/"
        },
        "id": "sgQzYr50W2-g",
        "outputId": "0044fcf6-0fcf-4bc9-af55-d437db8d9bd4"
      },
      "outputs": [
        {
          "output_type": "execute_result",
          "data": {
            "text/plain": [
              "<BatchDataset element_spec=(TensorSpec(shape=(None,), dtype=tf.string, name=None), TensorSpec(shape=(None,), dtype=tf.int64, name=None))>"
            ]
          },
          "metadata": {},
          "execution_count": 70
        }
      ],
      "source": [
        "test_ds = test_ds.shuffle(len(df_test)).batch(32, drop_remainder=False)\n",
        "test_ds"
      ]
    },
    {
      "cell_type": "markdown",
      "metadata": {
        "id": "VEm0255ludOT"
      },
      "source": [
        "**Loading models from TensorFlow Hub**\n",
        "\n",
        "This TF Hub model uses the implementation of BERT from the TensorFlow Models repository on GitHub at tensorflow/models/official/nlp/bert which L is used as a number of hidden layers and H as hidden size of H, and A as attention heads."
      ]
    },
    {
      "cell_type": "markdown",
      "source": [
        "\n",
        "Here you can choose which BERT model you will load from TensorFlow Hub and fine-tune. There are multiple BERT models available.\n",
        "\n",
        "[BERT-Base, Uncased](https://tfhub.dev/tensorflow/bert_en_uncased_L-12_H-768_A-12/3) and [seven more models](https://tfhub.dev/google/collections/bert/1) with trained weights released by the original BERT authors.\n",
        "\n",
        "[The Small BERT models](https://tfhub.dev/google/collections/bert/1) are instances of the original BERT architecture with a smaller number L of layers (i.e., residual blocks) combined with a smaller hidden size H and a matching smaller number A of attention heads.\n",
        "\n",
        "[ALBERT: ](https://tfhub.dev/google/collections/albert/1)four different sizes of \"A Lite BERT\" that reduces model size (but not computation time) by sharing parameters between layers.\n",
        "\n",
        "[BERT Experts](https://tfhub.dev/google/collections/experts/bert/1): eight models that all have the BERT-base architecture but offer a choice between different pre-training domains, to align more closely with the target task.\n",
        "\n",
        "[Electra](https://tfhub.dev/google/collections/electra/1) has the same architecture as BERT (in three different sizes), but gets pre-trained as a discriminator in a set-up that resembles a Generative Adversarial Network (GAN).\n",
        "\n",
        "The suggestion is to start with a Small BERT (with fewer parameters) since they are faster to fine-tune. If you like a small model but with higher accuracy, ALBERT might be your next option. If you want even better accuracy, choose one of the classic BERT sizes or their recent refinements like Electra."
      ],
      "metadata": {
        "id": "gglHZEkZ_5v_"
      }
    },
    {
      "cell_type": "code",
      "source": [
        "#@title Choose a BERT model to fine-tune\n",
        "\n",
        "bert_model_name = 'albert_en_base'  #@param [\"bert_en_uncased_L-12_H-768_A-12\", \"bert_en_cased_L-12_H-768_A-12\", \"bert_multi_cased_L-12_H-768_A-12\", \"small_bert/bert_en_uncased_L-2_H-128_A-2\", \"small_bert/bert_en_uncased_L-2_H-256_A-4\", \"small_bert/bert_en_uncased_L-2_H-512_A-8\", \"small_bert/bert_en_uncased_L-2_H-768_A-12\", \"small_bert/bert_en_uncased_L-4_H-128_A-2\", \"small_bert/bert_en_uncased_L-4_H-256_A-4\", \"small_bert/bert_en_uncased_L-4_H-512_A-8\", \"small_bert/bert_en_uncased_L-4_H-768_A-12\", \"small_bert/bert_en_uncased_L-6_H-128_A-2\", \"small_bert/bert_en_uncased_L-6_H-256_A-4\", \"small_bert/bert_en_uncased_L-6_H-512_A-8\", \"small_bert/bert_en_uncased_L-6_H-768_A-12\", \"small_bert/bert_en_uncased_L-8_H-128_A-2\", \"small_bert/bert_en_uncased_L-8_H-256_A-4\", \"small_bert/bert_en_uncased_L-8_H-512_A-8\", \"small_bert/bert_en_uncased_L-8_H-768_A-12\", \"small_bert/bert_en_uncased_L-10_H-128_A-2\", \"small_bert/bert_en_uncased_L-10_H-256_A-4\", \"small_bert/bert_en_uncased_L-10_H-512_A-8\", \"small_bert/bert_en_uncased_L-10_H-768_A-12\", \"small_bert/bert_en_uncased_L-12_H-128_A-2\", \"small_bert/bert_en_uncased_L-12_H-256_A-4\", \"small_bert/bert_en_uncased_L-12_H-512_A-8\", \"small_bert/bert_en_uncased_L-12_H-768_A-12\", \"albert_en_base\", \"electra_small\", \"electra_base\", \"experts_pubmed\", \"experts_wiki_books\", \"talking-heads_base\"]\n",
        "\n",
        "map_name_to_handle = {\n",
        "    'bert_en_uncased_L-12_H-768_A-12':\n",
        "        'https://tfhub.dev/tensorflow/bert_en_uncased_L-12_H-768_A-12/3',\n",
        "    'bert_en_cased_L-12_H-768_A-12':\n",
        "        'https://tfhub.dev/tensorflow/bert_en_cased_L-12_H-768_A-12/3',\n",
        "    'bert_multi_cased_L-12_H-768_A-12':\n",
        "        'https://tfhub.dev/tensorflow/bert_multi_cased_L-12_H-768_A-12/3',\n",
        "    'small_bert/bert_en_uncased_L-2_H-128_A-2':\n",
        "        'https://tfhub.dev/tensorflow/small_bert/bert_en_uncased_L-2_H-128_A-2/1',\n",
        "    'small_bert/bert_en_uncased_L-2_H-256_A-4':\n",
        "        'https://tfhub.dev/tensorflow/small_bert/bert_en_uncased_L-2_H-256_A-4/1',\n",
        "    'small_bert/bert_en_uncased_L-2_H-512_A-8':\n",
        "        'https://tfhub.dev/tensorflow/small_bert/bert_en_uncased_L-2_H-512_A-8/1',\n",
        "    'small_bert/bert_en_uncased_L-2_H-768_A-12':\n",
        "        'https://tfhub.dev/tensorflow/small_bert/bert_en_uncased_L-2_H-768_A-12/1',\n",
        "    'small_bert/bert_en_uncased_L-4_H-128_A-2':\n",
        "        'https://tfhub.dev/tensorflow/small_bert/bert_en_uncased_L-4_H-128_A-2/1',\n",
        "    'small_bert/bert_en_uncased_L-4_H-256_A-4':\n",
        "        'https://tfhub.dev/tensorflow/small_bert/bert_en_uncased_L-4_H-256_A-4/1',\n",
        "    'small_bert/bert_en_uncased_L-4_H-512_A-8':\n",
        "        'https://tfhub.dev/tensorflow/small_bert/bert_en_uncased_L-4_H-512_A-8/1',\n",
        "    'small_bert/bert_en_uncased_L-4_H-768_A-12':\n",
        "        'https://tfhub.dev/tensorflow/small_bert/bert_en_uncased_L-4_H-768_A-12/1',\n",
        "    'small_bert/bert_en_uncased_L-6_H-128_A-2':\n",
        "        'https://tfhub.dev/tensorflow/small_bert/bert_en_uncased_L-6_H-128_A-2/1',\n",
        "    'small_bert/bert_en_uncased_L-6_H-256_A-4':\n",
        "        'https://tfhub.dev/tensorflow/small_bert/bert_en_uncased_L-6_H-256_A-4/1',\n",
        "    'small_bert/bert_en_uncased_L-6_H-512_A-8':\n",
        "        'https://tfhub.dev/tensorflow/small_bert/bert_en_uncased_L-6_H-512_A-8/1',\n",
        "    'small_bert/bert_en_uncased_L-6_H-768_A-12':\n",
        "        'https://tfhub.dev/tensorflow/small_bert/bert_en_uncased_L-6_H-768_A-12/1',\n",
        "    'small_bert/bert_en_uncased_L-8_H-128_A-2':\n",
        "        'https://tfhub.dev/tensorflow/small_bert/bert_en_uncased_L-8_H-128_A-2/1',\n",
        "    'small_bert/bert_en_uncased_L-8_H-256_A-4':\n",
        "        'https://tfhub.dev/tensorflow/small_bert/bert_en_uncased_L-8_H-256_A-4/1',\n",
        "    'small_bert/bert_en_uncased_L-8_H-512_A-8':\n",
        "        'https://tfhub.dev/tensorflow/small_bert/bert_en_uncased_L-8_H-512_A-8/1',\n",
        "    'small_bert/bert_en_uncased_L-8_H-768_A-12':\n",
        "        'https://tfhub.dev/tensorflow/small_bert/bert_en_uncased_L-8_H-768_A-12/1',\n",
        "    'small_bert/bert_en_uncased_L-10_H-128_A-2':\n",
        "        'https://tfhub.dev/tensorflow/small_bert/bert_en_uncased_L-10_H-128_A-2/1',\n",
        "    'small_bert/bert_en_uncased_L-10_H-256_A-4':\n",
        "        'https://tfhub.dev/tensorflow/small_bert/bert_en_uncased_L-10_H-256_A-4/1',\n",
        "    'small_bert/bert_en_uncased_L-10_H-512_A-8':\n",
        "        'https://tfhub.dev/tensorflow/small_bert/bert_en_uncased_L-10_H-512_A-8/1',\n",
        "    'small_bert/bert_en_uncased_L-10_H-768_A-12':\n",
        "        'https://tfhub.dev/tensorflow/small_bert/bert_en_uncased_L-10_H-768_A-12/1',\n",
        "    'small_bert/bert_en_uncased_L-12_H-128_A-2':\n",
        "        'https://tfhub.dev/tensorflow/small_bert/bert_en_uncased_L-12_H-128_A-2/1',\n",
        "    'small_bert/bert_en_uncased_L-12_H-256_A-4':\n",
        "        'https://tfhub.dev/tensorflow/small_bert/bert_en_uncased_L-12_H-256_A-4/1',\n",
        "    'small_bert/bert_en_uncased_L-12_H-512_A-8':\n",
        "        'https://tfhub.dev/tensorflow/small_bert/bert_en_uncased_L-12_H-512_A-8/1',\n",
        "    'small_bert/bert_en_uncased_L-12_H-768_A-12':\n",
        "        'https://tfhub.dev/tensorflow/small_bert/bert_en_uncased_L-12_H-768_A-12/1',\n",
        "    'albert_en_base':\n",
        "        'https://tfhub.dev/tensorflow/albert_en_base/2',\n",
        "    'electra_small':\n",
        "        'https://tfhub.dev/google/electra_small/2',\n",
        "    'electra_base':\n",
        "        'https://tfhub.dev/google/electra_base/2',    \n",
        "  \n",
        "}\n",
        "\n",
        "map_model_to_preprocess = {\n",
        "    'bert_en_uncased_L-12_H-768_A-12':\n",
        "        'https://tfhub.dev/tensorflow/bert_en_uncased_preprocess/3',\n",
        "    'bert_en_cased_L-12_H-768_A-12':\n",
        "        'https://tfhub.dev/tensorflow/bert_en_cased_preprocess/3',\n",
        "    'small_bert/bert_en_uncased_L-2_H-128_A-2':\n",
        "        'https://tfhub.dev/tensorflow/bert_en_uncased_preprocess/3',\n",
        "    'small_bert/bert_en_uncased_L-2_H-256_A-4':\n",
        "        'https://tfhub.dev/tensorflow/bert_en_uncased_preprocess/3',\n",
        "    'small_bert/bert_en_uncased_L-2_H-512_A-8':\n",
        "        'https://tfhub.dev/tensorflow/bert_en_uncased_preprocess/3',\n",
        "    'small_bert/bert_en_uncased_L-2_H-768_A-12':\n",
        "        'https://tfhub.dev/tensorflow/bert_en_uncased_preprocess/3',\n",
        "    'small_bert/bert_en_uncased_L-4_H-128_A-2':\n",
        "        'https://tfhub.dev/tensorflow/bert_en_uncased_preprocess/3',\n",
        "    'small_bert/bert_en_uncased_L-4_H-256_A-4':\n",
        "        'https://tfhub.dev/tensorflow/bert_en_uncased_preprocess/3',\n",
        "    'small_bert/bert_en_uncased_L-4_H-512_A-8':\n",
        "        'https://tfhub.dev/tensorflow/bert_en_uncased_preprocess/3',\n",
        "    'small_bert/bert_en_uncased_L-4_H-768_A-12':\n",
        "        'https://tfhub.dev/tensorflow/bert_en_uncased_preprocess/3',\n",
        "    'small_bert/bert_en_uncased_L-6_H-128_A-2':\n",
        "        'https://tfhub.dev/tensorflow/bert_en_uncased_preprocess/3',\n",
        "    'small_bert/bert_en_uncased_L-6_H-256_A-4':\n",
        "        'https://tfhub.dev/tensorflow/bert_en_uncased_preprocess/3',\n",
        "    'small_bert/bert_en_uncased_L-6_H-512_A-8':\n",
        "        'https://tfhub.dev/tensorflow/bert_en_uncased_preprocess/3',\n",
        "    'small_bert/bert_en_uncased_L-6_H-768_A-12':\n",
        "        'https://tfhub.dev/tensorflow/bert_en_uncased_preprocess/3',\n",
        "    'small_bert/bert_en_uncased_L-8_H-128_A-2':\n",
        "        'https://tfhub.dev/tensorflow/bert_en_uncased_preprocess/3',\n",
        "    'small_bert/bert_en_uncased_L-8_H-256_A-4':\n",
        "        'https://tfhub.dev/tensorflow/bert_en_uncased_preprocess/3',\n",
        "    'small_bert/bert_en_uncased_L-8_H-512_A-8':\n",
        "        'https://tfhub.dev/tensorflow/bert_en_uncased_preprocess/3',\n",
        "    'small_bert/bert_en_uncased_L-8_H-768_A-12':\n",
        "        'https://tfhub.dev/tensorflow/bert_en_uncased_preprocess/3',\n",
        "    'small_bert/bert_en_uncased_L-10_H-128_A-2':\n",
        "        'https://tfhub.dev/tensorflow/bert_en_uncased_preprocess/3',\n",
        "    'small_bert/bert_en_uncased_L-10_H-256_A-4':\n",
        "        'https://tfhub.dev/tensorflow/bert_en_uncased_preprocess/3',\n",
        "    'small_bert/bert_en_uncased_L-10_H-512_A-8':\n",
        "        'https://tfhub.dev/tensorflow/bert_en_uncased_preprocess/3',\n",
        "    'small_bert/bert_en_uncased_L-10_H-768_A-12':\n",
        "        'https://tfhub.dev/tensorflow/bert_en_uncased_preprocess/3',\n",
        "    'small_bert/bert_en_uncased_L-12_H-128_A-2':\n",
        "        'https://tfhub.dev/tensorflow/bert_en_uncased_preprocess/3',\n",
        "    'small_bert/bert_en_uncased_L-12_H-256_A-4':\n",
        "        'https://tfhub.dev/tensorflow/bert_en_uncased_preprocess/3',\n",
        "    'small_bert/bert_en_uncased_L-12_H-512_A-8':\n",
        "        'https://tfhub.dev/tensorflow/bert_en_uncased_preprocess/3',\n",
        "    'small_bert/bert_en_uncased_L-12_H-768_A-12':\n",
        "        'https://tfhub.dev/tensorflow/bert_en_uncased_preprocess/3',\n",
        "    'bert_multi_cased_L-12_H-768_A-12':\n",
        "        'https://tfhub.dev/tensorflow/bert_multi_cased_preprocess/3',\n",
        "    'albert_en_base':\n",
        "        'https://tfhub.dev/tensorflow/albert_en_preprocess/3',\n",
        "    'electra_small':\n",
        "        'https://tfhub.dev/tensorflow/bert_en_uncased_preprocess/3',\n",
        "    'electra_base':\n",
        "        'https://tfhub.dev/tensorflow/bert_en_uncased_preprocess/3',\n",
        "}\n",
        "\n",
        "tfhub_handle_encoder = map_name_to_handle[bert_model_name]\n",
        "tfhub_handle_preprocess = map_model_to_preprocess[bert_model_name]\n",
        "\n",
        "print(f'BERT model selected           : {tfhub_handle_encoder}')\n",
        "print(f'Preprocess model auto-selected: {tfhub_handle_preprocess}')"
      ],
      "metadata": {
        "id": "5F1FclZgDkZC",
        "colab": {
          "base_uri": "https://localhost:8080/"
        },
        "outputId": "31162e8a-6058-4913-ad8c-61976aa6b2b2"
      },
      "execution_count": 71,
      "outputs": [
        {
          "output_type": "stream",
          "name": "stdout",
          "text": [
            "BERT model selected           : https://tfhub.dev/tensorflow/albert_en_base/2\n",
            "Preprocess model auto-selected: https://tfhub.dev/tensorflow/albert_en_preprocess/3\n"
          ]
        }
      ]
    },
    {
      "cell_type": "markdown",
      "metadata": {
        "id": "lAS__iYZvC1e"
      },
      "source": [
        "**The preprocessing model**\n",
        "\n",
        "Text inputs need to be transformed to numeric token ids and arranged in several Tensors before being input to BERT. **TensorFlow Hub** provides a matching preprocessing model for each of the BERT models discussed above, which implements this transformation using TF ops from the TF.text library. It is not necessary to run pure Python code outside your TensorFlow model to preprocess text.\n",
        "\n",
        "So, the preprocessing model will be loaded into a **hub.KerasLayer** to compose the fine-tuned model. "
      ]
    },
    {
      "cell_type": "code",
      "execution_count": 72,
      "metadata": {
        "id": "hsxkIE5bXSii"
      },
      "outputs": [],
      "source": [
        "bert_preprocess_model = hub.KerasLayer(tfhub_handle_preprocess)"
      ]
    },
    {
      "cell_type": "markdown",
      "source": [
        "**EX)** Let's try the preprocessing model on some text and see the output:"
      ],
      "metadata": {
        "id": "wiNATLazSAqa"
      }
    },
    {
      "cell_type": "code",
      "source": [
        "text_test = ['Some films just simply should not be remade']\n",
        "text_preprocessed = bert_preprocess_model(text_test)\n",
        "\n",
        "print(f'Keys       : {list(text_preprocessed.keys())}')\n",
        "print(f'Shape      : {text_preprocessed[\"input_word_ids\"].shape}')\n",
        "print(f'Word Ids   : {text_preprocessed[\"input_word_ids\"][0, :12]}')\n",
        "print(f'Input Mask : {text_preprocessed[\"input_mask\"][0, :12]}')\n",
        "print(f'Type Ids   : {text_preprocessed[\"input_type_ids\"][0, :12]}')"
      ],
      "metadata": {
        "colab": {
          "base_uri": "https://localhost:8080/"
        },
        "id": "veAJbGbTRyaf",
        "outputId": "27cfb442-e13d-424f-8472-37116f2af9f8"
      },
      "execution_count": 73,
      "outputs": [
        {
          "output_type": "stream",
          "name": "stdout",
          "text": [
            "Keys       : ['input_type_ids', 'input_mask', 'input_word_ids']\n",
            "Shape      : (1, 128)\n",
            "Word Ids   : [    2   109  1491   114  1659   378    52    44 27115     3     0     0]\n",
            "Input Mask : [1 1 1 1 1 1 1 1 1 1 0 0]\n",
            "Type Ids   : [0 0 0 0 0 0 0 0 0 0 0 0]\n"
          ]
        }
      ]
    },
    {
      "cell_type": "markdown",
      "source": [
        "As you can see, now you have the 3 outputs from the preprocessing that a BERT model would use\n",
        "\n",
        "**(input_words_id, input_mask and input_type_ids)**\n",
        "\n",
        "The input is truncated to **128 tokens**. BERT has a constraint on the maximum length of a sequence after tokenizing. For any BERT model, the maximum sequence length after tokenization is 512.\n",
        "\n",
        "**The input_type_ids** only have one value (0) because this is a single sentence input. For a multiple sentence input, it would have one number for each input.\n",
        "\n",
        "**The input masks** is the mask of the words in a sentence – all masks starts with CLF token and SEP token.So the masked array is of size sentence size + 2. The token is defined for CLF – 101 and SEP – 102 and .Also the input mask is 1 for useful tokens,and 0 for padding. \n",
        "\n",
        "**The input_words_ids** has the token ids of the input sequences and gives unique id’s for individual words. Each word is encoded(ids can be from a vocabulary), padded and separated Length."
      ],
      "metadata": {
        "id": "eXAse5HxSCiH"
      }
    },
    {
      "cell_type": "code",
      "source": [
        "#text_preprocessed"
      ],
      "metadata": {
        "id": "IMGs0Z1zWrsn"
      },
      "execution_count": 74,
      "outputs": []
    },
    {
      "cell_type": "markdown",
      "source": [
        "To generate embedding now all we need to do is to pass this text_preprocessed to the encoder. "
      ],
      "metadata": {
        "id": "412BWuVdhb8a"
      }
    },
    {
      "cell_type": "code",
      "source": [
        "bert_model = hub.KerasLayer(tfhub_handle_encoder)"
      ],
      "metadata": {
        "id": "MxdL-KnthZ_x"
      },
      "execution_count": 75,
      "outputs": []
    },
    {
      "cell_type": "code",
      "source": [
        "bert_results = bert_model(text_preprocessed)"
      ],
      "metadata": {
        "id": "KiOHXrbJ7Iy3"
      },
      "execution_count": 76,
      "outputs": []
    },
    {
      "cell_type": "code",
      "source": [
        "\n",
        "print(f'Loaded BERT: {tfhub_handle_encoder}')\n",
        "print(f'Pooled Outputs Shape:{bert_results[\"pooled_output\"].shape}')\n",
        "print(f'Pooled Outputs Values:{bert_results[\"pooled_output\"][0, :12]}')\n",
        "print(f'Sequence Outputs Shape:{bert_results[\"sequence_output\"].shape}')\n",
        "print(f'Sequence Outputs Values:{bert_results[\"sequence_output\"][0, :12]}')"
      ],
      "metadata": {
        "colab": {
          "base_uri": "https://localhost:8080/"
        },
        "id": "AKfwvFsCiEJh",
        "outputId": "831ac641-0af6-4901-e503-87504448d2ff"
      },
      "execution_count": 77,
      "outputs": [
        {
          "output_type": "stream",
          "name": "stdout",
          "text": [
            "Loaded BERT: https://tfhub.dev/tensorflow/albert_en_base/2\n",
            "Pooled Outputs Shape:(1, 768)\n",
            "Pooled Outputs Values:[ 0.4974522  -0.4022627   0.70687973 -0.5386651  -0.23866722 -0.955195\n",
            "  0.45889893 -0.4052007   0.5196632  -0.99271435  0.99731493  0.5130328 ]\n",
            "Sequence Outputs Shape:(1, 128, 768)\n",
            "Sequence Outputs Values:[[ 0.3006409  -0.21103102  0.8600876  ... -0.32910538 -0.6263893\n",
            "  -0.39718994]\n",
            " [-0.40866277 -0.7162431   1.9335173  ...  0.48289305  2.6212182\n",
            "  -0.38708568]\n",
            " [-0.36012593 -0.5044639  -0.06619332 ... -0.8388238   0.74398655\n",
            "  -0.8650751 ]\n",
            " ...\n",
            " [ 0.06696129  0.11210939 -0.08660927 ... -0.09616762  0.15163468\n",
            "   0.20022365]\n",
            " [ 0.02630872 -0.10308027  0.08278503 ...  0.2832733   0.7887378\n",
            "   0.07300374]\n",
            " [-0.07706296  0.13267407  0.27017093 ...  0.20253178  0.8113287\n",
            "  -0.13738221]]\n"
          ]
        }
      ]
    },
    {
      "cell_type": "markdown",
      "source": [
        "The BERT models return a map with 3 important keys: **pooled_output, sequence_output, encoder_outputs:**\n",
        "\n",
        "**pooled_output** represents each input sequence as a whole. The shape is **[batch_size, H]**. You can think of this as an embedding for the entire movie review.\n",
        "\n",
        "**sequence_output** represents each input token in the context. The shape is **[batch_size, seq_length, H**]. You can think of this as a contextual embedding for every token in the movie review.\n",
        "\n",
        "**encoder_outputs** are the intermediate activations of the L Transformer blocks. outputs[\"encoder_outputs\"][i] is a Tensor of shape **[batch_size, seq_length, 1024]** with the outputs of the i-th Transformer block, for 0 <= i < L. The last value of the list is equal to sequence_output."
      ],
      "metadata": {
        "id": "em7Kihyk9eJP"
      }
    },
    {
      "cell_type": "code",
      "source": [
        "#bert_results"
      ],
      "metadata": {
        "id": "uDwhZRI_9L8o"
      },
      "execution_count": 78,
      "outputs": []
    },
    {
      "cell_type": "markdown",
      "source": [
        "**Define the model**"
      ],
      "metadata": {
        "id": "OAO9g6zn6VRx"
      }
    },
    {
      "cell_type": "markdown",
      "source": [
        "The fine-tuned model will be created with the preprocessing model, and the selected BERT model, one Dense and a Dropout layer."
      ],
      "metadata": {
        "id": "A-0M4Uc5CMWX"
      }
    },
    {
      "cell_type": "code",
      "source": [
        "def build_classifier_model():\n",
        "  text_input = tf.keras.layers.Input(shape=(), dtype=tf.string, name='text')\n",
        "  preprocessing_layer = hub.KerasLayer(tfhub_handle_preprocess, name='preprocessing')\n",
        "  encoder_inputs = preprocessing_layer(text_input)\n",
        "  encoder = hub.KerasLayer(tfhub_handle_encoder, trainable=True, name='BERT_encoder')\n",
        "  outputs = encoder(encoder_inputs)\n",
        "  net = outputs['pooled_output']\n",
        "  net = tf.keras.layers.Dropout(0.1)(net)\n",
        "  net = tf.keras.layers.Dense(1, activation=None, name='classifier')(net)\n",
        "  return tf.keras.Model(text_input, net)"
      ],
      "metadata": {
        "id": "iachePHzYkEz"
      },
      "execution_count": 79,
      "outputs": []
    },
    {
      "cell_type": "markdown",
      "source": [
        "Let's check that the model runs with the output of the preprocessing model."
      ],
      "metadata": {
        "id": "NGly8oUYGr7f"
      }
    },
    {
      "cell_type": "code",
      "source": [
        "classifier_model = build_classifier_model()\n",
        "bert_raw_result = classifier_model(tf.constant(text_test))\n",
        "print(tf.sigmoid(bert_raw_result))"
      ],
      "metadata": {
        "id": "7QQGCZr-Ywci",
        "colab": {
          "base_uri": "https://localhost:8080/"
        },
        "outputId": "614f02b1-e722-42b1-d502-4ec6bb3bfe93"
      },
      "execution_count": 80,
      "outputs": [
        {
          "output_type": "stream",
          "name": "stdout",
          "text": [
            "tf.Tensor([[0.5176603]], shape=(1, 1), dtype=float32)\n"
          ]
        }
      ]
    },
    {
      "cell_type": "markdown",
      "source": [
        "tf.sigmoid Computes sigmoid of x element-wiseand it measures the probability error in discrete classification tasks in which each class is independent and not mutually exclusive.If a positive number is large, then its sigmoid will approach to 1 since the formula If a negative number is large, its sigmoid will approach to 0. [Reference](https://www.tensorflow.org/api_docs/python/tf/math/sigmoid) "
      ],
      "metadata": {
        "id": "fpDtH04J76Ts"
      }
    },
    {
      "cell_type": "code",
      "source": [
        "tf.keras.utils.plot_model(classifier_model)"
      ],
      "metadata": {
        "colab": {
          "base_uri": "https://localhost:8080/",
          "height": 466
        },
        "id": "M5Chkk6dY3N3",
        "outputId": "0905e14d-1b82-46e4-818e-1ae06fe654f8"
      },
      "execution_count": 81,
      "outputs": [
        {
          "output_type": "execute_result",
          "data": {
            "image/png": "[encoded data removed]",
            "text/plain": [
              "<IPython.core.display.Image object>"
            ]
          },
          "metadata": {},
          "execution_count": 81
        }
      ]
    },
    {
      "cell_type": "markdown",
      "source": [
        "**Model training**\n",
        "\n",
        "I now have all the pieces to train a model, including the preprocessing module, BERT encoder, data, and classifier."
      ],
      "metadata": {
        "id": "5pwQRWvzITsO"
      }
    },
    {
      "cell_type": "markdown",
      "source": [
        "**Loss function**\n",
        "\n",
        "Since this is a binary classification problem and the model outputs a probability (a single-unit layer), I'll use losses.BinaryCrossentropy loss function."
      ],
      "metadata": {
        "id": "r59y0fI5Is9u"
      }
    },
    {
      "cell_type": "code",
      "source": [
        "loss = tf.keras.losses.BinaryCrossentropy(from_logits=True)\n",
        "metrics = tf.metrics.BinaryAccuracy()"
      ],
      "metadata": {
        "id": "7qO266HIaMW3"
      },
      "execution_count": 82,
      "outputs": []
    },
    {
      "cell_type": "markdown",
      "source": [
        "**Optimizer**\n",
        "\n",
        "For fine-tuning, let's use the same optimizer that BERT was originally trained with: the \"Adaptive Moments\" (Adam). This optimizer minimizes the prediction loss and does regularization by weight decay (not using moments), which is also known as AdamW.\n",
        "\n",
        "For the learning rate (init_lr), I will use the same schedule as BERT pre-training: linear decay of a notional initial learning rate, prefixed with a linear warm-up phase over the first 10% of training steps (num_warmup_steps). In line with the BERT paper, the initial learning rate is smaller for fine-tuning (best of 5e-5, 3e-5, 2e-5)."
      ],
      "metadata": {
        "id": "jeS2i1ObI8To"
      }
    },
    {
      "cell_type": "code",
      "source": [
        "from official.nlp import optimization"
      ],
      "metadata": {
        "id": "XpCp_CT-UiUm"
      },
      "execution_count": 83,
      "outputs": []
    },
    {
      "cell_type": "code",
      "source": [
        "epochs = 5\n",
        "steps_per_epoch = tf.data.experimental.cardinality(train_ds).numpy()\n",
        "num_train_steps = steps_per_epoch * epochs\n",
        "num_warmup_steps = int(0.1*num_train_steps)\n",
        "\n",
        "init_lr = 3e-5\n",
        "optimizer = optimization.create_optimizer(init_lr=init_lr,\n",
        "                                          num_train_steps=num_train_steps,\n",
        "                                          num_warmup_steps=num_warmup_steps,\n",
        "                                          optimizer_type='adamw')"
      ],
      "metadata": {
        "id": "wjkScgTUaO31"
      },
      "execution_count": 84,
      "outputs": []
    },
    {
      "cell_type": "markdown",
      "source": [
        "**Loading the BERT model and training**"
      ],
      "metadata": {
        "id": "qAtyVqUaKEQv"
      }
    },
    {
      "cell_type": "code",
      "source": [
        "classifier_model.compile(optimizer=optimizer,\n",
        "                         loss=loss,\n",
        "                         metrics=metrics)"
      ],
      "metadata": {
        "id": "GnxnopR0aVf6"
      },
      "execution_count": 85,
      "outputs": []
    },
    {
      "cell_type": "code",
      "source": [
        "print(f'Training model with {tfhub_handle_encoder}')\n",
        "history = classifier_model.fit(x=train_ds,\n",
        "                               validation_data=val_ds,\n",
        "                               epochs=epochs)"
      ],
      "metadata": {
        "colab": {
          "base_uri": "https://localhost:8080/"
        },
        "id": "1A2DoEgVaawA",
        "outputId": "d3e8c69b-c9d8-433a-a136-23b688a5d6b7"
      },
      "execution_count": 86,
      "outputs": [
        {
          "output_type": "stream",
          "name": "stdout",
          "text": [
            "Training model with https://tfhub.dev/tensorflow/albert_en_base/2\n",
            "Epoch 1/5\n",
            "3/3 [==============================] - 16s 1s/step - loss: 0.7737 - binary_accuracy: 0.5625 - val_loss: 0.7775 - val_binary_accuracy: 0.4444\n",
            "Epoch 2/5\n",
            "3/3 [==============================] - 3s 851ms/step - loss: 0.6001 - binary_accuracy: 0.6500 - val_loss: 0.7389 - val_binary_accuracy: 0.5556\n",
            "Epoch 3/5\n",
            "3/3 [==============================] - 3s 856ms/step - loss: 0.4578 - binary_accuracy: 0.8250 - val_loss: 0.7660 - val_binary_accuracy: 0.4444\n",
            "Epoch 4/5\n",
            "3/3 [==============================] - 3s 853ms/step - loss: 0.3289 - binary_accuracy: 0.9500 - val_loss: 0.8000 - val_binary_accuracy: 0.4444\n",
            "Epoch 5/5\n",
            "3/3 [==============================] - 3s 858ms/step - loss: 0.3446 - binary_accuracy: 0.9500 - val_loss: 0.8017 - val_binary_accuracy: 0.4444\n"
          ]
        }
      ]
    },
    {
      "cell_type": "markdown",
      "source": [
        "**Evaluate the model**\n",
        "Let's see how the model performs. Two values will be returned. Loss (a number which represents the error, lower values are better), and accuracy."
      ],
      "metadata": {
        "id": "kemM-nPLKQ59"
      }
    },
    {
      "cell_type": "code",
      "source": [
        "loss, accuracy = classifier_model.evaluate(test_ds)\n",
        "\n",
        "print(f'Loss: {loss}')\n",
        "print(f'Accuracy: {accuracy}')"
      ],
      "metadata": {
        "colab": {
          "base_uri": "https://localhost:8080/"
        },
        "id": "O-RG6kUVjdNJ",
        "outputId": "d6bf02a7-08d1-46dd-b86d-473de497db38"
      },
      "execution_count": 87,
      "outputs": [
        {
          "output_type": "stream",
          "name": "stdout",
          "text": [
            "1/1 [==============================] - 0s 102ms/step - loss: 0.7346 - binary_accuracy: 0.4000\n",
            "Loss: 0.7345608472824097\n",
            "Accuracy: 0.4000000059604645\n"
          ]
        }
      ]
    },
    {
      "cell_type": "markdown",
      "source": [
        "**Plot the accuracy and loss over time**\n",
        "\n",
        "Based on the History object returned by model.fit() the training and validation loss can be plotted for comparison, as well as the training and validation accuracy.\n",
        "\n",
        "In this plot, the red lines represent the training loss and accuracy, and the blue lines are the validation loss and accuracy."
      ],
      "metadata": {
        "id": "fUZuB48mKeLW"
      }
    },
    {
      "cell_type": "code",
      "source": [
        "history_dict = history.history\n",
        "print(history_dict.keys())\n",
        "\n",
        "acc = history_dict['binary_accuracy']\n",
        "val_acc = history_dict['val_binary_accuracy']\n",
        "loss = history_dict['loss']\n",
        "val_loss = history_dict['val_loss']\n",
        "\n",
        "epochs = range(1, len(acc) + 1)\n",
        "fig = plt.figure(figsize=(10, 6))\n",
        "fig.tight_layout()\n",
        "\n",
        "plt.subplot(2, 1, 1)\n",
        "# r is for \"solid red line\"\n",
        "plt.plot(epochs, loss, 'r', label='Training loss')\n",
        "# b is for \"solid blue line\"\n",
        "plt.plot(epochs, val_loss, 'b', label='Validation loss')\n",
        "plt.title('Training and validation loss')\n",
        "# plt.xlabel('Epochs')\n",
        "plt.ylabel('Loss')\n",
        "plt.legend()\n",
        "\n",
        "plt.subplot(2, 1, 2)\n",
        "plt.plot(epochs, acc, 'r', label='Training acc')\n",
        "plt.plot(epochs, val_acc, 'b', label='Validation acc')\n",
        "plt.title('Training and validation accuracy')\n",
        "plt.xlabel('Epochs')\n",
        "plt.ylabel('Accuracy')\n",
        "plt.legend(loc='lower right')"
      ],
      "metadata": {
        "colab": {
          "base_uri": "https://localhost:8080/",
          "height": 439
        },
        "id": "UZlJW5PqjgJd",
        "outputId": "0796439a-c38b-4c51-f4dc-5d5b8ec7b93e"
      },
      "execution_count": 88,
      "outputs": [
        {
          "output_type": "stream",
          "name": "stdout",
          "text": [
            "dict_keys(['loss', 'binary_accuracy', 'val_loss', 'val_binary_accuracy'])\n"
          ]
        },
        {
          "output_type": "execute_result",
          "data": {
            "text/plain": [
              "<matplotlib.legend.Legend at 0x7f10775894d0>"
            ]
          },
          "metadata": {},
          "execution_count": 88
        },
        {
          "output_type": "display_data",
          "data": {
            "image/png": "[encoded data removed]",
            "text/plain": [
              "<Figure size 720x432 with 2 Axes>"
            ]
          },
          "metadata": {
            "needs_background": "light"
          }
        }
      ]
    },
    {
      "cell_type": "markdown",
      "source": [
        "**Export for inference**\n",
        "\n",
        "Now the fine-tuned model will be saved for later use."
      ],
      "metadata": {
        "id": "TG5KtJ4wK_xb"
      }
    },
    {
      "cell_type": "code",
      "source": [
        "dataset_name = 'imdb'\n",
        "saved_model_path = './{}_bert'.format(dataset_name.replace('/', '_'))\n",
        "\n",
        "classifier_model.save(saved_model_path, include_optimizer=False)"
      ],
      "metadata": {
        "colab": {
          "base_uri": "https://localhost:8080/"
        },
        "id": "6O3HGnRajzmX",
        "outputId": "8b14217a-89a8-481b-94ec-32905fb78a9b"
      },
      "execution_count": 89,
      "outputs": [
        {
          "output_type": "stream",
          "name": "stderr",
          "text": [
            "WARNING:absl:Found untraced functions such as restored_function_body, restored_function_body, restored_function_body, restored_function_body, restored_function_body while saving (showing 5 of 34). These functions will not be directly callable after loading.\n"
          ]
        },
        {
          "output_type": "stream",
          "name": "stdout",
          "text": [
            "INFO:tensorflow:Assets written to: ./imdb_bert/assets\n"
          ]
        },
        {
          "output_type": "stream",
          "name": "stderr",
          "text": [
            "INFO:tensorflow:Assets written to: ./imdb_bert/assets\n"
          ]
        }
      ]
    },
    {
      "cell_type": "markdown",
      "source": [
        "Let's reload the model, so you can try it side by side with the model that is still in memory."
      ],
      "metadata": {
        "id": "HHt-vvHXLnEQ"
      }
    },
    {
      "cell_type": "code",
      "source": [
        "reloaded_model = tf.saved_model.load(saved_model_path)"
      ],
      "metadata": {
        "id": "WygPSjIYkH-G"
      },
      "execution_count": 90,
      "outputs": []
    },
    {
      "cell_type": "markdown",
      "source": [
        "Here you can test the model on any sentence you want, just add to the examples variable below."
      ],
      "metadata": {
        "id": "5hsH1-01LyEm"
      }
    },
    {
      "cell_type": "code",
      "source": [
        "def print_my_examples(inputs, results):\n",
        "  result_for_printing = \\\n",
        "    [f'input: {inputs[i]:<30} : score: {results[i][0]:.6f}'\n",
        "                         for i in range(len(inputs))]\n",
        "  print(*result_for_printing, sep='\\n')\n",
        "  print()\n",
        "\n",
        "\n",
        "examples = [\n",
        "    'I thought this was a wonderful way to spend time on a too hot summer weekend, sitting in the air conditioned theater and watching a light-hearted comedy..',\n",
        "    'Probably my all-time favorite movie, a story of selflessness, sacrifice and dedication to a noble cause, but it''s not preachy or boring..',\n",
        "    'Encouraged by the positive comments about this film on here I was looking forward to watching this film..',\n",
        "    'This a fantastic movie of three prisoners who become famous..',\n",
        "    'Some films just simply should not be remade..'\n",
        "]\n",
        "\n",
        "reloaded_results = tf.sigmoid(reloaded_model(tf.constant(examples)))\n",
        "original_results = tf.sigmoid(classifier_model(tf.constant(examples)))\n",
        "\n",
        "print('Results from the saved model:')\n",
        "print_my_examples(examples, reloaded_results)\n",
        "print('Results from the model in memory:')\n",
        "print_my_examples(examples, original_results)"
      ],
      "metadata": {
        "colab": {
          "base_uri": "https://localhost:8080/"
        },
        "id": "uwcukn-OkUuu",
        "outputId": "19d91b53-6607-488d-8777-b04c83ef2b01"
      },
      "execution_count": 91,
      "outputs": [
        {
          "output_type": "stream",
          "name": "stdout",
          "text": [
            "Results from the saved model:\n",
            "input: I thought this was a wonderful way to spend time on a too hot summer weekend, sitting in the air conditioned theater and watching a light-hearted comedy.. : score: 0.449985\n",
            "input: Probably my all-time favorite movie, a story of selflessness, sacrifice and dedication to a noble cause, but its not preachy or boring.. : score: 0.599876\n",
            "input: Encouraged by the positive comments about this film on here I was looking forward to watching this film.. : score: 0.459320\n",
            "input: This a fantastic movie of three prisoners who become famous.. : score: 0.566083\n",
            "input: Some films just simply should not be remade.. : score: 0.469990\n",
            "\n",
            "Results from the model in memory:\n",
            "input: I thought this was a wonderful way to spend time on a too hot summer weekend, sitting in the air conditioned theater and watching a light-hearted comedy.. : score: 0.449986\n",
            "input: Probably my all-time favorite movie, a story of selflessness, sacrifice and dedication to a noble cause, but its not preachy or boring.. : score: 0.599877\n",
            "input: Encouraged by the positive comments about this film on here I was looking forward to watching this film.. : score: 0.459320\n",
            "input: This a fantastic movie of three prisoners who become famous.. : score: 0.566085\n",
            "input: Some films just simply should not be remade.. : score: 0.469991\n",
            "\n"
          ]
        }
      ]
    },
    {
      "cell_type": "markdown",
      "source": [
        "#**Second part**"
      ],
      "metadata": {
        "id": "tSu-7wekN2oL"
      }
    },
    {
      "cell_type": "markdown",
      "metadata": {
        "id": "fFjFQSzYyL7d"
      },
      "source": [
        "**BERT + CNN Model**"
      ]
    },
    {
      "cell_type": "markdown",
      "source": [
        "For the implementation with CNN, I am using the sequence_output as input to the convolutional layer. It represents each input token in the context. **The shape is [batch_size, seq_length, H].** You can think of this as a contextual embedding for every token in the text. This outputs saves positional information about the inputs, then it would male cense to feed a convolutional layer."
      ],
      "metadata": {
        "id": "iqhoLF1EOLKO"
      }
    },
    {
      "cell_type": "code",
      "execution_count": 92,
      "metadata": {
        "id": "1COvAiGFz3Gv"
      },
      "outputs": [],
      "source": [
        "def build_CNN_classifier_model():\n",
        "    text_input = tf.keras.layers.Input(shape=(), dtype=tf.string, name='text')\n",
        "    preprocessing_layer = hub.KerasLayer(tfhub_handle_preprocess, name='preprocessing')\n",
        "    encoder_inputs = preprocessing_layer(text_input)\n",
        "    encoder = hub.KerasLayer(tfhub_handle_encoder, trainable=True, name='BERT_encoder')\n",
        "    outputs = encoder(encoder_inputs)\n",
        "    #net = outputs['pooled_output'] # [batch_size, 768].\n",
        "    net = sequence_output = outputs[\"sequence_output\"] # [batch_size, seq_length, 768]\n",
        "      \n",
        "    \n",
        "    net = tf.keras.layers.Conv1D(32, (2), activation='relu')(net)\n",
        "    #net = tf.keras.layers.MaxPooling1D(2)(net)\n",
        "    \n",
        "    net = tf.keras.layers.Conv1D(64, (2), activation='relu')(net)\n",
        "    #net = tf.keras.layers.MaxPooling1D(2)(net)\n",
        "    net = tf.keras.layers.GlobalMaxPool1D()(net)\n",
        "    \n",
        "#    net = tf.keras.layers.Flatten()(net)\n",
        "    \n",
        "    net = tf.keras.layers.Dense(512, activation=\"relu\")(net)\n",
        "    \n",
        "    net = tf.keras.layers.Dropout(0.1)(net)\n",
        "#   net = tf.keras.layers.Dense(1, activation=None, name='classifier')(net)\n",
        "    net = tf.keras.layers.Dense(3, activation=\"softmax\", name='classifier')(net)\n",
        "    \n",
        "    return tf.keras.Model(text_input, net)"
      ]
    },
    {
      "cell_type": "markdown",
      "source": [
        "**ReLU** stands for rectified linear unit, and is a type of activation function. Mathematically, it is defined as y = max(0, x). It is linear (identity) for all positive values, and zero for all negative values.\n",
        "\n",
        "Also, **tf.keras.layers.Conv1D** creates a convolution kernel that is convolved with the layer input over a single spatial (or temporal) dimension to produce a tensor of outputs. [Reference](https://www.tensorflow.org/api_docs/python/tf/keras/layers/Conv1D) \n",
        "\n",
        "**Tf.keras.layers.GlobalMaxPool1D()** downsamples the input representation by taking the maximum value over the time dimension.[Reference](https://www.tensorflow.org/api_docs/python/tf/keras/layers/GlobalMaxPool1D)\n",
        "\n",
        "\n",
        "The **Dropout** layer randomly sets input units to 0 with a frequency of rate at each step during training time, which helps prevent overfitting. Inputs not set to 0 are scaled up by 1/(1 - rate) such that the sum over all inputs is unchanged.[Reference ](https://www.tensorflow.org/api_docs/python/tf/keras/layers/Dropout)\n",
        "\n",
        "\n",
        "**Dense** implements the operation: output = activation(dot(input, kernel) + bias) where activation is the element-wise activation function passed as the activation argument, kernel is a weights matrix created by the layer, and bias is a bias vector created by the layer (only applicable if use_bias is True). These are all attributes of Dense.[Reference ](https://www.tensorflow.org/api_docs/python/tf/keras/layers/Dense)"
      ],
      "metadata": {
        "id": "2sdA3WpyPppq"
      }
    },
    {
      "cell_type": "code",
      "execution_count": 94,
      "metadata": {
        "colab": {
          "base_uri": "https://localhost:8080/"
        },
        "id": "I1ToxlVYz840",
        "outputId": "52b94128-9c4c-40b4-8ef8-418fb2aa8c4e"
      },
      "outputs": [
        {
          "output_type": "stream",
          "name": "stdout",
          "text": [
            "tf.Tensor([[0.53429234 0.63618904 0.5753598 ]], shape=(1, 3), dtype=float32)\n"
          ]
        }
      ],
      "source": [
        "cnn_classifier_model = build_CNN_classifier_model()\n",
        "bert_raw_result = cnn_classifier_model(tf.constant(text_test))\n",
        "print(tf.sigmoid(bert_raw_result))"
      ]
    },
    {
      "cell_type": "code",
      "execution_count": 95,
      "metadata": {
        "colab": {
          "base_uri": "https://localhost:8080/",
          "height": 856
        },
        "id": "2rdRoeYA0MHo",
        "outputId": "b326da52-28ad-4701-90cd-b52f6918c941"
      },
      "outputs": [
        {
          "output_type": "execute_result",
          "data": {
            "image/png": "[encoded data removed]",
            "text/plain": [
              "<IPython.core.display.Image object>"
            ]
          },
          "metadata": {},
          "execution_count": 95
        }
      ],
      "source": [
        "tf.keras.utils.plot_model(cnn_classifier_model)"
      ]
    },
    {
      "cell_type": "code",
      "execution_count": 96,
      "metadata": {
        "colab": {
          "base_uri": "https://localhost:8080/"
        },
        "id": "495a3Hic0IbS",
        "outputId": "39c35dad-7e8c-475e-a90a-2c9728f8490e"
      },
      "outputs": [
        {
          "output_type": "stream",
          "name": "stdout",
          "text": [
            "Model: \"model_1\"\n",
            "__________________________________________________________________________________________________\n",
            " Layer (type)                   Output Shape         Param #     Connected to                     \n",
            "==================================================================================================\n",
            " text (InputLayer)              [(None,)]            0           []                               \n",
            "                                                                                                  \n",
            " preprocessing (KerasLayer)     {'input_mask': (Non  0           ['text[0][0]']                   \n",
            "                                e, 128),                                                          \n",
            "                                 'input_word_ids':                                                \n",
            "                                (None, 128),                                                      \n",
            "                                 'input_type_ids':                                                \n",
            "                                (None, 128)}                                                      \n",
            "                                                                                                  \n",
            " BERT_encoder (KerasLayer)      {'encoder_outputs':  11683584    ['preprocessing[0][0]',          \n",
            "                                 [(None, 128, 768),               'preprocessing[0][1]',          \n",
            "                                 (None, 128, 768),                'preprocessing[0][2]']          \n",
            "                                 (None, 128, 768),                                                \n",
            "                                 (None, 128, 768),                                                \n",
            "                                 (None, 128, 768),                                                \n",
            "                                 (None, 128, 768),                                                \n",
            "                                 (None, 128, 768),                                                \n",
            "                                 (None, 128, 768),                                                \n",
            "                                 (None, 128, 768),                                                \n",
            "                                 (None, 128, 768),                                                \n",
            "                                 (None, 128, 768),                                                \n",
            "                                 (None, 128, 768)],                                               \n",
            "                                 'sequence_output':                                               \n",
            "                                 (None, 128, 768),                                                \n",
            "                                 'default': (None,                                                \n",
            "                                768),                                                             \n",
            "                                 'pooled_output': (                                               \n",
            "                                None, 768)}                                                       \n",
            "                                                                                                  \n",
            " conv1d (Conv1D)                (None, 127, 32)      49184       ['BERT_encoder[0][14]']          \n",
            "                                                                                                  \n",
            " conv1d_1 (Conv1D)              (None, 126, 64)      4160        ['conv1d[0][0]']                 \n",
            "                                                                                                  \n",
            " global_max_pooling1d (GlobalMa  (None, 64)          0           ['conv1d_1[0][0]']               \n",
            " xPooling1D)                                                                                      \n",
            "                                                                                                  \n",
            " dense (Dense)                  (None, 512)          33280       ['global_max_pooling1d[0][0]']   \n",
            "                                                                                                  \n",
            " dropout_1 (Dropout)            (None, 512)          0           ['dense[0][0]']                  \n",
            "                                                                                                  \n",
            " classifier (Dense)             (None, 3)            1539        ['dropout_1[0][0]']              \n",
            "                                                                                                  \n",
            "==================================================================================================\n",
            "Total params: 11,771,747\n",
            "Trainable params: 11,771,747\n",
            "Non-trainable params: 0\n",
            "__________________________________________________________________________________________________\n"
          ]
        }
      ],
      "source": [
        "cnn_classifier_model.summary()"
      ]
    },
    {
      "cell_type": "code",
      "execution_count": 97,
      "metadata": {
        "id": "ULRB_h6H0Pej"
      },
      "outputs": [],
      "source": [
        "loss = tf.keras.losses.SparseCategoricalCrossentropy(from_logits=True)\n",
        "#metrics = tf.metrics.CategoricalCrossentropy()\n",
        "#metrics = tf.metrics.Accuracy()"
      ]
    },
    {
      "cell_type": "code",
      "execution_count": 98,
      "metadata": {
        "id": "eSUdzuGL0Zfu"
      },
      "outputs": [],
      "source": [
        "epochs = 10\n",
        "steps_per_epoch = tf.data.experimental.cardinality(train_ds).numpy()\n",
        "num_train_steps = steps_per_epoch * epochs\n",
        "num_warmup_steps = int(0.1*num_train_steps)\n",
        "\n",
        "init_lr = 3e-5\n",
        "optimizer = optimization.create_optimizer(init_lr=init_lr,\n",
        "                                          num_train_steps=num_train_steps,\n",
        "                                          num_warmup_steps=num_warmup_steps,\n",
        "                                          optimizer_type='adamw')\n",
        "\n",
        "cnn_classifier_model.compile(optimizer=optimizer,\n",
        "                          loss=tf.keras.losses.SparseCategoricalCrossentropy(from_logits=True),\n",
        "                          metrics=tf.keras.metrics.SparseCategoricalAccuracy('accuracy'))"
      ]
    },
    {
      "cell_type": "markdown",
      "source": [
        "Defining the weights for BERT+CNN the model."
      ],
      "metadata": {
        "id": "OdeJwcqv-lLL"
      }
    },
    {
      "cell_type": "code",
      "execution_count": 99,
      "metadata": {
        "colab": {
          "base_uri": "https://localhost:8080/"
        },
        "id": "Kq5nkIdEoqVP",
        "outputId": "3de4e9bf-3eb2-4541-9eb6-94c17d816587"
      },
      "outputs": [
        {
          "output_type": "stream",
          "name": "stdout",
          "text": [
            "Examples:\n",
            "    Total: 99\n",
            "    positive: 58 (58.59% of total)\n",
            "\n",
            "Examples:\n",
            "    Total: 99\n",
            "    negative: 41 (41.41% of total)\n",
            "\n"
          ]
        }
      ],
      "source": [
        "#This is an balanced dataset.\n",
        "positive, negative = np.bincount(df['label'])\n",
        "total = positive + negative \n",
        "print('Examples:\\n    Total: {}\\n    positive: {} ({:.2f}% of total)\\n'.format(\n",
        "    total, positive, 100 * positive / total))\n",
        "print('Examples:\\n    Total: {}\\n    negative: {} ({:.2f}% of total)\\n'.format(\n",
        "    total, negative, 100 * negative / total))\n"
      ]
    },
    {
      "cell_type": "code",
      "execution_count": 100,
      "metadata": {
        "colab": {
          "base_uri": "https://localhost:8080/"
        },
        "id": "oMfwZxNQXtS5",
        "outputId": "3b7e68c1-7827-4f46-cdcd-6a845bb41a60"
      },
      "outputs": [
        {
          "output_type": "stream",
          "name": "stdout",
          "text": [
            "Weight for class 0: 0.85\n",
            "Weight for class 1: 1.21\n"
          ]
        }
      ],
      "source": [
        "weight_for_0 = (1 /positive)*(total)/2.0 \n",
        "weight_for_1 = (1 / negative)*(total)/2.0\n",
        "\n",
        "\n",
        "\n",
        "class_weight = {0: weight_for_0, 1: weight_for_1}\n",
        "\n",
        "print('Weight for class 0: {:.2f}'.format(weight_for_0))\n",
        "print('Weight for class 1: {:.2f}'.format(weight_for_1))\n"
      ]
    },
    {
      "cell_type": "code",
      "execution_count": 101,
      "metadata": {
        "colab": {
          "base_uri": "https://localhost:8080/"
        },
        "id": "0JMkNOAS0aik",
        "outputId": "f7f3908d-c31d-438b-af48-376bd32ca9a6"
      },
      "outputs": [
        {
          "output_type": "stream",
          "name": "stdout",
          "text": [
            "Training model with https://tfhub.dev/tensorflow/albert_en_base/2\n",
            "Epoch 1/10\n"
          ]
        },
        {
          "output_type": "stream",
          "name": "stderr",
          "text": [
            "/usr/local/lib/python3.7/dist-packages/tensorflow/python/util/dispatch.py:1082: UserWarning: \"`sparse_categorical_crossentropy` received `from_logits=True`, but the `output` argument was produced by a sigmoid or softmax activation and thus does not represent logits. Was this intended?\"\n",
            "  return dispatch_target(*args, **kwargs)\n"
          ]
        },
        {
          "output_type": "stream",
          "name": "stdout",
          "text": [
            "3/3 [==============================] - 27s 2s/step - loss: 1.3005 - accuracy: 0.3375 - val_loss: 1.1664 - val_accuracy: 0.4444\n",
            "Epoch 2/10\n",
            "3/3 [==============================] - 3s 859ms/step - loss: 1.0169 - accuracy: 0.4000 - val_loss: 0.9547 - val_accuracy: 0.4444\n",
            "Epoch 3/10\n",
            "3/3 [==============================] - 3s 857ms/step - loss: 0.8329 - accuracy: 0.6000 - val_loss: 0.8844 - val_accuracy: 0.5556\n",
            "Epoch 4/10\n",
            "3/3 [==============================] - 3s 861ms/step - loss: 0.6548 - accuracy: 0.8375 - val_loss: 0.8442 - val_accuracy: 0.5556\n",
            "Epoch 5/10\n",
            "3/3 [==============================] - 3s 860ms/step - loss: 0.5368 - accuracy: 0.8750 - val_loss: 0.8242 - val_accuracy: 0.4444\n",
            "Epoch 6/10\n",
            "3/3 [==============================] - 3s 863ms/step - loss: 0.4140 - accuracy: 0.9875 - val_loss: 0.8087 - val_accuracy: 0.4444\n",
            "Epoch 7/10\n",
            "3/3 [==============================] - 3s 865ms/step - loss: 0.3693 - accuracy: 0.9875 - val_loss: 0.8031 - val_accuracy: 0.2222\n",
            "Epoch 8/10\n",
            "3/3 [==============================] - 3s 863ms/step - loss: 0.3298 - accuracy: 1.0000 - val_loss: 0.7975 - val_accuracy: 0.2222\n",
            "Epoch 9/10\n",
            "3/3 [==============================] - 3s 867ms/step - loss: 0.3077 - accuracy: 1.0000 - val_loss: 0.7927 - val_accuracy: 0.2222\n",
            "Epoch 10/10\n",
            "3/3 [==============================] - 3s 870ms/step - loss: 0.2996 - accuracy: 1.0000 - val_loss: 0.7903 - val_accuracy: 0.2222\n"
          ]
        }
      ],
      "source": [
        "\n",
        "print(f'Training model with {tfhub_handle_encoder}')\n",
        "cnn_history = cnn_classifier_model.fit(x=train_ds,\n",
        "                                       validation_data=val_ds,\n",
        "                                       epochs=epochs,\n",
        "                                       class_weight=class_weight\n",
        "                                       \n",
        "                                      )"
      ]
    },
    {
      "cell_type": "code",
      "execution_count": 102,
      "metadata": {
        "id": "t6LBVM_A0sUI",
        "colab": {
          "base_uri": "https://localhost:8080/"
        },
        "outputId": "b2aadb68-484d-4469-ce92-bc4e5f955eba"
      },
      "outputs": [
        {
          "output_type": "stream",
          "name": "stdout",
          "text": [
            "1/1 [==============================] - 0s 285ms/step - loss: 0.7022 - accuracy: 0.6000\n",
            "Loss: 0.7021920084953308\n",
            "Accuracy: 0.6000000238418579\n"
          ]
        }
      ],
      "source": [
        "loss, accuracy = cnn_classifier_model.evaluate(test_ds)\n",
        "\n",
        "print(f'Loss: {loss}')\n",
        "print(f'Accuracy: {accuracy}')"
      ]
    },
    {
      "cell_type": "code",
      "execution_count": 103,
      "metadata": {
        "id": "jAweZuht0vEp",
        "colab": {
          "base_uri": "https://localhost:8080/",
          "height": 656
        },
        "outputId": "04c1d636-249f-44c4-dd13-dcb3c32c5932"
      },
      "outputs": [
        {
          "output_type": "stream",
          "name": "stdout",
          "text": [
            "dict_keys(['loss', 'accuracy', 'val_loss', 'val_accuracy'])\n"
          ]
        },
        {
          "output_type": "execute_result",
          "data": {
            "text/plain": [
              "<matplotlib.legend.Legend at 0x7f10938de810>"
            ]
          },
          "metadata": {},
          "execution_count": 103
        },
        {
          "output_type": "display_data",
          "data": {
            "image/png": "[encoded data removed]",
            "text/plain": [
              "<Figure size 864x720 with 2 Axes>"
            ]
          },
          "metadata": {
            "needs_background": "light"
          }
        }
      ],
      "source": [
        "history_dict = cnn_history.history\n",
        "print(history_dict.keys())\n",
        "\n",
        "acc = history_dict['accuracy']\n",
        "val_acc = history_dict['val_accuracy']\n",
        "# acc = history_dict['binary_accuracy']\n",
        "# val_acc = history_dict['val_binary_accuracy']\n",
        "loss = history_dict['loss']\n",
        "val_loss = history_dict['val_loss']\n",
        "\n",
        "epochs = range(1, len(acc) + 1)\n",
        "fig = plt.figure(figsize=(12, 10))\n",
        "fig.tight_layout()\n",
        "\n",
        "plt.subplot(2, 1, 1)\n",
        "# \"bo\" is for \"blue dot\"\n",
        "plt.plot(epochs, loss, 'r', label='Training loss')\n",
        "# b is for \"solid blue line\"\n",
        "plt.plot(epochs, val_loss, 'b', label='Validation loss')\n",
        "plt.title('Training and validation loss')\n",
        "# plt.xlabel('Epochs')\n",
        "plt.ylabel('Loss')\n",
        "plt.legend()\n",
        "\n",
        "plt.subplot(2, 1, 2)\n",
        "plt.plot(epochs, acc, 'r', label='Training acc')\n",
        "plt.plot(epochs, val_acc, 'b', label='Validation acc')\n",
        "plt.title('Training and validation accuracy')\n",
        "plt.xlabel('Epochs')\n",
        "plt.ylabel('Accuracy')\n",
        "plt.legend(loc='lower right')"
      ]
    },
    {
      "cell_type": "code",
      "execution_count": 104,
      "metadata": {
        "id": "uD9-M2oH0yl_",
        "colab": {
          "base_uri": "https://localhost:8080/"
        },
        "outputId": "bf0e325e-2e95-4be2-f7e4-3e994a342adc"
      },
      "outputs": [
        {
          "output_type": "stream",
          "name": "stdout",
          "text": [
            "(10, 3)\n"
          ]
        }
      ],
      "source": [
        "result =  cnn_classifier_model.predict(test_ds)\n",
        "print(result.shape)"
      ]
    },
    {
      "cell_type": "markdown",
      "source": [
        "**Export for inference**\n",
        "Now you just save your fine-tuned model for later use\n"
      ],
      "metadata": {
        "id": "u107xpaWIzq8"
      }
    },
    {
      "cell_type": "code",
      "execution_count": 106,
      "metadata": {
        "id": "Nwe1DJcc05Mg",
        "colab": {
          "base_uri": "https://localhost:8080/"
        },
        "outputId": "e6832858-8b24-4241-f329-39e7d1617cdf"
      },
      "outputs": [
        {
          "output_type": "stream",
          "name": "stderr",
          "text": [
            "WARNING:absl:Found untraced functions such as restored_function_body, restored_function_body, restored_function_body, restored_function_body, restored_function_body while saving (showing 5 of 34). These functions will not be directly callable after loading.\n"
          ]
        },
        {
          "output_type": "stream",
          "name": "stdout",
          "text": [
            "INFO:tensorflow:Assets written to: ./cnn_hate_speech_bert/assets\n"
          ]
        },
        {
          "output_type": "stream",
          "name": "stderr",
          "text": [
            "INFO:tensorflow:Assets written to: ./cnn_hate_speech_bert/assets\n"
          ]
        }
      ],
      "source": [
        "dataset_name = 'cnn_hate_speech'\n",
        "saved_model_path = './{}_bert'.format(dataset_name.replace('/', '_'))\n",
        "\n",
        "cnn_classifier_model.save(saved_model_path, include_optimizer=False)"
      ]
    },
    {
      "cell_type": "code",
      "source": [
        "reloaded_model = tf.saved_model.load(saved_model_path)"
      ],
      "metadata": {
        "id": "brNktZhgNfjf"
      },
      "execution_count": 107,
      "outputs": []
    },
    {
      "cell_type": "markdown",
      "source": [
        "**Results for CNN**"
      ],
      "metadata": {
        "id": "m80KgJH_I86r"
      }
    },
    {
      "cell_type": "code",
      "source": [
        "result =  cnn_classifier_model.predict(test_ds)\n",
        "print(result.shape)"
      ],
      "metadata": {
        "colab": {
          "base_uri": "https://localhost:8080/"
        },
        "id": "z9QlVvFPNopV",
        "outputId": "ba610309-54dc-45a7-ef07-19e4eae3d372"
      },
      "execution_count": 108,
      "outputs": [
        {
          "output_type": "stream",
          "name": "stdout",
          "text": [
            "(10, 3)\n"
          ]
        }
      ]
    },
    {
      "cell_type": "code",
      "source": [
        "result"
      ],
      "metadata": {
        "colab": {
          "base_uri": "https://localhost:8080/"
        },
        "id": "UO2LHFlRIed_",
        "outputId": "80b1cbc3-951a-41a2-b209-491d31f6718e"
      },
      "execution_count": 105,
      "outputs": [
        {
          "output_type": "execute_result",
          "data": {
            "text/plain": [
              "array([[0.5513337 , 0.382715  , 0.06595128],\n",
              "       [0.42148846, 0.49712154, 0.08139002],\n",
              "       [0.48712748, 0.44058552, 0.0722869 ],\n",
              "       [0.39972708, 0.50847805, 0.09179491],\n",
              "       [0.54382443, 0.38732404, 0.06885152],\n",
              "       [0.58027726, 0.36566597, 0.05405676],\n",
              "       [0.44139987, 0.467363  , 0.09123715],\n",
              "       [0.31903607, 0.6312556 , 0.04970829],\n",
              "       [0.5249916 , 0.4096834 , 0.06532504],\n",
              "       [0.6261851 , 0.28912568, 0.08468918]], dtype=float32)"
            ]
          },
          "metadata": {},
          "execution_count": 105
        }
      ]
    }
  ],
  "metadata": {
    "colab": {
      "name": "IMDB CNN-BERT.ipynb",
      "provenance": [],
      "collapsed_sections": []
    },
    "kernelspec": {
      "display_name": "Python 3",
      "name": "python3"
    },
    "language_info": {
      "name": "python"
    },
    "accelerator": "GPU"
  },
  "nbformat": 4,
  "nbformat_minor": 0
}