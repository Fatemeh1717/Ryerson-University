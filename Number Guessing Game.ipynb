{
 "cells": [
  {
   "cell_type": "markdown",
   "metadata": {},
   "source": [
    "#### Number Guessing Game\n"
   ]
  },
  {
   "cell_type": "code",
   "execution_count": null,
   "metadata": {},
   "outputs": [],
   "source": [
    "while (True):\n",
    "    number =float(input(\"Enter the numeric grade:\" )) \n",
    "    if (number >= 0 and number <= 100):\n",
    "        break\n",
    "    else:\n",
    "        print(\"Error: grade must be between 100 and 0\") \n",
    "print (number)"
   ]
  },
  {
   "cell_type": "code",
   "execution_count": 1,
   "metadata": {},
   "outputs": [],
   "source": [
    "import random\n"
   ]
  },
  {
   "cell_type": "code",
   "execution_count": 2,
   "metadata": {},
   "outputs": [
    {
     "name": "stdout",
     "output_type": "stream",
     "text": [
      "5\n",
      "3\n",
      "4\n",
      "2\n",
      "6\n",
      "6\n",
      "4\n",
      "5\n",
      "6\n",
      "3\n"
     ]
    }
   ],
   "source": [
    "for x in range(10):\n",
    "    print(random.randint(1,6))"
   ]
  },
  {
   "cell_type": "code",
   "execution_count": 5,
   "metadata": {},
   "outputs": [
    {
     "name": "stdout",
     "output_type": "stream",
     "text": [
      " Please Enter the smaller number:50\n",
      "Please Enter the larger number:60\n",
      "Enter your guess55\n",
      "Too small\n",
      "Enter your guess58\n",
      "Too small\n",
      "Enter your guess59\n",
      "Too small\n",
      "Enter your guess60\n",
      "You've guessed the number  4 tries\n"
     ]
    }
   ],
   "source": [
    "import random\n",
    "Smaller= float(input(\" Please Enter the smaller number:\"))\n",
    "Larger = float(input( \"Please Enter the larger number:\"))\n",
    "\n",
    "MyNumber = random.randint(Smaller, Larger)\n",
    "count=0\n",
    "\n",
    "while (True):\n",
    "    count +=1\n",
    "    UserNumber = float(input(\"Enter your guess\"))\n",
    "    if(UserNumber<MyNumber):\n",
    "        print(\"Too small\")\n",
    "    elif(UserNumber>MyNumber):\n",
    "        print(\"Too large\")\n",
    "    else:\n",
    "        print(\"You've guessed the number \",count, \"tries\")\n",
    "        break"
   ]
  },
  {
   "cell_type": "code",
   "execution_count": 4,
   "metadata": {
    "scrolled": true
   },
   "outputs": [
    {
     "data": {
      "text/plain": [
       "'C:\\\\Users\\\\HP'"
      ]
     },
     "execution_count": 4,
     "metadata": {},
     "output_type": "execute_result"
    }
   ],
   "source": [
    "import os\n",
    "os.getcwd()"
   ]
  }
 ],
 "metadata": {
  "kernelspec": {
   "display_name": "Python 3",
   "language": "python",
   "name": "python3"
  },
  "language_info": {
   "codemirror_mode": {
    "name": "ipython",
    "version": 3
   },
   "file_extension": ".py",
   "mimetype": "text/x-python",
   "name": "python",
   "nbconvert_exporter": "python",
   "pygments_lexer": "ipython3",
   "version": "3.7.9"
  }
 },
 "nbformat": 4,
 "nbformat_minor": 4
}
