{
 "cells": [
  {
   "cell_type": "code",
   "execution_count": 4,
   "id": "outside-mounting",
   "metadata": {},
   "outputs": [
    {
     "name": "stdout",
     "output_type": "stream",
     "text": [
      "Enter the substring you like to process:no\n",
      "The length of the substring 'no' is: 2\n"
     ]
    }
   ],
   "source": [
    "stringData = \"String literals are written in a variety of ways.\"\n",
    "iSubstring = str(input(\"Enter the substring you like to process:\"))\n",
    "iLength = len(iSubstring)\n",
    "print(\"The length of the substring '\"+ iSubstring+\"' is:\", iLength)"
   ]
  },
  {
   "cell_type": "markdown",
   "id": "supreme-vanilla",
   "metadata": {},
   "source": [
    "#### 1) a:"
   ]
  },
  {
   "cell_type": "code",
   "execution_count": 9,
   "id": "innocent-referral",
   "metadata": {},
   "outputs": [
    {
     "name": "stdout",
     "output_type": "stream",
     "text": [
      "Enter the substring you like to process:in the \n",
      "your substring doesnt exist in the original string\n"
     ]
    }
   ],
   "source": [
    "stringData = \"15\n",
    "String literals are written in a variety of ways.\"\n",
    "iSubstring = str(input(\"Enter the substring you like to process:\"))\n",
    "iLength = len(iSubstring)\n",
    "iLength\n",
    "if(iSubstring in stringData  ):\n",
    "    print(\"The length of the substring '\"+ iSubstring+\"' is:\", iLength)\n",
    "else:\n",
    "    print(\"your substring doesnt exist in the original string\")\n",
    "    "
   ]
  },
  {
   "cell_type": "markdown",
   "id": "global-marking",
   "metadata": {},
   "source": [
    "#### 1) b:"
   ]
  },
  {
   "cell_type": "code",
   "execution_count": 13,
   "id": "reliable-timing",
   "metadata": {},
   "outputs": [
    {
     "name": "stdout",
     "output_type": "stream",
     "text": [
      "the character at the middle  position is:  i\n"
     ]
    }
   ],
   "source": [
    "stringData = \"String literals are written in a variety of ways.\"\n",
    "iLength =len(iSubstring) \n",
    "print(\"the character at the middle position is: \" ,stringData[int(iLength/2)])"
   ]
  },
  {
   "cell_type": "markdown",
   "id": "painful-complaint",
   "metadata": {},
   "source": [
    "#### 1) c:"
   ]
  },
  {
   "cell_type": "code",
   "execution_count": 19,
   "id": "split-healing",
   "metadata": {},
   "outputs": [
    {
     "data": {
      "text/plain": [
       "'String literals can be presented in a variety of ways.'"
      ]
     },
     "execution_count": 19,
     "metadata": {},
     "output_type": "execute_result"
    }
   ],
   "source": [
    "stringData = \"String literals are written in a variety of ways.\"\n",
    "newstring = stringData.replace(\"are written\",\"can be presented\",1)\n",
    "newstring    \n",
    "    \n",
    "\n"
   ]
  },
  {
   "cell_type": "code",
   "execution_count": 21,
   "id": "quick-version",
   "metadata": {},
   "outputs": [
    {
     "name": "stdout",
     "output_type": "stream",
     "text": [
      "Enter the substring you like to process:is write\n"
     ]
    },
    {
     "data": {
      "text/plain": [
       "'String literals is write in a variety of ways.'"
      ]
     },
     "execution_count": 21,
     "metadata": {},
     "output_type": "execute_result"
    }
   ],
   "source": [
    "stringData = \"String literals are written in a variety of ways.\"\n",
    "iSubstring = str(input(\"Enter the substring you like to process:\"))\n",
    "newstring = stringData.replace(\"are written\",iSubstring ,1)\n",
    "newstring"
   ]
  },
  {
   "cell_type": "markdown",
   "id": "rolled-velvet",
   "metadata": {},
   "source": [
    "#### 1) d:"
   ]
  },
  {
   "cell_type": "code",
   "execution_count": 32,
   "id": "continuous-amplifier",
   "metadata": {},
   "outputs": [
    {
     "name": "stdout",
     "output_type": "stream",
     "text": [
      "Enter the substring you like to process:this\n",
      "The starting point is:  0\n",
      "The ending point is:  -1\n"
     ]
    }
   ],
   "source": [
    " iSubstring = str(input(\"Enter the substring you like to process:\"))\n",
    "\n",
    "print(\"The starting point is: \",iSubstring.find(str((iSubstring[0]))))\n",
    "print(\"The ending point is: \",iSubstring.find(str(len(iSubstring))))\n"
   ]
  },
  {
   "cell_type": "markdown",
   "id": "foreign-drawing",
   "metadata": {},
   "source": [
    "#### 1) e:"
   ]
  },
  {
   "cell_type": "code",
   "execution_count": 36,
   "id": "corresponding-administrator",
   "metadata": {},
   "outputs": [
    {
     "data": {
      "text/plain": [
       "'String literals are written in a variety of ways'"
      ]
     },
     "execution_count": 36,
     "metadata": {},
     "output_type": "execute_result"
    }
   ],
   "source": [
    "stringData = \"String literals are written in a variety of ways.\"\n",
    "truncatedString = stringData.rsplit(\".\")[0]\n",
    "truncatedString"
   ]
  },
  {
   "cell_type": "markdown",
   "id": "familiar-walnut",
   "metadata": {},
   "source": [
    "#### 1) f:"
   ]
  },
  {
   "cell_type": "code",
   "execution_count": 39,
   "id": "higher-microphone",
   "metadata": {},
   "outputs": [
    {
     "name": "stdout",
     "output_type": "stream",
     "text": [
      "String literals are written in a variety of ways: Single, Double, and Triple quotes.\n"
     ]
    }
   ],
   "source": [
    "print(truncatedString + \": Single, Double, and Triple quotes.\")"
   ]
  },
  {
   "cell_type": "markdown",
   "id": "criminal-simon",
   "metadata": {},
   "source": [
    "#### 2) "
   ]
  },
  {
   "cell_type": "code",
   "execution_count": 42,
   "id": "copyrighted-spyware",
   "metadata": {},
   "outputs": [],
   "source": [
    "import os"
   ]
  },
  {
   "cell_type": "code",
   "execution_count": 193,
   "id": "conscious-street",
   "metadata": {},
   "outputs": [],
   "source": [
    "textFile = open(\"tedTitles.txt\", \"w\") #Opening a file for writing\n",
    "textFile.write(\"Do schools kill creativity?\\n\\\n",
    "Your body language may shape who you are\\n\\\n",
    "How great leaders inspire action\\n\\\n",
    "The power of vulnerability\\n\\\n",
    "10 things you didn't know about orgasm\\n\\\n",
    "How to speak so that people want to listen\\n\\\n",
    "My stroke of insight\\n\\\n",
    "This is what happens when you reply to spam email\\n\\\n",
    "Looks aren't everything. Believe me, I'm a model.\\n\\\n",
    "The puzzle of motivation\\n\\\n",
    "The power of introverts\\n\\\n",
    "How to spot a liar\\n\\\n",
    "What makes a good life? Lessons from the longest study on happiness\\n\\\n",
    "The happy secret to better work\\n\\\n",
    "The thrilling potential of SixthSense technology\")\n",
    "textFile.close()"
   ]
  },
  {
   "cell_type": "markdown",
   "id": "perceived-spectacular",
   "metadata": {},
   "source": [
    "#### 2) a "
   ]
  },
  {
   "cell_type": "code",
   "execution_count": 194,
   "id": "limited-parish",
   "metadata": {},
   "outputs": [],
   "source": [
    "textFile = open(\"tedTitles.txt\", \"r\")"
   ]
  },
  {
   "cell_type": "code",
   "execution_count": 66,
   "id": "worst-aside",
   "metadata": {},
   "outputs": [
    {
     "name": "stdout",
     "output_type": "stream",
     "text": [
      "The total number of lines is : 15\n"
     ]
    }
   ],
   "source": [
    "count = len(textFile.readlines(  ))\n",
    "print (\"The total number of lines is : %d\" % (count)  ) "
   ]
  },
  {
   "cell_type": "markdown",
   "id": "embedded-encyclopedia",
   "metadata": {},
   "source": [
    "#### 2) b "
   ]
  },
  {
   "cell_type": "code",
   "execution_count": 88,
   "id": "vulnerable-mercy",
   "metadata": {},
   "outputs": [
    {
     "name": "stdout",
     "output_type": "stream",
     "text": [
      "Do schools kill creativity? 4\n",
      "Your body language may shape who you are 8\n",
      "How great leaders inspire action 5\n",
      "The power of vulnerability 4\n",
      "10 things you didn't know about orgasm 7\n",
      "How to speak so that people want to listen 9\n",
      "My stroke of insight 4\n",
      "This is what happens when you reply to spam email 10\n",
      "Looks aren't everything. Believe me, I'm a model. 8\n",
      "The puzzle of motivation 4\n",
      "The power of introverts 4\n",
      "How to spot a liar 5\n",
      "What makes a good life? Lessons from the longest study on happiness 12\n",
      "The happy secret to better work 6\n",
      "The thrilling potential of SixthSense technology 6\n"
     ]
    }
   ],
   "source": [
    "textFile = open(\"tedTitles.txt\", \"r\")\n",
    "\n",
    "\n",
    "number_of_words = 0\n",
    "number_of_characters = 0\n",
    "for line in textFile:\n",
    "    line = line.strip(\"\\n\")\n",
    "    words = line.split()\n",
    "    number_of_words = len(words)\n",
    "    print(line,number_of_words)\n",
    "textFile.close()\n",
    "\n",
    "  \n",
    " \n",
    "  \n",
    "\n",
    "\n"
   ]
  },
  {
   "cell_type": "markdown",
   "id": "challenging-material",
   "metadata": {},
   "source": [
    "#### 2) c "
   ]
  },
  {
   "cell_type": "code",
   "execution_count": 90,
   "id": "fancy-variety",
   "metadata": {},
   "outputs": [
    {
     "name": "stdout",
     "output_type": "stream",
     "text": [
      "Do schools kill creativity? 27\n",
      "Your body language may shape who you are 40\n",
      "How great leaders inspire action 32\n",
      "The power of vulnerability 26\n",
      "10 things you didn't know about orgasm 38\n",
      "How to speak so that people want to listen 42\n",
      "My stroke of insight 20\n",
      "This is what happens when you reply to spam email 49\n",
      "Looks aren't everything. Believe me, I'm a model. 49\n",
      "The puzzle of motivation 24\n",
      "The power of introverts 23\n",
      "How to spot a liar 18\n",
      "What makes a good life? Lessons from the longest study on happiness 67\n",
      "The happy secret to better work 31\n",
      "The thrilling potential of SixthSense technology 48\n"
     ]
    }
   ],
   "source": [
    "textFile = open(\"tedTitles.txt\", \"r\")\n",
    "\n",
    "number_of_characters = 0\n",
    "for line in textFile:\n",
    "    line = line.strip(\"\\n\")\n",
    "    words = line.split()\n",
    "    number_of_characters = len(line) \n",
    "    print(line,number_of_characters )\n",
    "textFile.close()"
   ]
  },
  {
   "cell_type": "markdown",
   "id": "statewide-jumping",
   "metadata": {},
   "source": [
    "#### 2) d "
   ]
  },
  {
   "cell_type": "code",
   "execution_count": 309,
   "id": "familiar-brunei",
   "metadata": {},
   "outputs": [
    {
     "name": "stdout",
     "output_type": "stream",
     "text": [
      "the number of periods is:  2 \n",
      " the number of questionmark is:  2 \n",
      " the number of singlequates is:  0\n"
     ]
    }
   ],
   "source": [
    "mysample =\" Do schools kill creativity?\\n\\\n",
    "Your body language may shape who you are\\n\\\n",
    "How great leaders inspire action\\n\\\n",
    "The power of vulnerability\\n\\\n",
    "10 things you didn't know about orgasm\\n\\\n",
    "How to speak so that people want to listen\\n\\\n",
    "My stroke of insight\\n\\\n",
    "This is what happens when you reply to spam email\\n\\\n",
    "Looks aren't everything. Believe me, I'm a model.\\n\\\n",
    "The puzzle of motivation\\n\\\n",
    "The power of introverts\\n\\\n",
    "How to spot a liar\\n\\\n",
    "What makes a good life? Lessons from the longest study on happiness\\n\\\n",
    "The happy secret to better work\\n\\\n",
    "The thrilling potential of SixthSense technology\"\n",
    "\n",
    "questionmark = 0\n",
    "singlequates = 0\n",
    "periods = 0\n",
    "\n",
    "    \n",
    "for line in mysample:\n",
    "    line = line.strip(\"\\n\")\n",
    "    words = line.split()\n",
    "    for word in words:\n",
    "        if(word == '.'):\n",
    "            periods += 1\n",
    "        elif(word == '?'):\n",
    "            questionmark +=1\n",
    "        elif(char == \"'\"):\n",
    "            singlequates +=1\n",
    "            \n",
    "print(\"the number of periods is: \",periods,\"\\n\" ,\"the number of questionmark is: \",questionmark ,\"\\n\",\n",
    "      \"the number of singlequates is: \",singlequates )             \n",
    "            \n",
    "textFile.close()\n",
    "    \n",
    "\n",
    "\n"
   ]
  },
  {
   "cell_type": "code",
   "execution_count": 325,
   "id": "federal-pressing",
   "metadata": {},
   "outputs": [],
   "source": [
    "textFile = open(\"tedTitles.txt\", \"r\")"
   ]
  },
  {
   "cell_type": "code",
   "execution_count": 332,
   "id": "declared-booth",
   "metadata": {},
   "outputs": [
    {
     "name": "stdout",
     "output_type": "stream",
     "text": [
      "the total number of question mark, single quotes,and period is:  0\n"
     ]
    }
   ],
   "source": [
    "\n",
    "count = 0    \n",
    "for line in textFile:\n",
    "    line = line.strip(\"\\n\")\n",
    "    words = line.split()\n",
    "    for word in words:\n",
    "        if word.endswith(('.', '?','\\'')) :\n",
    "            count +=1\n",
    "                \n",
    "print(\"the total number of question mark, single quotes,and period is: \", count)                    \n",
    "            \n",
    "textFile.close()\n",
    "    \n"
   ]
  },
  {
   "cell_type": "code",
   "execution_count": null,
   "id": "visible-demonstration",
   "metadata": {},
   "outputs": [],
   "source": [
    "#if word.endswith(('.', '!')) :\n",
    " #               print(word)\n",
    "        \n",
    "#        String s = '\\'';\n",
    "#system.debug('s contains single quote='+s.contains('\\''));"
   ]
  },
  {
   "cell_type": "markdown",
   "id": "earlier-johns",
   "metadata": {},
   "source": [
    "#### 2) e"
   ]
  },
  {
   "cell_type": "code",
   "execution_count": 298,
   "id": "aquatic-shoulder",
   "metadata": {},
   "outputs": [],
   "source": [
    "textFile = open(\"tedTitles.txt\", \"r\")"
   ]
  },
  {
   "cell_type": "code",
   "execution_count": 299,
   "id": "excessive-enterprise",
   "metadata": {},
   "outputs": [
    {
     "name": "stdout",
     "output_type": "stream",
     "text": [
      "22\n"
     ]
    }
   ],
   "source": [
    "count =0\n",
    "for line in textFile:\n",
    "    line = line.strip(\"\\n\")\n",
    "    words = line.split()\n",
    "    for word in words:\n",
    "        if(len(word)>10 or len(word)<3):\n",
    "            count +=1\n",
    "print(count)\n",
    "textFile.close()"
   ]
  },
  {
   "cell_type": "markdown",
   "id": "romance-ordinary",
   "metadata": {},
   "source": [
    "#### 2) f"
   ]
  },
  {
   "cell_type": "code",
   "execution_count": 328,
   "id": "foster-terrace",
   "metadata": {},
   "outputs": [],
   "source": [
    "textFile = open(\"tedTitles.txt\", \"a\")\n",
    "textFile.write(\"How I held my breath for 17 minutes\\n\\\n",
    "The art of misdirection\\n\\\n",
    "The surprising science of happiness\")\n",
    "textFile.close()"
   ]
  },
  {
   "cell_type": "code",
   "execution_count": 330,
   "id": "young-article",
   "metadata": {},
   "outputs": [
    {
     "data": {
      "text/plain": [
       "<_io.TextIOWrapper name='tedTitles.txt' mode='r' encoding='cp1252'>"
      ]
     },
     "execution_count": 330,
     "metadata": {},
     "output_type": "execute_result"
    }
   ],
   "source": [
    "textFile = open(\"tedTitles.txt\", \"r\")"
   ]
  },
  {
   "cell_type": "code",
   "execution_count": 331,
   "id": "driving-collective",
   "metadata": {},
   "outputs": [
    {
     "name": "stdout",
     "output_type": "stream",
     "text": [
      "Do schools kill creativity?\n",
      "\n",
      "Your body language may shape who you are\n",
      "\n",
      "How great leaders inspire action\n",
      "\n",
      "The power of vulnerability\n",
      "\n",
      "10 things you didn't know about orgasm\n",
      "\n",
      "How to speak so that people want to listen\n",
      "\n",
      "My stroke of insight\n",
      "\n",
      "This is what happens when you reply to spam email\n",
      "\n",
      "Looks aren't everything. Believe me, I'm a model.\n",
      "\n",
      "The puzzle of motivation\n",
      "\n",
      "The power of introverts\n",
      "\n",
      "How to spot a liar\n",
      "\n",
      "What makes a good life? Lessons from the longest study on happiness\n",
      "\n",
      "The happy secret to better work\n",
      "\n",
      "The thrilling potential of SixthSense technologyHow I held my breath for 17 minutes\n",
      "\n",
      "The art of misdirection\n",
      "\n",
      "The surprising science of happiness\n"
     ]
    }
   ],
   "source": [
    "for line in textFile:\n",
    "    print(line)"
   ]
  }
 ],
 "metadata": {
  "kernelspec": {
   "display_name": "Python 3",
   "language": "python",
   "name": "python3"
  },
  "language_info": {
   "codemirror_mode": {
    "name": "ipython",
    "version": 3
   },
   "file_extension": ".py",
   "mimetype": "text/x-python",
   "name": "python",
   "nbconvert_exporter": "python",
   "pygments_lexer": "ipython3",
   "version": "3.7.9"
  }
 },
 "nbformat": 4,
 "nbformat_minor": 5
}
