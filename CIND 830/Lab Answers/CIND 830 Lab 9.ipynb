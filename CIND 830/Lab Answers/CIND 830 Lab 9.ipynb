{
 "metadata": {
  "language_info": {
   "codemirror_mode": {
    "name": "ipython",
    "version": 3
   },
   "file_extension": ".py",
   "mimetype": "text/x-python",
   "name": "python",
   "nbconvert_exporter": "python",
   "pygments_lexer": "ipython3",
   "version": "3.9.2"
  },
  "orig_nbformat": 2,
  "kernelspec": {
   "name": "python3",
   "display_name": "Python 3.9.2 64-bit",
   "metadata": {
    "interpreter": {
     "hash": "1274a373a0b7fd1496a613d3618547b52793bd263bd2f08be1c41a20c0265411"
    }
   }
  }
 },
 "nbformat": 4,
 "nbformat_minor": 2,
 "cells": [
  {
   "cell_type": "code",
   "execution_count": 23,
   "metadata": {},
   "outputs": [],
   "source": [
    "class iArray():\n",
    "\n",
    "    '''A representation of an array'''\n",
    "    def __init__(self, capacity, fillValue = None):\n",
    "\n",
    "\n",
    "        '''Capacity is the static size of the array.\n",
    "        None object will be placed at each position.'''\n",
    "        self._items = list()\n",
    "        for count in range(capacity):\n",
    "            self._items.append(fillValue)\n",
    "\n",
    "    def __len__(self):\n",
    "        return len(self._items)\n",
    "\n",
    "\n",
    "    def __str__(self):\n",
    "        return str(self._items)\n",
    "\n",
    "\n",
    "    def __setitem__(self,index,newitem):\n",
    "        self._items[index]=newitem\n",
    "\n",
    "\n",
    "    def __getitem__(self,index):\n",
    "        return self._items[index]\n",
    "\n",
    "    def __iter__(self):\n",
    "        return iter(self._items)\n"
   ]
  },
  {
   "cell_type": "code",
   "execution_count": 34,
   "metadata": {},
   "outputs": [],
   "source": [
    "class aStack(iArray):\n",
    "\n",
    "    def __init__ (self, capacity=5):\n",
    "        self._items = iArray(capacity)\n",
    "        self._top=-1\n",
    "        self._size=0\n",
    "\n",
    "\n",
    "    def push (self, newItem):\n",
    "        self._top += 1\n",
    "        self._size +=1\n",
    "        self._items[self._top]=newItem\n",
    "\n",
    "\n",
    "    def pop(self):\n",
    "        oldItem = self._items[self._top]\n",
    "        self._items[self._top]=None\n",
    "        self._top -=1\n",
    "        self._size -=1\n",
    "        return(oldItem)\n",
    "\n",
    "\n",
    "    def peek(self):\n",
    "       return self._items[self._top]\n",
    "\n",
    "    def __len__(self):\n",
    "        return(self._size)\n",
    "\n",
    "\n",
    "    def __str__ (self):\n",
    "        result=' '\n",
    "        for i in range (len(self)):\n",
    "            result += str(self._items[i])+ ' '\n",
    "        return result"
   ]
  },
  {
   "source": [
    "#### a)"
   ],
   "cell_type": "markdown",
   "metadata": {}
  },
  {
   "cell_type": "code",
   "execution_count": 35,
   "metadata": {},
   "outputs": [],
   "source": [
    "s = aStack()"
   ]
  },
  {
   "cell_type": "code",
   "execution_count": 36,
   "metadata": {},
   "outputs": [
    {
     "output_type": "stream",
     "name": "stdout",
     "text": [
      " a \n"
     ]
    }
   ],
   "source": [
    "s.push('a')\n",
    "print(s)"
   ]
  },
  {
   "cell_type": "code",
   "execution_count": 37,
   "metadata": {},
   "outputs": [
    {
     "output_type": "stream",
     "name": "stdout",
     "text": [
      " a b \n"
     ]
    }
   ],
   "source": [
    "s.push('b')\n",
    "print(s)"
   ]
  },
  {
   "cell_type": "code",
   "execution_count": 38,
   "metadata": {},
   "outputs": [
    {
     "output_type": "stream",
     "name": "stdout",
     "text": [
      " a b c \n"
     ]
    }
   ],
   "source": [
    "s.push('c')\n",
    "print(s)"
   ]
  },
  {
   "cell_type": "code",
   "execution_count": 39,
   "metadata": {},
   "outputs": [
    {
     "output_type": "execute_result",
     "data": {
      "text/plain": [
       "'c'"
      ]
     },
     "metadata": {},
     "execution_count": 39
    }
   ],
   "source": [
    "s.pop()"
   ]
  },
  {
   "cell_type": "code",
   "execution_count": 40,
   "metadata": {},
   "outputs": [
    {
     "output_type": "stream",
     "name": "stdout",
     "text": [
      " a b d \n"
     ]
    }
   ],
   "source": [
    "s.push('d')\n",
    "print(s)"
   ]
  },
  {
   "source": [
    "#### b)"
   ],
   "cell_type": "markdown",
   "metadata": {}
  },
  {
   "cell_type": "code",
   "execution_count": 41,
   "metadata": {},
   "outputs": [
    {
     "output_type": "stream",
     "name": "stdout",
     "text": [
      "d\n"
     ]
    }
   ],
   "source": [
    "print(s.peek())"
   ]
  },
  {
   "source": [
    "#### d)"
   ],
   "cell_type": "markdown",
   "metadata": {}
  },
  {
   "source": [
    "### If the stack is filled completely and trying to perform push operation stack – overflow can happen."
   ],
   "cell_type": "markdown",
   "metadata": {}
  },
  {
   "source": [
    "### 2)"
   ],
   "cell_type": "markdown",
   "metadata": {}
  },
  {
   "cell_type": "code",
   "execution_count": 47,
   "metadata": {},
   "outputs": [],
   "source": [
    "class aQueue(iArray):\n",
    "    def __init__(self,capacity=5):\n",
    "        self._items = iArray(capacity)\n",
    "        self._rear = -1\n",
    "        self._size = 0\n",
    "\n",
    "\n",
    "    def enqueue(self,newItem):\n",
    "        self._rear +=1\n",
    "        self._size +=1\n",
    "        self._items[self._rear]=newItem\n",
    "\n",
    "\n",
    "    def dequeue(self):\n",
    "        oldItem = self._items[0]\n",
    "        for i in range (len(self)-1):\n",
    "            self._items[i]= self._items[i+1]\n",
    "            self._items[i+1]= None\n",
    "\n",
    "        self._rear -=1\n",
    "        self._size -=1\n",
    "\n",
    "        return(oldItem)\n",
    "\n",
    "\n",
    "\n",
    "    def peek(self):\n",
    "      return (self._items[0]) \n",
    "\n",
    "\n",
    "\n",
    "    def __len__(self):\n",
    "        return(self._size)\n",
    "\n",
    "\n",
    "    def __str__(self):\n",
    "        result=' '\n",
    "        for i in range(len(self)):\n",
    "            result += str(self._items[i])+' '\n",
    "        return result\n",
    "\n",
    "\n"
   ]
  },
  {
   "source": [
    "### a)"
   ],
   "cell_type": "markdown",
   "metadata": {}
  },
  {
   "cell_type": "code",
   "execution_count": 51,
   "metadata": {},
   "outputs": [
    {
     "output_type": "stream",
     "name": "stdout",
     "text": [
      " a \n"
     ]
    }
   ],
   "source": [
    "q = aQueue()\n",
    "q.enqueue('a')\n",
    "print(q)"
   ]
  },
  {
   "cell_type": "code",
   "execution_count": 52,
   "metadata": {},
   "outputs": [
    {
     "output_type": "stream",
     "name": "stdout",
     "text": [
      " a b \n"
     ]
    }
   ],
   "source": [
    "q.enqueue('b')\n",
    "print(q)"
   ]
  },
  {
   "cell_type": "code",
   "execution_count": 53,
   "metadata": {},
   "outputs": [
    {
     "output_type": "stream",
     "name": "stdout",
     "text": [
      " a b c \n"
     ]
    }
   ],
   "source": [
    "q.enqueue('c')\n",
    "print(q)"
   ]
  },
  {
   "cell_type": "code",
   "execution_count": 54,
   "metadata": {},
   "outputs": [
    {
     "output_type": "stream",
     "name": "stdout",
     "text": [
      " b c \n"
     ]
    }
   ],
   "source": [
    "q.dequeue()\n",
    "print(q)"
   ]
  },
  {
   "cell_type": "code",
   "execution_count": 55,
   "metadata": {},
   "outputs": [
    {
     "output_type": "stream",
     "name": "stdout",
     "text": [
      " b c d \n"
     ]
    }
   ],
   "source": [
    "q.enqueue('d')\n",
    "print(q)"
   ]
  },
  {
   "source": [
    "### b)"
   ],
   "cell_type": "markdown",
   "metadata": {}
  },
  {
   "cell_type": "code",
   "execution_count": 56,
   "metadata": {},
   "outputs": [
    {
     "output_type": "stream",
     "name": "stdout",
     "text": [
      "b\n"
     ]
    }
   ],
   "source": [
    "print(q.peek())"
   ]
  },
  {
   "cell_type": "code",
   "execution_count": null,
   "metadata": {},
   "outputs": [],
   "source": []
  }
 ]
}