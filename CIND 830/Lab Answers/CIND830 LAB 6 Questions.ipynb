{
 "metadata": {
  "language_info": {
   "codemirror_mode": {
    "name": "ipython",
    "version": 3
   },
   "file_extension": ".py",
   "mimetype": "text/x-python",
   "name": "python",
   "nbconvert_exporter": "python",
   "pygments_lexer": "ipython3",
   "version": "3.9.2-final"
  },
  "orig_nbformat": 2,
  "kernelspec": {
   "name": "python3",
   "display_name": "Python 3.9.2 64-bit",
   "metadata": {
    "interpreter": {
     "hash": "1274a373a0b7fd1496a613d3618547b52793bd263bd2f08be1c41a20c0265411"
    }
   }
  }
 },
 "nbformat": 4,
 "nbformat_minor": 2,
 "cells": [
  {
   "source": [
    "## Function"
   ],
   "cell_type": "markdown",
   "metadata": {}
  },
  {
   "cell_type": "code",
   "execution_count": null,
   "metadata": {},
   "outputs": [],
   "source": []
  },
  {
   "source": [
    "#### 1-a-b)"
   ],
   "cell_type": "markdown",
   "metadata": {}
  },
  {
   "cell_type": "code",
   "execution_count": 5,
   "metadata": {},
   "outputs": [
    {
     "output_type": "stream",
     "name": "stdout",
     "text": [
      "the total sum is:  60.0\n"
     ]
    }
   ],
   "source": [
    "def isum(listnum):\n",
    "    totalsum = 0\n",
    "    for i in range(0,len(listnum)):\n",
    "        totalsum += float(listnum[i])\n",
    "    return(totalsum)\n",
    "    \n",
    "\n",
    "\n",
    "\n",
    "\n",
    "istring= input(\"enter a list of numbers seperated by space: \")\n",
    "ilist = istring.split()\n",
    "print(\"the total sum is: \", isum(ilist))\n",
    "\n",
    "\n"
   ]
  },
  {
   "source": [
    "#### 1-c)"
   ],
   "cell_type": "markdown",
   "metadata": {}
  },
  {
   "cell_type": "code",
   "execution_count": 12,
   "metadata": {},
   "outputs": [
    {
     "output_type": "stream",
     "name": "stdout",
     "text": [
      "the total sum is\t  60.0\nthe AVG is\t 20.0\n"
     ]
    }
   ],
   "source": [
    "def iaverage(listnum):\n",
    "    return(isum(ilist)/len(listnum))\n",
    "\n",
    "\n",
    "\n",
    "istring= input(\"enter a list of numbers seperated by space: \")\n",
    "ilist = istring.split()\n",
    "print(\"the total sum is\\t \", isum(ilist))\n",
    "print(\"the AVG is\\t\", iaverage(ilist))    "
   ]
  },
  {
   "source": [
    "#### 1-d)"
   ],
   "cell_type": "markdown",
   "metadata": {}
  },
  {
   "cell_type": "code",
   "execution_count": 16,
   "metadata": {},
   "outputs": [
    {
     "output_type": "stream",
     "name": "stdout",
     "text": [
      "the AVG is \t 20.0\nthe median is\t 20.0\nthe mode is\t 10.0\n"
     ]
    }
   ],
   "source": [
    "from statistics import mean, median, mode, stdev, harmonic_mean\n",
    "istring=input('enter a list of numbers seperated by space: ')\n",
    "ilist=[float(i) for i in istring.split()]\n",
    "print('the AVG is \\t', mean(ilist))\n",
    "print('the median is\\t', median(ilist))\n",
    "print('the mode is\\t', mode(ilist))"
   ]
  },
  {
   "cell_type": "code",
   "execution_count": 18,
   "metadata": {},
   "outputs": [
    {
     "output_type": "stream",
     "name": "stdout",
     "text": [
      "the harmonic_maen is \t:  16.363636363636363\n"
     ]
    }
   ],
   "source": [
    "print('the harmonic_maen is \\t: ', harmonic_mean(ilist))"
   ]
  },
  {
   "cell_type": "code",
   "execution_count": 19,
   "metadata": {},
   "outputs": [
    {
     "output_type": "stream",
     "name": "stdout",
     "text": [
      "Help on function harmonic_mean in module statistics:\n\nharmonic_mean(data)\n    Return the harmonic mean of data.\n    \n    The harmonic mean, sometimes called the subcontrary mean, is the\n    reciprocal of the arithmetic mean of the reciprocals of the data,\n    and is often appropriate when averaging quantities which are rates\n    or ratios, for example speeds. Example:\n    \n    Suppose an investor purchases an equal value of shares in each of\n    three companies, with P/E (price/earning) ratios of 2.5, 3 and 10.\n    What is the average P/E ratio for the investor's portfolio?\n    \n    >>> harmonic_mean([2.5, 3, 10])  # For an equal investment portfolio.\n    3.6\n    \n    Using the arithmetic mean would give an average of about 5.167, which\n    is too high.\n    \n    If ``data`` is empty, or any element is less than zero,\n    ``harmonic_mean`` will raise ``StatisticsError``.\n\n"
     ]
    }
   ],
   "source": [
    "help(harmonic_mean)"
   ]
  },
  {
   "source": [
    "#### Typically, it is appropriate for situations when the average of rates is desired because it equalizes the weights of each data point. For instance, the arithmetic mean places a high weight on large data points, while the geometric mean gives a lower weight to the smaller data points."
   ],
   "cell_type": "markdown",
   "metadata": {}
  },
  {
   "source": [
    "## Class"
   ],
   "cell_type": "markdown",
   "metadata": {}
  },
  {
   "source": [
    "#### 2-a)"
   ],
   "cell_type": "markdown",
   "metadata": {}
  },
  {
   "cell_type": "code",
   "execution_count": 11,
   "metadata": {},
   "outputs": [],
   "source": [
    "class Student:\n",
    "    def __init__(self,namestudent,subjcode,gpagrade):\n",
    "        self.namestudent = namestudent\n",
    "        self.subjcode = subjcode\n",
    "        self.gpagrade = gpagrade\n",
    "\n",
    "    def is_diffName(self, std2):\n",
    "        if self.namestudent != std2.namestudent:\n",
    "            return(True)\n",
    "        else:\n",
    "            return (False)    \n",
    "\n",
    "\n",
    "\n"
   ]
  },
  {
   "source": [
    "\n",
    "cestudent= Student ('Hurry','IND-830',3.9)\n",
    "print(cestudent.namestudent)\n",
    "print(cestudent.subjcode)\n",
    "print(cestudent.gpagrade)"
   ],
   "cell_type": "code",
   "metadata": {},
   "execution_count": 7,
   "outputs": [
    {
     "output_type": "stream",
     "name": "stdout",
     "text": [
      "Hurry\nIND-830\n3.9\n"
     ]
    }
   ]
  },
  {
   "source": [
    "## 2-d"
   ],
   "cell_type": "markdown",
   "metadata": {}
  },
  {
   "cell_type": "code",
   "execution_count": 15,
   "metadata": {},
   "outputs": [
    {
     "output_type": "stream",
     "name": "stdout",
     "text": [
      "False\nTrue\n"
     ]
    }
   ],
   "source": [
    "cestudent1 = Student('Harry', 'IND-830', 3.9)\n",
    "cestudent2 = Student('Harry', 'IND-830', 3.9)\n",
    "cestudent3 = Student('Sally', 'IND-830', 3.9)\n",
    "\n",
    "\n",
    "print(cestudent1.is_diffName(cestudent2))\n",
    "\n",
    "print(cestudent1.is_diffName(cestudent3))"
   ]
  },
  {
   "source": [
    "#### 3-e)"
   ],
   "cell_type": "markdown",
   "metadata": {}
  },
  {
   "cell_type": "code",
   "execution_count": 21,
   "metadata": {},
   "outputs": [],
   "source": [
    "class unimember:\n",
    "    def __init__(self,namemem,addressmem,emialmem):\n",
    "        self.namemem = namemem\n",
    "        self.addressmem = addressmem\n",
    "        self.emialmem = emialmem\n",
    "\n",
    "\n",
    "class Student(unimember):\n",
    "     def __init__ (self, namemem,addressmem, emialmem, subjcode, gpagrade):\n",
    "         super().__init__(namemem,addressmem,emialmem)\n",
    "         self.subjcode=subjcode\n",
    "         self.gpagrade = gpagrade       "
   ]
  },
  {
   "source": [
    "#### 3-f)"
   ],
   "cell_type": "markdown",
   "metadata": {}
  },
  {
   "cell_type": "code",
   "execution_count": 22,
   "metadata": {},
   "outputs": [
    {
     "output_type": "stream",
     "name": "stdout",
     "text": [
      "harry@ryerson.ca\n3.9\n"
     ]
    }
   ],
   "source": [
    "ceStudent1 = Student('Harry', 'Montreal'\\\n",
    ", 'harry@ryerson.ca', 'IND-830', 3.9)\n",
    "ceStudent2 = Student('Sally', 'Toronto'\\\n",
    ", 'sally@ryerson.ca', 'IND-830', 4.1)\n",
    "\n",
    "\n",
    "print(ceStudent1.emialmem) \n",
    "print(ceStudent1.gpagrade)\n"
   ]
  },
  {
   "cell_type": "code",
   "execution_count": null,
   "metadata": {},
   "outputs": [],
   "source": []
  }
 ]
}