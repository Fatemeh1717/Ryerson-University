{
 "cells": [
  {
   "cell_type": "markdown",
   "metadata": {
    "id": "zb9n5Pg2TJKM"
   },
   "source": [
    "## CIND830 - Python Programming for Data Science  \n",
    "### Assignment 3 (10% of the final grade) \n",
    "### Due on April 12th, 2021 11:59 PM"
   ]
  },
  {
   "cell_type": "markdown",
   "metadata": {
    "id": "Oua2yEQZTdq9"
   },
   "source": [
    "*****\n",
    "This is a Jupyter Notebook document that extends a simple formatting syntax for authoring HTML and PDF.\n",
    "Review [this](https://jupyter-notebook.readthedocs.io/en/stable/notebook.html) website for more details on using Jupyter Notebook.\n",
    "\n",
    "Use the JupyterHub server on the Google Cloud Platform, provided by your designated instructor, for this assignment. \n",
    "Ensure using **Python 3.7.6** release then complete the assignment by inserting your Python code wherever seeing the string \"###CODE HERE ###\"\n",
    "\n",
    "When you click the `File` button, from the top navigation bar, then select `Export Notebook As ...`,\n",
    "a document (PDF or HTML format) will be generated that includes\n",
    " both the assignment content and the output of any embedded Python code chunks.\n",
    "\n",
    "Using [these](https://www.ryerson.ca/courses/students/tutorials/assignments/) guidelines,\n",
    "submit **both** the IPYNB and the exported file (PDF or HTML).\n",
    "Failing to submit both files will be subject to mark deduction."
   ]
  },
  {
   "cell_type": "markdown",
   "metadata": {
    "id": "2XVANSUVTgmc"
   },
   "source": [
    "### Question 1 **[30 pts]**:"
   ]
  },
  {
   "cell_type": "markdown",
   "metadata": {
    "id": "T_ueqP8hMKKP"
   },
   "source": [
    "**a)** Complete the methods of the following `Stack` class according to their description"
   ]
  },
  {
   "cell_type": "code",
   "execution_count": 1,
   "metadata": {
    "id": "LGPsOUXiS6Uf"
   },
   "outputs": [],
   "source": [
    "class Stack:\n",
    "  def __init__(self):\n",
    "    \"\"\" Initialize a new stack \"\"\"\n",
    "    self.elements = []\n",
    "\n",
    "  def push(self, new_item):\n",
    "    \"\"\" Append the new item to the stack \"\"\"\n",
    "    self.elements.append(new_item)\n",
    "\n",
    "  def pop(self):\n",
    "    \"\"\" Remove and return the last item from the stack \"\"\"\n",
    "    return self.elements.pop()\n",
    "\n",
    "  def size(self):\n",
    "    \"\"\" Return the total number of elements in the stack \"\"\"\n",
    "    return len(self.elements)\n",
    "\n",
    "  def is_empty(self):\n",
    "    \"\"\" Return True if the stack is empty and False if it is not empty \"\"\"\n",
    "    return self.size() == 0\n",
    "\n",
    "  def peek(self):\n",
    "    \"\"\" Return the element at the top of the stack or return None if the stack is empty \"\"\"\n",
    "    if(self.is_empty()):\n",
    "      return None\n",
    "    else:\n",
    "      return self.elements[0]"
   ]
  },
  {
   "cell_type": "markdown",
   "metadata": {
    "id": "ASIiP_EGRpgZ"
   },
   "source": [
    "Use the Stack class you defined in `Q1a` to solve the following problems."
   ]
  },
  {
   "cell_type": "markdown",
   "metadata": {
    "id": "OZtV4CYYMRV7"
   },
   "source": [
    "**b)** Write a function to detect whether the orders of brackets is correct using stacks. Some examples are given below:"
   ]
  },
  {
   "cell_type": "code",
   "execution_count": 2,
   "metadata": {
    "id": "V8TkHXcYMRpW"
   },
   "outputs": [],
   "source": [
    "exp1 = \"(2+3)+(1-5)\" # True\n",
    "exp2 = \"((3*2))*(7/3))\" # False\n",
    "exp3 = \"(3*5))]\" # False"
   ]
  },
  {
   "cell_type": "code",
   "execution_count": 3,
   "metadata": {
    "id": "T9sjhF1AOUWE"
   },
   "outputs": [],
   "source": [
    "def is_valid(exp):\n",
    "  \"\"\" Check the orders of the brackets\n",
    "      Returns True or False\n",
    "  \"\"\"\n",
    "  opening = ['(', '[', '{']\n",
    "  closing = [')', ']', '}']\n",
    "  is_exp_valid = True\n",
    "  \n",
    "  stack = Stack()\n",
    "\n",
    "  #save all brackets on stack\n",
    "  for i in exp:\n",
    "    if i in opening or i in closing:\n",
    "      stack.push(i)\n",
    "\n",
    "\n",
    "  #check if even, if not mean this is not valid\n",
    "  if stack.size() % 2 == 1:\n",
    "    is_exp_valid = False\n",
    "  else:\n",
    "    while not stack.is_empty(): #while there's an element in the stack\n",
    "     first_elem = stack.peek() \n",
    "     poped_elem = stack.pop() #last element on stack; also removed the last elem on stack\n",
    "     opening_index = None\n",
    "     closing_index = None\n",
    "\n",
    "  #check if the first elem and last elem on the stack is opening or closing bracket\n",
    "     if first_elem in opening:\n",
    "       opening_index = opening.index(first_elem)\n",
    "       closing_index = closing.index(poped_elem)\n",
    "     elif first_elem in closing:\n",
    "       opening_index = opening.index(poped_elem)\n",
    "       closing_index = closing.index(first_elem)\n",
    "\n",
    "     #compare if they are pair\n",
    "\n",
    "     if opening_index != closing_index:\n",
    "       is_exp_valid = False\n",
    "       break\n",
    "     else:\n",
    "       stack.elements.pop(0) #remove the first elem on stack\n",
    "\n",
    "  return is_exp_valid"
   ]
  },
  {
   "cell_type": "code",
   "execution_count": 4,
   "metadata": {
    "id": "WCQE8vwMPxg9"
   },
   "outputs": [
    {
     "output_type": "execute_result",
     "data": {
      "text/plain": [
       "True"
      ]
     },
     "metadata": {},
     "execution_count": 4
    }
   ],
   "source": [
    "is_valid(exp1)"
   ]
  },
  {
   "cell_type": "code",
   "execution_count": 5,
   "metadata": {
    "id": "YwKnc00BPwfF"
   },
   "outputs": [
    {
     "output_type": "execute_result",
     "data": {
      "text/plain": [
       "False"
      ]
     },
     "metadata": {},
     "execution_count": 5
    }
   ],
   "source": [
    "is_valid(exp2)"
   ]
  },
  {
   "cell_type": "code",
   "execution_count": 6,
   "metadata": {
    "id": "_tzEaZ7mPwuE"
   },
   "outputs": [
    {
     "output_type": "execute_result",
     "data": {
      "text/plain": [
       "False"
      ]
     },
     "metadata": {},
     "execution_count": 6
    }
   ],
   "source": [
    "is_valid(exp3)"
   ]
  },
  {
   "cell_type": "markdown",
   "metadata": {
    "id": "lJUBQ390ORLZ"
   },
   "source": [
    "**c)** Write a simple spell checking function using **stacks** that removes consecutive similar strings from a sequence of words. Some examples are given below \\\\"
   ]
  },
  {
   "cell_type": "markdown",
   "metadata": {
    "id": "vQlouBFKSh8K"
   },
   "source": [
    "**HINT**: You can use the `peek` function of the Stack "
   ]
  },
  {
   "cell_type": "markdown",
   "metadata": {
    "id": "OZBGIpW4Sm6e"
   },
   "source": [
    "Input: hello world world \\\\\n",
    "Output: hello world"
   ]
  },
  {
   "cell_type": "markdown",
   "metadata": {
    "id": "li04Ps64TBwO"
   },
   "source": [
    "Input: Such an an amazing time to be alive! \\\\\n",
    "Output: Such an amazing time to be alive!"
   ]
  },
  {
   "cell_type": "code",
   "execution_count": 9,
   "metadata": {
    "id": "Rhem08S2Qjfc"
   },
   "outputs": [],
   "source": [
    "text1 = \"hello world world\"\n",
    "text2 = \"Such an an amazing time to be alive!\""
   ]
  },
  {
   "cell_type": "code",
   "execution_count": 10,
   "metadata": {
    "colab": {
     "base_uri": "https://localhost:8080/",
     "height": 125
    },
    "id": "ehxjtggUQjhg",
    "outputId": "3b75b5bf-e681-4999-fb78-fcf22f97b1f9"
   },
   "outputs": [],
   "source": [
    "\n",
    "def remove_consecutive_repeats(text):\n",
    "      \n",
    "    # Store the string without \n",
    "    # duplicate elements\n",
    "    st = []\n",
    "      \n",
    "    # Store the index of str\n",
    "    i = 0\n",
    "    \n",
    "    str1= text.split(\" \")\n",
    "      \n",
    "    # Traverse the string str\n",
    "\n",
    "    while i < len(str1):\n",
    "          \n",
    "        # Checks if stack is empty or top of the\n",
    "        # stack is not equal to current character\n",
    "        if len(st)== 0 or str1[i] != st[-1]:\n",
    "            st.append(str1[i])\n",
    "            i += 1\n",
    "              \n",
    "        # If top element of the stack is \n",
    "        # equal to the current character\n",
    "        else:\n",
    "            i += 1\n",
    "              \n",
    "    # If stack is empty\n",
    "    if len(st)== 0:\n",
    "        return(\"Empty String\")\n",
    "          \n",
    "    # If stack is not Empty\n",
    "    else:\n",
    "        short_string = \"\"\n",
    "        for i in st:\n",
    "            short_string+=str(i)+\" \"    \n",
    "        return(short_string)\n",
    "        \n",
    "\n",
    "\n"
   ]
  },
  {
   "cell_type": "code",
   "execution_count": 11,
   "metadata": {
    "id": "Oqeb_EbZQjjj"
   },
   "outputs": [
    {
     "output_type": "execute_result",
     "data": {
      "text/plain": [
       "'hello world '"
      ]
     },
     "metadata": {},
     "execution_count": 11
    }
   ],
   "source": [
    "remove_consecutive_repeats(text1)"
   ]
  },
  {
   "cell_type": "code",
   "execution_count": 12,
   "metadata": {
    "id": "oDj-jSSGQjlz"
   },
   "outputs": [
    {
     "output_type": "execute_result",
     "data": {
      "text/plain": [
       "'Such an amazing time to be alive! '"
      ]
     },
     "metadata": {},
     "execution_count": 12
    }
   ],
   "source": [
    "remove_consecutive_repeats(text2)"
   ]
  },
  {
   "cell_type": "markdown",
   "metadata": {
    "id": "KE-n_dv5TjDV"
   },
   "source": [
    "### Question 2 **[30 pts]**:\n",
    "\n",
    "\n"
   ]
  },
  {
   "cell_type": "markdown",
   "metadata": {
    "id": "g_VbWFF0Y9Va"
   },
   "source": [
    "Implement Round Robin Scheduling algorithm using queues in Python. It is the most commonly used algorithm for CPU scheduling. \n",
    "- Each process takes an equal share of CPU time. For this question we choose a time quantum of 2 units.\n",
    "- After being processed for a predefined time, if the process still requires more computation, it is passed to a waiting queue."
   ]
  },
  {
   "cell_type": "markdown",
   "metadata": {
    "id": "3JkZ4i7pleDS"
   },
   "source": [
    "Answer the following questions:\n",
    "- Report the time each process is completed\n",
    "- Report wait times of each process in the queue\n"
   ]
  },
  {
   "cell_type": "markdown",
   "metadata": {
    "id": "2vsMr5mlluHc"
   },
   "source": [
    "$$\\text{Wait time} = \\text{End time} - \\text{Arrival Time} - \\text{Required Time}$$"
   ]
  },
  {
   "cell_type": "markdown",
   "metadata": {
    "id": "vYRpThg9j5aK"
   },
   "source": [
    ">Process ID | Arrival Time | Required Time |\n",
    ">--- | --- | ---\n",
    ">P1 | 0 | 4\n",
    ">P2 | 1 | 3\n",
    ">P3 | 2 | 2\n",
    ">P4 | 3 | 1\n"
   ]
  },
  {
   "cell_type": "code",
   "execution_count": 13,
   "metadata": {},
   "outputs": [
    {
     "output_type": "stream",
     "name": "stdout",
     "text": [
      "{'P1': 5, 'P2': 9, 'P3': 7, 'P4': 8}\n{'P1': 1, 'P2': 5, 'P3': 3, 'P4': 4}\n"
     ]
    }
   ],
   "source": [
    "from collections import deque\n",
    "time_quantum = 2\n",
    "\n",
    "\n",
    "class Process:\n",
    "    def __init__(self, name, arrival_time, required_time):\n",
    "        self.name = name\n",
    "        self.arrival_time = arrival_time\n",
    "        self.required_time = required_time\n",
    "        self.time_processed = 0\n",
    "\n",
    "    def __repr__(self):\n",
    "        return self.name\n",
    "\n",
    "\n",
    "p0 = Process('P1', 0, 4)\n",
    "p1 = Process('P2', 1, 3)\n",
    "p2 = Process('P3', 2, 2)\n",
    "p3 = Process('P4', 3, 1)\n",
    "processes = [p0, p1, p2, p3]\n",
    "\n",
    "end_times = {process.name: 0 for process in processes}\n",
    "wait_times = {process.name: 0 for process in processes}\n",
    "\n",
    "queue = deque()\n",
    "running_proc = None  # Tracks running process in the CPU\n",
    "running_proc_time = 0  # Tracks the time running process spent in the CPU\n",
    "for t in range(11):\n",
    "    ### CODE HERE ###\n",
    "    for process in processes:\n",
    "        if process.arrival_time == t:\n",
    "            queue.append(process)\n",
    "    \n",
    "    if running_proc is None:\n",
    "        if len(queue) != 0:\n",
    "            running_proc = queue.popleft()\n",
    "            running_proc_time = 0\n",
    "    \n",
    "    if running_proc == None:\n",
    "        continue\n",
    "\n",
    "    running_proc.time_processed += 1 \n",
    "    running_proc_time += 1\n",
    "    \n",
    "    if running_proc.time_processed == running_proc.required_time:\n",
    "        end_times[str(running_proc)] = t\n",
    "        wait_times[str(running_proc)] = t - running_proc.arrival_time - running_proc.required_time\n",
    "        running_proc = None\n",
    "    elif running_proc_time >= time_quantum:\n",
    "        queue.append(running_proc)\n",
    "        running_proc = None\n",
    "        \n",
    "print(end_times)  # End times for each process\n",
    "print(wait_times)  # Wait times for each process in the queue"
   ]
  },
  {
   "cell_type": "markdown",
   "metadata": {
    "id": "7sb2R8AP7xp_"
   },
   "source": [
    "### Question 3 **[60 pts]**:\n",
    "\n",
    "\n"
   ]
  },
  {
   "cell_type": "markdown",
   "metadata": {
    "id": "u5MYNFS67xqL"
   },
   "source": [
    "Write a funciton to find the maximum length possible by cutting N given sticks into at least K pieces. \\\n",
    "Given an array `stick[]` of size **N**, representing the length of *N* pieces of stick and an integer *K*, at least **K** pieces of the same length need to be cut from the given stick pieces. The task is to find the maximum possible length of these K stick pieces that can be obtained. \\\n",
    "\\\n",
    "Examples: \\\n",
    "\n",
    "Input: stick[] = {5, 9, 7}, K = 3 \\\n",
    "Output: 5 \\\n",
    "\n",
    "Explanation: \\\n",
    "Cut arr[0] = 5 = 5 \\\n",
    "Cut arr[1] = 9 = 5 + 4 \\\n",
    "Cut arr[2] = 5 = 5 + 2 \\\n",
    "Therefore, the maximum length that can be obtained by cutting the sticks into 3 pieces is 5.\\\n",
    "\n",
    "Input: stick[] = {5, 9, 7}, K = 4 \\\n",
    "Output: 4 \\\n",
    "\n",
    "Explanation: \\\n",
    "Cut arr[0] = 5 = 4 + 1 \\\n",
    "Cut arr[1] = 9 = 2 * 4 + 1 \\\n",
    "Cut arr[2] = 7 = 4 + 3 \\\n",
    "Therefore, the maximum length that can be obtained by cutting the sticks into 4 pieces is 4. \n"
   ]
  },
  {
   "cell_type": "code",
   "execution_count": 15,
   "metadata": {
    "id": "TGd92hc_7xqL"
   },
   "outputs": [
    {
     "output_type": "stream",
     "name": "stdout",
     "text": [
      "5\n"
     ]
    }
   ],
   "source": [
    "def isValid(stick, N, len, K):\n",
    " \n",
    "    count = 0\n",
    " \n",
    "    # Traverse stick[] array\n",
    "    for i in range(N):\n",
    " \n",
    "        # Update count\n",
    "        count += stick[i] // len\n",
    "         \n",
    "    return (count >= K)\n",
    " \n",
    "# Function to find the maximum value of Len\n",
    "def findMaxLen(stick, N, K):\n",
    " \n",
    "    # Stores minimum possible of Len\n",
    "    left = 1\n",
    " \n",
    "    # Stores maximum possible value of Len\n",
    "    right = max(stick)\n",
    " \n",
    "    # Apply binary search over\n",
    "    # the range [left, right]\n",
    "    while (left <= right):\n",
    "         \n",
    "        # Stores mid value of\n",
    "        # left and right\n",
    "        mid = left + (right - left) // 2\n",
    " \n",
    "        # If it is possible to cut sticks\n",
    "        # into K pieces having length\n",
    "        # of each piece equal to mid\n",
    "        if (isValid(stick, N, mid, K)):\n",
    " \n",
    "            # Update left\n",
    "            left = mid + 1\n",
    "        else:\n",
    "             \n",
    "            # Update right\n",
    "            right = mid - 1\n",
    "             \n",
    "    return right\n",
    " \n",
    "stick = [ 5, 9, 7 ]\n",
    "N = len(stick)\n",
    "K = 3\n",
    "     \n",
    "print(findMaxLen(stick, N, K))"
   ]
  },
  {
   "cell_type": "markdown",
   "metadata": {
    "id": "T4fxYksbEDfP"
   },
   "source": [
    "### Question 4 **[20 pts]**: \n",
    "Write a function to move all negative numbers to the beginning and positives to the end.  \\\n",
    "An array contains both positive and negative numbers in random order. \\\n",
    "Rearrange the array elements so that all negative numbers appear before all positive numbers.  \\\n",
    "\n",
    "Example : \n",
    "\n",
    "Input: -12, 11, -13, -5, 6, -7, 5, -3, -6 \\\n",
    "Output: -12 -13 -5 -7 -3 -6 11 6 5 \\\n",
    "Note: Order of elements is **not** important."
   ]
  },
  {
   "cell_type": "code",
   "execution_count": 16,
   "metadata": {
    "id": "jBmo3JFs7xqM"
   },
   "outputs": [
    {
     "output_type": "stream",
     "name": "stdout",
     "text": [
      "[-12, -13, -5, -7, -3, -6, 11, 6, 5]\n"
     ]
    }
   ],
   "source": [
    "### CODE HERE ###\n",
    "def rearrange(arr, n ) :\n",
    " \n",
    "    j = 0\n",
    "    for i in range(0, n) :\n",
    "        temp = arr[i]\n",
    "        if (temp> 0) :\n",
    "            continue\n",
    "        j=i-1\n",
    "        while(arr[j]>0 and j>=0):\n",
    "            arr[j+1]=arr[j]\n",
    "            j=j-1\n",
    "        arr[j+1]=temp\n",
    "    return arr\n",
    " \n",
    "# Driver code\n",
    "arr = [-12, 11, -13, -5, 6, -7, 5, -3, -6]\n",
    "n = len(arr)\n",
    "print(rearrange(arr, n))\n",
    " \n",
    " "
   ]
  },
  {
   "cell_type": "code",
   "execution_count": null,
   "metadata": {},
   "outputs": [],
   "source": []
  }
 ],
 "metadata": {
  "colab": {
   "collapsed_sections": [],
   "name": "CIND830W21 Assignment 3.ipynb",
   "provenance": []
  },
  "kernelspec": {
   "name": "python392jvsc74a57bd01274a373a0b7fd1496a613d3618547b52793bd263bd2f08be1c41a20c0265411",
   "display_name": "Python 3.9.2 64-bit"
  },
  "language_info": {
   "codemirror_mode": {
    "name": "ipython",
    "version": 3
   },
   "file_extension": ".py",
   "mimetype": "text/x-python",
   "name": "python",
   "nbconvert_exporter": "python",
   "pygments_lexer": "ipython3",
   "version": "3.9.2"
  },
  "metadata": {
   "interpreter": {
    "hash": "1274a373a0b7fd1496a613d3618547b52793bd263bd2f08be1c41a20c0265411"
   }
  }
 },
 "nbformat": 4,
 "nbformat_minor": 4
}