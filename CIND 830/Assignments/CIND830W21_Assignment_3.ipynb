{
  "nbformat": 4,
  "nbformat_minor": 0,
  "metadata": {
    "colab": {
      "name": "CIND830W21 Assignment 3.ipynb",
      "provenance": [],
      "collapsed_sections": []
    },
    "kernelspec": {
      "name": "python3",
      "display_name": "Python 3"
    }
  },
  "cells": [
    {
      "cell_type": "markdown",
      "metadata": {
        "id": "zb9n5Pg2TJKM"
      },
      "source": [
        "## CIND830 - Python Programming for Data Science  \r\n",
        "### Assignment 3 (10% of the final grade) \r\n",
        "### Due on April 12th, 2021 11:59 PM"
      ]
    },
    {
      "cell_type": "markdown",
      "metadata": {
        "id": "Oua2yEQZTdq9"
      },
      "source": [
        "*****\r\n",
        "This is a Jupyter Notebook document that extends a simple formatting syntax for authoring HTML and PDF.\r\n",
        "Review [this](https://jupyter-notebook.readthedocs.io/en/stable/notebook.html) website for more details on using Jupyter Notebook.\r\n",
        "\r\n",
        "Use the JupyterHub server on the Google Cloud Platform, provided by your designated instructor, for this assignment. \r\n",
        "Ensure using **Python 3.7.6** release then complete the assignment by inserting your Python code wherever seeing the string \"###CODE HERE ###\"\r\n",
        "\r\n",
        "When you click the `File` button, from the top navigation bar, then select `Export Notebook As ...`,\r\n",
        "a document (PDF or HTML format) will be generated that includes\r\n",
        " both the assignment content and the output of any embedded Python code chunks.\r\n",
        "\r\n",
        "Using [these](https://www.ryerson.ca/courses/students/tutorials/assignments/) guidelines,\r\n",
        "submit **both** the IPYNB and the exported file (PDF or HTML).\r\n",
        "Failing to submit both files will be subject to mark deduction."
      ]
    },
    {
      "cell_type": "markdown",
      "metadata": {
        "id": "2XVANSUVTgmc"
      },
      "source": [
        "### Question 1 **[30 pts]**:"
      ]
    },
    {
      "cell_type": "markdown",
      "metadata": {
        "id": "T_ueqP8hMKKP"
      },
      "source": [
        "**a)** Complete the methods of the following `Stack` class according to their description"
      ]
    },
    {
      "cell_type": "code",
      "metadata": {
        "id": "LGPsOUXiS6Uf"
      },
      "source": [
        "class Stack:\r\n",
        "  def __init__(self):\r\n",
        "    \"\"\" Initialize a new stack \"\"\"\r\n",
        "    self.elements = []\r\n",
        "  def push(self, new_item):\r\n",
        "    \"\"\" Append the new item to the stack \"\"\"\r\n",
        "    ## CODE HERE ###\r\n",
        "  def pop(self):\r\n",
        "    \"\"\" Remove and return the last item from the stack \"\"\"\r\n",
        "    ## CODE HERE ###\r\n",
        "  def size(self):\r\n",
        "    \"\"\" Return the total number of elements in the stack \"\"\"\r\n",
        "    ## CODE HERE ###\r\n",
        "  def is_empty(self):\r\n",
        "    \"\"\" Return True if the stack is empty and False if it is not empty \"\"\"\r\n",
        "    ## CODE HERE ###\r\n",
        "  def peek(self):\r\n",
        "    \"\"\" Return the element at the top of the stack or return None if the stack is empty \"\"\"\r\n",
        "    ## CODE HERE ###"
      ],
      "execution_count": 1,
      "outputs": []
    },
    {
      "cell_type": "markdown",
      "metadata": {
        "id": "ASIiP_EGRpgZ"
      },
      "source": [
        "Use the Stack class you defined in `Q1a` to solve the following problems."
      ]
    },
    {
      "cell_type": "markdown",
      "metadata": {
        "id": "OZtV4CYYMRV7"
      },
      "source": [
        "**b)** Write a function to detect whether the orders of brackets is correct using stacks. Some examples are given below:"
      ]
    },
    {
      "cell_type": "code",
      "metadata": {
        "id": "V8TkHXcYMRpW"
      },
      "source": [
        "exp1 = \"(2+3)+(1-5)\" # True\r\n",
        "exp2 = \"((3*2))*(7/3))\" # False\r\n",
        "exp3 = \"(3*5))]\" # False"
      ],
      "execution_count": 2,
      "outputs": []
    },
    {
      "cell_type": "code",
      "metadata": {
        "id": "T9sjhF1AOUWE"
      },
      "source": [
        "def is_valid(exp):\r\n",
        "  \"\"\" Check the orders of the brackets\r\n",
        "      Returns True or False\r\n",
        "  \"\"\"\r\n",
        "  opening = ['(', '[', '{']\r\n",
        "  closing = [')', ']', '}']\r\n",
        "  ### CODE HERE ###\r\n",
        "  return "
      ],
      "execution_count": 3,
      "outputs": []
    },
    {
      "cell_type": "code",
      "metadata": {
        "id": "WCQE8vwMPxg9"
      },
      "source": [
        "is_valid(exp1)"
      ],
      "execution_count": 4,
      "outputs": []
    },
    {
      "cell_type": "code",
      "metadata": {
        "id": "YwKnc00BPwfF"
      },
      "source": [
        "is_valid(exp2)"
      ],
      "execution_count": 5,
      "outputs": []
    },
    {
      "cell_type": "code",
      "metadata": {
        "id": "_tzEaZ7mPwuE"
      },
      "source": [
        "is_valid(exp3)"
      ],
      "execution_count": 6,
      "outputs": []
    },
    {
      "cell_type": "markdown",
      "metadata": {
        "id": "lJUBQ390ORLZ"
      },
      "source": [
        "**c)** Write a simple spell checking function using **stacks** that removes consecutive similar strings from a sequence of words. Some examples are given below \\\\"
      ]
    },
    {
      "cell_type": "markdown",
      "metadata": {
        "id": "vQlouBFKSh8K"
      },
      "source": [
        "**HINT**: You can use the `peek` function of the Stack "
      ]
    },
    {
      "cell_type": "markdown",
      "metadata": {
        "id": "OZBGIpW4Sm6e"
      },
      "source": [
        "Input: hello world world \\\\\r\n",
        "Output: hello world"
      ]
    },
    {
      "cell_type": "markdown",
      "metadata": {
        "id": "li04Ps64TBwO"
      },
      "source": [
        "Input: Such an an amazing time to be alive! \\\\\r\n",
        "Output: Such an amazing time to be alive!"
      ]
    },
    {
      "cell_type": "code",
      "metadata": {
        "id": "Rhem08S2Qjfc"
      },
      "source": [
        "text1 = \"hello world world\"\r\n",
        "text2 = \"Such an an amazing time to be alive!\""
      ],
      "execution_count": 7,
      "outputs": []
    },
    {
      "cell_type": "code",
      "metadata": {
        "id": "ehxjtggUQjhg",
        "colab": {
          "base_uri": "https://localhost:8080/",
          "height": 125
        },
        "outputId": "3b75b5bf-e681-4999-fb78-fcf22f97b1f9"
      },
      "source": [
        "def remove_consecutive_repeats(text):\r\n",
        "  ### CODE HERE ###"
      ],
      "execution_count": 8,
      "outputs": [
        {
          "output_type": "error",
          "ename": "SyntaxError",
          "evalue": "ignored",
          "traceback": [
            "\u001b[0;36m  File \u001b[0;32m\"<ipython-input-8-e38b83fb6f18>\"\u001b[0;36m, line \u001b[0;32m2\u001b[0m\n\u001b[0;31m    ### CODE HERE ###\u001b[0m\n\u001b[0m                     ^\u001b[0m\n\u001b[0;31mSyntaxError\u001b[0m\u001b[0;31m:\u001b[0m unexpected EOF while parsing\n"
          ]
        }
      ]
    },
    {
      "cell_type": "code",
      "metadata": {
        "id": "Oqeb_EbZQjjj"
      },
      "source": [
        "remove_consecutive_repeats(text1)"
      ],
      "execution_count": null,
      "outputs": []
    },
    {
      "cell_type": "code",
      "metadata": {
        "id": "oDj-jSSGQjlz"
      },
      "source": [
        "remove_consecutive_repeats(text2)"
      ],
      "execution_count": null,
      "outputs": []
    },
    {
      "cell_type": "markdown",
      "metadata": {
        "id": "KE-n_dv5TjDV"
      },
      "source": [
        "### Question 2 **[30 pts]**:\r\n",
        "\r\n",
        "\r\n"
      ]
    },
    {
      "cell_type": "markdown",
      "metadata": {
        "id": "g_VbWFF0Y9Va"
      },
      "source": [
        "Implement Round Robin Scheduling algorithm using queues in Python. It is the most commonly used algorithm for CPU scheduling. \r\n",
        "- Each process takes an equal share of CPU time. For this question we choose a time quantum of 2 units.\r\n",
        "- After being processed for a predefined time, if the process still requires more computation, it is passed to a waiting queue."
      ]
    },
    {
      "cell_type": "markdown",
      "metadata": {
        "id": "3JkZ4i7pleDS"
      },
      "source": [
        "Answer the following questions:\r\n",
        "- Report the time each process is completed\r\n",
        "- Report wait times of each process in the queue\r\n"
      ]
    },
    {
      "cell_type": "markdown",
      "metadata": {
        "id": "2vsMr5mlluHc"
      },
      "source": [
        "$$\\text{Wait time} = \\text{End time} - \\text{Arrival Time} - \\text{Required Time}$$"
      ]
    },
    {
      "cell_type": "markdown",
      "metadata": {
        "id": "vYRpThg9j5aK"
      },
      "source": [
        ">Process ID | Arrival Time | Required Time |\r\n",
        ">--- | --- | ---\r\n",
        ">P1 | 0 | 4\r\n",
        ">P2 | 1 | 3\r\n",
        ">P3 | 2 | 2\r\n",
        ">P4 | 3 | 1\r\n"
      ]
    },
    {
      "cell_type": "code",
      "metadata": {
        "id": "G_CIQvVTjJDe"
      },
      "source": [
        "from collections import deque\r\n",
        "time_quantum = 2"
      ],
      "execution_count": null,
      "outputs": []
    },
    {
      "cell_type": "code",
      "metadata": {
        "id": "ohPozokutM_o"
      },
      "source": [
        "class Process:\r\n",
        "  def __init__(self, name, arrival_time, required_time):\r\n",
        "    self.name = name\r\n",
        "    self.arrival_time = arrival_time\r\n",
        "    self.required_time = required_time\r\n",
        "    self.time_processed = 0\r\n",
        "  def __repr__(self):\r\n",
        "    return self.name"
      ],
      "execution_count": null,
      "outputs": []
    },
    {
      "cell_type": "code",
      "metadata": {
        "id": "UIfALROytbh5"
      },
      "source": [
        "p0 = Process('P1', 0, 4)\r\n",
        "p1 = Process('P2', 1, 3)\r\n",
        "p2 = Process('P3', 2, 2)\r\n",
        "p3 = Process('P4', 3, 1)\r\n",
        "processes = [p0, p1, p2, p3]"
      ],
      "execution_count": null,
      "outputs": []
    },
    {
      "cell_type": "code",
      "metadata": {
        "id": "8oG3avRfm1dB"
      },
      "source": [
        "end_times = {process.name:0 for process in processes}\r\n",
        "wait_times = {process.name:0 for process in processes}"
      ],
      "execution_count": null,
      "outputs": []
    },
    {
      "cell_type": "code",
      "metadata": {
        "id": "NpyDp5JFTl5u"
      },
      "source": [
        "queue = deque()\r\n",
        "running_proc = None # Tracks running process in the CPU\r\n",
        "running_proc_time = 0 # Tracks the time running process spent in the CPU\r\n",
        "for t in range(11):\r\n",
        "  ### CODE HERE ###\r\n"
      ],
      "execution_count": null,
      "outputs": []
    },
    {
      "cell_type": "code",
      "metadata": {
        "id": "N7fiTOYMmLMB"
      },
      "source": [
        "print(end_times) # End times for each process\r\n",
        "print(wait_times) # Wait times for each process in the queue"
      ],
      "execution_count": null,
      "outputs": []
    },
    {
      "cell_type": "markdown",
      "metadata": {
        "id": "7sb2R8AP7xp_"
      },
      "source": [
        "### Question 3 **[60 pts]**:\r\n",
        "\r\n",
        "\r\n"
      ]
    },
    {
      "cell_type": "markdown",
      "metadata": {
        "id": "u5MYNFS67xqL"
      },
      "source": [
        "Write a funciton to find the maximum length possible by cutting N given sticks into at least K pieces. \\\r\n",
        "Given an array `stick[]` of size **N**, representing the length of *N* pieces of stick and an integer *K*, at least **K** pieces of the same length need to be cut from the given stick pieces. The task is to find the maximum possible length of these K stick pieces that can be obtained. \\\r\n",
        "\\\r\n",
        "Examples: \\\r\n",
        "\r\n",
        "Input: stick[] = {5, 9, 7}, K = 3 \\\r\n",
        "Output: 5 \\\r\n",
        "\r\n",
        "Explanation: \\\r\n",
        "Cut arr[0] = 5 = 5 \\\r\n",
        "Cut arr[1] = 9 = 5 + 4 \\\r\n",
        "Cut arr[2] = 5 = 5 + 2 \\\r\n",
        "Therefore, the maximum length that can be obtained by cutting the sticks into 3 pieces is 5.\\\r\n",
        "\r\n",
        "Input: stick[] = {5, 9, 7}, K = 4 \\\r\n",
        "Output: 4 \\\r\n",
        "\r\n",
        "Explanation: \\\r\n",
        "Cut arr[0] = 5 = 4 + 1 \\\r\n",
        "Cut arr[1] = 9 = 2 * 4 + 1 \\\r\n",
        "Cut arr[2] = 7 = 4 + 3 \\\r\n",
        "Therefore, the maximum length that can be obtained by cutting the sticks into 4 pieces is 4. \r\n"
      ]
    },
    {
      "cell_type": "code",
      "metadata": {
        "id": "TGd92hc_7xqL"
      },
      "source": [
        "### CODE HERE ###"
      ],
      "execution_count": null,
      "outputs": []
    },
    {
      "cell_type": "markdown",
      "metadata": {
        "id": "T4fxYksbEDfP"
      },
      "source": [
        "### Question 4 **[20 pts]**: \n",
        "Write a function to move all negative numbers to the beginning and positives to the end.  \\\n",
        "An array contains both positive and negative numbers in random order. \\\n",
        "Rearrange the array elements so that all negative numbers appear before all positive numbers.  \\\n",
        "\n",
        "Example : \n",
        "\n",
        "Input: -12, 11, -13, -5, 6, -7, 5, -3, -6 \\\n",
        "Output: -12 -13 -5 -7 -3 -6 11 6 5 \\\n",
        "Note: Order of elements is **not** important."
      ]
    },
    {
      "cell_type": "code",
      "metadata": {
        "id": "jBmo3JFs7xqM"
      },
      "source": [
        "### CODE HERE ###"
      ],
      "execution_count": null,
      "outputs": []
    }
  ]
}