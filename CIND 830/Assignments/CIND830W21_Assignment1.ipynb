{
 "cells": [
  {
   "cell_type": "markdown",
   "metadata": {
    "id": "kJ6ssXaGJfGN"
   },
   "source": [
    "## CIND830 - Python Programming for Data Science  \n",
    "### Assignment 1 (10% of the final grade) \n",
    "### Due on February 8, 2021 11:59 PM  "
   ]
  },
  {
   "cell_type": "markdown",
   "metadata": {
    "id": "UWjXw7DsJfGP"
   },
   "source": [
    "*****\n",
    "This is a Jupyter Notebook document that extends a simple formatting syntax for authoring HTML and PDF.\n",
    "Review [this](https://jupyter-notebook.readthedocs.io/en/stable/notebook.html) website for more details on using Jupyter Notebook.\n",
    "\n",
    "Use the JupyterHub server on the Google Cloud Platform, provided by your designated instructor, for this assignment. \n",
    "Ensure using **Python 3.7.6** release then complete the assignment by inserting your Python code wherever seeing the string \"#INSERT YOUR ANSWER HERE.\"\n",
    "\n",
    "When you click the `File` button, from the top navigation bar, then select `Export Notebook As ...`,\n",
    "a document (PDF or HTML format) will be generated that includes\n",
    " both the assignment content and the output of any embedded Python code chunks.\n",
    "\n",
    "Using [these](https://www.ryerson.ca/courses/students/tutorials/assignments/) guidelines,\n",
    "submit **both** the IPYNB and the exported file (PDF or HTML).\n",
    "Failing to submit both files will be subject to mark deduction."
   ]
  },
  {
   "cell_type": "markdown",
   "metadata": {
    "id": "RDm-t4u8JfGP"
   },
   "source": [
    "### Question 1 **[60 pts]**:\n",
    "\n",
    "\n",
    "\n",
    "A multi-valued function has been defined as follows\n",
    "\n",
    "$$\n",
    "f(x) = \\left\\{\n",
    "    \\begin{array}\\\\\n",
    "       ({\\frac{x^2}{|x|+2}})^2 & \\mbox{if} \\ x < 5 \\\\\n",
    "        {\\frac{x^2}{|x|+2}} & \\mbox{if} \\ x = 5 \\\\\n",
    "       \\sqrt{\\frac{x^2}{|x|+2} } & \\mbox{if} \\ x > 5 \n",
    "    \\end{array}\n",
    "\\right.\n",
    "$$"
   ]
  },
  {
   "cell_type": "markdown",
   "metadata": {
    "id": "vARdfJN_JfGQ"
   },
   "source": [
    "**a)** **[10 pts]** Write a program to ask the user to enter a floating-point real number, check whether the number is greater, equal or less than 5, then print the output according to the definition of the multi-valued function.\n",
    "\n",
    "For example, if the user enters `x = -57.8`, then the output should be:<br>\n",
    "`The value of f(x) is 3121.1093571660267`\n",
    "\n",
    "Hint: Use the `math` module as it provides access to some of the essential mathematical functions."
   ]
  },
  {
   "cell_type": "code",
   "execution_count": 2,
   "metadata": {
    "colab": {
     "base_uri": "https://localhost:8080/"
    },
    "id": "CldaDRWdJfGQ",
    "outputId": "402bc26e-0b7e-4067-8e31-765858adedc9"
   },
   "outputs": [
    {
     "name": "stdout",
     "output_type": "stream",
     "text": [
      "Plaese enter the flaoting-point real number: -57.8\n",
      "the value of the f(x)is  3121.1093571660267\n"
     ]
    }
   ],
   "source": [
    "#INSERT YOUR ANSWER HERE.\n",
    "import math\n",
    "\n",
    "x = input  (\"Plaese enter the flaoting-point real number: \")\n",
    "x = float(x)\n",
    "if  (x > 5):\n",
    "     x = ((x * x)/(abs(x)+2)) ** 1/2\n",
    "        \n",
    "elif(x < 5):\n",
    "    x =((x * x) / (abs(x)+2)) ** 2\n",
    "        \n",
    "else:\n",
    "    x = (x * x) / (abs(x) +2)\n",
    "    \n",
    "print(\"the value of the f(x)is \", x)\n"
   ]
  },
  {
   "cell_type": "markdown",
   "metadata": {
    "id": "ZRoY5MRdJfGQ"
   },
   "source": [
    "**b)**  **[10 pts]** Round the output of Q1.a to the nearest ineteger, convert that integer to a list of digits, then print the result.  \n",
    "\n",
    "For example, if the user enters `x = -57.8`, then the output should be: <br>\n",
    "`The value of f(x) is  3121.1093571660267`<br>\n",
    "`The list of digits is  [3, 1, 2, 1] `"
   ]
  },
  {
   "cell_type": "code",
   "execution_count": 4,
   "metadata": {
    "colab": {
     "base_uri": "https://localhost:8080/"
    },
    "id": "b725VzBSJfGR",
    "outputId": "8934e90c-77f2-49cd-ec19-2a1865657f11"
   },
   "outputs": [
    {
     "name": "stdout",
     "output_type": "stream",
     "text": [
      "the rounded outpot is:  3121\n",
      "The list from number is [3, 1, 2, 1]\n"
     ]
    }
   ],
   "source": [
    "#INSERT YOUR ANSWER HERE.\n",
    "r = round(x)\n",
    "print(\"the rounded outpot is: \" , r)\n",
    "ilist = [int (y) for y in str(r)]\n",
    "print (\"The list from number is \" + str(ilist)) "
   ]
  },
  {
   "cell_type": "markdown",
   "metadata": {
    "id": "__ArmJayJfGR"
   },
   "source": [
    "**c)**  **[10 pts]** Find and print the `Median`, `Average` and `Mode` of the generated list in Q1.b.  For example, having `list = [6, 7, 7, 4]`, the result should be `Median = 6.5; Average = 6; Mode = 7`.  Ensure notifying the user if there is no unique mode found, as the `Mode` in this exercise returns only the single most common data item in the list.\n",
    "\n",
    "For example, if the user enters `x = -57.8`, then the output should be: <br>\n",
    "`The value of f(x) is  3121.1093571660267`<br>\n",
    "`The list of digits is  [3, 1, 2, 1]` <br>\n",
    "`Median is 1.5 ; Average is 1.75 ; Mode =  1`\n",
    "\n",
    "However, if the user enters `x = -57.2`, then the output should be: <br>\n",
    "`The value of f(x) is  3054.5040248356463` <br>\n",
    "`The list of digits is  [3, 0, 5, 4]` <br>\n",
    "`Median is 3.5 ; Average is 3 ; No unique mode found`\n",
    "\n",
    "Hint: Use the `statistics` module as it provides functions to calculate mathematical statistics of numeric data."
   ]
  },
  {
   "cell_type": "code",
   "execution_count": 5,
   "metadata": {
    "colab": {
     "base_uri": "https://localhost:8080/"
    },
    "id": "UaxzqgFIJfGS",
    "outputId": "cb39d04d-3489-4016-c11c-0e5185b38545"
   },
   "outputs": [
    {
     "name": "stdout",
     "output_type": "stream",
     "text": [
      "Mode =  1\n",
      "Median =  1.5\n",
      "Mean =  1.75\n"
     ]
    }
   ],
   "source": [
    "#INSERT YOUR ANSWER HERE.\n",
    "\n",
    "import statistics\n",
    "\n",
    "print(\"Mode = \",statistics.mode(ilist))\n",
    "print(\"Median = \",statistics.median(ilist))\n",
    "print(\"Mean = \",statistics.mean(ilist))\n"
   ]
  },
  {
   "cell_type": "markdown",
   "metadata": {
    "id": "LswUhIjdJfGS"
   },
   "source": [
    "**d)**  **[10 pts]** Find and print the sum of squares of all the numbers of the list generated in Q1.b.  \n",
    "\n",
    "For example, if the user enters `x = -57.8`, then the output should be: <br>\n",
    "`The value of f(x) is  3121.1093571660267`<br>\n",
    "`The list of digits is  [3, 1, 2, 1]` <br>\n",
    "`The sum of squares is 15`  "
   ]
  },
  {
   "cell_type": "code",
   "execution_count": 26,
   "metadata": {
    "colab": {
     "base_uri": "https://localhost:8080/"
    },
    "id": "ICOioDlKJfGS",
    "outputId": "514c6ef3-26ef-4125-83dc-de84efe2be17"
   },
   "outputs": [
    {
     "name": "stdout",
     "output_type": "stream",
     "text": [
      "The sum of squares is:  15\n"
     ]
    }
   ],
   "source": [
    "#INSERT YOUR ANSWER HERE.\n",
    "print(\"The sum of squares is: \", sum([i*i for i in ilist])) \n"
   ]
  },
  {
   "cell_type": "markdown",
   "metadata": {
    "id": "I-eeT2BtJfGT"
   },
   "source": [
    "**e)**  **[10 pts]** Find and print the least common multiple of the numbers in the list generated in Q1.b.  \n",
    "\n",
    "For example, if the user enters `x = -57.8`, then the output should be: <br>\n",
    "`The value of f(x) is  3121.1093571660267`<br>\n",
    "`The list of digits is  [3, 1, 2, 1]` <br>\n",
    "`The least common multiple is 6`"
   ]
  },
  {
   "cell_type": "code",
   "execution_count": 30,
   "metadata": {
    "colab": {
     "base_uri": "https://localhost:8080/"
    },
    "id": "gm0k-xWbJfGT",
    "outputId": "b96fe12c-be1e-4433-89ae-e35225efeda7"
   },
   "outputs": [
    {
     "name": "stdout",
     "output_type": "stream",
     "text": [
      "The least common multiple is:  6\n"
     ]
    }
   ],
   "source": [
    "#INSERT YOUR ANSWER HERE.\n",
    "import numpy as np\n",
    "print(\"The least common multiple is: \",np.lcm.reduce(ilist))\n"
   ]
  },
  {
   "cell_type": "markdown",
   "metadata": {
    "id": "WQP1V7zOJfGT"
   },
   "source": [
    "**f)**  **[10 pts]** Find and print the binary rpresentation of the numbers in the list generated in Q1.b.  \n",
    "\n",
    "For example, if the user enters `x = -57.8`, then the output should be: <br>\n",
    "`The value of f(x) is  3121.1093571660267`<br>\n",
    "`The list of digits is  [3, 1, 2, 1]` <br>\n",
    "`The binary representation is ['11', '1', '10', '1']` "
   ]
  },
  {
   "cell_type": "code",
   "execution_count": 72,
   "metadata": {},
   "outputs": [
    {
     "name": "stdout",
     "output_type": "stream",
     "text": [
      "The List is : [3, 1, 2, 1]\n"
     ]
    }
   ],
   "source": [
    "print (\"The List is : \" + str(ilist))"
   ]
  },
  {
   "cell_type": "code",
   "execution_count": 74,
   "metadata": {
    "colab": {
     "base_uri": "https://localhost:8080/"
    },
    "id": "2GqP_jsyJfGU",
    "outputId": "0848745a-a0e7-4d51-e09a-c94959608cad"
   },
   "outputs": [
    {
     "name": "stdout",
     "output_type": "stream",
     "text": [
      "['11']['1']['10']['1']"
     ]
    }
   ],
   "source": [
    "#INSERT YOUR ANSWER HERE.\n",
    "\n",
    "\n",
    "for i in ilist:\n",
    "    binary = bin(i).replace(\"0b\", \"\") \n",
    "    print( [binary], end=''  ) \n",
    "\n"
   ]
  },
  {
   "cell_type": "markdown",
   "metadata": {
    "id": "pHcWCZ8mJfGU"
   },
   "source": [
    "*****"
   ]
  },
  {
   "cell_type": "markdown",
   "metadata": {
    "id": "O3jPbo4vAvPc"
   },
   "source": [
    "### Question 2  **[40 pts]**:\n",
    "\n",
    "Write a program that accepts the coefficients of the folllowing two lines as inputs\n",
    "\n",
    "Line1: $a_1x+b_1y + c_1 = 0$\n",
    "\n",
    "Line2: $a_2x+b_2y + c_2 = 0$\n",
    "\n",
    "Then checks whether the two lines are parallel, intersecting or overlapping according to the conditions listed below."
   ]
  },
  {
   "cell_type": "markdown",
   "metadata": {},
   "source": [
    "## Write a program that used  the coefficients as an input and then determinewhether the two lines are parallel, intersecting or overlapping"
   ]
  },
  {
   "cell_type": "markdown",
   "metadata": {
    "id": "h_3gNcgeJfGU"
   },
   "source": [
    "**a)**  **[10 pts]** Intersecting lines: If $\\frac{a_1}{a_2} \\ne \\frac{b_1}{b_2}$"
   ]
  },
  {
   "cell_type": "code",
   "execution_count": 5,
   "metadata": {},
   "outputs": [
    {
     "name": "stdout",
     "output_type": "stream",
     "text": [
      "Please enter the  3 digit as coefficients of the 𝑎1𝑥+𝑏1𝑦+𝑐1=0 line in one line using commas \n",
      "4,9,15\n",
      "a1 is:  4\n",
      "b1 is:  9\n",
      "c1 is:  15\n"
     ]
    }
   ],
   "source": [
    "a1,b1,c1=   input(\"Please enter the  3 digit as coefficients of the 𝑎1𝑥+𝑏1𝑦+𝑐1=0 line in one line using commas \\n\").split(',')\n",
    "a1 = int(a1)\n",
    "print(\"a1 is: \",a1 ) \n",
    "b1 = int(b1)\n",
    "print(\"b1 is: \",b1 ) \n",
    "c1 = int(c1)\n",
    "print(\"c1 is: \",c1 )  "
   ]
  },
  {
   "cell_type": "code",
   "execution_count": 6,
   "metadata": {},
   "outputs": [
    {
     "name": "stdout",
     "output_type": "stream",
     "text": [
      "Please enter the  3 digit as coefficients of the 𝑎2𝑥+𝑏2𝑦+𝑐2=0 line  in one line using commasand \n",
      "7,9,5\n",
      "a2 is:  7\n",
      "b2 is:  9\n",
      "c2 is:  5\n"
     ]
    }
   ],
   "source": [
    "a2,b2,c2=input(\"Please enter the  3 digit as coefficients of the 𝑎2𝑥+𝑏2𝑦+𝑐2=0 line  in one line using commasand \\n\").split(',')\n",
    "a2 = int(a2)\n",
    "print(\"a2 is: \",a2 ) \n",
    "b2 = int(b2)\n",
    "print(\"b2 is: \",b2 ) \n",
    "c2 = int(c2)\n",
    "print(\"c2 is: \",c2 ) "
   ]
  },
  {
   "cell_type": "markdown",
   "metadata": {},
   "source": [
    "**a)**  **[10 pts]** Intersecting lines: If $\\frac{a_1}{a_2} \\ne \\frac{b_1}{b_2}$"
   ]
  },
  {
   "cell_type": "code",
   "execution_count": 7,
   "metadata": {},
   "outputs": [
    {
     "name": "stdout",
     "output_type": "stream",
     "text": [
      "Two lines are Intersecting \n"
     ]
    }
   ],
   "source": [
    "#INSERT YOUR ANSWER HERE.\n",
    "if (a1/a2) != (b1/b2):\n",
    "    print(\"Two lines are Intersecting \")\n",
    "else:\n",
    "    print(\" Two lines are  not Intersecting \")\n",
    "    "
   ]
  },
  {
   "cell_type": "markdown",
   "metadata": {
    "id": "b5J7kRLZAvPe"
   },
   "source": [
    "**b)**   **[10 pts]** Parallel lines: If the lines are not intersecting and $\\frac{a_1}{a_2} = \\frac{b_1}{b_2} \\ne \\frac{c_1}{c_2}$"
   ]
  },
  {
   "cell_type": "code",
   "execution_count": 8,
   "metadata": {
    "id": "bHHNxP0IAvPe"
   },
   "outputs": [
    {
     "name": "stdout",
     "output_type": "stream",
     "text": [
      "Two lines are not Parallel \n"
     ]
    }
   ],
   "source": [
    "#INSERT YOUR ANSWER HERE.\n",
    "\n",
    "if((a1/a2) != (b1/b2)) and ((a1/a2) == (b1/b2) != (c1/c2)) :\n",
    "    print(\"Two lines are Parallel\")\n",
    "else:\n",
    "    print(\"Two lines are not Parallel \")\n",
    "    \n"
   ]
  },
  {
   "cell_type": "markdown",
   "metadata": {
    "id": "6q5tUb98JfGV"
   },
   "source": [
    "**c)**   **[10 pts]** Overlapping lines: If the lines are not intersecting and $\\frac{a_1}{a_2} = \\frac{b_1}{b_2} = \\frac{c_1}{c_2}$"
   ]
  },
  {
   "cell_type": "code",
   "execution_count": 9,
   "metadata": {
    "id": "PvQTbdc8AvPi"
   },
   "outputs": [
    {
     "name": "stdout",
     "output_type": "stream",
     "text": [
      "Two lines are not Overlapping \n"
     ]
    }
   ],
   "source": [
    "#INSERT YOUR ANSWER HERE.\n",
    "if((a1/a2) != (b1/b2)) and ((a1/a2) == (b1/b2) == (c1/c2)) :\n",
    "    print(\"Two lines are Overlapping\")\n",
    "else:\n",
    "    print(\"Two lines are not Overlapping \")"
   ]
  },
  {
   "cell_type": "markdown",
   "metadata": {
    "id": "l9l0sjUoAvPk"
   },
   "source": [
    "**d)**   **[10 pts]** Plot the two lines graphically using the `matplotlib` and `numpy` libraries or any other suitable libraries. "
   ]
  },
  {
   "cell_type": "code",
   "execution_count": 10,
   "metadata": {
    "id": "cDqwtAjhAvPk"
   },
   "outputs": [
    {
     "data": {
      "image/png": "[encoded data removed]",
      "text/plain": [
       "<Figure size 432x288 with 1 Axes>"
      ]
     },
     "metadata": {
      "needs_background": "light"
     },
     "output_type": "display_data"
    }
   ],
   "source": [
    "#INSERT YOUR ANSWER HERE.\n",
    "\n",
    "import matplotlib.pyplot as plt\n",
    "import numpy as np\n",
    "fig = plt.figure()\n",
    "ax = fig.add_subplot(1, 1, 1)\n",
    "x = np.linspace(-5,5,100)\n",
    "\n",
    "ax.spines['left'].set_position('center')\n",
    "ax.spines['bottom'].set_position('center')\n",
    "ax.spines['right'].set_color('none')\n",
    "ax.spines['top'].set_color('none')\n",
    "ax.xaxis.set_ticks_position('bottom')\n",
    "ax.yaxis.set_ticks_position('left')\n",
    "\n",
    "plt.plot(x, (-a1*x-c1)/b1, '-.g', label='a1x+b1y+c1=0')\n",
    "plt.plot(x, (-a2*x-c2)/b2, '-r', label='a2x+b2y+c2=0')\n",
    "\n",
    "plt.legend(loc='upper left')\n",
    "plt.show()"
   ]
  },
  {
   "cell_type": "markdown",
   "metadata": {
    "id": "1pXjKc23jXTj"
   },
   "source": [
    "*****"
   ]
  },
  {
   "cell_type": "markdown",
   "metadata": {
    "id": "liJoAmA1LGOz"
   },
   "source": [
    "### Question 3  **[30 pts]**:\n",
    "Write a code for a Number Guessing Game. \n",
    "The code assigns a random integer number from a given interval to a varible, then asks the user to make a guess to find that number. \n",
    "\n",
    "Do not forget to check the validity of the selected number:\n",
    "- Is it an integer?\n",
    "- Is it an integer that lies in the given range?"
   ]
  },
  {
   "cell_type": "markdown",
   "metadata": {
    "id": "13g6-UkaB2bW"
   },
   "source": [
    "**a)**  **[10 pts]** Follow these steps to implement a simple version of the game:\n",
    "- The code assigns a random integer number between 0 and 100 to a variable.\n",
    "- The code gives the user only one chance to guess that number. \n",
    "- The output of the code should be either 'correct' or 'wrong'.\n",
    "\n",
    "Hint:  Use the `random` module to generate a pseudo-random number."
   ]
  },
  {
   "cell_type": "code",
   "execution_count": 3,
   "metadata": {
    "id": "pgjCsUosSprl"
   },
   "outputs": [
    {
     "name": "stdout",
     "output_type": "stream",
     "text": [
      " Please Enter just one number between 0 and 100: 60\n",
      "Your guess is not right\n"
     ]
    }
   ],
   "source": [
    "#INSERT YOUR ANSWER HERE.\n",
    "import random\n",
    "\n",
    "systdigit = random.randint(0, 100)\n",
    "userdigit =float(input(\" Please Enter just one number between 0 and 100: \" ))\n",
    "\n",
    "if userdigit in range (1,100) and userdigit.is_integer():\n",
    "    if(systdigit==userdigit):\n",
    "        print(\"Your guess is right\") \n",
    "    else:\n",
    "        print(\"Your guess is not right\")\n",
    "else:\n",
    "    print(\"Sorry , you should guess an integer number between 1 and 100 \")\n",
    "    raise SystemExit\n",
    "\n"
   ]
  },
  {
   "cell_type": "markdown",
   "metadata": {
    "id": "QLa2BEzGBzAc"
   },
   "source": [
    "**b)**  **[10 pts]** Since it is difficult to guess a number in one try, let us give chances and clues. \n",
    "\n",
    "With unlimited trials and a random integer number in the inclusive range from 0 to 100, the code will compare the first guess with the random number and tell the user if the random number is lower or higher than the user's guess, and so on untill the user correctly guesses the random integer number. "
   ]
  },
  {
   "cell_type": "code",
   "execution_count": 4,
   "metadata": {
    "id": "DhhjKEO9_TG7"
   },
   "outputs": [
    {
     "name": "stdout",
     "output_type": "stream",
     "text": [
      " Please Enter just one number between 0 and 100: 50\n",
      "Too large\n",
      " Please Enter just one number between 0 and 100: 40\n",
      "Too small\n",
      " Please Enter just one number between 0 and 100: 45\n",
      "You've guessed the right number\n"
     ]
    }
   ],
   "source": [
    "#INSERT YOUR ANSWER HERE.\n",
    "import random\n",
    "systdigit = random.randint(0, 100)\n",
    "\n",
    "\n",
    "while (True):\n",
    "    userdigit =float(input(\" Please Enter just one number between 0 and 100: \" ))\n",
    "    if(userdigit < systdigit):\n",
    "        print(\"Too small\")\n",
    "    elif(userdigit > systdigit):\n",
    "        print(\"Too large\")\n",
    "    else:\n",
    "        print(\"You've guessed the right number\")\n",
    "        break"
   ]
  },
  {
   "cell_type": "markdown",
   "metadata": {
    "id": "bvWLIEBTFNE1"
   },
   "source": [
    "**c)**  **[10 pts]** Let us develop a better version of the program by limiting the number of chances for guessing the random number based on the interval's boundaries.  \n",
    "\n",
    " \n",
    "Start with asking the user to enter two numbers, being the lower and upper bounds of the interval from which the random number will be selected. After the application chooses the random number based on the entered boundaries, find and print the number of attempts given to the user by computing the square root of the difference between the lower and upper bounds.\n",
    "\n",
    "Notably, the lower-bound value must be at least 1, and the upper-bound value must be higher than the lower-bound one.\n"
   ]
  },
  {
   "cell_type": "code",
   "execution_count": 1,
   "metadata": {
    "colab": {
     "base_uri": "https://localhost:8080/"
    },
    "id": "MexIqFs8EH63",
    "outputId": "e1a7b697-b124-4318-a986-8ec1138e0bf5"
   },
   "outputs": [
    {
     "name": "stdout",
     "output_type": "stream",
     "text": [
      " Please Enter the smaller number:15\n",
      "Please Enter the larger number:20\n",
      "Number of attepts for this range: 2\n",
      "Enter your guess: 18\n",
      "Too large\n",
      "Enter your guess: 17\n",
      "Too large\n",
      "Enter your guess: 16\n",
      "You've guessed the number:  3 tries\n"
     ]
    }
   ],
   "source": [
    "#INSERT YOUR ANSWER HERE.\n",
    "\n",
    "import random\n",
    "Smaller= int(input(\" Please Enter the smaller number:\"))\n",
    "Larger = int(input( \"Please Enter the larger number:\"))\n",
    "\n",
    "MyNumber = random.randint(Smaller,Larger)\n",
    "count=0\n",
    "\n",
    "Numberofattepts = round ((Larger-Smaller)**1/2)\n",
    "print(\"Number of attepts for this range:\",Numberofattepts )\n",
    "\n",
    "while (True):\n",
    "    count +=1\n",
    "    UserNumber = int(input(\"Enter your guess: \"))\n",
    "    if(UserNumber<MyNumber):\n",
    "        print(\"Too small\")\n",
    "    elif(UserNumber>MyNumber):\n",
    "        print(\"Too large\")\n",
    "    else:\n",
    "        print(\"You've guessed the number: \",count, \"tries\")\n",
    "        break"
   ]
  },
  {
   "cell_type": "markdown",
   "metadata": {
    "id": "E7H-NKYDjaiE"
   },
   "source": [
    "*****"
   ]
  },
  {
   "cell_type": "markdown",
   "metadata": {
    "id": "2XrFEyymLKnR"
   },
   "source": [
    "### Question 4  **[30 pts]**:\n",
    "\n",
    "Write a code for The Hangman Game. In this game, the user only enters the number of letters existing in that word, and the computer tries to guess them based on a fixed number of attempts.  The game ends if the computer correctly guessed all the letters in order or used all of the given attempts."
   ]
  },
  {
   "cell_type": "code",
   "execution_count": 4,
   "metadata": {
    "id": "Ocvn4QXHDgId"
   },
   "outputs": [
    {
     "name": "stdout",
     "output_type": "stream",
     "text": [
      " Please Enter the number of letters existing in your word:6\n",
      "The computer gusee is:  computer\n",
      "try one more time\n",
      "The computer gusee is:  science\n",
      "try one more time\n",
      "The computer gusee is:  computer\n",
      "try one more time\n",
      "The computer gusee is:  winter\n",
      "You're win.The guess is: winter\n"
     ]
    },
    {
     "ename": "SystemExit",
     "evalue": "",
     "output_type": "error",
     "traceback": [
      "An exception has occurred, use %tb to see the full traceback.\n",
      "\u001b[1;31mSystemExit\u001b[0m\n"
     ]
    },
    {
     "name": "stderr",
     "output_type": "stream",
     "text": [
      "C:\\Users\\HP\\anaconda3\\lib\\site-packages\\IPython\\core\\interactiveshell.py:3435: UserWarning: To exit: use 'exit', 'quit', or Ctrl-D.\n",
      "  warn(\"To exit: use 'exit', 'quit', or Ctrl-D.\", stacklevel=1)\n"
     ]
    }
   ],
   "source": [
    "#INSERT YOUR ANSWER HERE.\n",
    "import random\n",
    "wordnumber = int(input(\" Please Enter the number of letters existing in your word:\"))\n",
    "\n",
    "count = 10\n",
    "\n",
    "words = [ 'computer', 'science', 'programming', \n",
    "         'python', 'mathematics', 'player', 'condition', \n",
    "         'reverse', 'water', 'board', 'geeks', 'cind 830','winter', 'covid19','overcome', 'ryerson'] \n",
    "while(count > 1):\n",
    "    count -=1\n",
    "    word = random.choice( words )\n",
    "    print(\"The computer gusee is: \", word )\n",
    "    for letter in words:\n",
    "        if(len(letter)== wordnumber and letter == word):\n",
    "            print(\"You're win.The guess is:\" , letter)\n",
    "            raise SystemExit\n",
    "        else:\n",
    "            continue \n",
    "    print(\"try one more time\")\n"
   ]
  },
  {
   "cell_type": "markdown",
   "metadata": {},
   "source": [
    "## Note about Question  4: \n",
    "###### Becuase I do not have enough  assumption about the Hangman Game in this Question, I've tried to simplify the queistion by making my assumption. For example, I know that for this game I need a list of valid words which should be read from file but for the simplicity  I used the fixed word list. \n"
   ]
  },
  {
   "cell_type": "markdown",
   "metadata": {
    "id": "7vRukEN2JfGX"
   },
   "source": [
    "#### This is the end of assignment 1"
   ]
  }
 ],
 "metadata": {
  "colab": {
   "collapsed_sections": [],
   "name": "CIND830F20 Assignment 1 QA_shared.ipynb",
   "provenance": []
  },
  "kernelspec": {
   "display_name": "Python 3",
   "language": "python",
   "name": "python3"
  },
  "language_info": {
   "codemirror_mode": {
    "name": "ipython",
    "version": 3
   },
   "file_extension": ".py",
   "mimetype": "text/x-python",
   "name": "python",
   "nbconvert_exporter": "python",
   "pygments_lexer": "ipython3",
   "version": "3.7.9"
  },
  "nteract": {
   "version": "0.27.0"
  },
  "varInspector": {
   "cols": {
    "lenName": 16,
    "lenType": 16,
    "lenVar": 40
   },
   "kernels_config": {
    "python": {
     "delete_cmd_postfix": "",
     "delete_cmd_prefix": "del ",
     "library": "var_list.py",
     "varRefreshCmd": "print(var_dic_list())"
    },
    "r": {
     "delete_cmd_postfix": ") ",
     "delete_cmd_prefix": "rm(",
     "library": "var_list.r",
     "varRefreshCmd": "cat(var_dic_list()) "
    }
   },
   "types_to_exclude": [
    "module",
    "function",
    "builtin_function_or_method",
    "instance",
    "_Feature"
   ],
   "window_display": false
  }
 },
 "nbformat": 4,
 "nbformat_minor": 1
}
