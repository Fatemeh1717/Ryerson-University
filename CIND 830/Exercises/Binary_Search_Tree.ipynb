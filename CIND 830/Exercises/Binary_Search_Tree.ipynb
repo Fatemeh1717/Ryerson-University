{
  "nbformat": 4,
  "nbformat_minor": 0,
  "metadata": {
    "colab": {
      "name": "Binary Search Tree.ipynb",
      "provenance": []
    },
    "kernelspec": {
      "name": "python3",
      "display_name": "Python 3"
    },
    "language_info": {
      "name": "python"
    }
  },
  "cells": [
    {
      "cell_type": "markdown",
      "metadata": {
        "id": "Ssn4KNeRDqVB"
      },
      "source": [
        "**Problem**\n",
        "you are given a binary search tree. Implement a method named rangeFind which takes two itmes as arguments. These arguments specify the bounds of a range of items to be found in the tree. The rangeFind method should traverse the tree and return a list of the items found within the specified range."
      ]
    },
    {
      "cell_type": "markdown",
      "metadata": {
        "id": "2WLL9K5ZEfsC"
      },
      "source": [
        "**Binary Tree**"
      ]
    },
    {
      "cell_type": "code",
      "metadata": {
        "id": "3Qt7-KdaEiKj"
      },
      "source": [
        "# Define binary tree node\n",
        "class Node:\n",
        "  def __init__ (self,data):\n",
        "    self.data = data\n",
        "    self.left = None\n",
        "    self.right = None"
      ],
      "execution_count": 1,
      "outputs": []
    },
    {
      "cell_type": "code",
      "metadata": {
        "id": "1RAVlu5vDlUK"
      },
      "source": [
        "# Define the binary tree\n",
        "root = Node(45)\n",
        "root.left  = Node(23)\n",
        "root .left.left = Node(21)\n",
        "root.left.right = Node(28)\n",
        "root.right = Node(51)\n",
        "root.right.right = Node(61)"
      ],
      "execution_count": 2,
      "outputs": []
    },
    {
      "cell_type": "markdown",
      "metadata": {
        "id": "4vK5yP5iFtPR"
      },
      "source": [
        "**rangeFind Algorithm**\n",
        "\n",
        "Find items in range for a binary search tree"
      ]
    },
    {
      "cell_type": "code",
      "metadata": {
        "id": "xwMaScorFsYm"
      },
      "source": [
        "def rangeFind(subtree, bmin, bmax):\n",
        "  # if subtree is empthy\n",
        "  if subtree is None:\n",
        "    return\n",
        "  # Go left\n",
        "  if bmin < subtree.data:\n",
        "    rangeFind(subtree.left, bmin, bmax)\n",
        "  # Print\n",
        "  if bmin <= subtree.data <= bmax:\n",
        "    print(subtree.data , end= ',')\n",
        "  # Go right\n",
        "  if bmax > subtree.data:\n",
        "    rangeFind(subtree.right , bmin , bmax)"
      ],
      "execution_count": 7,
      "outputs": []
    },
    {
      "cell_type": "code",
      "metadata": {
        "colab": {
          "base_uri": "https://localhost:8080/"
        },
        "id": "p0B0gXVwHSZg",
        "outputId": "90ab1907-ad62-4388-f888-a5ad138794cc"
      },
      "source": [
        "rangeFind(root, bmin=22 , bmax=30)"
      ],
      "execution_count": 8,
      "outputs": [
        {
          "output_type": "stream",
          "text": [
            "23,28,"
          ],
          "name": "stdout"
        }
      ]
    },
    {
      "cell_type": "markdown",
      "metadata": {
        "id": "OKdEj_Z4Hi0n"
      },
      "source": [
        "**Analyze Time and Space Complexity**\n",
        "\n",
        "**Time Complexity** is O(n) where n is the total number of elemnts in the tree.\n",
        "\n",
        "**Space Complexity** is O(1) because this function has not any node information."
      ]
    }
  ]
}