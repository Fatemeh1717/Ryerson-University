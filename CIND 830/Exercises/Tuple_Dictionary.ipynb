{
  "nbformat": 4,
  "nbformat_minor": 0,
  "metadata": {
    "colab": {
      "name": "Tuple_Dictionary.ipynb",
      "provenance": []
    },
    "kernelspec": {
      "name": "python3",
      "display_name": "Python 3"
    }
  },
  "cells": [
    {
      "cell_type": "markdown",
      "metadata": {
        "id": "B2vecVEReL03"
      },
      "source": [
        "# **Tuple**"
      ]
    },
    {
      "cell_type": "code",
      "metadata": {
        "colab": {
          "base_uri": "https://localhost:8080/"
        },
        "id": "vFtTPMGaWxBf",
        "outputId": "6a49a85f-35af-45bb-ac22-f7530def7bef"
      },
      "source": [
        "\r\n",
        "iTuple = ('python', 830)\r\n",
        "\r\n",
        "print('python'in iTuple) #containment testing "
      ],
      "execution_count": null,
      "outputs": [
        {
          "output_type": "stream",
          "text": [
            "True\n"
          ],
          "name": "stdout"
        }
      ]
    },
    {
      "cell_type": "code",
      "metadata": {
        "colab": {
          "base_uri": "https://localhost:8080/"
        },
        "id": "mUfQH1BuXuuM",
        "outputId": "210e119b-af40-41d5-fd20-28e455027f0b"
      },
      "source": [
        "uTuple = iTuple + iTuple  #Concatenating Tuple\r\n",
        "print(uTuple)\r\n",
        "\r\n",
        "wTuple = iTuple * 3  #Multiplication in Tuple\r\n",
        "print(wTuple)\r\n",
        "\r\n",
        "print(wTuple[2]) #Subscripting Tuple\r\n",
        "print(wTuple[2:5]) #Slicing Tuple"
      ],
      "execution_count": null,
      "outputs": [
        {
          "output_type": "stream",
          "text": [
            "('python', 830, 'python', 830)\n",
            "('python', 830, 'python', 830, 'python', 830)\n",
            "python\n",
            "('python', 830, 'python')\n"
          ],
          "name": "stdout"
        }
      ]
    },
    {
      "cell_type": "markdown",
      "metadata": {
        "id": "SYo_cs14eeOi"
      },
      "source": [
        "## **Dictionary**\r\n",
        "\r\n"
      ]
    },
    {
      "cell_type": "code",
      "metadata": {
        "colab": {
          "base_uri": "https://localhost:8080/"
        },
        "id": "o15bm3pdbE64",
        "outputId": "e2755e8c-525f-4b2b-9fb1-4d3262fee265"
      },
      "source": [
        "firstDict ={'subject':'CIND','Code':830}\r\n",
        "SecondDict={'Subject': 'cind','Code':830}\r\n",
        "\r\n",
        "print(firstDict)    #Dispaly all pair)\r\n",
        "\r\n",
        "print(firstDict['subject'])   #Display values of specific keys\r\n",
        "print(firstDict.get('Code'))  #Display values of specific keys\r\n",
        "\r\n",
        "firstDict['Name']='python'    #Adding a Key/Value pair\r\n",
        "print(firstDict)\r\n",
        "\r\n",
        "print(SecondDict.items())   #Traversing a Dictionay\r\n",
        "\r\n",
        "print(SecondDict.pop('Code'))   #Removing Keys\r\n",
        "print(SecondDict)\r\n",
        "\r\n",
        "print(len(firstDict))   #Display the number of entities\r\n",
        "\r\n",
        "print(firstDict['subject']==SecondDict['Subject'])    #Comparevalues"
      ],
      "execution_count": null,
      "outputs": [
        {
          "output_type": "stream",
          "text": [
            "{'subject': 'CIND', 'Code': 830}\n",
            "CIND\n",
            "830\n",
            "{'subject': 'CIND', 'Code': 830, 'Name': 'python'}\n",
            "dict_items([('Subject', 'cind'), ('Code', 830)])\n",
            "830\n",
            "{'Subject': 'cind'}\n",
            "3\n",
            "False\n"
          ],
          "name": "stdout"
        }
      ]
    },
    {
      "cell_type": "code",
      "metadata": {
        "id": "pJrkBDROLKhp"
      },
      "source": [
        "dict1={'Address':'Ontario',\\\r\n",
        "       'Name':'Harry',\\\r\n",
        "'Subject':('CIND830',4.1)}\r\n",
        "\r\n",
        "dict2={'Address':{'Province':'Quebec'},\\\r\n",
        "'Name':['Sally','Harry'],\\\r\n",
        "'Subject':['CIND830',4.1]}\r\n",
        "\r\n",
        "dict3=dict2"
      ],
      "execution_count": 2,
      "outputs": []
    },
    {
      "cell_type": "code",
      "metadata": {
        "colab": {
          "base_uri": "https://localhost:8080/"
        },
        "id": "FP0sHLkJLfnD",
        "outputId": "6f6a6c37-b584-4541-fcef-4c1cc7b815c0"
      },
      "source": [
        "print(dict2['Name'])\r\n",
        "print(dict3.get('Province'))\r\n",
        "print(list(dict1.items())[0])\r\n",
        "len(dict1['Name'])\r\n",
        "dict1['Subject']is dict3['Subject']"
      ],
      "execution_count": 17,
      "outputs": [
        {
          "output_type": "stream",
          "text": [
            "['Sally', 'Harry']\n",
            "None\n",
            "('Address', 'Ontario')\n"
          ],
          "name": "stdout"
        },
        {
          "output_type": "execute_result",
          "data": {
            "text/plain": [
              "False"
            ]
          },
          "metadata": {
            "tags": []
          },
          "execution_count": 17
        }
      ]
    }
  ]
}