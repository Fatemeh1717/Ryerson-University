{
 "metadata": {
  "language_info": {
   "codemirror_mode": {
    "name": "ipython",
    "version": 3
   },
   "file_extension": ".py",
   "mimetype": "text/x-python",
   "name": "python",
   "nbconvert_exporter": "python",
   "pygments_lexer": "ipython3",
   "version": "3.9.2"
  },
  "orig_nbformat": 2,
  "kernelspec": {
   "name": "python392jvsc74a57bd01274a373a0b7fd1496a613d3618547b52793bd263bd2f08be1c41a20c0265411",
   "display_name": "Python 3.9.2 64-bit"
  },
  "metadata": {
   "interpreter": {
    "hash": "1274a373a0b7fd1496a613d3618547b52793bd263bd2f08be1c41a20c0265411"
   }
  }
 },
 "nbformat": 4,
 "nbformat_minor": 2,
 "cells": [
  {
   "source": [
    "# Binary Expression Tree\n"
   ],
   "cell_type": "markdown",
   "metadata": {}
  },
  {
   "cell_type": "code",
   "execution_count": 28,
   "metadata": {},
   "outputs": [],
   "source": [
    "# Define Binary tree node\n",
    "class node:\n",
    "    def __init__(self, data):\n",
    "        self.data=data\n",
    "        self.left=None\n",
    "        self.right=None\n"
   ]
  },
  {
   "cell_type": "code",
   "execution_count": 34,
   "metadata": {},
   "outputs": [],
   "source": [
    "# Define binary expression tree\n",
    "root=node('+')\n",
    "root.left = node('*')\n",
    "root.right = node('-')\n",
    "root.left.left=node(9)\n",
    "root.left.right=node(8)\n",
    "root.right.left=node(3)\n",
    "root.right.right=node(2)"
   ]
  },
  {
   "source": [
    "### Evaluation"
   ],
   "cell_type": "markdown",
   "metadata": {}
  },
  {
   "cell_type": "code",
   "execution_count": 35,
   "metadata": {},
   "outputs": [],
   "source": [
    "operators =['+','*','-','/']\n"
   ]
  },
  {
   "cell_type": "code",
   "execution_count": 36,
   "metadata": {},
   "outputs": [],
   "source": [
    "def calc(operators,x,y):\n",
    "    if operators=='+':\n",
    "        return x+y\n",
    "    elif operators=='*':\n",
    "        return x*y\n",
    "    elif operators =='-':\n",
    "        return x-y\n",
    "    elif operators=='/':\n",
    "        return x/y\n",
    "    else:\n",
    "        raise ValueError('Unkonwn operator')\n",
    "\n"
   ]
  },
  {
   "cell_type": "code",
   "execution_count": 32,
   "metadata": {},
   "outputs": [],
   "source": [
    "def evalute_tree(root):\n",
    "    if root.left is None and root.right is None:\n",
    "        return root.data\n",
    "    elif root.data in operators:\n",
    "        return calc(root.data,evalute_tree(root.left), evalute_tree(root.right))\n",
    "    else:\n",
    "        raise ValueError('unexpected root value error')"
   ]
  },
  {
   "cell_type": "code",
   "execution_count": 37,
   "metadata": {},
   "outputs": [
    {
     "output_type": "execute_result",
     "data": {
      "text/plain": [
       "73"
      ]
     },
     "metadata": {},
     "execution_count": 37
    }
   ],
   "source": [
    "evalute_tree(root)"
   ]
  },
  {
   "cell_type": "code",
   "execution_count": null,
   "metadata": {},
   "outputs": [],
   "source": []
  }
 ]
}