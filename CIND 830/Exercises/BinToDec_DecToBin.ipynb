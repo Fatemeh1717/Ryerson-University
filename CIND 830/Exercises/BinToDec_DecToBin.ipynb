{
 "cells": [
  {
   "cell_type": "markdown",
   "metadata": {},
   "source": [
    "## Binary to Decimal"
   ]
  },
  {
   "cell_type": "code",
   "execution_count": 10,
   "metadata": {},
   "outputs": [
    {
     "name": "stdout",
     "output_type": "stream",
     "text": [
      "the integer value is : 203\n"
     ]
    }
   ],
   "source": [
    "bitstring = \"11001011\"\n",
    "result= 0\n",
    "exponent = len(bitstring)-1\n",
    "for bit in bitstring: \n",
    "    result = result + int(bit) *2 **exponent\n",
    "    exponent = exponent -1\n",
    "print(\"the integer value is :\", result)    \n",
    "    "
   ]
  },
  {
   "cell_type": "markdown",
   "metadata": {},
   "source": [
    "##  Decimal to Binary"
   ]
  },
  {
   "cell_type": "code",
   "execution_count": 21,
   "metadata": {},
   "outputs": [
    {
     "name": "stdout",
     "output_type": "stream",
     "text": [
      "Enter your decimal number: 34\n",
      "    17       0           0\n",
      "     8       1          10\n",
      "     4       0         010\n",
      "     2       0        0010\n",
      "     1       0       00010\n",
      "     0       1      100010\n",
      "The binary representation is 100010\n"
     ]
    }
   ],
   "source": [
    "Decimal = int(input(\"Enter your decimal number: \"))\n",
    "\n",
    "if (Decimal == 0):\n",
    "    print(0)\n",
    "else:\n",
    "   # print(\"Degit  Reminder  Binary \")\n",
    "    bstring = \"\"\n",
    "    while (Decimal > 0):\n",
    "        reminder =int(Decimal % 2) \n",
    "        Decimal = int(Decimal / 2)\n",
    "        bstring = str(reminder) + bstring\n",
    "        print(\" %5d%8d%12s\" % (Decimal, reminder, bstring ))\n",
    "    print(\"The binary representation is\", bstring)\n",
    "    \n",
    "\n"
   ]
  },
  {
   "cell_type": "code",
   "execution_count": null,
   "metadata": {},
   "outputs": [],
   "source": []
  }
 ],
 "metadata": {
  "kernelspec": {
   "display_name": "Python 3",
   "language": "python",
   "name": "python3"
  },
  "language_info": {
   "codemirror_mode": {
    "name": "ipython",
    "version": 3
   },
   "file_extension": ".py",
   "mimetype": "text/x-python",
   "name": "python",
   "nbconvert_exporter": "python",
   "pygments_lexer": "ipython3",
   "version": "3.7.9"
  }
 },
 "nbformat": 4,
 "nbformat_minor": 4
}
