{
 "metadata": {
  "language_info": {
   "codemirror_mode": {
    "name": "ipython",
    "version": 3
   },
   "file_extension": ".py",
   "mimetype": "text/x-python",
   "name": "python",
   "nbconvert_exporter": "python",
   "pygments_lexer": "ipython3",
   "version": "3.9.2"
  },
  "orig_nbformat": 2,
  "kernelspec": {
   "name": "python3",
   "display_name": "Python 3.9.2 64-bit",
   "metadata": {
    "interpreter": {
     "hash": "1274a373a0b7fd1496a613d3618547b52793bd263bd2f08be1c41a20c0265411"
    }
   }
  }
 },
 "nbformat": 4,
 "nbformat_minor": 2,
 "cells": [
  {
   "source": [
    "### Queue Interface"
   ],
   "cell_type": "markdown",
   "metadata": {}
  },
  {
   "cell_type": "code",
   "execution_count": 2,
   "metadata": {},
   "outputs": [],
   "source": [
    "class iArray():\n",
    "\n",
    "    '''A representation of an array'''\n",
    "    def __init__(self, capacity, fillValue = None):\n",
    "\n",
    "\n",
    "        '''Capacity is the static size of the array.\n",
    "        None object will be placed at each position.'''\n",
    "        self._items = list()\n",
    "        for count in range(capacity):\n",
    "            self._items.append(fillValue)\n",
    "\n",
    "    def __len__(self):\n",
    "        return len(self._items)\n",
    "\n",
    "\n",
    "    def __str__(self):\n",
    "        return str(self._items)\n",
    "\n",
    "\n",
    "    def __setitem__(self,index,newitem):\n",
    "        self._items[index]=newitem\n",
    "\n",
    "\n",
    "    def __getitem__(self,index):\n",
    "        return self._items[index]\n",
    "\n",
    "    def __iter__(self):\n",
    "        return iter(self._items)"
   ]
  },
  {
   "cell_type": "code",
   "execution_count": 4,
   "metadata": {},
   "outputs": [],
   "source": [
    "class aQueue(iArray):\n",
    "    def __init__(self,capacity=5):\n",
    "        self._items = iArray(capacity)\n",
    "        self._rear = -1\n",
    "        self._size = 0\n",
    "\n",
    "\n",
    "    def enqueue(self,newItem):\n",
    "        self._rear +=1\n",
    "        self._size +=1\n",
    "        self._items[self._rear]=newItem\n",
    "\n",
    "\n",
    "    def dequeue(self):\n",
    "        oldItem = self._items[0]\n",
    "        for i in range (len(self)-1):\n",
    "            self._items[i]= self._items[i+1]\n",
    "            self._items[i+1]= None\n",
    "\n",
    "        self._rear -=1\n",
    "        self._size -=1\n",
    "\n",
    "        return(oldItem)\n",
    "\n",
    "\n",
    "\n",
    "    def peek(self):\n",
    "      return (self._items[0]) \n",
    "\n",
    "\n",
    "\n",
    "    def __len__(self):\n",
    "        return(self._size)\n",
    "\n",
    "\n",
    "    def __str__(self):\n",
    "        result=' '\n",
    "        for i in range(len(self)):\n",
    "            result += str(self._items[i])+' '\n",
    "        return result\n",
    "\n",
    "\n"
   ]
  },
  {
   "cell_type": "code",
   "execution_count": null,
   "metadata": {},
   "outputs": [],
   "source": [
    "q = aQueue(4)\n",
    "iStr = '830'\n",
    "for i in range(len(iStr)):\n",
    "    q.enqueue(iStr[i])"
   ]
  }
 ]
}