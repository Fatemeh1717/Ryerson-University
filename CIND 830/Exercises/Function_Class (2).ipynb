{
 "cells": [
  {
   "cell_type": "markdown",
   "id": "efficient-ukraine",
   "metadata": {},
   "source": [
    "### Define a function takes a list of numbers as a parameter and returns a new list that contains only the even numbers."
   ]
  },
  {
   "cell_type": "code",
   "execution_count": 3,
   "id": "advised-thinking",
   "metadata": {},
   "outputs": [
    {
     "name": "stdout",
     "output_type": "stream",
     "text": [
      "{'even': 3, 'odd': 3, 'sum': 6, 'ratio': 1.0}\n"
     ]
    }
   ],
   "source": [
    "def engvid(a):\n",
    "    b={'even':0, 'odd':0}\n",
    "    for n in a:\n",
    "        if(n%2==0):\n",
    "            b['even']+=1\n",
    "        else:\n",
    "            b['odd']+=1\n",
    "    b['sum']=b['even']+b['odd']        \n",
    "    b['ratio']=b['even']/b['odd']  \n",
    "    return b\n",
    "    \n",
    "print(engvid({1,2,3,4,5,6}))  "
   ]
  },
  {
   "cell_type": "markdown",
   "id": "decent-subject",
   "metadata": {},
   "source": [
    "### Define a Rectangular class which has two parameters: width and height then claculate the area and perimeter."
   ]
  },
  {
   "cell_type": "code",
   "execution_count": 8,
   "id": "beginning-schedule",
   "metadata": {},
   "outputs": [],
   "source": [
    "class shape:\n",
    "    def __init__(self):\n",
    "        return f'I am a { self.__class__name}'\n",
    "    \n",
    "    def area(self):\n",
    "        pass\n",
    "    def perimeter(self):\n",
    "        pass\n",
    "    "
   ]
  },
  {
   "cell_type": "code",
   "execution_count": 18,
   "id": "muslim-government",
   "metadata": {},
   "outputs": [],
   "source": [
    "class Rectangle():\n",
    "    def __init__(self,a,b):\n",
    "        self.length = a\n",
    "        self.width = b\n",
    "        \n",
    "    def rectangle_area(self):\n",
    "        return self.length* self.width\n",
    "    def rectangle_perimeter(self):\n",
    "        return (self.length+self.width)*2\n",
    "        "
   ]
  },
  {
   "cell_type": "code",
   "execution_count": 19,
   "id": "economic-narrative",
   "metadata": {},
   "outputs": [
    {
     "name": "stdout",
     "output_type": "stream",
     "text": [
      "I am a Rectangle\n",
      "12\n",
      "14\n"
     ]
    }
   ],
   "source": [
    "d = Rectangle(3, 4)\n",
    "print(\"I am a Rectangle\")\n",
    "print(d.rectangle_area())\n",
    "print(d.rectangle_perimeter())\n"
   ]
  },
  {
   "cell_type": "code",
   "execution_count": null,
   "id": "valuable-breeding",
   "metadata": {},
   "outputs": [],
   "source": []
  }
 ],
 "metadata": {
  "kernelspec": {
   "display_name": "Python 3",
   "language": "python",
   "name": "python3"
  },
  "language_info": {
   "codemirror_mode": {
    "name": "ipython",
    "version": 3
   },
   "file_extension": ".py",
   "mimetype": "text/x-python",
   "name": "python",
   "nbconvert_exporter": "python",
   "pygments_lexer": "ipython3",
   "version": "3.8.8"
  }
 },
 "nbformat": 4,
 "nbformat_minor": 5
}
