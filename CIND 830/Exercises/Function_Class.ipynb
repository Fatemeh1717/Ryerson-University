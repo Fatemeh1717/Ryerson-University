{
 "cells": [
  {
   "cell_type": "markdown",
   "id": "suspended-shanghai",
   "metadata": {},
   "source": [
    "### Function Example "
   ]
  },
  {
   "cell_type": "code",
   "execution_count": 4,
   "id": "built-delhi",
   "metadata": {},
   "outputs": [
    {
     "name": "stdout",
     "output_type": "stream",
     "text": [
      "enter length and width:25\n",
      "the area is  10.0\n",
      "the perimeter is 14.0\n"
     ]
    }
   ],
   "source": [
    "def main():\n",
    "    l,w = input (\"enter length and width:\")\n",
    "    result = recangleAp(float(l), float(w))\n",
    "    print(\"the area is \",result[0])\n",
    "    print(\"the perimeter is\", result[1])\n",
    "    \n",
    "def recangleAp(length,width):\n",
    "    area = length * width\n",
    "    perimeter = (length+width)*2\n",
    "    return[area , perimeter])\n",
    "\n",
    "\n",
    "if __name__ == \"__main__\":\n",
    "    main()"
   ]
  },
  {
   "cell_type": "markdown",
   "id": "adaptive-moral",
   "metadata": {},
   "source": [
    "### Objects and Classes"
   ]
  },
  {
   "cell_type": "code",
   "execution_count": 6,
   "id": "general-anger",
   "metadata": {},
   "outputs": [
    {
     "name": "stdout",
     "output_type": "stream",
     "text": [
      "Harry\n",
      "90\n"
     ]
    }
   ],
   "source": [
    "class Student:\n",
    "    def __init__(self,name,score):\n",
    "        self.name = name\n",
    "        self.score = score\n",
    "        \n",
    "firstStudent = Student('Harry', 80)\n",
    "secondStudent = Student('Sally', 90)\n",
    "\n",
    "print(firstStudent.name)\n",
    "print(secondStudent.score)\n",
    "        "
   ]
  },
  {
   "cell_type": "code",
   "execution_count": 10,
   "id": "early-latin",
   "metadata": {},
   "outputs": [
    {
     "name": "stdout",
     "output_type": "stream",
     "text": [
      "Help on class Student in module __main__:\n",
      "\n",
      "class Student(builtins.object)\n",
      " |  Student(name, score)\n",
      " |  \n",
      " |  Methods defined here:\n",
      " |  \n",
      " |  __init__(self, name, score)\n",
      " |      For each student,\n",
      " |      only two value will be stored: \n",
      " |          name and score\n",
      " |  \n",
      " |  ----------------------------------------------------------------------\n",
      " |  Data descriptors defined here:\n",
      " |  \n",
      " |  __dict__\n",
      " |      dictionary for instance variables (if defined)\n",
      " |  \n",
      " |  __weakref__\n",
      " |      list of weak references to the object (if defined)\n",
      "\n"
     ]
    }
   ],
   "source": [
    "class Student:\n",
    "    def __init__(self,name,score):\n",
    "        \"\"\" For each student,\n",
    "        only two value will be stored: \n",
    "            name and score \"\"\"\n",
    "        self.name = name\n",
    "        self.score = score\n",
    "        \n",
    "help(Student)\n"
   ]
  },
  {
   "cell_type": "code",
   "execution_count": 14,
   "id": "developmental-flashing",
   "metadata": {},
   "outputs": [
    {
     "name": "stdout",
     "output_type": "stream",
     "text": [
      "Harry Brown\n",
      "Brown\n",
      "80\n",
      "90\n",
      "90\n"
     ]
    }
   ],
   "source": [
    "class Student:\n",
    "    def __init__(self,name,score):\n",
    "        self.name = name\n",
    "        self.score = score\n",
    "    def lastname(self,name):\n",
    "        nameparts = name.split(\" \")\n",
    "        return nameparts[1]\n",
    "    def adjustedscoer(self,score):\n",
    "        self.score=score+10\n",
    "        return self.score\n",
    "    \n",
    "firstStudent = Student('Harry Brown', 80)\n",
    "print(firstStudent.name)\n",
    "print(firstStudent.lastname(firstStudent.name))\n",
    "print(firstStudent.score)\n",
    "print(firstStudent.adjustedscoer(firstStudent.score))\n",
    "print(firstStudent.score)        \n"
   ]
  },
  {
   "cell_type": "markdown",
   "id": "brown-happiness",
   "metadata": {},
   "source": [
    "### Polymorphism and Inheritance"
   ]
  },
  {
   "cell_type": "code",
   "execution_count": 18,
   "id": "sound-imagination",
   "metadata": {},
   "outputs": [
    {
     "name": "stdout",
     "output_type": "stream",
     "text": [
      "the area is : 200\n",
      "the perimeter is:  60\n",
      "the area is : 100\n",
      "the perimeter is:  40\n"
     ]
    }
   ],
   "source": [
    "class Polygan:\n",
    "    width = 0\n",
    "    height = 0\n",
    "    def area(self):\n",
    "        print(\"the area is:\")\n",
    "    def perimeter(self): \n",
    "        print(\"the perimeter is: \" ,2*(self.width+self.height))\n",
    "        \n",
    "        \n",
    "class Rectangle(Polygan):\n",
    "    \n",
    "    def __init__(self,w,h):\n",
    "        self.width = w\n",
    "        self.height = h\n",
    "    def area(self):\n",
    "        print(\"the area is :\", self.width*self.height)\n",
    "    \n",
    "    \n",
    "class Square(Rectangle):\n",
    "    def __init__(self,side):\n",
    "        Rectangle.__init__(self,side,side)\n",
    "        \n",
    "        \n",
    "        \n",
    "Rectangle(10,20).area()\n",
    "Rectangle(10,20).perimeter()\n",
    "Square(10).area()\n",
    "Square(10).perimeter()\n",
    "    \n",
    "        \n",
    "        "
   ]
  },
  {
   "cell_type": "code",
   "execution_count": null,
   "id": "generous-valuable",
   "metadata": {},
   "outputs": [],
   "source": []
  }
 ],
 "metadata": {
  "kernelspec": {
   "display_name": "Python 3",
   "language": "python",
   "name": "python3"
  },
  "language_info": {
   "codemirror_mode": {
    "name": "ipython",
    "version": 3
   },
   "file_extension": ".py",
   "mimetype": "text/x-python",
   "name": "python",
   "nbconvert_exporter": "python",
   "pygments_lexer": "ipython3",
   "version": "3.8.8"
  }
 },
 "nbformat": 4,
 "nbformat_minor": 5
}
