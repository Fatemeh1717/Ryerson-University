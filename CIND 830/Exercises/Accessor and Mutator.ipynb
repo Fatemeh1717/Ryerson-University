{
 "metadata": {
  "language_info": {
   "codemirror_mode": {
    "name": "ipython",
    "version": 3
   },
   "file_extension": ".py",
   "mimetype": "text/x-python",
   "name": "python",
   "nbconvert_exporter": "python",
   "pygments_lexer": "ipython3",
   "version": "3.9.2"
  },
  "orig_nbformat": 2,
  "kernelspec": {
   "name": "python3",
   "display_name": "Python 3.9.2 64-bit",
   "metadata": {
    "interpreter": {
     "hash": "492b93b4565ea24fe01d75768dc10cc21960e9130452884d71976d75d2fb59e8"
    }
   }
  }
 },
 "nbformat": 4,
 "nbformat_minor": 2,
 "cells": [
  {
   "source": [
    "# Difference between Accessor and Mutator    \n",
    "\n"
   ],
   "cell_type": "markdown",
   "metadata": {}
  },
  {
   "cell_type": "code",
   "execution_count": 20,
   "metadata": {},
   "outputs": [],
   "source": [
    "class Student:\n",
    "    def __init__(self,name,score):\n",
    "        \"\"\" there is no difference between \n",
    "        single quate and triple quate in python \"\"\"\n",
    "        self.name=name\n",
    "        self.score=score\n",
    "    def lastname(self,name):\n",
    "        nameparts = name.split(\" \")\n",
    "        return nameparts[1]\n",
    "    def adjustedscore(self,score):\n",
    "        self.score=score + 10 \n",
    "        return self.score   "
   ]
  },
  {
   "cell_type": "code",
   "execution_count": 18,
   "metadata": {},
   "outputs": [
    {
     "output_type": "stream",
     "name": "stdout",
     "text": [
      "Help on class Student in module __main__:\n\nclass Student(builtins.object)\n |  Student(name, score)\n |  \n |  Methods defined here:\n |  \n |  __init__(self, name, score)\n |      this is a test\n |      now you can see a difference\n |  \n |  adjustedscore(self, score)\n |  \n |  lastname(self, name)\n |  \n |  ----------------------------------------------------------------------\n |  Data descriptors defined here:\n |  \n |  __dict__\n |      dictionary for instance variables (if defined)\n |  \n |  __weakref__\n |      list of weak references to the object (if defined)\n\n"
     ]
    }
   ],
   "source": [
    "help(Student)"
   ]
  },
  {
   "cell_type": "code",
   "execution_count": 21,
   "metadata": {},
   "outputs": [
    {
     "output_type": "stream",
     "name": "stdout",
     "text": [
      "huaary brown\nbrown\n80\n90\n90\n"
     ]
    }
   ],
   "source": [
    "firststudent = Student('huaary brown',80)\n",
    "print(firststudent.name)\n",
    "print(firststudent.lastname(firststudent.name))\n",
    "print(firststudent.score)\n",
    "print(firststudent.adjustedscore(firststudent.score))\n",
    "print(firststudent.score)\n",
    "\n",
    "\n"
   ]
  },
  {
   "source": [
    "# Ploymorphiam and Inheritance"
   ],
   "cell_type": "markdown",
   "metadata": {}
  },
  {
   "cell_type": "code",
   "execution_count": 28,
   "metadata": {},
   "outputs": [],
   "source": [
    "class polygan:\n",
    "    width = 0\n",
    "    height = 0\n",
    "    def area(self):\n",
    "        print(\"the area is: \")\n",
    "    def perimeter(self):\n",
    "        print(\"the perimeter is: \", 2*(self.width+self.height))\n",
    "        \n"
   ]
  },
  {
   "cell_type": "code",
   "execution_count": 30,
   "metadata": {},
   "outputs": [],
   "source": [
    "class recangle(polygan):\n",
    "    def __init__(self,w,h):\n",
    "        self.width=w\n",
    "        self.height=h\n",
    "    def area(self):\n",
    "        print(\"the area is : \", self.width* self.height)"
   ]
  },
  {
   "cell_type": "code",
   "execution_count": 31,
   "metadata": {},
   "outputs": [],
   "source": [
    "class Square(recangle):\n",
    "    def __init__(self,side):\n",
    "        recangle.__init__(self,side,side)\n",
    "    \n",
    "    \n",
    "       \n",
    "                "
   ]
  },
  {
   "cell_type": "code",
   "execution_count": 32,
   "metadata": {},
   "outputs": [
    {
     "output_type": "stream",
     "name": "stdout",
     "text": [
      "the area is :  200\nthe perimeter is:  60\nthe area is :  100\nthe perimeter is:  40\n"
     ]
    }
   ],
   "source": [
    "recangle(10,20).area()\n",
    "recangle(10,20).perimeter()\n",
    "Square(10).area()\n",
    "Square(10).perimeter()"
   ]
  },
  {
   "cell_type": "code",
   "execution_count": null,
   "metadata": {},
   "outputs": [],
   "source": []
  }
 ]
}