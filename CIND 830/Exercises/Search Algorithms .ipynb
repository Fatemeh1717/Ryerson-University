{
 "metadata": {
  "language_info": {
   "codemirror_mode": {
    "name": "ipython",
    "version": 3
   },
   "file_extension": ".py",
   "mimetype": "text/x-python",
   "name": "python",
   "nbconvert_exporter": "python",
   "pygments_lexer": "ipython3",
   "version": "3.9.2-final"
  },
  "orig_nbformat": 2,
  "kernelspec": {
   "name": "python3",
   "display_name": "Python 3.9.2 64-bit",
   "metadata": {
    "interpreter": {
     "hash": "1274a373a0b7fd1496a613d3618547b52793bd263bd2f08be1c41a20c0265411"
    }
   }
  }
 },
 "nbformat": 4,
 "nbformat_minor": 2,
 "cells": [
  {
   "cell_type": "code",
   "execution_count": 1,
   "metadata": {},
   "outputs": [],
   "source": [
    "def linearsearch(target,lyst):\n",
    "    position = 0\n",
    "    while(position < len(lyst)):\n",
    "        if target== lyst[position]:\n",
    "            return position\n",
    "        position +=1\n",
    "    return -1"
   ]
  },
  {
   "cell_type": "code",
   "execution_count": 2,
   "metadata": {},
   "outputs": [
    {
     "output_type": "stream",
     "name": "stdout",
     "text": [
      "0\n4\n7\n"
     ]
    }
   ],
   "source": [
    "firstlinearsearch = linearsearch(4,[4,5,8,4,9,3,6,2])\n",
    "print(firstlinearsearch)\n",
    "\n",
    "secondlinearsearch = linearsearch(9,[4,5,8,4,9,3,6,2])\n",
    "print(secondlinearsearch)\n",
    "\n",
    "thirdlinearsearch = linearsearch(2,[4,5,8,4,9,3,6,2])\n",
    "print(thirdlinearsearch)"
   ]
  },
  {
   "cell_type": "code",
   "execution_count": 4,
   "metadata": {},
   "outputs": [],
   "source": [
    "import bisect\n"
   ]
  },
  {
   "cell_type": "code",
   "execution_count": 10,
   "metadata": {},
   "outputs": [
    {
     "output_type": "stream",
     "name": "stdout",
     "text": [
      "Age:51 , Category:['Toddler', 'Child', 'Adult', 'Elderly']\nAge:22 , Category:['Toddler', 'Child', 'Adult', 'Elderly']\nAge:14 , Category:['Toddler', 'Child', 'Adult', 'Elderly']\nAge:46 , Category:['Toddler', 'Child', 'Adult', 'Elderly']\nAge:89 , Category:['Toddler', 'Child', 'Adult', 'Elderly']\nAge:74 , Category:['Toddler', 'Child', 'Adult', 'Elderly']\nAge:45 , Category:['Toddler', 'Child', 'Adult', 'Elderly']\nAge:2 , Category:['Toddler', 'Child', 'Adult', 'Elderly']\n"
     ]
    }
   ],
   "source": [
    "ages=[51,22,14,46,89,74,45,2]\n",
    "thresholds=[3,18,66]\n",
    "categories=['Toddler','Child','Adult','Elderly']\n",
    "\n",
    "def get_category(age,thresholds,categories):\n",
    "    i=bisect.bisect_right(thresholds,age)\n",
    "    return categories[i]\n",
    "\n",
    "\n",
    "\n",
    "for age in ages:\n",
    "    category = get_category(age,thresholds,categories)\n",
    "\n",
    "    print('Age:{} , Category:{}'.format(age,categories))"
   ]
  },
  {
   "cell_type": "code",
   "execution_count": null,
   "metadata": {},
   "outputs": [],
   "source": []
  }
 ]
}