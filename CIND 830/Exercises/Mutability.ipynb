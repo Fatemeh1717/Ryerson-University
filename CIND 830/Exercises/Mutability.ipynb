{
  "nbformat": 4,
  "nbformat_minor": 0,
  "metadata": {
    "colab": {
      "name": "Mutability.ipynb",
      "provenance": [],
      "collapsed_sections": []
    },
    "kernelspec": {
      "name": "python3",
      "display_name": "Python 3"
    }
  },
  "cells": [
    {
      "cell_type": "markdown",
      "metadata": {
        "id": "0rgVd04pKOZW"
      },
      "source": [
        "**The Side Effects of Mutability**"
      ]
    },
    {
      "cell_type": "code",
      "metadata": {
        "colab": {
          "base_uri": "https://localhost:8080/"
        },
        "id": "L21NFculJM2K",
        "outputId": "9bc79ba4-5608-4cc8-ac78-c6edd403aea3"
      },
      "source": [
        "originalList = [\"c\",\"I\",\"N\",\"D\"]\r\n",
        "secondList=originalList \r\n",
        "thirdlList=secondList\r\n",
        "thirdlList.extend([\"8\",\"3\",\"0\"])\r\n",
        "print(originalList)\r\n",
        "print(secondList)\r\n",
        "print(thirdlList)"
      ],
      "execution_count": null,
      "outputs": [
        {
          "output_type": "stream",
          "text": [
            "['c', 'I', 'N', 'D', '8', '3', '0']\n",
            "['c', 'I', 'N', 'D', '8', '3', '0']\n",
            "['c', 'I', 'N', 'D', '8', '3', '0']\n"
          ],
          "name": "stdout"
        }
      ]
    },
    {
      "cell_type": "code",
      "metadata": {
        "colab": {
          "base_uri": "https://localhost:8080/"
        },
        "id": "iK6hNWloKhGF",
        "outputId": "3e5bd5e4-3faa-428c-e151-52724268a64c"
      },
      "source": [
        "fourList=originalList[:]\r\n",
        "fourList.extend([\"python\"])\r\n",
        "print(fourList)\r\n",
        "print(originalList)"
      ],
      "execution_count": null,
      "outputs": [
        {
          "output_type": "stream",
          "text": [
            "['c', 'I', 'N', 'D', '8', '3', '0', 'python']\n",
            "['c', 'I', 'N', 'D', '8', '3', '0']\n"
          ],
          "name": "stdout"
        }
      ]
    },
    {
      "cell_type": "markdown",
      "metadata": {
        "id": "274XTVwllYFR"
      },
      "source": [
        "**List inside List**"
      ]
    },
    {
      "cell_type": "code",
      "metadata": {
        "colab": {
          "base_uri": "https://localhost:8080/"
        },
        "id": "0gRGnYh5lhzl",
        "outputId": "eaeb81b2-7b43-4c7a-dbfc-a7b2ca675e43"
      },
      "source": [
        "FirstList = [1,[10,20,[100,200,300]]]\r\n",
        "SecondList = [4,5,[.4,.5,.6,.7],6,7]\r\n",
        "\r\n",
        "print(FirstList[1])   #Display the 2nd element\r\n",
        "print(SecondList[2:5])    #Display the 3rd upto 5th element\r\n",
        "print(len(SecondList))    #Display the length of a list\r\n",
        "\r\n",
        "print(range(len(SecondList)))   #The range as a list of integers\r\n",
        "\r\n",
        "print(FirstList[1][0]> SecondList[4])   #Comparing elements\r\n",
        "print(FirstList[1][2]+ SecondList[2])   #Concatenating Lists"
      ],
      "execution_count": 9,
      "outputs": [
        {
          "output_type": "stream",
          "text": [
            "[10, 20, [100, 200, 300]]\n",
            "[[0.4, 0.5, 0.6, 0.7], 6, 7]\n",
            "5\n",
            "range(0, 5)\n",
            "True\n",
            "[100, 200, 300, 0.4, 0.5, 0.6, 0.7]\n"
          ],
          "name": "stdout"
        }
      ]
    }
  ]
}