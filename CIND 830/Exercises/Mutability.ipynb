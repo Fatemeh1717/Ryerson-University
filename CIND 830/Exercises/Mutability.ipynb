{
  "nbformat": 4,
  "nbformat_minor": 0,
  "metadata": {
    "colab": {
      "name": "Mutability.ipynb",
      "provenance": []
    },
    "kernelspec": {
      "name": "python3",
      "display_name": "Python 3"
    }
  },
  "cells": [
    {
      "cell_type": "markdown",
      "metadata": {
        "id": "0rgVd04pKOZW"
      },
      "source": [
        "**The Side Effects of Mutability**"
      ]
    },
    {
      "cell_type": "code",
      "metadata": {
        "colab": {
          "base_uri": "https://localhost:8080/"
        },
        "id": "L21NFculJM2K",
        "outputId": "9bc79ba4-5608-4cc8-ac78-c6edd403aea3"
      },
      "source": [
        "originalList = [\"c\",\"I\",\"N\",\"D\"]\r\n",
        "secondList=originalList \r\n",
        "thirdlList=secondList\r\n",
        "thirdlList.extend([\"8\",\"3\",\"0\"])\r\n",
        "print(originalList)\r\n",
        "print(secondList)\r\n",
        "print(thirdlList)"
      ],
      "execution_count": 2,
      "outputs": [
        {
          "output_type": "stream",
          "text": [
            "['c', 'I', 'N', 'D', '8', '3', '0']\n",
            "['c', 'I', 'N', 'D', '8', '3', '0']\n",
            "['c', 'I', 'N', 'D', '8', '3', '0']\n"
          ],
          "name": "stdout"
        }
      ]
    },
    {
      "cell_type": "code",
      "metadata": {
        "colab": {
          "base_uri": "https://localhost:8080/"
        },
        "id": "iK6hNWloKhGF",
        "outputId": "3e5bd5e4-3faa-428c-e151-52724268a64c"
      },
      "source": [
        "fourList=originalList[:]\r\n",
        "fourList.extend([\"python\"])\r\n",
        "print(fourList)\r\n",
        "print(originalList)"
      ],
      "execution_count": 3,
      "outputs": [
        {
          "output_type": "stream",
          "text": [
            "['c', 'I', 'N', 'D', '8', '3', '0', 'python']\n",
            "['c', 'I', 'N', 'D', '8', '3', '0']\n"
          ],
          "name": "stdout"
        }
      ]
    }
  ]
}