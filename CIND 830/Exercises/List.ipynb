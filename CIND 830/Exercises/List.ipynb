{
 "cells": [
  {
   "cell_type": "code",
   "execution_count": 4,
   "id": "facial-privilege",
   "metadata": {},
   "outputs": [
    {
     "name": "stdout",
     "output_type": "stream",
     "text": [
      "[10, 20, [100, 200, 300]]\n"
     ]
    }
   ],
   "source": [
    "firstlist = [1,[10,20,[100,200,300]]]\n",
    "secondlist = [4,5,[.4,.5,.6,.7],6,7]\n",
    "\n",
    "print(firstlist[1])"
   ]
  },
  {
   "cell_type": "code",
   "execution_count": null,
   "id": "portable-tomato",
   "metadata": {},
   "outputs": [],
   "source": []
  },
  {
   "cell_type": "code",
   "execution_count": null,
   "id": "advisory-facing",
   "metadata": {},
   "outputs": [],
   "source": []
  },
  {
   "cell_type": "code",
   "execution_count": 5,
   "id": "sticky-prospect",
   "metadata": {},
   "outputs": [
    {
     "name": "stdout",
     "output_type": "stream",
     "text": [
      "[[0.4, 0.5, 0.6, 0.7], 6, 7]\n"
     ]
    }
   ],
   "source": [
    "print(secondlist[2:5])"
   ]
  },
  {
   "cell_type": "code",
   "execution_count": 6,
   "id": "reflected-employee",
   "metadata": {},
   "outputs": [
    {
     "name": "stdout",
     "output_type": "stream",
     "text": [
      "5\n"
     ]
    }
   ],
   "source": [
    "print(len(secondlist))"
   ]
  },
  {
   "cell_type": "code",
   "execution_count": 7,
   "id": "scientific-warehouse",
   "metadata": {},
   "outputs": [
    {
     "name": "stdout",
     "output_type": "stream",
     "text": [
      "range(0, 5)\n"
     ]
    }
   ],
   "source": [
    "print(range(len(secondlist)))"
   ]
  },
  {
   "cell_type": "code",
   "execution_count": 8,
   "id": "minus-strength",
   "metadata": {},
   "outputs": [
    {
     "name": "stdout",
     "output_type": "stream",
     "text": [
      "True\n"
     ]
    }
   ],
   "source": [
    "print(firstlist[1][0]> secondlist[4])"
   ]
  },
  {
   "cell_type": "code",
   "execution_count": 9,
   "id": "incredible-genius",
   "metadata": {},
   "outputs": [
    {
     "name": "stdout",
     "output_type": "stream",
     "text": [
      "[100, 200, 300, 0.4, 0.5, 0.6, 0.7]\n"
     ]
    }
   ],
   "source": [
    "print(firstlist[1][2]+secondlist[2])"
   ]
  },
  {
   "cell_type": "code",
   "execution_count": 12,
   "id": "chinese-incidence",
   "metadata": {},
   "outputs": [],
   "source": [
    "l = ['C','I','N','D']"
   ]
  },
  {
   "cell_type": "code",
   "execution_count": 13,
   "id": "structured-denmark",
   "metadata": {},
   "outputs": [],
   "source": [
    "l.append(830)"
   ]
  },
  {
   "cell_type": "code",
   "execution_count": 14,
   "id": "surgical-mainstream",
   "metadata": {},
   "outputs": [],
   "source": [
    "l.append([830])"
   ]
  },
  {
   "cell_type": "code",
   "execution_count": 15,
   "id": "later-forge",
   "metadata": {},
   "outputs": [
    {
     "data": {
      "text/plain": [
       "['C', 'I', 'N', 'D', 830, [830]]"
      ]
     },
     "execution_count": 15,
     "metadata": {},
     "output_type": "execute_result"
    }
   ],
   "source": [
    "l"
   ]
  },
  {
   "cell_type": "code",
   "execution_count": 18,
   "id": "provincial-details",
   "metadata": {},
   "outputs": [],
   "source": [
    "l.insert(9,['python'])\n"
   ]
  },
  {
   "cell_type": "code",
   "execution_count": 19,
   "id": "great-tracy",
   "metadata": {},
   "outputs": [
    {
     "data": {
      "text/plain": [
       "830"
      ]
     },
     "execution_count": 19,
     "metadata": {},
     "output_type": "execute_result"
    }
   ],
   "source": [
    "l.pop(l.index(830))"
   ]
  },
  {
   "cell_type": "code",
   "execution_count": 20,
   "id": "increasing-superintendent",
   "metadata": {},
   "outputs": [
    {
     "name": "stdout",
     "output_type": "stream",
     "text": [
      "['C', 'I', 'N', 'D', [830], ['python']]\n"
     ]
    }
   ],
   "source": [
    "\n",
    "print(l)"
   ]
  },
  {
   "cell_type": "code",
   "execution_count": 99,
   "id": "provincial-darkness",
   "metadata": {},
   "outputs": [],
   "source": [
    "l = ['C','I','N','D']"
   ]
  },
  {
   "cell_type": "markdown",
   "id": "palestinian-northern",
   "metadata": {},
   "source": [
    "### Adding an element"
   ]
  },
  {
   "cell_type": "code",
   "execution_count": 93,
   "id": "selective-means",
   "metadata": {},
   "outputs": [
    {
     "name": "stdout",
     "output_type": "stream",
     "text": [
      "['C', 'D', 'I', 'N', 830]\n"
     ]
    }
   ],
   "source": [
    "l.append(830)\n",
    "print(l)"
   ]
  },
  {
   "cell_type": "markdown",
   "id": "wrong-spending",
   "metadata": {},
   "source": [
    "### Adding a sublist"
   ]
  },
  {
   "cell_type": "code",
   "execution_count": 101,
   "id": "brilliant-trust",
   "metadata": {},
   "outputs": [
    {
     "name": "stdout",
     "output_type": "stream",
     "text": [
      "['C', 'D', 'I', 'N', [830]]\n"
     ]
    }
   ],
   "source": [
    "l.append([830])\n",
    "print(l)"
   ]
  },
  {
   "cell_type": "markdown",
   "id": "orange-horror",
   "metadata": {},
   "source": [
    "### Adding elements"
   ]
  },
  {
   "cell_type": "code",
   "execution_count": 98,
   "id": "front-silence",
   "metadata": {},
   "outputs": [
    {
     "name": "stdout",
     "output_type": "stream",
     "text": [
      "[['python'], 'C', 'D', 'I', 'N', 830, [830], 8, 3, 0, 8, 3, 0]\n"
     ]
    }
   ],
   "source": [
    "l.extend([8,3,0])\n",
    "print(l)"
   ]
  },
  {
   "cell_type": "markdown",
   "id": "shared-coordination",
   "metadata": {},
   "source": [
    "### Insetr elemnta at specific location"
   ]
  },
  {
   "cell_type": "code",
   "execution_count": 96,
   "id": "unavailable-kansas",
   "metadata": {},
   "outputs": [
    {
     "name": "stdout",
     "output_type": "stream",
     "text": [
      "[['python'], 'C', 'D', 'I', 'N', 830, [830], 8, 3, 0]\n"
     ]
    }
   ],
   "source": [
    "l.insert(0,['python'])\n",
    "print(l)"
   ]
  },
  {
   "cell_type": "markdown",
   "id": "vulnerable-correlation",
   "metadata": {},
   "source": [
    "### Sort the list internally"
   ]
  },
  {
   "cell_type": "code",
   "execution_count": 22,
   "id": "fourth-buffalo",
   "metadata": {},
   "outputs": [
    {
     "data": {
      "text/plain": [
       "['C', 'D', 'I', 'N']"
      ]
     },
     "execution_count": 22,
     "metadata": {},
     "output_type": "execute_result"
    }
   ],
   "source": [
    "l = ['C','I','N','D']\n",
    "l.sort()\n",
    "l"
   ]
  },
  {
   "cell_type": "markdown",
   "id": "assisted-tuition",
   "metadata": {},
   "source": [
    "### remove and return the elements at index"
   ]
  },
  {
   "cell_type": "code",
   "execution_count": 86,
   "id": "iraqi-departure",
   "metadata": {},
   "outputs": [
    {
     "name": "stdout",
     "output_type": "stream",
     "text": [
      "[1, 2, 3, 4, 4]\n"
     ]
    }
   ],
   "source": [
    "x = [1,2,3,4,4,5]\n",
    "x.pop(x.index(5))\n",
    "print(x)\n"
   ]
  },
  {
   "cell_type": "code",
   "execution_count": 89,
   "id": "stunning-recruitment",
   "metadata": {},
   "outputs": [
    {
     "data": {
      "text/plain": [
       "1"
      ]
     },
     "execution_count": 89,
     "metadata": {},
     "output_type": "execute_result"
    }
   ],
   "source": [
    "x = [1,2,3,4,4,5]\n",
    "a =x.index(2)\n",
    "a"
   ]
  },
  {
   "cell_type": "code",
   "execution_count": 43,
   "id": "chinese-republic",
   "metadata": {},
   "outputs": [
    {
     "name": "stdout",
     "output_type": "stream",
     "text": [
      "Dighit    Sqrt\n",
      "2   1.4142135623730951\n"
     ]
    }
   ],
   "source": [
    "import math\n",
    "x=2\n",
    "print(\"Dighit\",\"  \",\"Sqrt\")\n",
    "print(x,\" \",math.sqrt(x))"
   ]
  },
  {
   "cell_type": "code",
   "execution_count": 56,
   "id": "lovely-guinea",
   "metadata": {},
   "outputs": [
    {
     "name": "stdout",
     "output_type": "stream",
     "text": [
      "the square of each element of th list is:  [4, 9, 16, 25]  and the sum of square is:  54\n"
     ]
    }
   ],
   "source": [
    "numbers = [2,3,4,5]\n",
    "index = 0\n",
    "while(index < len(numbers)):\n",
    "    numbers[index] = numbers[index]**2 \n",
    "    index +=1\n",
    "b= sum(numbers)    \n",
    "print(\"The square of each element of th list is: \", numbers , \" and the sum of square is: \", b)    "
   ]
  },
  {
   "cell_type": "code",
   "execution_count": 80,
   "id": "satisfactory-organization",
   "metadata": {},
   "outputs": [
    {
     "name": "stdout",
     "output_type": "stream",
     "text": [
      "-1\n"
     ]
    }
   ],
   "source": [
    "alist = [34, 45, 67]\n",
    "target = 55\n",
    "\n",
    "if target in alist:\n",
    "    print(alist.index(target))\n",
    "else:\n",
    "    print(-1)"
   ]
  },
  {
   "cell_type": "markdown",
   "id": "charming-candle",
   "metadata": {},
   "source": [
    "### Calculating the median within the list"
   ]
  },
  {
   "cell_type": "code",
   "execution_count": 134,
   "id": "conceptual-queensland",
   "metadata": {},
   "outputs": [
    {
     "name": "stdout",
     "output_type": "stream",
     "text": [
      "3.5\n"
     ]
    }
   ],
   "source": [
    "numbers=[3,0,5,4]\n",
    "numbers.sort()\n",
    "midpoint =int(len(numbers)/2)\n",
    "if (len(numbers)%2 == 1) :\n",
    "      print(numbers[midpoint])\n",
    "else:\n",
    "      print((numbers[midpoint] + numbers[midpoint -1])/2)  "
   ]
  },
  {
   "cell_type": "code",
   "execution_count": 139,
   "id": "parental-heath",
   "metadata": {},
   "outputs": [
    {
     "name": "stdout",
     "output_type": "stream",
     "text": [
      "[1, [2, 3, 1], 4, [5, 6, 7]]\n"
     ]
    }
   ],
   "source": [
    "L=[1,[2,3],4,[5,6,7]]\n",
    "L[1].extend([1])\n",
    "print(L)"
   ]
  },
  {
   "cell_type": "code",
   "execution_count": 171,
   "id": "trying-doctrine",
   "metadata": {},
   "outputs": [],
   "source": [
    "str = 'Python is a case-sensitive language'\n",
    "\n"
   ]
  },
  {
   "cell_type": "code",
   "execution_count": 173,
   "id": "civilian-laser",
   "metadata": {},
   "outputs": [
    {
     "data": {
      "text/plain": [
       "'R is a case-sensitive language'"
      ]
     },
     "execution_count": 173,
     "metadata": {},
     "output_type": "execute_result"
    }
   ],
   "source": [
    "str.replace('Python', 'R')"
   ]
  },
  {
   "cell_type": "code",
   "execution_count": 165,
   "id": "ordinary-paste",
   "metadata": {},
   "outputs": [
    {
     "data": {
      "text/plain": [
       "14"
      ]
     },
     "execution_count": 165,
     "metadata": {},
     "output_type": "execute_result"
    }
   ],
   "source": [
    "str.find('se')"
   ]
  },
  {
   "cell_type": "code",
   "execution_count": 172,
   "id": "seven-monthly",
   "metadata": {},
   "outputs": [
    {
     "data": {
      "text/plain": [
       "'Python is a case-sensitive language'"
      ]
     },
     "execution_count": 172,
     "metadata": {},
     "output_type": "execute_result"
    }
   ],
   "source": [
    "str.replace('Python', 'R',0)"
   ]
  },
  {
   "cell_type": "code",
   "execution_count": 145,
   "id": "progressive-asbestos",
   "metadata": {},
   "outputs": [
    {
     "data": {
      "text/plain": [
       "2"
      ]
     },
     "execution_count": 145,
     "metadata": {},
     "output_type": "execute_result"
    }
   ],
   "source": [
    "str.count('se')"
   ]
  },
  {
   "cell_type": "code",
   "execution_count": 147,
   "id": "inner-ghost",
   "metadata": {},
   "outputs": [
    {
     "name": "stdout",
     "output_type": "stream",
     "text": [
      "['example', '.py']\n"
     ]
    }
   ],
   "source": [
    "s=\"example4.py\"\n",
    "print(s.split('4'))"
   ]
  },
  {
   "cell_type": "code",
   "execution_count": 148,
   "id": "optional-bailey",
   "metadata": {},
   "outputs": [
    {
     "name": "stdout",
     "output_type": "stream",
     "text": [
      "xampl\n"
     ]
    }
   ],
   "source": [
    "print(s[1:6])"
   ]
  },
  {
   "cell_type": "code",
   "execution_count": 149,
   "id": "cloudy-opinion",
   "metadata": {},
   "outputs": [
    {
     "name": "stdout",
     "output_type": "stream",
     "text": [
      "p\n"
     ]
    }
   ],
   "source": [
    "print(s[4])"
   ]
  },
  {
   "cell_type": "code",
   "execution_count": 150,
   "id": "pursuant-shuttle",
   "metadata": {},
   "outputs": [
    {
     "name": "stdout",
     "output_type": "stream",
     "text": [
      "ple4.py\n"
     ]
    }
   ],
   "source": [
    "print(s[4:])"
   ]
  },
  {
   "cell_type": "code",
   "execution_count": 151,
   "id": "minute-franchise",
   "metadata": {},
   "outputs": [
    {
     "name": "stdout",
     "output_type": "stream",
     "text": [
      "exam\n"
     ]
    }
   ],
   "source": [
    "print(s[:4])"
   ]
  },
  {
   "cell_type": "code",
   "execution_count": 174,
   "id": "labeled-retirement",
   "metadata": {},
   "outputs": [
    {
     "name": "stdout",
     "output_type": "stream",
     "text": [
      "[2, 3, 4]\n"
     ]
    }
   ],
   "source": [
    "l = [1,[2,3],4,[5,6,7]]\n",
    "print(l[1]+[4])"
   ]
  },
  {
   "cell_type": "code",
   "execution_count": 177,
   "id": "fallen-engineering",
   "metadata": {},
   "outputs": [
    {
     "name": "stdout",
     "output_type": "stream",
     "text": [
      "[2, 3]\n"
     ]
    }
   ],
   "source": [
    "print(l[1])"
   ]
  },
  {
   "cell_type": "code",
   "execution_count": 1,
   "id": "motivated-cartridge",
   "metadata": {},
   "outputs": [
    {
     "data": {
      "text/plain": [
       "3055"
      ]
     },
     "execution_count": 1,
     "metadata": {},
     "output_type": "execute_result"
    }
   ],
   "source": [
    "z=round(3054.5040248356463)\n",
    "z"
   ]
  }
 ],
 "metadata": {
  "kernelspec": {
   "display_name": "Python 3",
   "language": "python",
   "name": "python3"
  },
  "language_info": {
   "codemirror_mode": {
    "name": "ipython",
    "version": 3
   },
   "file_extension": ".py",
   "mimetype": "text/x-python",
   "name": "python",
   "nbconvert_exporter": "python",
   "pygments_lexer": "ipython3",
   "version": "3.7.9"
  }
 },
 "nbformat": 4,
 "nbformat_minor": 5
}
