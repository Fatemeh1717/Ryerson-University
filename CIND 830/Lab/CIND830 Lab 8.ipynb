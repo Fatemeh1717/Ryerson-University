{
 "metadata": {
  "language_info": {
   "codemirror_mode": {
    "name": "ipython",
    "version": 3
   },
   "file_extension": ".py",
   "mimetype": "text/x-python",
   "name": "python",
   "nbconvert_exporter": "python",
   "pygments_lexer": "ipython3",
   "version": "3.9.2"
  },
  "orig_nbformat": 2,
  "kernelspec": {
   "name": "python392jvsc74a57bd01274a373a0b7fd1496a613d3618547b52793bd263bd2f08be1c41a20c0265411",
   "display_name": "Python 3.9.2 64-bit"
  },
  "metadata": {
   "interpreter": {
    "hash": "1274a373a0b7fd1496a613d3618547b52793bd263bd2f08be1c41a20c0265411"
   }
  }
 },
 "nbformat": 4,
 "nbformat_minor": 2,
 "cells": [
  {
   "source": [
    "### 1-a)"
   ],
   "cell_type": "markdown",
   "metadata": {}
  },
  {
   "cell_type": "code",
   "execution_count": 2,
   "metadata": {},
   "outputs": [],
   "source": [
    "class iArray():\n",
    "\n",
    "    '''A representation of an array'''\n",
    "    def __init__(self, capacity, fillValue = None):\n",
    "\n",
    "\n",
    "        '''Capacity is the static size of the array.\n",
    "        None object will be placed at each position.'''\n",
    "        self._items = list()\n",
    "        for count in range(capacity):\n",
    "            self._items.append(fillValue)\n",
    "\n",
    "    def __len__(self):\n",
    "        return len(self._items)\n",
    "\n",
    "\n",
    "    def __str__(self):\n",
    "        return str(self._items)\n",
    "\n",
    "\n",
    "    def __setitem__(self,index,newitem):\n",
    "        self._items[index]=newitem\n",
    "\n",
    "\n",
    "    def __getitem__(self,index):\n",
    "        return self._items[index]\n",
    "\n",
    "    def __iter__(self):\n",
    "        return iter(self._items)\n",
    "\n"
   ]
  },
  {
   "cell_type": "code",
   "execution_count": 3,
   "metadata": {},
   "outputs": [
    {
     "output_type": "execute_result",
     "data": {
      "text/plain": [
       "5"
      ]
     },
     "metadata": {},
     "execution_count": 3
    }
   ],
   "source": [
    "a = iArray(5)\n",
    "len(a)\n"
   ]
  },
  {
   "source": [
    "### ii."
   ],
   "cell_type": "markdown",
   "metadata": {}
  },
  {
   "cell_type": "code",
   "execution_count": 4,
   "metadata": {},
   "outputs": [
    {
     "output_type": "stream",
     "name": "stdout",
     "text": [
      "['[None,', 'None,', 'None,', 'None,', 'None]']\n"
     ]
    }
   ],
   "source": [
    "a = iArray(5)\n",
    "print(str(a).split())"
   ]
  },
  {
   "source": [
    "### iii."
   ],
   "cell_type": "markdown",
   "metadata": {}
  },
  {
   "cell_type": "code",
   "execution_count": 5,
   "metadata": {},
   "outputs": [],
   "source": [
    "a = iArray(5)\n"
   ]
  },
  {
   "cell_type": "code",
   "execution_count": 6,
   "metadata": {},
   "outputs": [],
   "source": [
    "a[3] = 2"
   ]
  },
  {
   "cell_type": "code",
   "execution_count": 7,
   "metadata": {},
   "outputs": [
    {
     "output_type": "stream",
     "name": "stdout",
     "text": [
      "2\n"
     ]
    }
   ],
   "source": [
    "print(a[3])"
   ]
  },
  {
   "source": [
    "### iv."
   ],
   "cell_type": "markdown",
   "metadata": {}
  },
  {
   "cell_type": "code",
   "execution_count": 8,
   "metadata": {},
   "outputs": [
    {
     "output_type": "stream",
     "name": "stdout",
     "text": [
      "None\n"
     ]
    }
   ],
   "source": [
    "a = iArray(5)\n",
    "print(a[1])"
   ]
  },
  {
   "source": [
    "### v"
   ],
   "cell_type": "markdown",
   "metadata": {}
  },
  {
   "cell_type": "code",
   "execution_count": 9,
   "metadata": {},
   "outputs": [
    {
     "output_type": "stream",
     "name": "stdout",
     "text": [
      "None\nNone\nNone\nNone\nNone\n"
     ]
    }
   ],
   "source": [
    "a = iArray(5)\n",
    "for i in a:\n",
    "    print(i)"
   ]
  },
  {
   "source": [
    "## b"
   ],
   "cell_type": "markdown",
   "metadata": {}
  },
  {
   "cell_type": "code",
   "execution_count": 11,
   "metadata": {},
   "outputs": [],
   "source": [
    "def increasearray(a):\n",
    "    logicalsize = len(([x for x in a if x is not None]))\n",
    "    phisicalsize = len(a)\n",
    "    temp =iArray(len(a)+1)\n",
    "\n",
    "    if logicalsize==phisicalsize:\n",
    "        for i in range(logicalsize):\n",
    "            temp[i]=a[i]\n",
    "    a=temp\n",
    "    return a\n",
    "    "
   ]
  },
  {
   "cell_type": "code",
   "execution_count": 12,
   "metadata": {},
   "outputs": [],
   "source": [
    "a = increasearray(a)"
   ]
  },
  {
   "cell_type": "code",
   "execution_count": 13,
   "metadata": {},
   "outputs": [
    {
     "output_type": "stream",
     "name": "stdout",
     "text": [
      "[None, None, None, None, None, None]\n"
     ]
    }
   ],
   "source": [
    "print(a)"
   ]
  },
  {
   "cell_type": "code",
   "execution_count": 14,
   "metadata": {},
   "outputs": [],
   "source": [
    "a[5] = 7"
   ]
  },
  {
   "cell_type": "code",
   "execution_count": 15,
   "metadata": {},
   "outputs": [
    {
     "output_type": "stream",
     "name": "stdout",
     "text": [
      "[None, None, None, None, None, 7]\n"
     ]
    }
   ],
   "source": [
    "print(a)"
   ]
  },
  {
   "source": [
    "## Grid"
   ],
   "cell_type": "markdown",
   "metadata": {}
  },
  {
   "cell_type": "code",
   "execution_count": 16,
   "metadata": {},
   "outputs": [],
   "source": [
    "class iGrid():\n",
    "    def __init__ (self, rows, columns, fillValue=None):\n",
    "        self._data =iArray(rows)\n",
    "        for row in range(rows):\n",
    "            self._data[row]=iArray(columns,fillValue)\n",
    "\n",
    "    def getRows(self):\n",
    "        return len(self._data)\n",
    "\n",
    "    def getColumns(self):\n",
    "        return len(self._data[0])\n",
    "\n",
    "    def __getitem__(self,index):\n",
    "        return self._data[index]\n",
    "\n",
    "    def __str__(self):\n",
    "        result=' '\n",
    "        for row in range(self.getRows()):\n",
    "            for col in range(self.getColumns()):\n",
    "                result += str(self._data[row][col])+ ' '\n",
    "            result += \"\\n\"\n",
    "        return result"
   ]
  },
  {
   "source": [
    "### i)"
   ],
   "cell_type": "markdown",
   "metadata": {}
  },
  {
   "cell_type": "code",
   "execution_count": 17,
   "metadata": {},
   "outputs": [
    {
     "output_type": "stream",
     "name": "stdout",
     "text": [
      "3\n"
     ]
    }
   ],
   "source": [
    "g = iGrid(3, 4)\n",
    "print(g.getRows())"
   ]
  },
  {
   "source": [
    "### ii)"
   ],
   "cell_type": "markdown",
   "metadata": {}
  },
  {
   "cell_type": "code",
   "execution_count": 18,
   "metadata": {},
   "outputs": [
    {
     "output_type": "stream",
     "name": "stdout",
     "text": [
      "4\n"
     ]
    }
   ],
   "source": [
    "g = iGrid(3, 4)\n",
    "print(g.getColumns())"
   ]
  },
  {
   "source": [
    "### iii)"
   ],
   "cell_type": "markdown",
   "metadata": {}
  },
  {
   "cell_type": "code",
   "execution_count": 19,
   "metadata": {},
   "outputs": [
    {
     "output_type": "stream",
     "name": "stdout",
     "text": [
      "None\n"
     ]
    }
   ],
   "source": [
    "g = iGrid(3, 4)\n",
    "print(g[0][1])"
   ]
  },
  {
   "source": [
    "### iv)"
   ],
   "cell_type": "markdown",
   "metadata": {}
  },
  {
   "cell_type": "code",
   "execution_count": 12,
   "metadata": {},
   "outputs": [
    {
     "output_type": "stream",
     "name": "stdout",
     "text": [
      "['None', 'None', 'None', 'None', 'None', 'None', 'None', 'None', 'None', 'None', 'None', 'None']\n"
     ]
    }
   ],
   "source": [
    "g = iGrid(3, 4)\n",
    "print(str(g).split())"
   ]
  },
  {
   "source": [
    "### b"
   ],
   "cell_type": "markdown",
   "metadata": {}
  },
  {
   "cell_type": "code",
   "execution_count": 13,
   "metadata": {},
   "outputs": [],
   "source": [
    "iMatrix = iGrid(5,5)\n",
    "for r in range(iMatrix.getRows()):\n",
    "\n",
    "    for c in range(iMatrix.getColumns()):\n",
    "\n",
    "        iMatrix[r][c] = r * c"
   ]
  },
  {
   "cell_type": "code",
   "execution_count": 110,
   "metadata": {},
   "outputs": [
    {
     "output_type": "stream",
     "name": "stdout",
     "text": [
      " 00000\n01234\n02468\n036912\n0481216\n\n"
     ]
    }
   ],
   "source": [
    "print(iMatrix)"
   ]
  },
  {
   "cell_type": "code",
   "execution_count": 118,
   "metadata": {},
   "outputs": [],
   "source": [
    "def sumgrid(iMatrix):\n",
    "    sum=0\n",
    "    for row in range(iMatrix.getRows()):\n",
    "        for column in range (iMatrix.getColumns()):\n",
    "            sum += iMatrix[row][column]\n",
    "    return(sum)"
   ]
  },
  {
   "cell_type": "code",
   "execution_count": 119,
   "metadata": {},
   "outputs": [
    {
     "output_type": "stream",
     "name": "stdout",
     "text": [
      "100\n"
     ]
    }
   ],
   "source": [
    "print(sumgrid(iMatrix))"
   ]
  },
  {
   "cell_type": "code",
   "execution_count": null,
   "metadata": {},
   "outputs": [],
   "source": []
  }
 ]
}